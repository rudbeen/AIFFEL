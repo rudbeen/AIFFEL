{
 "cells": [
  {
   "cell_type": "markdown",
   "id": "795e680f",
   "metadata": {},
   "source": [
    "# 필요한 모듈 불러오기"
   ]
  },
  {
   "cell_type": "code",
   "execution_count": 1,
   "id": "c3795552",
   "metadata": {},
   "outputs": [],
   "source": [
    "import pandas as pd\n",
    "import numpy as np\n",
    "\n",
    "import tensorflow as tf\n",
    "import re\n",
    "\n",
    "import matplotlib.pyplot as plt\n",
    "from sklearn.model_selection import train_test_split\n",
    "\n",
    "from konlpy.tag import Mecab\n",
    "from collections import Counter"
   ]
  },
  {
   "cell_type": "markdown",
   "id": "6ec34594",
   "metadata": {},
   "source": [
    "# 데이터 불러오기"
   ]
  },
  {
   "cell_type": "code",
   "execution_count": 2,
   "id": "9e9b36af",
   "metadata": {},
   "outputs": [
    {
     "data": {
      "text/html": [
       "<div>\n",
       "<style scoped>\n",
       "    .dataframe tbody tr th:only-of-type {\n",
       "        vertical-align: middle;\n",
       "    }\n",
       "\n",
       "    .dataframe tbody tr th {\n",
       "        vertical-align: top;\n",
       "    }\n",
       "\n",
       "    .dataframe thead th {\n",
       "        text-align: right;\n",
       "    }\n",
       "</style>\n",
       "<table border=\"1\" class=\"dataframe\">\n",
       "  <thead>\n",
       "    <tr style=\"text-align: right;\">\n",
       "      <th></th>\n",
       "      <th>id</th>\n",
       "      <th>document</th>\n",
       "      <th>label</th>\n",
       "    </tr>\n",
       "  </thead>\n",
       "  <tbody>\n",
       "    <tr>\n",
       "      <th>0</th>\n",
       "      <td>9976970</td>\n",
       "      <td>아 더빙.. 진짜 짜증나네요 목소리</td>\n",
       "      <td>0</td>\n",
       "    </tr>\n",
       "    <tr>\n",
       "      <th>1</th>\n",
       "      <td>3819312</td>\n",
       "      <td>흠...포스터보고 초딩영화줄....오버연기조차 가볍지 않구나</td>\n",
       "      <td>1</td>\n",
       "    </tr>\n",
       "    <tr>\n",
       "      <th>2</th>\n",
       "      <td>10265843</td>\n",
       "      <td>너무재밓었다그래서보는것을추천한다</td>\n",
       "      <td>0</td>\n",
       "    </tr>\n",
       "    <tr>\n",
       "      <th>3</th>\n",
       "      <td>9045019</td>\n",
       "      <td>교도소 이야기구먼 ..솔직히 재미는 없다..평점 조정</td>\n",
       "      <td>0</td>\n",
       "    </tr>\n",
       "    <tr>\n",
       "      <th>4</th>\n",
       "      <td>6483659</td>\n",
       "      <td>사이몬페그의 익살스런 연기가 돋보였던 영화!스파이더맨에서 늙어보이기만 했던 커스틴 ...</td>\n",
       "      <td>1</td>\n",
       "    </tr>\n",
       "  </tbody>\n",
       "</table>\n",
       "</div>"
      ],
      "text/plain": [
       "         id                                           document  label\n",
       "0   9976970                                아 더빙.. 진짜 짜증나네요 목소리      0\n",
       "1   3819312                  흠...포스터보고 초딩영화줄....오버연기조차 가볍지 않구나      1\n",
       "2  10265843                                  너무재밓었다그래서보는것을추천한다      0\n",
       "3   9045019                      교도소 이야기구먼 ..솔직히 재미는 없다..평점 조정      0\n",
       "4   6483659  사이몬페그의 익살스런 연기가 돋보였던 영화!스파이더맨에서 늙어보이기만 했던 커스틴 ...      1"
      ]
     },
     "execution_count": 2,
     "metadata": {},
     "output_type": "execute_result"
    }
   ],
   "source": [
    "train_data = pd.read_table('~/aiffel/sentiment_classification/data/ratings_train.txt')\n",
    "test_data = pd.read_table('~/aiffel/sentiment_classification/data/ratings_test.txt')\n",
    "\n",
    "train_data.head()"
   ]
  },
  {
   "cell_type": "code",
   "execution_count": 3,
   "id": "e55dff02",
   "metadata": {},
   "outputs": [
    {
     "name": "stdout",
     "output_type": "stream",
     "text": [
      "<class 'pandas.core.frame.DataFrame'>\n",
      "RangeIndex: 150000 entries, 0 to 149999\n",
      "Data columns (total 3 columns):\n",
      " #   Column    Non-Null Count   Dtype \n",
      "---  ------    --------------   ----- \n",
      " 0   id        150000 non-null  int64 \n",
      " 1   document  149995 non-null  object\n",
      " 2   label     150000 non-null  int64 \n",
      "dtypes: int64(2), object(1)\n",
      "memory usage: 3.4+ MB\n"
     ]
    }
   ],
   "source": [
    "train_data.info()"
   ]
  },
  {
   "cell_type": "markdown",
   "id": "2cdfe7c7",
   "metadata": {},
   "source": [
    "# 데이터 로더 구성"
   ]
  },
  {
   "cell_type": "code",
   "execution_count": 4,
   "id": "1f82e2db",
   "metadata": {},
   "outputs": [
    {
     "data": {
      "text/plain": [
       "\"'tokenizer = Mecab()\\nstopwords = ['의','가','이','은','들','는','좀','잘','걍','과','도','를','으로','자','에','와','한','하다']\\n\\n# 정규표현식을 사용하여 특수기호와 자음, 모음을 제거하는 불용어 제거 함수 생성 \\ndef cleasing(text): \\n    repl ='' \\n    pattern = '([ㄱ-ㅎㅏ-ㅣ]+)' # 자음, 모음 제거 \\n    text = re.sub(pattern= pattern, repl=repl, string=str(text)) \\n    pattern = '[^가-히\\\\s]' # 특수기호 제거 \\n    text = re.sub(pattern= pattern, repl=repl, string=str(text)) \\n    return text\\n\\ndef load_data(train_data, test_data):\\n    # 중복 데이터 삭제\\n    train_data.drop_duplicates(subset='document', inplace=True)\\n    test_data.drop_duplicates(subset='document', inplace=True)\\n    \\n    # 결측치 제거\\n    train_data = train_data[train_data['document'].notnull()]\\n    test_data = test_data[test_data['document'].notnull()]\\n    \\n    #토큰화 이전 clean 함수 적용\\n    train_data['document'] = train_data['document'].map(lambda x : cleasing(x))\\n    test_data['document'] = test_data['document'].map(lambda x : cleasing(x))\\n    \\n    #토큰화 - 형태소 기준 분리\\n    for sentence in train_data['document']:\\n        tokenizer.morphs(sentence)\\n    \\n    for sentence in test_data['document']:\\n        tokenizer.morphs(sentence)\\n        \\n    \\n    #stopwords 제거\\n    for sentence in train_data['document']:\\n        for word in sentence:\\n            if word not in sentence:\\n                yield word\\n            \\n            \\n    for sentence in test_data['document']:\\n        for word in sentence:\\n            if word not in stopwords:\\n                yield word\\n                \\n            \\n\\n    #word_to_index 구성\\n    all_tokens = train_data['document'] + test_data['document']\\n    all_tokens = list(set(all_tokens))\\n    word_to_index = {}\\n    for i, t in enumerate(all_tokens):\\n        word_to_index[t] = i\\n\\n    return train_data['document'], train_data['label'], test_data['document'], test_data['label'], word_to_index   \\n\\n\\n\\nX_train, y_train, X_test, y_test, word_to_index = load_data(train_data, test_data)\""
      ]
     },
     "execution_count": 4,
     "metadata": {},
     "output_type": "execute_result"
    }
   ],
   "source": [
    "''''tokenizer = Mecab()\n",
    "stopwords = ['의','가','이','은','들','는','좀','잘','걍','과','도','를','으로','자','에','와','한','하다']\n",
    "\n",
    "# 정규표현식을 사용하여 특수기호와 자음, 모음을 제거하는 불용어 제거 함수 생성 \n",
    "def cleasing(text): \n",
    "    repl ='' \n",
    "    pattern = '([ㄱ-ㅎㅏ-ㅣ]+)' # 자음, 모음 제거 \n",
    "    text = re.sub(pattern= pattern, repl=repl, string=str(text)) \n",
    "    pattern = '[^가-히\\s]' # 특수기호 제거 \n",
    "    text = re.sub(pattern= pattern, repl=repl, string=str(text)) \n",
    "    return text\n",
    "\n",
    "def load_data(train_data, test_data):\n",
    "    # 중복 데이터 삭제\n",
    "    train_data.drop_duplicates(subset='document', inplace=True)\n",
    "    test_data.drop_duplicates(subset='document', inplace=True)\n",
    "    \n",
    "    # 결측치 제거\n",
    "    train_data = train_data[train_data['document'].notnull()]\n",
    "    test_data = test_data[test_data['document'].notnull()]\n",
    "    \n",
    "    #토큰화 이전 clean 함수 적용\n",
    "    train_data['document'] = train_data['document'].map(lambda x : cleasing(x))\n",
    "    test_data['document'] = test_data['document'].map(lambda x : cleasing(x))\n",
    "    \n",
    "    #토큰화 - 형태소 기준 분리\n",
    "    for sentence in train_data['document']:\n",
    "        tokenizer.morphs(sentence)\n",
    "    \n",
    "    for sentence in test_data['document']:\n",
    "        tokenizer.morphs(sentence)\n",
    "        \n",
    "    \n",
    "    #stopwords 제거\n",
    "    for sentence in train_data['document']:\n",
    "        for word in sentence:\n",
    "            if word not in sentence:\n",
    "                yield word\n",
    "            \n",
    "            \n",
    "    for sentence in test_data['document']:\n",
    "        for word in sentence:\n",
    "            if word not in stopwords:\n",
    "                yield word\n",
    "                \n",
    "            \n",
    "\n",
    "    #word_to_index 구성\n",
    "    all_tokens = train_data['document'] + test_data['document']\n",
    "    all_tokens = list(set(all_tokens))\n",
    "    word_to_index = {}\n",
    "    for i, t in enumerate(all_tokens):\n",
    "        word_to_index[t] = i\n",
    "\n",
    "    return train_data['document'], train_data['label'], test_data['document'], test_data['label'], word_to_index   \n",
    "\n",
    "\n",
    "\n",
    "X_train, y_train, X_test, y_test, word_to_index = load_data(train_data, test_data)'''"
   ]
  },
  {
   "cell_type": "markdown",
   "id": "0c14bc5b",
   "metadata": {},
   "source": [
    "---------------------------------------"
   ]
  },
  {
   "cell_type": "markdown",
   "id": "0db948fa",
   "metadata": {},
   "source": [
    "예시코드를 보지 않고 load_data 함수를 작성하고자 했지만 원인을 파악하지 못한 에러가 계속되어서 \n",
    "\n",
    "예시코드의 함수를 해석하는 방식으로 진행했다."
   ]
  },
  {
   "cell_type": "code",
   "execution_count": 5,
   "id": "787cf0f0",
   "metadata": {},
   "outputs": [],
   "source": [
    "tokenizer = Mecab()    #토큰화 함수\n",
    "\n",
    "#불용어 리스트\n",
    "stopwords = ['의','가','이','은','들','는','좀','잘','걍','과','도','를','으로','자','에','와','한','하다']\n",
    "\n",
    "#정규 표현식을 활용한 불용어 제거 함수 추가\n",
    "def cleasing(text): \n",
    "    repl ='' \n",
    "    pattern = '([ㄱ-ㅎㅏ-ㅣ]+)' # 자음, 모음 제거 \n",
    "    text = re.sub(pattern= pattern, repl=repl, string=str(text)) \n",
    "    pattern = '[^가-히\\s]' # 특수기호 제거 \n",
    "    text = re.sub(pattern= pattern, repl=repl, string=str(text)) \n",
    "    return text\n",
    "\n",
    "def load_data(train_data, test_data, num_words=10000):\n",
    "    train_data.drop_duplicates(subset=['document'], inplace=True)   #데이터 중복 제거\n",
    "    train_data = train_data.dropna(how = 'any')    # 결측치 제거\n",
    "    test_data.drop_duplicates(subset=['document'], inplace=True)    #데이터 중복 제거\n",
    "    test_data = test_data.dropna(how = 'any')      # 결측치 제거\n",
    "    \n",
    "    X_train = []\n",
    "    for sentence in train_data['document']:\n",
    "        temp_X = tokenizer.morphs(sentence) # 토큰화\n",
    "        temp_X = [word for word in temp_X if not word in stopwords] # 불용어 제거\n",
    "        X_train.append(temp_X)  #트레인 데이터로 만든 토큰들을 X_train 리스트에 추가\n",
    "\n",
    "    X_test = []\n",
    "    for sentence in test_data['document']:\n",
    "        temp_X = tokenizer.morphs(sentence) # 토큰화\n",
    "        temp_X = [word for word in temp_X if not word in stopwords] # 불용어 제거\n",
    "        X_test.append(temp_X)  #테스트 데이터로 만든 토큰들을 X_train 리스트에 추가\n",
    "    \n",
    "    words = np.concatenate(X_train).tolist()  \n",
    "    words = list(map(cleasing, words))\n",
    "    words_list = []\n",
    "    for w in words:\n",
    "        if len(w) >= 2:   #2글자 이상의 단어만 토큰화\n",
    "            words_list.append(w)\n",
    "    \n",
    "    counter = Counter(words_list)   # words 안에 있는 요소들의 개수를 세어주는 함수 \n",
    "    counter = counter.most_common(10000-4)   # 가장 많이 나오는 (10000-4)개 단어\n",
    "    vocab = ['', '', '', ''] + [key for key, _ in counter]\n",
    "    word_to_index = {word:index for index, word in enumerate(vocab)}   # vocab에 있는 단어와 인덱스의 키, 값 위치를 바꿔줌\n",
    "    \n",
    "    def wordlist_to_indexlist(wordlist):\n",
    "        return [word_to_index[word] if word in word_to_index else word_to_index[''] for word in wordlist]\n",
    "        \n",
    "    X_train = list(map(wordlist_to_indexlist, X_train))\n",
    "    X_test = list(map(wordlist_to_indexlist, X_test))\n",
    "        \n",
    "    return X_train, np.array(list(train_data['label'])), X_test, np.array(list(test_data['label'])), word_to_index\n",
    "    \n",
    "X_train, y_train, X_test, y_test, word_to_index = load_data(train_data, test_data) "
   ]
  },
  {
   "cell_type": "markdown",
   "id": "96ad9f13",
   "metadata": {},
   "source": [
    "### word_to_index를 index_to_word 로 변환"
   ]
  },
  {
   "cell_type": "code",
   "execution_count": 7,
   "id": "8b989ae8",
   "metadata": {},
   "outputs": [],
   "source": [
    "index_to_word = {index:word for word, index in word_to_index.items()}"
   ]
  },
  {
   "cell_type": "markdown",
   "id": "745a430f",
   "metadata": {},
   "source": [
    "### word_to_index 에서 값으로 키를 반환하는 함수\n",
    "- word_to_index에서 키 0,1,2에 해당하는 value가 있는지 확인하기 위해 딕셔너리의 value로 key를 반환하는 함수 생성\n"
   ]
  },
  {
   "cell_type": "code",
   "execution_count": 8,
   "id": "c57dcdd5",
   "metadata": {},
   "outputs": [
    {
     "name": "stdout",
     "output_type": "stream",
     "text": [
      "There is no such Key\n",
      "There is no such Key\n",
      "There is no such Key\n"
     ]
    }
   ],
   "source": [
    "def get_key(val):\n",
    "    for key, value in word_to_index.items():\n",
    "         if val == value:\n",
    "                return key\n",
    " \n",
    "    return \"There is no such Key\"\n",
    "   \n",
    "print(get_key(0))\n",
    "print(get_key(1))\n",
    "print(get_key(2))\n",
    "\n",
    "# value 0, 1, 2 에 해당하는 key는 없음\n",
    "# key 3은 '' 아무것도 없음"
   ]
  },
  {
   "cell_type": "markdown",
   "id": "6a3008cb",
   "metadata": {},
   "source": [
    "### word_to_index, index_to_word 보정\n",
    "- word_to_index의 0, 1, 2 에 해당하는 key를 지정해주고,\n",
    "- 공백에 해당하는 3에 UNUSED를 지정해줌\n",
    "- 이를 index_to_word에도 반영"
   ]
  },
  {
   "cell_type": "code",
   "execution_count": 9,
   "id": "851e689a",
   "metadata": {},
   "outputs": [],
   "source": [
    "word_to_index[\"<PAD>\"] = 0\n",
    "word_to_index[\"<BOS>\"] = 1\n",
    "word_to_index[\"<UNK>\"] = 2\n",
    "word_to_index[\"UNUSED\"] = 3\n",
    "\n",
    "index_to_word = {index:word for word, index in word_to_index.items()}"
   ]
  },
  {
   "cell_type": "code",
   "execution_count": 10,
   "id": "cbe279d2",
   "metadata": {},
   "outputs": [
    {
     "name": "stdout",
     "output_type": "stream",
     "text": [
      "<BOS>\n",
      "4\n",
      "영화\n"
     ]
    }
   ],
   "source": [
    "print(index_to_word[1])\n",
    "print(word_to_index['영화'])\n",
    "print(index_to_word[4])"
   ]
  },
  {
   "cell_type": "markdown",
   "id": "9050e8c8",
   "metadata": {},
   "source": [
    "### encode된 리뷰가 잘 decode 되는 지 확인"
   ]
  },
  {
   "cell_type": "code",
   "execution_count": 11,
   "id": "e0729c2e",
   "metadata": {},
   "outputs": [],
   "source": [
    "# 문장 1개를 활용할 딕셔너리와 함께 주면, 단어 인덱스 리스트 벡터로 변환해 주는 함수\n",
    "# 모든 문장은 <BOS>로 시작\n",
    "\n",
    "# 숫자 벡터로 encode된 문장을 원래대로 decode하는 함수\n",
    "def get_decoded_sentence(encoded_sentence, index_to_word):\n",
    "    return ' '.join(index_to_word[index] if index in index_to_word else '<UNK>' for index in encoded_sentence[1:])  #[1:]를 통해 <BOS>를 제외"
   ]
  },
  {
   "cell_type": "code",
   "execution_count": 12,
   "id": "acbaa6f1",
   "metadata": {},
   "outputs": [
    {
     "name": "stdout",
     "output_type": "stream",
     "text": [
      "UNUSED UNUSED UNUSED UNUSED 진짜 짜증 UNUSED 네요 목소리\n",
      "라벨 :  0\n"
     ]
    }
   ],
   "source": [
    "print(get_decoded_sentence(X_train[0], index_to_word))\n",
    "print('라벨 : ', y_train[0]) #1번째 리뷰 데이터의 라벨"
   ]
  },
  {
   "cell_type": "markdown",
   "id": "8bd08e35",
   "metadata": {},
   "source": [
    "# 모델 구성을 위한 데이터 분석 및 가공"
   ]
  },
  {
   "cell_type": "markdown",
   "id": "a0dd9f1d",
   "metadata": {},
   "source": [
    "## 데이터셋 내 문장 길이 분포"
   ]
  },
  {
   "cell_type": "code",
   "execution_count": 13,
   "id": "92a03fbd",
   "metadata": {},
   "outputs": [
    {
     "name": "stdout",
     "output_type": "stream",
     "text": [
      "[3, 3, 3, 3, 3, 11, 107, 3, 8, 449]\n",
      "라벨:  0\n",
      "1번째 리뷰 문장 길이:  10\n"
     ]
    }
   ],
   "source": [
    "print(X_train[0])  # 1번째 리뷰데이터\n",
    "print('라벨: ', y_train[0])  # 1번째 리뷰데이터의 라벨\n",
    "print('1번째 리뷰 문장 길이: ', len(X_train[0]))\n",
    "\n",
    "# load_data 함수를 거치면서 encode 됨 "
   ]
  },
  {
   "cell_type": "markdown",
   "id": "2baf7fea",
   "metadata": {},
   "source": [
    "### 문장의 길이를 원소로 하는 리스트 생성"
   ]
  },
  {
   "cell_type": "code",
   "execution_count": 103,
   "id": "fcd9ea3e",
   "metadata": {},
   "outputs": [],
   "source": [
    "len_X_train = []\n",
    "for i in range(len(X_train)):\n",
    "    len_X_train.append(len(X_train[i]))"
   ]
  },
  {
   "cell_type": "code",
   "execution_count": 15,
   "id": "25c2c549",
   "metadata": {
    "scrolled": true
   },
   "outputs": [
    {
     "data": {
      "text/plain": [
       "Counter({10: 7724,\n",
       "         17: 4695,\n",
       "         3: 3648,\n",
       "         13: 6220,\n",
       "         23: 2017,\n",
       "         24: 1684,\n",
       "         43: 436,\n",
       "         9: 8161,\n",
       "         21: 2801,\n",
       "         6: 8698,\n",
       "         22: 2375,\n",
       "         15: 5570,\n",
       "         25: 1497,\n",
       "         28: 1039,\n",
       "         16: 5142,\n",
       "         19: 3619,\n",
       "         12: 6679,\n",
       "         53: 420,\n",
       "         8: 8825,\n",
       "         30: 918,\n",
       "         2: 1873,\n",
       "         20: 3248,\n",
       "         26: 1275,\n",
       "         7: 9324,\n",
       "         5: 7152,\n",
       "         35: 694,\n",
       "         18: 4159,\n",
       "         40: 533,\n",
       "         68: 76,\n",
       "         14: 5939,\n",
       "         1: 706,\n",
       "         44: 436,\n",
       "         11: 7162,\n",
       "         38: 576,\n",
       "         55: 438,\n",
       "         32: 814,\n",
       "         54: 454,\n",
       "         4: 5218,\n",
       "         27: 1130,\n",
       "         41: 538,\n",
       "         51: 419,\n",
       "         49: 393,\n",
       "         59: 330,\n",
       "         36: 579,\n",
       "         63: 218,\n",
       "         46: 452,\n",
       "         67: 96,\n",
       "         37: 623,\n",
       "         42: 465,\n",
       "         74: 12,\n",
       "         69: 72,\n",
       "         39: 529,\n",
       "         47: 440,\n",
       "         57: 427,\n",
       "         34: 710,\n",
       "         31: 830,\n",
       "         60: 324,\n",
       "         52: 426,\n",
       "         33: 696,\n",
       "         64: 184,\n",
       "         48: 388,\n",
       "         58: 403,\n",
       "         56: 452,\n",
       "         50: 396,\n",
       "         45: 420,\n",
       "         29: 936,\n",
       "         62: 260,\n",
       "         61: 316,\n",
       "         66: 125,\n",
       "         73: 20,\n",
       "         65: 152,\n",
       "         70: 46,\n",
       "         76: 16,\n",
       "         78: 7,\n",
       "         72: 28,\n",
       "         75: 18,\n",
       "         79: 5,\n",
       "         77: 4,\n",
       "         71: 34,\n",
       "         0: 3,\n",
       "         116: 1,\n",
       "         83: 1,\n",
       "         93: 1,\n",
       "         115: 1,\n",
       "         81: 2,\n",
       "         82: 1,\n",
       "         88: 2,\n",
       "         85: 1,\n",
       "         80: 2,\n",
       "         86: 1,\n",
       "         106: 1,\n",
       "         84: 1})"
      ]
     },
     "execution_count": 15,
     "metadata": {},
     "output_type": "execute_result"
    }
   ],
   "source": [
    "#길이의 분포 확인 -> 딕셔너리 형태\n",
    "counter = Counter(len_X_train)\n",
    "counter"
   ]
  },
  {
   "cell_type": "markdown",
   "id": "a64d8069",
   "metadata": {},
   "source": [
    "### 데이터셋 내의 문장의 길이 분포 시각화"
   ]
  },
  {
   "cell_type": "code",
   "execution_count": 16,
   "id": "98e0131f",
   "metadata": {},
   "outputs": [
    {
     "data": {
      "image/png": "[encoded data removed]",
      "text/plain": [
       "<Figure size 720x576 with 1 Axes>"
      ]
     },
     "metadata": {
      "needs_background": "light"
     },
     "output_type": "display_data"
    }
   ],
   "source": [
    "plt.figure(figsize=(10, 8))\n",
    "plt.bar(x=counter.keys(), height=counter.values())\n",
    "plt.ylabel('count')\n",
    "plt.title('distribution of sentence length');"
   ]
  },
  {
   "cell_type": "markdown",
   "id": "06c9c7f8",
   "metadata": {},
   "source": [
    "20이하의 문장 길이에 몰려있는 것을 확인했다."
   ]
  },
  {
   "cell_type": "markdown",
   "id": "af7b95ea",
   "metadata": {},
   "source": [
    "## 적절한 최대 문장 길이 지정\n",
    "- 문장 최대 길이 maxlen의 값 설정도 전체 모델 성능에 영향\n",
    "### 적절한 값을 찾기 위해 데이터셋 분포를 확인"
   ]
  },
  {
   "cell_type": "code",
   "execution_count": 17,
   "id": "ae6ca200",
   "metadata": {},
   "outputs": [
    {
     "name": "stdout",
     "output_type": "stream",
     "text": [
      "문장길이 평균 :  15.96940191154864\n",
      "문장길이 최대 :  116\n",
      "문장길이 표준편차 :  12.843571191092\n",
      "pad_sequences maxlen :  41\n",
      "전체 문장의 0.9342988343341577%가 maxlen 설정값 이내에 포함.\n"
     ]
    }
   ],
   "source": [
    "total_data_text = list(X_train) + list(X_test)\n",
    "\n",
    "#텍스트 데이터 문장길이를 담은 리스트를 생성한 후\n",
    "num_tokens = [len(tokens) for tokens in total_data_text]\n",
    "#어레이로 변경\n",
    "num_tokens = np.array(num_tokens)\n",
    "\n",
    "#문장 길이의 평균값, 최대값, 표준편차를 계산\n",
    "print('문장길이 평균 : ', np.mean(num_tokens))\n",
    "print('문장길이 최대 : ', np.max(num_tokens))\n",
    "print('문장길이 표준편차 : ', np.std(num_tokens))\n",
    "\n",
    "#예를 들어, 최대 길이를 (평균 + 2*표준편차)로 한다면,\n",
    "max_tokens = np.mean(num_tokens) + 2 * np.std(num_tokens)\n",
    "maxlen = int(max_tokens) # max_tokens가 실수값일 수도 있으니까 int로 변환\n",
    "print('pad_sequences maxlen : ', maxlen)\n",
    "print('전체 문장의 {}%가 maxlen 설정값 이내에 포함.'.format(np.sum((num_tokens < max_tokens) / len(num_tokens))))"
   ]
  },
  {
   "cell_type": "markdown",
   "id": "b5c4b7b1",
   "metadata": {},
   "source": [
    "## keras.preprocessing.sequence.pad_sequences 을 활용한 패딩 추가"
   ]
  },
  {
   "cell_type": "markdown",
   "id": "4b7bdb88",
   "metadata": {},
   "source": [
    "RNN은 입력데이터가 순차적으로 처리된다. \n",
    "\n",
    "즉, 가장 마지막 입력이 최종 state 값에 가장 영향을 많이 미치게 되므로,\n",
    "\n",
    "마지막 입력이 무의미한 padding으로 채워지는 것은 비효율적이다.\n",
    "\n",
    "따라서 padding 방식은 'pre'로 선택했다."
   ]
  },
  {
   "cell_type": "code",
   "execution_count": 18,
   "id": "65907e8c",
   "metadata": {},
   "outputs": [],
   "source": [
    "X_train = tf.keras.preprocessing.sequence.pad_sequences(X_train,\n",
    "                                                       value = word_to_index[\"<PAD>\"],\n",
    "                                                       padding= 'pre',\n",
    "                                                       maxlen = maxlen)\n",
    "\n",
    "X_test = tf.keras.preprocessing.sequence.pad_sequences(X_test,\n",
    "                                                       value = word_to_index[\"<PAD>\"],\n",
    "                                                       padding= 'pre',\n",
    "                                                       maxlen = maxlen)"
   ]
  },
  {
   "cell_type": "markdown",
   "id": "55ee9538",
   "metadata": {},
   "source": [
    "# 모델 및 validation set 구성"
   ]
  },
  {
   "cell_type": "markdown",
   "id": "3ae25c0e",
   "metadata": {},
   "source": [
    "# 순방향 RNN"
   ]
  },
  {
   "cell_type": "code",
   "execution_count": 19,
   "id": "a113c205",
   "metadata": {},
   "outputs": [
    {
     "name": "stdout",
     "output_type": "stream",
     "text": [
      "Model: \"sequential\"\n",
      "_________________________________________________________________\n",
      "Layer (type)                 Output Shape              Param #   \n",
      "=================================================================\n",
      "embedding (Embedding)        (None, None, 16)          160000    \n",
      "_________________________________________________________________\n",
      "lstm (LSTM)                  (None, 8)                 800       \n",
      "_________________________________________________________________\n",
      "dense (Dense)                (None, 1)                 9         \n",
      "=================================================================\n",
      "Total params: 160,809\n",
      "Trainable params: 160,809\n",
      "Non-trainable params: 0\n",
      "_________________________________________________________________\n"
     ]
    }
   ],
   "source": [
    "vocab_size = 10000   #어휘 사전의 크기 (10,000개의 단어)\n",
    "word_vector_dim = 16    #워드 벡터 차원 수(변경 가능한 하이퍼 파라미터)\n",
    "\n",
    "model_rnn = tf.keras.Sequential()\n",
    "model_rnn.add(tf.keras.layers.Embedding(vocab_size, word_vector_dim, input_shape=(None,), mask_zero=True))\n",
    "model_rnn.add(tf.keras.layers.LSTM(8))\n",
    "model_rnn.add(tf.keras.layers.Dense(1, activation='sigmoid'))\n",
    "\n",
    "model_rnn.summary()"
   ]
  },
  {
   "cell_type": "markdown",
   "id": "fe68006c",
   "metadata": {},
   "source": [
    "## Validation Set 생성\n",
    "\n",
    "아래 링크들을 통해 통상적으로 train : validation : test = 6 : 2 : 2 비율을 사용한다는 것과\n",
    "\n",
    "데이터가 충분히 있을 경우 validation set의 크기를 줄이는 것이 모델 학습 측면에서 더 이롭다는 것을 알게되었다.\n",
    "\n",
    "train data 146,182개, test data 49,157개로 test data의 개수가 train data의 약 33.62%이다.\n",
    "\n",
    "따라서 validation의 개수를 test 개수에 맞추기보다 train data의 20%에 해당하는 만큼 할당하고자 한다. \n",
    "\n",
    "\n",
    "**참고 링크 :** \n",
    "\n",
    "https://modern-manual.tistory.com/19\n",
    "\n",
    "https://brunch.co.kr/@coolmindory/31\n"
   ]
  },
  {
   "cell_type": "markdown",
   "id": "f6b19bcc",
   "metadata": {},
   "source": [
    "- validation set 생성을 위해 X_train의 shape 확인"
   ]
  },
  {
   "cell_type": "code",
   "execution_count": 20,
   "id": "d1fb628b",
   "metadata": {},
   "outputs": [
    {
     "data": {
      "text/plain": [
       "(146182, 41)"
      ]
     },
     "execution_count": 20,
     "metadata": {},
     "output_type": "execute_result"
    }
   ],
   "source": [
    "X_train.shape"
   ]
  },
  {
   "cell_type": "code",
   "execution_count": 21,
   "id": "188d99a3",
   "metadata": {},
   "outputs": [
    {
     "data": {
      "text/plain": [
       "29236.4"
      ]
     },
     "execution_count": 21,
     "metadata": {},
     "output_type": "execute_result"
    }
   ],
   "source": [
    "146182 * 0.2"
   ]
  },
  {
   "cell_type": "code",
   "execution_count": 22,
   "id": "bbe9294a",
   "metadata": {},
   "outputs": [
    {
     "name": "stdout",
     "output_type": "stream",
     "text": [
      "(116946, 41)\n",
      "(116946,)\n"
     ]
    }
   ],
   "source": [
    "#validation set 29,236건 분리\n",
    "X_val = X_train[:29236]\n",
    "y_val = y_train[:29236]\n",
    "\n",
    "#validation set을 제외한 나머지 116,946건\n",
    "partial_X_train = X_train[29236:]\n",
    "partial_y_train = y_train[29236:]\n",
    "\n",
    "print(partial_X_train.shape)\n",
    "print(partial_y_train.shape)"
   ]
  },
  {
   "cell_type": "markdown",
   "id": "e584f35d",
   "metadata": {},
   "source": [
    "# 모델 학습"
   ]
  },
  {
   "cell_type": "code",
   "execution_count": 23,
   "id": "7a0f19db",
   "metadata": {},
   "outputs": [
    {
     "name": "stdout",
     "output_type": "stream",
     "text": [
      "Epoch 1/10\n",
      "229/229 [==============================] - 26s 96ms/step - loss: 0.5666 - accuracy: 0.7354 - val_loss: 0.4473 - val_accuracy: 0.7995\n",
      "Epoch 2/10\n",
      "229/229 [==============================] - 21s 92ms/step - loss: 0.4127 - accuracy: 0.8158 - val_loss: 0.4096 - val_accuracy: 0.8120\n",
      "Epoch 3/10\n",
      "229/229 [==============================] - 21s 92ms/step - loss: 0.3806 - accuracy: 0.8305 - val_loss: 0.4040 - val_accuracy: 0.8114\n",
      "Epoch 4/10\n",
      "229/229 [==============================] - 21s 93ms/step - loss: 0.3660 - accuracy: 0.8382 - val_loss: 0.4043 - val_accuracy: 0.8118\n",
      "Epoch 5/10\n",
      "229/229 [==============================] - 22s 94ms/step - loss: 0.3557 - accuracy: 0.8420 - val_loss: 0.4074 - val_accuracy: 0.8124\n",
      "Epoch 6/10\n",
      "229/229 [==============================] - 21s 93ms/step - loss: 0.3469 - accuracy: 0.8471 - val_loss: 0.4107 - val_accuracy: 0.8120\n",
      "Epoch 7/10\n",
      "229/229 [==============================] - 21s 92ms/step - loss: 0.3378 - accuracy: 0.8516 - val_loss: 0.4139 - val_accuracy: 0.8118\n",
      "Epoch 8/10\n",
      "229/229 [==============================] - 21s 92ms/step - loss: 0.3301 - accuracy: 0.8555 - val_loss: 0.4178 - val_accuracy: 0.8092\n",
      "Epoch 9/10\n",
      "229/229 [==============================] - 21s 92ms/step - loss: 0.3222 - accuracy: 0.8593 - val_loss: 0.4242 - val_accuracy: 0.8093\n",
      "Epoch 10/10\n",
      "229/229 [==============================] - 21s 92ms/step - loss: 0.3153 - accuracy: 0.8625 - val_loss: 0.4353 - val_accuracy: 0.8081\n"
     ]
    }
   ],
   "source": [
    "model_rnn.compile(optimizer='adam',\n",
    "             loss = 'binary_crossentropy',\n",
    "             metrics=['accuracy'])\n",
    "\n",
    "epochs = 10\n",
    "\n",
    "history_rnn = model_rnn.fit(partial_X_train,\n",
    "                   partial_y_train,\n",
    "                   epochs=epochs,\n",
    "                   batch_size=512,\n",
    "                   validation_data=(X_val,y_val),\n",
    "                   verbose=1)\n",
    "# model.fit 과정 중의 train/validation loss, accuracy 등이 매 epoch마다 history 변수에 저장"
   ]
  },
  {
   "cell_type": "code",
   "execution_count": 34,
   "id": "0528be2a",
   "metadata": {},
   "outputs": [
    {
     "data": {
      "text/plain": [
       "0.8123546242713928"
      ]
     },
     "execution_count": 34,
     "metadata": {},
     "output_type": "execute_result"
    }
   ],
   "source": [
    "print(max(history_rnn.history['val_accuracy']))"
   ]
  },
  {
   "cell_type": "markdown",
   "id": "9d9c1651",
   "metadata": {},
   "source": [
    "# Test Set 평가"
   ]
  },
  {
   "cell_type": "code",
   "execution_count": 30,
   "id": "daf6eb6e",
   "metadata": {},
   "outputs": [
    {
     "name": "stdout",
     "output_type": "stream",
     "text": [
      "1537/1537 - 12s - loss: 0.4353 - accuracy: 0.8050\n",
      "[0.4353088438510895, 0.804992139339447]\n"
     ]
    }
   ],
   "source": [
    "results_rnn = model_rnn.evaluate(X_test, y_test, verbose=2)\n",
    "\n",
    "print(results_rnn)"
   ]
  },
  {
   "cell_type": "markdown",
   "id": "84180b65",
   "metadata": {},
   "source": [
    "validation set에서의 성능보다 떨어지는 test set에서의 성능이 도출되었다."
   ]
  },
  {
   "cell_type": "markdown",
   "id": "8e6e5d57",
   "metadata": {},
   "source": [
    "# Loss, Accuracy 그래프 시각화"
   ]
  },
  {
   "cell_type": "code",
   "execution_count": 35,
   "id": "8579c009",
   "metadata": {},
   "outputs": [
    {
     "name": "stdout",
     "output_type": "stream",
     "text": [
      "dict_keys(['loss', 'accuracy', 'val_loss', 'val_accuracy'])\n"
     ]
    }
   ],
   "source": [
    "history_dict_rnn = history_rnn.history\n",
    "print(history_dict_rnn.keys())   #epoch에 따른 그래프를 그려볼 수 있는 항목들"
   ]
  },
  {
   "cell_type": "markdown",
   "id": "6a1b7db2",
   "metadata": {},
   "source": [
    "## Loss 시각화"
   ]
  },
  {
   "cell_type": "code",
   "execution_count": 36,
   "id": "e229bbc8",
   "metadata": {},
   "outputs": [
    {
     "data": {
      "image/png": "[encoded data removed]",
      "text/plain": [
       "<Figure size 432x288 with 1 Axes>"
      ]
     },
     "metadata": {
      "needs_background": "light"
     },
     "output_type": "display_data"
    }
   ],
   "source": [
    "import matplotlib.pyplot as plt\n",
    "\n",
    "acc = history_dict_rnn['accuracy']\n",
    "val_acc = history_dict_rnn['val_accuracy']\n",
    "loss = history_dict_rnn['loss']\n",
    "val_loss = history_dict_rnn['val_loss']\n",
    "\n",
    "epochs = range(1, len(acc) + 1)\n",
    "\n",
    "plt.plot(epochs, loss, 'bo', label = \"Training loss\")\n",
    "                      # 파란색 점\n",
    "plt.plot(epochs, val_loss, 'b', label = \"Validation loss\")\n",
    "                      # 파란 실선\n",
    "plt.title('Training and validation loss')\n",
    "plt.xlabel('Epochs')\n",
    "plt.ylabel('Loss')\n",
    "plt.legend()\n",
    "\n",
    "plt.show()\n",
    "\n",
    "# 6번째 epoch 부터 validation loss 증가 "
   ]
  },
  {
   "cell_type": "markdown",
   "id": "8717b605",
   "metadata": {},
   "source": [
    "## Accuracy 시각화"
   ]
  },
  {
   "cell_type": "code",
   "execution_count": 37,
   "id": "c21e266f",
   "metadata": {},
   "outputs": [
    {
     "data": {
      "image/png": "[encoded data removed]",
      "text/plain": [
       "<Figure size 432x288 with 1 Axes>"
      ]
     },
     "metadata": {
      "needs_background": "light"
     },
     "output_type": "display_data"
    }
   ],
   "source": [
    "plt.clf()  #그림 초기화\n",
    "\n",
    "plt.plot(epochs, acc, 'bo', label='Training acc')\n",
    "plt.plot(epochs, val_acc, 'b', label='Validation acc')\n",
    "plt.title('Training and validation accuracy')\n",
    "plt.xlabel('Epochs')\n",
    "plt.ylabel('Accuracy')\n",
    "plt.legend()\n",
    "\n",
    "plt.show()"
   ]
  },
  {
   "cell_type": "markdown",
   "id": "7e8222d9",
   "metadata": {},
   "source": [
    "# 학습된 Embedding 레이어 분석"
   ]
  },
  {
   "cell_type": "code",
   "execution_count": 38,
   "id": "baff3f2c",
   "metadata": {},
   "outputs": [
    {
     "name": "stdout",
     "output_type": "stream",
     "text": [
      "(10000, 16)\n"
     ]
    }
   ],
   "source": [
    "embedding_layer_rnn = model_rnn.layers[0]\n",
    "weights_rnn = embedding_layer_rnn.get_weights()[0]\n",
    "print(weights_rnn.shape)\n",
    "\n",
    "# shape : (vocab_size, embedding_dim)"
   ]
  },
  {
   "cell_type": "markdown",
   "id": "04eafb7d",
   "metadata": {},
   "source": [
    "### 학습한 Embedding 파라미터를 파일에 써서 저장"
   ]
  },
  {
   "cell_type": "code",
   "execution_count": 39,
   "id": "f5e7d14b",
   "metadata": {},
   "outputs": [],
   "source": [
    "word2vec_file_path_rnn = 'sentiment_classification/nsmc_RNN_parameters.txt'\n",
    "f = open(word2vec_file_path_rnn, 'w')\n",
    "f.write('{} {}\\n'.format(vocab_size-4, word_vector_dim))  #몇 개의 벡터를 얼마 사이즈로 기재할 지 타이틀로 씀\n",
    "\n",
    "#단어 개수(특수문자 4개는 제외)만큼의 워드 벡터를 파일에 기록\n",
    "vectors_rnn = model_rnn.get_weights()[0]\n",
    "for i in range(4, vocab_size):\n",
    "    f.write('{} {}\\n'.format(index_to_word[i], ' '.join(map(str, list(vectors_rnn[i, :])))))\n",
    "f.close()"
   ]
  },
  {
   "cell_type": "code",
   "execution_count": 40,
   "id": "4bb5d37d",
   "metadata": {},
   "outputs": [],
   "source": [
    "from gensim.models.keyedvectors import Word2VecKeyedVectors\n",
    "\n",
    "word_vectors_rnn = Word2VecKeyedVectors.load_word2vec_format(word2vec_file_path_rnn, binary=False)\n",
    "#word_vectors에 원하는 단어를 넣으면 vector값 반환"
   ]
  },
  {
   "cell_type": "markdown",
   "id": "3935d6d0",
   "metadata": {},
   "source": [
    "### 유사도 계산"
   ]
  },
  {
   "cell_type": "code",
   "execution_count": 41,
   "id": "55779dea",
   "metadata": {},
   "outputs": [
    {
     "data": {
      "text/plain": [
       "[('익스트림', 0.971927285194397),\n",
       " ('금성무', 0.9710139036178589),\n",
       " ('어우러진', 0.9665889143943787),\n",
       " ('완존', 0.965834379196167),\n",
       " ('애틋', 0.9644466042518616),\n",
       " ('후련', 0.9643982648849487),\n",
       " ('울린다', 0.9635193347930908),\n",
       " ('데뷔작', 0.9579452276229858),\n",
       " ('역작', 0.9576860666275024),\n",
       " ('봣음', 0.9576651453971863)]"
      ]
     },
     "execution_count": 41,
     "metadata": {},
     "output_type": "execute_result"
    }
   ],
   "source": [
    "word_vectors_rnn.similar_by_word('재밌')"
   ]
  },
  {
   "cell_type": "markdown",
   "id": "faf6de82",
   "metadata": {},
   "source": [
    "형편없는 정도는 아니지만 딱 들어맞는다는 느낌도 없다."
   ]
  },
  {
   "cell_type": "markdown",
   "id": "fd401dff",
   "metadata": {},
   "source": [
    "# 한국어 Word2Vec 임베딩 활용하여 성능 개선\n",
    "- 데이터를 ko.bin 데이터를 다운받기 위해 gensim 버전 3.4.0으로 다운그레이드"
   ]
  },
  {
   "cell_type": "code",
   "execution_count": 42,
   "id": "2c6d3aa9",
   "metadata": {},
   "outputs": [],
   "source": [
    "import os\n",
    "from gensim.models import Word2Vec \n",
    "\n",
    "word2vec_path = 'sentiment_classification/data/ko.bin'\n",
    "word2vec = Word2Vec.load(word2vec_path)"
   ]
  },
  {
   "cell_type": "code",
   "execution_count": 43,
   "id": "c3b06bb4",
   "metadata": {},
   "outputs": [
    {
     "name": "stderr",
     "output_type": "stream",
     "text": [
      "/tmp/ipykernel_219/4066611126.py:1: DeprecationWarning: Call to deprecated `similar_by_word` (Method will be removed in 4.0.0, use self.wv.similar_by_word() instead).\n",
      "  word2vec.similar_by_word('재밌')\n"
     ]
    },
    {
     "data": {
      "text/plain": [
       "[('재미있', 0.7603887915611267),\n",
       " ('웃기', 0.7365726828575134),\n",
       " ('멋지', 0.657281756401062),\n",
       " ('슬프', 0.6381862163543701),\n",
       " ('안타깝', 0.6331009864807129),\n",
       " ('즐겁', 0.6227831840515137),\n",
       " ('맛있', 0.6146109104156494),\n",
       " ('우습', 0.6106981039047241),\n",
       " ('생각나', 0.6095916032791138),\n",
       " ('시끄럽', 0.6063516139984131)]"
      ]
     },
     "execution_count": 43,
     "metadata": {},
     "output_type": "execute_result"
    }
   ],
   "source": [
    "word2vec.similar_by_word('재밌')"
   ]
  },
  {
   "cell_type": "markdown",
   "id": "64cd9017",
   "metadata": {},
   "source": [
    "이전의 유사도 계산보다는 훨씬 잘 맞는 듯 하다."
   ]
  },
  {
   "cell_type": "code",
   "execution_count": 44,
   "id": "60023f65",
   "metadata": {},
   "outputs": [
    {
     "name": "stderr",
     "output_type": "stream",
     "text": [
      "/tmp/ipykernel_219/3762001651.py:6: DeprecationWarning: Call to deprecated `__contains__` (Method will be removed in 4.0.0, use self.wv.__contains__() instead).\n",
      "  if index_to_word[i] in word2vec:\n",
      "/tmp/ipykernel_219/3762001651.py:7: DeprecationWarning: Call to deprecated `__getitem__` (Method will be removed in 4.0.0, use self.wv.__getitem__() instead).\n",
      "  embedding_matrix[i] = word2vec[index_to_word[i]]\n"
     ]
    }
   ],
   "source": [
    "word_vector_dim = 200 # word2vec 과 차원을 맞춰주기 위해 변경\n",
    "embedding_matrix = np.random.rand(vocab_size, word_vector_dim)\n",
    "\n",
    "# embedding_matrix에 Word2Vec 워드 벡터를 단어 하나씩마다 차례차례 카피\n",
    "for i in range(4,vocab_size):\n",
    "    if index_to_word[i] in word2vec:\n",
    "        embedding_matrix[i] = word2vec[index_to_word[i]]"
   ]
  },
  {
   "cell_type": "code",
   "execution_count": 45,
   "id": "1eb53c7d",
   "metadata": {},
   "outputs": [
    {
     "name": "stdout",
     "output_type": "stream",
     "text": [
      "Model: \"sequential_1\"\n",
      "_________________________________________________________________\n",
      "Layer (type)                 Output Shape              Param #   \n",
      "=================================================================\n",
      "embedding_1 (Embedding)      (None, 41, 200)           2000000   \n",
      "_________________________________________________________________\n",
      "lstm_1 (LSTM)                (None, 8)                 6688      \n",
      "_________________________________________________________________\n",
      "dense_1 (Dense)              (None, 1)                 9         \n",
      "=================================================================\n",
      "Total params: 2,006,697\n",
      "Trainable params: 2,006,697\n",
      "Non-trainable params: 0\n",
      "_________________________________________________________________\n"
     ]
    }
   ],
   "source": [
    "from tensorflow.keras.initializers import Constant\n",
    "\n",
    "vocab_size = 10000\n",
    "word_vector_dim = 200\n",
    "\n",
    "model_rnn_w = tf.keras.Sequential()\n",
    "model_rnn_w.add(tf.keras.layers.Embedding(vocab_size, word_vector_dim, \n",
    "                                    embeddings_initializer=Constant(embedding_matrix),  # 카피한 임베딩을 여기서 활용\n",
    "                                    input_length=maxlen, \n",
    "                                    trainable=True)) \n",
    "model_rnn_w.add(tf.keras.layers.LSTM(8))\n",
    "model_rnn_w.add(tf.keras.layers.Dense(1, activation='sigmoid'))\n",
    "\n",
    "model_rnn_w.summary()"
   ]
  },
  {
   "cell_type": "code",
   "execution_count": 46,
   "id": "ce30eb4c",
   "metadata": {},
   "outputs": [
    {
     "name": "stdout",
     "output_type": "stream",
     "text": [
      "Epoch 1/10\n",
      "229/229 [==============================] - 13s 8ms/step - loss: 0.5386 - accuracy: 0.7170 - val_loss: 0.4393 - val_accuracy: 0.7915\n",
      "Epoch 2/10\n",
      "229/229 [==============================] - 1s 6ms/step - loss: 0.4115 - accuracy: 0.8077 - val_loss: 0.4068 - val_accuracy: 0.8076\n",
      "Epoch 3/10\n",
      "229/229 [==============================] - 1s 6ms/step - loss: 0.3779 - accuracy: 0.8272 - val_loss: 0.3983 - val_accuracy: 0.8126\n",
      "Epoch 4/10\n",
      "229/229 [==============================] - 1s 6ms/step - loss: 0.3587 - accuracy: 0.8380 - val_loss: 0.4029 - val_accuracy: 0.8113\n",
      "Epoch 5/10\n",
      "229/229 [==============================] - 1s 6ms/step - loss: 0.3454 - accuracy: 0.8449 - val_loss: 0.4028 - val_accuracy: 0.8132\n",
      "Epoch 6/10\n",
      "229/229 [==============================] - 1s 6ms/step - loss: 0.3329 - accuracy: 0.8511 - val_loss: 0.4055 - val_accuracy: 0.8144\n",
      "Epoch 7/10\n",
      "229/229 [==============================] - 1s 6ms/step - loss: 0.3225 - accuracy: 0.8561 - val_loss: 0.4220 - val_accuracy: 0.8069\n",
      "Epoch 8/10\n",
      "229/229 [==============================] - 1s 6ms/step - loss: 0.3124 - accuracy: 0.8603 - val_loss: 0.4166 - val_accuracy: 0.8124\n",
      "Epoch 9/10\n",
      "229/229 [==============================] - 1s 6ms/step - loss: 0.3003 - accuracy: 0.8667 - val_loss: 0.4284 - val_accuracy: 0.8077\n",
      "Epoch 10/10\n",
      "229/229 [==============================] - 1s 6ms/step - loss: 0.2897 - accuracy: 0.8722 - val_loss: 0.4372 - val_accuracy: 0.8074\n"
     ]
    },
    {
     "data": {
      "text/plain": [
       "<keras.callbacks.History at 0x7fc7ef6fd970>"
      ]
     },
     "execution_count": 46,
     "metadata": {},
     "output_type": "execute_result"
    }
   ],
   "source": [
    "model_rnn_w.compile(optimizer='adam',\n",
    "              loss='binary_crossentropy',\n",
    "              metrics=['accuracy'])\n",
    "              \n",
    "epochs= 10  # 몇 epoch를 훈련하면 좋을지 결과를 보면서 바꾸어 봅시다. \n",
    "\n",
    "model_rnn_w.fit(partial_X_train,\n",
    "                partial_y_train,\n",
    "                epochs=epochs,\n",
    "                batch_size=512,\n",
    "                validation_data=(X_val, y_val),\n",
    "                verbose=1)"
   ]
  },
  {
   "cell_type": "code",
   "execution_count": 47,
   "id": "05ee1816",
   "metadata": {},
   "outputs": [
    {
     "name": "stdout",
     "output_type": "stream",
     "text": [
      "1537/1537 [==============================] - 4s 2ms/step - loss: 0.4410 - accuracy: 0.8039\n",
      "[0.44098028540611267, 0.8038529753684998]\n"
     ]
    }
   ],
   "source": [
    "results_rnn_w = model_rnn_w.evaluate(X_test, y_test, verbose=1)\n",
    "\n",
    "print(results_rnn_w)"
   ]
  },
  {
   "cell_type": "markdown",
   "id": "eb09e57d",
   "metadata": {},
   "source": [
    "오히려 성능이 저하되었다."
   ]
  },
  {
   "cell_type": "markdown",
   "id": "1dbffde3",
   "metadata": {},
   "source": [
    "----------------------------------------------"
   ]
  },
  {
   "cell_type": "markdown",
   "id": "dff8a2fe",
   "metadata": {},
   "source": [
    "## RNN-사전학습 임베딩 사용 모델 하이퍼 파라미터 튜닝"
   ]
  },
  {
   "cell_type": "code",
   "execution_count": 48,
   "id": "c8e0a448",
   "metadata": {},
   "outputs": [
    {
     "name": "stdout",
     "output_type": "stream",
     "text": [
      "Model: \"sequential_2\"\n",
      "_________________________________________________________________\n",
      "Layer (type)                 Output Shape              Param #   \n",
      "=================================================================\n",
      "embedding_2 (Embedding)      (None, 41, 200)           2000000   \n",
      "_________________________________________________________________\n",
      "lstm_2 (LSTM)                (None, 128)               168448    \n",
      "_________________________________________________________________\n",
      "dense_2 (Dense)              (None, 1)                 129       \n",
      "=================================================================\n",
      "Total params: 2,168,577\n",
      "Trainable params: 2,168,577\n",
      "Non-trainable params: 0\n",
      "_________________________________________________________________\n"
     ]
    }
   ],
   "source": [
    "from tensorflow.keras.initializers import Constant\n",
    "\n",
    "vocab_size = 10000\n",
    "word_vector_dim = 200\n",
    "\n",
    "model_rnn_w_h = tf.keras.Sequential()\n",
    "model_rnn_w_h.add(tf.keras.layers.Embedding(vocab_size, word_vector_dim, \n",
    "                                    embeddings_initializer=Constant(embedding_matrix),  # 카피한 임베딩을 여기서 활용\n",
    "                                    input_length=maxlen, \n",
    "                                    trainable=True)) \n",
    "model_rnn_w_h.add(tf.keras.layers.LSTM(128))\n",
    "                                    # 8 -> 128\n",
    "model_rnn_w_h.add(tf.keras.layers.Dense(1, activation='sigmoid'))\n",
    "\n",
    "model_rnn_w_h.summary()"
   ]
  },
  {
   "cell_type": "code",
   "execution_count": 49,
   "id": "c3f47fa3",
   "metadata": {},
   "outputs": [
    {
     "name": "stdout",
     "output_type": "stream",
     "text": [
      "Epoch 1/10\n",
      "229/229 [==============================] - 5s 16ms/step - loss: 0.5237 - accuracy: 0.7275 - val_loss: 0.4343 - val_accuracy: 0.7910\n",
      "Epoch 2/10\n",
      "229/229 [==============================] - 3s 14ms/step - loss: 0.4050 - accuracy: 0.8092 - val_loss: 0.3937 - val_accuracy: 0.8136\n",
      "Epoch 3/10\n",
      "229/229 [==============================] - 3s 14ms/step - loss: 0.3666 - accuracy: 0.8307 - val_loss: 0.3895 - val_accuracy: 0.8193\n",
      "Epoch 4/10\n",
      "229/229 [==============================] - 3s 14ms/step - loss: 0.3445 - accuracy: 0.8431 - val_loss: 0.3910 - val_accuracy: 0.8163\n",
      "Epoch 5/10\n",
      "229/229 [==============================] - 3s 14ms/step - loss: 0.3272 - accuracy: 0.8518 - val_loss: 0.3957 - val_accuracy: 0.8189\n",
      "Epoch 6/10\n",
      "229/229 [==============================] - 3s 14ms/step - loss: 0.3102 - accuracy: 0.8605 - val_loss: 0.4017 - val_accuracy: 0.8156\n",
      "Epoch 7/10\n",
      "229/229 [==============================] - 3s 14ms/step - loss: 0.2912 - accuracy: 0.8693 - val_loss: 0.4309 - val_accuracy: 0.8138\n",
      "Epoch 8/10\n",
      "229/229 [==============================] - 3s 14ms/step - loss: 0.2724 - accuracy: 0.8803 - val_loss: 0.4266 - val_accuracy: 0.8128\n",
      "Epoch 9/10\n",
      "229/229 [==============================] - 3s 14ms/step - loss: 0.2514 - accuracy: 0.8885 - val_loss: 0.4566 - val_accuracy: 0.8143\n",
      "Epoch 10/10\n",
      "229/229 [==============================] - 3s 14ms/step - loss: 0.2295 - accuracy: 0.8991 - val_loss: 0.4915 - val_accuracy: 0.8102\n"
     ]
    },
    {
     "data": {
      "text/plain": [
       "<keras.callbacks.History at 0x7fc7eed513a0>"
      ]
     },
     "execution_count": 49,
     "metadata": {},
     "output_type": "execute_result"
    }
   ],
   "source": [
    "model_rnn_w_h.compile(optimizer='adam',\n",
    "              loss='binary_crossentropy',\n",
    "              metrics=['accuracy'])\n",
    "              \n",
    "epochs= 10  \n",
    "\n",
    "model_rnn_w_h.fit(partial_X_train,\n",
    "                  partial_y_train,\n",
    "                  epochs=epochs,\n",
    "                  batch_size=512,\n",
    "                  validation_data=(X_val, y_val),\n",
    "                  verbose=1)"
   ]
  },
  {
   "cell_type": "code",
   "execution_count": 51,
   "id": "9f08fa73",
   "metadata": {},
   "outputs": [
    {
     "name": "stdout",
     "output_type": "stream",
     "text": [
      "1537/1537 [==============================] - 4s 3ms/step - loss: 0.4871 - accuracy: 0.8065\n",
      "[0.4870980978012085, 0.8065382242202759]\n"
     ]
    }
   ],
   "source": [
    "results_rnn_w_h = model_rnn_w_h.evaluate(X_test, y_test, verbose=1)\n",
    "\n",
    "print(results_rnn_w_h)"
   ]
  },
  {
   "cell_type": "markdown",
   "id": "60bc0228",
   "metadata": {},
   "source": [
    "예상외로 큰 차이가 없다. "
   ]
  },
  {
   "cell_type": "markdown",
   "id": "b1b36f57",
   "metadata": {},
   "source": [
    "## 역방향 RNN"
   ]
  },
  {
   "cell_type": "markdown",
   "id": "2639af20",
   "metadata": {},
   "source": [
    "## keras.preprocessing.sequence.pad_sequences 을 활용한 패딩 추가\n",
    "역방향 RNN은 입력데이터가 순방향 RNN과는 반대로 처리된다.\n",
    "\n",
    "즉, 맨 처음 입력이 최종 state 값에 가장 영향을 많이 미치게 되므로,\n",
    "\n",
    "맨 처음 입력이 무의미한 padding으로 채워지는 것은 비효율적이다.\n",
    "\n",
    "따라서 padding 방식은 'post'로 선택했다."
   ]
  },
  {
   "cell_type": "code",
   "execution_count": 52,
   "id": "6cf3ddd5",
   "metadata": {},
   "outputs": [],
   "source": [
    "X_train = tf.keras.preprocessing.sequence.pad_sequences(X_train,\n",
    "                                                       value = word_to_index[\"<PAD>\"],\n",
    "                                                       padding= 'post',\n",
    "                                                       maxlen = maxlen)\n",
    "\n",
    "X_test = tf.keras.preprocessing.sequence.pad_sequences(X_test,\n",
    "                                                       value = word_to_index[\"<PAD>\"],\n",
    "                                                       padding= 'post',\n",
    "                                                       maxlen = maxlen)"
   ]
  },
  {
   "cell_type": "markdown",
   "id": "5ad26af7",
   "metadata": {},
   "source": [
    "## 모델 설계 및 학습"
   ]
  },
  {
   "cell_type": "code",
   "execution_count": 53,
   "id": "97ff9490",
   "metadata": {},
   "outputs": [],
   "source": [
    "model_brnn = tf.keras.Sequential([\n",
    "    tf.keras.layers.Embedding(vocab_size, word_vector_dim, mask_zero=True),\n",
    "    tf.keras.layers.LSTM(8, go_backwards= True),\n",
    "    tf.keras.layers.Dense(1, activation='sigmoid')\n",
    "])"
   ]
  },
  {
   "cell_type": "code",
   "execution_count": 54,
   "id": "63480354",
   "metadata": {},
   "outputs": [],
   "source": [
    "model_brnn.compile(loss='binary_crossentropy', optimizer='adam', metrics=['accuracy'])"
   ]
  },
  {
   "cell_type": "code",
   "execution_count": 55,
   "id": "fb6ac8c7",
   "metadata": {},
   "outputs": [
    {
     "name": "stdout",
     "output_type": "stream",
     "text": [
      "Epoch 1/10\n",
      "229/229 [==============================] - 27s 103ms/step - loss: 0.5093 - accuracy: 0.7670 - val_loss: 0.4205 - val_accuracy: 0.8088\n",
      "Epoch 2/10\n",
      "229/229 [==============================] - 23s 99ms/step - loss: 0.3901 - accuracy: 0.8241 - val_loss: 0.4060 - val_accuracy: 0.8131\n",
      "Epoch 3/10\n",
      "229/229 [==============================] - 23s 99ms/step - loss: 0.3645 - accuracy: 0.8360 - val_loss: 0.4086 - val_accuracy: 0.8109\n",
      "Epoch 4/10\n",
      "229/229 [==============================] - 23s 99ms/step - loss: 0.3480 - accuracy: 0.8432 - val_loss: 0.4156 - val_accuracy: 0.8106\n",
      "Epoch 5/10\n",
      "229/229 [==============================] - 22s 98ms/step - loss: 0.3341 - accuracy: 0.8493 - val_loss: 0.4184 - val_accuracy: 0.8083\n",
      "Epoch 6/10\n",
      "229/229 [==============================] - 23s 98ms/step - loss: 0.3219 - accuracy: 0.8554 - val_loss: 0.4317 - val_accuracy: 0.8076\n",
      "Epoch 7/10\n",
      "229/229 [==============================] - 23s 99ms/step - loss: 0.3107 - accuracy: 0.8605 - val_loss: 0.4396 - val_accuracy: 0.8059\n",
      "Epoch 8/10\n",
      "229/229 [==============================] - 22s 98ms/step - loss: 0.3002 - accuracy: 0.8657 - val_loss: 0.4578 - val_accuracy: 0.8001\n",
      "Epoch 9/10\n",
      "229/229 [==============================] - 23s 99ms/step - loss: 0.2911 - accuracy: 0.8703 - val_loss: 0.4598 - val_accuracy: 0.8047\n",
      "Epoch 10/10\n",
      "229/229 [==============================] - 23s 99ms/step - loss: 0.2827 - accuracy: 0.8742 - val_loss: 0.4728 - val_accuracy: 0.8037\n"
     ]
    }
   ],
   "source": [
    "epochs = 10\n",
    "\n",
    "history_brnn = model_brnn.fit(partial_X_train,\n",
    "                   partial_y_train,\n",
    "                   epochs=epochs,\n",
    "                   batch_size=512,\n",
    "                   validation_data=(X_val,y_val),\n",
    "                   verbose=1)"
   ]
  },
  {
   "cell_type": "code",
   "execution_count": 56,
   "id": "3869eeae",
   "metadata": {},
   "outputs": [
    {
     "name": "stdout",
     "output_type": "stream",
     "text": [
      "0.813072919845581\n"
     ]
    }
   ],
   "source": [
    "print(max(history_brnn.history['val_accuracy']))"
   ]
  },
  {
   "cell_type": "markdown",
   "id": "0656aafc",
   "metadata": {},
   "source": [
    "## Test set 평가"
   ]
  },
  {
   "cell_type": "code",
   "execution_count": 57,
   "id": "8f39d56a",
   "metadata": {},
   "outputs": [
    {
     "name": "stdout",
     "output_type": "stream",
     "text": [
      "1537/1537 - 13s - loss: 0.4699 - accuracy: 0.8021\n",
      "[0.4698570966720581, 0.8021441698074341]\n"
     ]
    }
   ],
   "source": [
    "results_brnn = model_brnn.evaluate(X_test, y_test, verbose=2)\n",
    "\n",
    "print(results_brnn)"
   ]
  },
  {
   "cell_type": "markdown",
   "id": "0f0c8bea",
   "metadata": {},
   "source": [
    "validation set에서는 순방향 RNN보다 높은 성능을 보였지만, test set에서는 순방향 RNN과 비슷한 결과가 도출되었다."
   ]
  },
  {
   "cell_type": "markdown",
   "id": "8fdd78f4",
   "metadata": {},
   "source": [
    "# Loss, Accuracy 그래프 시각화"
   ]
  },
  {
   "cell_type": "code",
   "execution_count": 58,
   "id": "d63c616f",
   "metadata": {},
   "outputs": [
    {
     "name": "stdout",
     "output_type": "stream",
     "text": [
      "dict_keys(['loss', 'accuracy', 'val_loss', 'val_accuracy'])\n"
     ]
    }
   ],
   "source": [
    "history_dict_brnn = history_brnn.history\n",
    "print(history_dict_brnn.keys())   #epoch에 따른 그래프를 그려볼 수 있는 항목들"
   ]
  },
  {
   "cell_type": "markdown",
   "id": "ee83701a",
   "metadata": {},
   "source": [
    "## Loss"
   ]
  },
  {
   "cell_type": "code",
   "execution_count": 99,
   "id": "e22f46f5",
   "metadata": {},
   "outputs": [
    {
     "data": {
      "image/png": "[encoded data removed]",
      "text/plain": [
       "<Figure size 432x288 with 1 Axes>"
      ]
     },
     "metadata": {
      "needs_background": "light"
     },
     "output_type": "display_data"
    }
   ],
   "source": [
    "import matplotlib.pyplot as plt\n",
    "\n",
    "acc = history_dict_brnn['accuracy']\n",
    "val_acc = history_dict_brnn['val_accuracy']\n",
    "loss = history_dict_brnn['loss']\n",
    "val_loss = history_dict_brnn['val_loss']\n",
    "\n",
    "epochs = range(1, len(acc) + 1)\n",
    "\n",
    "plt.plot(epochs, loss, 'bo', label = \"Training loss\")\n",
    "                      # 파란색 점\n",
    "plt.plot(epochs, val_loss, 'b', label = \"Validation loss\")\n",
    "                      # 파란 실선\n",
    "plt.title('Training and validation loss')\n",
    "plt.xlabel('Epochs')\n",
    "plt.ylabel('Loss')\n",
    "plt.legend()\n",
    "\n",
    "plt.show() \n",
    "#두 번째 epoch부터 과적합이 진행되었다."
   ]
  },
  {
   "cell_type": "markdown",
   "id": "30b6a427",
   "metadata": {},
   "source": [
    "## Accuracy 시각화"
   ]
  },
  {
   "cell_type": "code",
   "execution_count": 100,
   "id": "54d835a4",
   "metadata": {},
   "outputs": [
    {
     "data": {
      "image/png": "[encoded data removed]",
      "text/plain": [
       "<Figure size 432x288 with 1 Axes>"
      ]
     },
     "metadata": {
      "needs_background": "light"
     },
     "output_type": "display_data"
    }
   ],
   "source": [
    "plt.clf()  #그림 초기화\n",
    "\n",
    "plt.plot(epochs, acc, 'bo', label='Training acc')\n",
    "plt.plot(epochs, val_acc, 'b', label='Validation acc')\n",
    "plt.title('Training and validation accuracy')\n",
    "plt.xlabel('Epochs')\n",
    "plt.ylabel('Accuracy')\n",
    "plt.legend()\n",
    "\n",
    "plt.show()"
   ]
  },
  {
   "cell_type": "markdown",
   "id": "11a08e25",
   "metadata": {},
   "source": [
    "## 학습된 Embedding layer 분석 "
   ]
  },
  {
   "cell_type": "code",
   "execution_count": 101,
   "id": "d0dead29",
   "metadata": {},
   "outputs": [
    {
     "name": "stdout",
     "output_type": "stream",
     "text": [
      "(10000, 200)\n"
     ]
    }
   ],
   "source": [
    "embedding_layer_brnn = model_brnn.layers[0]\n",
    "weights_brnn = embedding_layer_brnn.get_weights()[0]\n",
    "print(weights_brnn.shape)\n",
    "\n",
    "# shape : (vocab_size, embedding_dim)"
   ]
  },
  {
   "cell_type": "markdown",
   "id": "04f61329",
   "metadata": {},
   "source": [
    "### 학습한 Embedding 파라미터를 파일에 써서 저장"
   ]
  },
  {
   "cell_type": "code",
   "execution_count": 62,
   "id": "3f7b973e",
   "metadata": {},
   "outputs": [],
   "source": [
    "word2vec_file_path_brnn = 'sentiment_classification/nsmc_BRNN_parameters.txt'\n",
    "f = open(word2vec_file_path_brnn, 'w')\n",
    "f.write('{} {}\\n'.format(vocab_size-4, word_vector_dim))  #몇 개의 벡터를 얼마 사이즈로 기재할 지 타이틀로 씀\n",
    "\n",
    "#단어 개수(특수문자 4개는 제외)만큼의 워드 벡터를 파일에 기록\n",
    "vectors_brnn = model_brnn.get_weights()[0]\n",
    "for i in range(4, vocab_size):\n",
    "    f.write('{} {}\\n'.format(index_to_word[i], ' '.join(map(str, list(vectors_brnn[i, :])))))\n",
    "f.close()"
   ]
  },
  {
   "cell_type": "code",
   "execution_count": 63,
   "id": "643b90a1",
   "metadata": {},
   "outputs": [
    {
     "data": {
      "text/plain": [
       "array([ 0.00626648,  0.10468561, -0.2579023 ,  0.10939656,  0.15016794,\n",
       "        0.11464047, -0.02888204, -0.18419757,  0.01463797,  0.06802191,\n",
       "        0.11791212, -0.17962103, -0.15224257, -0.03075467,  0.10499847,\n",
       "       -0.17452179, -0.11050119,  0.11368   ,  0.12422573,  0.1816918 ,\n",
       "        0.15500213, -0.14706579, -0.128005  ,  0.04155134,  0.14324304,\n",
       "        0.21987648, -0.08189843, -0.14985126,  0.07837569, -0.14735238,\n",
       "       -0.1357173 ,  0.0550045 , -0.14634424, -0.19167444,  0.06418525,\n",
       "       -0.08277954, -0.101356  ,  0.16068235,  0.02864521, -0.03481765,\n",
       "       -0.11073373,  0.17016745, -0.14679202, -0.13470735, -0.08140797,\n",
       "        0.01983568,  0.22049873,  0.04860391,  0.22713391, -0.00399628,\n",
       "        0.05937281,  0.0288044 ,  0.16887453, -0.20893864,  0.16610214,\n",
       "        0.05615139, -0.19122268, -0.1385964 ,  0.06594085, -0.09987148,\n",
       "        0.07322354,  0.01673129, -0.1068214 ,  0.23237011,  0.11046492,\n",
       "        0.12795019, -0.06969044, -0.04742424,  0.1405536 ,  0.18794383,\n",
       "       -0.15128727,  0.07364397, -0.04125854, -0.16349092, -0.15594743,\n",
       "        0.03517639, -0.05447628, -0.07286363, -0.1255435 , -0.20006423,\n",
       "        0.06035263, -0.17356603,  0.12319405, -0.09646299,  0.19263309,\n",
       "       -0.07529461,  0.22811136, -0.11668205, -0.0475904 , -0.14697626,\n",
       "       -0.03172326,  0.09941845, -0.20949383,  0.14164282, -0.09644316,\n",
       "       -0.0803527 ,  0.01490389,  0.075776  , -0.17571756,  0.08327574,\n",
       "        0.03717139, -0.13355377,  0.09028746, -0.06565373, -0.02662871,\n",
       "       -0.18572553,  0.21288721,  0.10944812,  0.1265297 , -0.14548099,\n",
       "        0.10139348,  0.18539684, -0.05409298, -0.14046364, -0.07346889,\n",
       "       -0.01270667,  0.03811   , -0.07235503, -0.13897628,  0.3373003 ,\n",
       "       -0.1451975 , -0.10250102, -0.09608756, -0.1381924 ,  0.21821144,\n",
       "       -0.0403554 , -0.16245757, -0.05118714,  0.16995496, -0.02401202,\n",
       "       -0.1413365 , -0.08695056, -0.03123429, -0.15699914, -0.15979789,\n",
       "        0.13484876, -0.14292629, -0.11381725, -0.10955234, -0.07174604,\n",
       "       -0.0913766 ,  0.06224574, -0.14411585,  0.06208847,  0.13366379,\n",
       "       -0.1531883 ,  0.08877076,  0.05759938, -0.06362677,  0.00776052,\n",
       "       -0.10691199, -0.02787402, -0.11502425, -0.04409064, -0.09608802,\n",
       "        0.08964068,  0.13889353,  0.01959942, -0.00360212,  0.20494878,\n",
       "        0.07630154, -0.20390551,  0.02550785, -0.19533648, -0.05493203,\n",
       "        0.19335555,  0.15560967, -0.08611357,  0.08603293,  0.15640342,\n",
       "        0.17619626, -0.05961775,  0.02203032,  0.05513282,  0.12925786,\n",
       "        0.09406471, -0.10985822,  0.10119866, -0.11734383, -0.20095791,\n",
       "        0.14740498,  0.09488807,  0.11511017, -0.10430169, -0.22111756,\n",
       "       -0.0479817 , -0.06195755, -0.12956387,  0.11612919, -0.21280469,\n",
       "       -0.16644761, -0.09639739,  0.01705921,  0.16568439,  0.07091561,\n",
       "       -0.3262238 , -0.11915904,  0.2645253 ,  0.07670656,  0.20546526],\n",
       "      dtype=float32)"
      ]
     },
     "execution_count": 63,
     "metadata": {},
     "output_type": "execute_result"
    }
   ],
   "source": [
    "from gensim.models.keyedvectors import Word2VecKeyedVectors\n",
    "\n",
    "word_vectors_brnn = Word2VecKeyedVectors.load_word2vec_format(word2vec_file_path_brnn, binary=False)\n",
    "#word_vectors에 원하는 단어를 넣으면 vector값 반환\n",
    "vector_brnn = word_vectors_brnn['재밌']\n",
    "vector_brnn"
   ]
  },
  {
   "cell_type": "markdown",
   "id": "f2529814",
   "metadata": {},
   "source": [
    "### 유사도 계산"
   ]
  },
  {
   "cell_type": "code",
   "execution_count": 64,
   "id": "fd9c079d",
   "metadata": {},
   "outputs": [
    {
     "data": {
      "text/plain": [
       "[('재미있', 0.9256278276443481),\n",
       " ('즐거웠', 0.8764846324920654),\n",
       " ('강렬', 0.8610167503356934),\n",
       " ('흥미진진', 0.858970046043396),\n",
       " ('센세이션', 0.8577584624290466),\n",
       " ('귀여운', 0.8555523157119751),\n",
       " ('드럼', 0.8545413017272949),\n",
       " ('감탄', 0.8540531396865845),\n",
       " ('경이', 0.8518862724304199),\n",
       " ('오즈', 0.851150631904602)]"
      ]
     },
     "execution_count": 64,
     "metadata": {},
     "output_type": "execute_result"
    }
   ],
   "source": [
    "word_vectors_brnn.similar_by_word('재밌')"
   ]
  },
  {
   "cell_type": "markdown",
   "id": "c807d650",
   "metadata": {},
   "source": [
    "비교적 유사한 토큰들이 도출되었다. "
   ]
  },
  {
   "cell_type": "markdown",
   "id": "a97ec562",
   "metadata": {},
   "source": [
    "# 한국어 Word2Vec 임베딩 활용하여 성능 개선"
   ]
  },
  {
   "cell_type": "code",
   "execution_count": 65,
   "id": "f1aa347b",
   "metadata": {},
   "outputs": [
    {
     "name": "stdout",
     "output_type": "stream",
     "text": [
      "Model: \"sequential_4\"\n",
      "_________________________________________________________________\n",
      "Layer (type)                 Output Shape              Param #   \n",
      "=================================================================\n",
      "embedding_4 (Embedding)      (None, 41, 200)           2000000   \n",
      "_________________________________________________________________\n",
      "lstm_4 (LSTM)                (None, 8)                 6688      \n",
      "_________________________________________________________________\n",
      "dense_4 (Dense)              (None, 1)                 9         \n",
      "=================================================================\n",
      "Total params: 2,006,697\n",
      "Trainable params: 2,006,697\n",
      "Non-trainable params: 0\n",
      "_________________________________________________________________\n"
     ]
    }
   ],
   "source": [
    "vocab_size = 10000\n",
    "word_vector_dim = 200\n",
    "\n",
    "model_brnn_w = tf.keras.Sequential()\n",
    "model_brnn_w.add(tf.keras.layers.Embedding(vocab_size, word_vector_dim, \n",
    "                                    embeddings_initializer=Constant(embedding_matrix),  # 카피한 임베딩을 여기서 활용\n",
    "                                    input_length=maxlen, trainable=True)) \n",
    "model_brnn_w.add(tf.keras.layers.LSTM(8, go_backwards= True))\n",
    "model_brnn_w.add(tf.keras.layers.Dense(1, activation='sigmoid'))\n",
    "\n",
    "model_brnn_w.summary()"
   ]
  },
  {
   "cell_type": "code",
   "execution_count": 66,
   "id": "32817906",
   "metadata": {},
   "outputs": [],
   "source": [
    "model_brnn_w.compile(loss='binary_crossentropy', optimizer='adam', metrics=['accuracy'])"
   ]
  },
  {
   "cell_type": "code",
   "execution_count": 67,
   "id": "6f857e3c",
   "metadata": {},
   "outputs": [
    {
     "name": "stdout",
     "output_type": "stream",
     "text": [
      "Epoch 1/10\n",
      "229/229 [==============================] - 3s 8ms/step - loss: 0.6836 - accuracy: 0.5352 - val_loss: 0.6010 - val_accuracy: 0.6783\n",
      "Epoch 2/10\n",
      "229/229 [==============================] - 1s 7ms/step - loss: 0.4844 - accuracy: 0.7671 - val_loss: 0.4322 - val_accuracy: 0.8012\n",
      "Epoch 3/10\n",
      "229/229 [==============================] - 1s 6ms/step - loss: 0.4013 - accuracy: 0.8165 - val_loss: 0.4184 - val_accuracy: 0.8057\n",
      "Epoch 4/10\n",
      "229/229 [==============================] - 1s 6ms/step - loss: 0.3764 - accuracy: 0.8289 - val_loss: 0.4182 - val_accuracy: 0.8067\n",
      "Epoch 5/10\n",
      "229/229 [==============================] - 1s 6ms/step - loss: 0.3623 - accuracy: 0.8361 - val_loss: 0.4115 - val_accuracy: 0.8086\n",
      "Epoch 6/10\n",
      "229/229 [==============================] - 1s 6ms/step - loss: 0.3504 - accuracy: 0.8419 - val_loss: 0.4158 - val_accuracy: 0.8097\n",
      "Epoch 7/10\n",
      "229/229 [==============================] - 1s 7ms/step - loss: 0.3419 - accuracy: 0.8456 - val_loss: 0.4209 - val_accuracy: 0.8084\n",
      "Epoch 8/10\n",
      "229/229 [==============================] - 1s 6ms/step - loss: 0.3321 - accuracy: 0.8497 - val_loss: 0.4202 - val_accuracy: 0.8083\n",
      "Epoch 9/10\n",
      "229/229 [==============================] - 2s 7ms/step - loss: 0.3237 - accuracy: 0.8531 - val_loss: 0.4387 - val_accuracy: 0.8050\n",
      "Epoch 10/10\n",
      "229/229 [==============================] - 1s 6ms/step - loss: 0.3168 - accuracy: 0.8575 - val_loss: 0.4265 - val_accuracy: 0.8062\n"
     ]
    },
    {
     "data": {
      "text/plain": [
       "<keras.callbacks.History at 0x7fc7ee8539a0>"
      ]
     },
     "execution_count": 67,
     "metadata": {},
     "output_type": "execute_result"
    }
   ],
   "source": [
    "epochs = 10\n",
    "\n",
    "model_brnn_w.fit(partial_X_train,\n",
    "                 partial_y_train,\n",
    "                 epochs=epochs,\n",
    "                 batch_size=512,\n",
    "                 validation_data=(X_val,y_val),\n",
    "                 verbose=1)\n"
   ]
  },
  {
   "cell_type": "code",
   "execution_count": 68,
   "id": "86193d7a",
   "metadata": {},
   "outputs": [
    {
     "name": "stdout",
     "output_type": "stream",
     "text": [
      "1537/1537 - 3s - loss: 0.4275 - accuracy: 0.8023\n",
      "[0.4275074899196625, 0.8023068904876709]\n"
     ]
    }
   ],
   "source": [
    "results_brnn_w = model_brnn_w.evaluate(X_test, y_test, verbose=2)\n",
    "\n",
    "print(results_brnn_w)"
   ]
  },
  {
   "cell_type": "markdown",
   "id": "393a650e",
   "metadata": {},
   "source": [
    "# 양방향 RNN"
   ]
  },
  {
   "cell_type": "markdown",
   "id": "58b41162",
   "metadata": {},
   "source": [
    "순방향 RNN은 이전 정보를 기반으로 아웃풋을 출력하는 방식이기 때문에 정보의 불균형이 일어난다.\n",
    "\n",
    "이러한 구조적 문제점을 해결하기 위해 양방향 RNN이 개발되었다.\n",
    "\n",
    "양방향 RNN은 전방향 상태(Forward States)정보를 가지고 있는 hidden layer와 \n",
    "\n",
    "후방향 상태(Backward States) 정보를 가지고 있는 hidden layer가 있고, \n",
    "\n",
    "이 둘은 서로 연결되어 있지 않은 구조로 형성되어 있다.\n",
    "\n",
    "따라서 padding의 위치(pre or post)는 모델 학습에 있어 큰 영향을 끼치지 않을 것이라 판단해 따로 조정하지 않았다.\n",
    "\n",
    "**참고 링크 :** https://engineer-mole.tistory.com/26"
   ]
  },
  {
   "cell_type": "markdown",
   "id": "9afbb77b",
   "metadata": {},
   "source": [
    "# 모델 설계 및 학습"
   ]
  },
  {
   "cell_type": "code",
   "execution_count": 69,
   "id": "3bebc521",
   "metadata": {},
   "outputs": [],
   "source": [
    "model_birnn = tf.keras.Sequential([\n",
    "    tf.keras.layers.Embedding(vocab_size, word_vector_dim, mask_zero=True),\n",
    "    tf.keras.layers.Bidirectional(tf.keras.layers.LSTM(8)),\n",
    "                    #양방향\n",
    "    tf.keras.layers.Dense(1, activation='sigmoid')\n",
    "])"
   ]
  },
  {
   "cell_type": "code",
   "execution_count": 70,
   "id": "dea0af77",
   "metadata": {},
   "outputs": [],
   "source": [
    "model_birnn.compile(loss='binary_crossentropy', optimizer='adam', metrics=['accuracy'])"
   ]
  },
  {
   "cell_type": "code",
   "execution_count": 71,
   "id": "9e530ec6",
   "metadata": {},
   "outputs": [
    {
     "name": "stdout",
     "output_type": "stream",
     "text": [
      "Epoch 1/10\n",
      "229/229 [==============================] - 49s 186ms/step - loss: 0.4836 - accuracy: 0.7699 - val_loss: 0.4056 - val_accuracy: 0.8090\n",
      "Epoch 2/10\n",
      "229/229 [==============================] - 41s 180ms/step - loss: 0.3828 - accuracy: 0.8234 - val_loss: 0.3997 - val_accuracy: 0.8113\n",
      "Epoch 3/10\n",
      "229/229 [==============================] - 41s 179ms/step - loss: 0.3621 - accuracy: 0.8345 - val_loss: 0.4007 - val_accuracy: 0.8115\n",
      "Epoch 4/10\n",
      "229/229 [==============================] - 41s 178ms/step - loss: 0.3439 - accuracy: 0.8435 - val_loss: 0.4022 - val_accuracy: 0.8123\n",
      "Epoch 5/10\n",
      "229/229 [==============================] - 41s 179ms/step - loss: 0.3251 - accuracy: 0.8526 - val_loss: 0.4103 - val_accuracy: 0.8101\n",
      "Epoch 6/10\n",
      "229/229 [==============================] - 41s 178ms/step - loss: 0.3060 - accuracy: 0.8622 - val_loss: 0.4172 - val_accuracy: 0.8092\n",
      "Epoch 7/10\n",
      "229/229 [==============================] - 41s 177ms/step - loss: 0.2851 - accuracy: 0.8735 - val_loss: 0.4429 - val_accuracy: 0.8044\n",
      "Epoch 8/10\n",
      "229/229 [==============================] - 41s 180ms/step - loss: 0.2659 - accuracy: 0.8837 - val_loss: 0.4444 - val_accuracy: 0.8043\n",
      "Epoch 9/10\n",
      "229/229 [==============================] - 41s 178ms/step - loss: 0.2497 - accuracy: 0.8903 - val_loss: 0.4742 - val_accuracy: 0.7997\n",
      "Epoch 10/10\n",
      "229/229 [==============================] - 41s 178ms/step - loss: 0.2354 - accuracy: 0.8977 - val_loss: 0.5002 - val_accuracy: 0.8005\n"
     ]
    }
   ],
   "source": [
    "epochs = 10\n",
    "\n",
    "history_birnn = model_birnn.fit(partial_X_train,\n",
    "                   partial_y_train,\n",
    "                   epochs=epochs,\n",
    "                   batch_size=512,\n",
    "                   validation_data=(X_val,y_val),\n",
    "                   verbose=1)"
   ]
  },
  {
   "cell_type": "code",
   "execution_count": 72,
   "id": "bea53e8c",
   "metadata": {},
   "outputs": [
    {
     "name": "stdout",
     "output_type": "stream",
     "text": [
      "0.8122861981391907\n"
     ]
    }
   ],
   "source": [
    "print(max(history_birnn.history['val_accuracy']))"
   ]
  },
  {
   "cell_type": "markdown",
   "id": "5dae8f00",
   "metadata": {},
   "source": [
    "## Test set 평가 "
   ]
  },
  {
   "cell_type": "code",
   "execution_count": 73,
   "id": "a2031261",
   "metadata": {},
   "outputs": [
    {
     "name": "stdout",
     "output_type": "stream",
     "text": [
      "1537/1537 - 29s - loss: 0.4984 - accuracy: 0.7984\n",
      "[0.49835309386253357, 0.7984417080879211]\n"
     ]
    }
   ],
   "source": [
    "results_birnn = model_birnn.evaluate(X_test, y_test, verbose=2)\n",
    "print(results_birnn)"
   ]
  },
  {
   "cell_type": "markdown",
   "id": "2df5a6df",
   "metadata": {},
   "source": [
    "상당히 낮은 성능이 도출되었다."
   ]
  },
  {
   "cell_type": "markdown",
   "id": "cded3f3e",
   "metadata": {},
   "source": [
    "## Loss, Accuracy 그래프 시각화"
   ]
  },
  {
   "cell_type": "markdown",
   "id": "b2dee747",
   "metadata": {},
   "source": [
    "## Loss 시각화"
   ]
  },
  {
   "cell_type": "code",
   "execution_count": 74,
   "id": "f23c198c",
   "metadata": {},
   "outputs": [
    {
     "data": {
      "image/png": "[encoded data removed]",
      "text/plain": [
       "<Figure size 432x288 with 1 Axes>"
      ]
     },
     "metadata": {
      "needs_background": "light"
     },
     "output_type": "display_data"
    }
   ],
   "source": [
    "history_dict_birnn = history_birnn.history\n",
    "\n",
    "import matplotlib.pyplot as plt\n",
    "\n",
    "acc = history_dict_birnn['accuracy']\n",
    "val_acc = history_dict_birnn['val_accuracy']\n",
    "loss = history_dict_birnn['loss']\n",
    "val_loss = history_dict_birnn['val_loss']\n",
    "\n",
    "epochs = range(1, len(acc) + 1)\n",
    "\n",
    "plt.plot(epochs, loss, 'bo', label = \"Training loss\")\n",
    "                      # 파란색 점\n",
    "plt.plot(epochs, val_loss, 'b', label = \"Validation loss\")\n",
    "                      # 파란 실선\n",
    "plt.title('Training and validation loss')\n",
    "plt.xlabel('Epochs')\n",
    "plt.ylabel('Loss')\n",
    "plt.legend()\n",
    "\n",
    "plt.show()\n",
    "\n",
    "# 3번째 epoch 부터 validation loss 증가 "
   ]
  },
  {
   "cell_type": "markdown",
   "id": "90948987",
   "metadata": {},
   "source": [
    "## Accuracy 시각화"
   ]
  },
  {
   "cell_type": "code",
   "execution_count": 75,
   "id": "2560ef6c",
   "metadata": {},
   "outputs": [
    {
     "data": {
      "image/png": "[encoded data removed]",
      "text/plain": [
       "<Figure size 432x288 with 1 Axes>"
      ]
     },
     "metadata": {
      "needs_background": "light"
     },
     "output_type": "display_data"
    }
   ],
   "source": [
    "plt.clf()  #그림 초기화\n",
    "\n",
    "plt.plot(epochs, acc, 'bo', label='Training acc')\n",
    "plt.plot(epochs, val_acc, 'b', label='Validation acc')\n",
    "plt.title('Training and validation accuracy')\n",
    "plt.xlabel('Epochs')\n",
    "plt.ylabel('Accuracy')\n",
    "plt.legend()\n",
    "\n",
    "plt.show()"
   ]
  },
  {
   "cell_type": "markdown",
   "id": "4cc5461c",
   "metadata": {},
   "source": [
    "# 학습된 Embedding layer 분석"
   ]
  },
  {
   "cell_type": "code",
   "execution_count": 76,
   "id": "aed83e75",
   "metadata": {},
   "outputs": [
    {
     "name": "stdout",
     "output_type": "stream",
     "text": [
      "(10000, 200)\n"
     ]
    }
   ],
   "source": [
    "embedding_layer_birnn = model_birnn.layers[0]\n",
    "weights_birnn = embedding_layer_birnn.get_weights()[0]\n",
    "print(weights_birnn.shape)\n",
    "\n",
    "# shape : (vocab_size, embedding_dim)"
   ]
  },
  {
   "cell_type": "markdown",
   "id": "cd1d614b",
   "metadata": {},
   "source": [
    "## 학습한 Embedding 파라미터를 파일에 써서 저장¶"
   ]
  },
  {
   "cell_type": "code",
   "execution_count": 77,
   "id": "685f9b67",
   "metadata": {},
   "outputs": [],
   "source": [
    "word2vec_file_path_birnn = 'sentiment_classification/nsmc_BIRNN_parameters.txt'\n",
    "f = open(word2vec_file_path_birnn, 'w')\n",
    "f.write('{} {}\\n'.format(vocab_size-4, word_vector_dim))  #몇 개의 벡터를 얼마 사이즈로 기재할 지 타이틀로 씀\n",
    "\n",
    "#단어 개수(특수문자 4개는 제외)만큼의 워드 벡터를 파일에 기록\n",
    "vectors_birnn = model_birnn.get_weights()[0]\n",
    "for i in range(4, vocab_size):\n",
    "    f.write('{} {}\\n'.format(index_to_word[i], ' '.join(map(str, list(vectors_birnn[i, :])))))\n",
    "f.close()"
   ]
  },
  {
   "cell_type": "code",
   "execution_count": 78,
   "id": "493d95d1",
   "metadata": {},
   "outputs": [],
   "source": [
    "from gensim.models.keyedvectors import Word2VecKeyedVectors\n",
    "\n",
    "word_vectors_birnn = Word2VecKeyedVectors.load_word2vec_format(word2vec_file_path_birnn, binary=False)"
   ]
  },
  {
   "cell_type": "markdown",
   "id": "1096303c",
   "metadata": {},
   "source": [
    "### 유사도 계산"
   ]
  },
  {
   "cell_type": "code",
   "execution_count": 79,
   "id": "ec2c713b",
   "metadata": {},
   "outputs": [
    {
     "data": {
      "text/plain": [
       "[('재미있', 0.8653696775436401),\n",
       " ('지켜보', 0.8385486602783203),\n",
       " ('명작', 0.8361170291900635),\n",
       " ('안젤리나', 0.8300793170928955),\n",
       " ('즐거웠', 0.80290687084198),\n",
       " ('소박', 0.7951110005378723),\n",
       " ('통쾌', 0.7885086536407471),\n",
       " ('흥겨운', 0.7877150774002075),\n",
       " ('백제', 0.7858577370643616),\n",
       " ('화제', 0.783888578414917)]"
      ]
     },
     "execution_count": 79,
     "metadata": {},
     "output_type": "execute_result"
    }
   ],
   "source": [
    "word_vectors_birnn.similar_by_word('재밌')"
   ]
  },
  {
   "cell_type": "markdown",
   "id": "16333cf0",
   "metadata": {},
   "source": [
    "# 한국어 Word2Vec 임베딩 활용하여 성능 개선"
   ]
  },
  {
   "cell_type": "code",
   "execution_count": 80,
   "id": "6efbf3fb",
   "metadata": {},
   "outputs": [
    {
     "name": "stdout",
     "output_type": "stream",
     "text": [
      "Model: \"sequential_6\"\n",
      "_________________________________________________________________\n",
      "Layer (type)                 Output Shape              Param #   \n",
      "=================================================================\n",
      "embedding_6 (Embedding)      (None, 41, 200)           2000000   \n",
      "_________________________________________________________________\n",
      "bidirectional_1 (Bidirection (None, 16)                13376     \n",
      "_________________________________________________________________\n",
      "dense_6 (Dense)              (None, 1)                 17        \n",
      "=================================================================\n",
      "Total params: 2,013,393\n",
      "Trainable params: 2,013,393\n",
      "Non-trainable params: 0\n",
      "_________________________________________________________________\n"
     ]
    }
   ],
   "source": [
    "model_birnn_w = tf.keras.Sequential()\n",
    "model_birnn_w.add(tf.keras.layers.Embedding(vocab_size, word_vector_dim, \n",
    "                                    embeddings_initializer=Constant(embedding_matrix),  \n",
    "                                    input_length=maxlen, trainable=True))\n",
    "model_birnn_w.add(tf.keras.layers.Bidirectional(tf.keras.layers.LSTM(8)))\n",
    "model_birnn_w.add(tf.keras.layers.Dense(1, activation='sigmoid'))\n",
    "\n",
    "model_birnn_w.summary()"
   ]
  },
  {
   "cell_type": "code",
   "execution_count": 81,
   "id": "973ba0e1",
   "metadata": {},
   "outputs": [],
   "source": [
    "model_birnn_w.compile(loss='binary_crossentropy', optimizer='adam', metrics=['accuracy'])"
   ]
  },
  {
   "cell_type": "code",
   "execution_count": 82,
   "id": "744ba986",
   "metadata": {},
   "outputs": [
    {
     "name": "stdout",
     "output_type": "stream",
     "text": [
      "Epoch 1/10\n",
      "229/229 [==============================] - 5s 12ms/step - loss: 0.5688 - accuracy: 0.6966 - val_loss: 0.4660 - val_accuracy: 0.7840\n",
      "Epoch 2/10\n",
      "229/229 [==============================] - 2s 9ms/step - loss: 0.4271 - accuracy: 0.8033 - val_loss: 0.4192 - val_accuracy: 0.8015\n",
      "Epoch 3/10\n",
      "229/229 [==============================] - 2s 10ms/step - loss: 0.3841 - accuracy: 0.8258 - val_loss: 0.4045 - val_accuracy: 0.8099\n",
      "Epoch 4/10\n",
      "229/229 [==============================] - 2s 9ms/step - loss: 0.3641 - accuracy: 0.8358 - val_loss: 0.4028 - val_accuracy: 0.8130\n",
      "Epoch 5/10\n",
      "229/229 [==============================] - 2s 9ms/step - loss: 0.3484 - accuracy: 0.8433 - val_loss: 0.4096 - val_accuracy: 0.8096\n",
      "Epoch 6/10\n",
      "229/229 [==============================] - 2s 9ms/step - loss: 0.3374 - accuracy: 0.8497 - val_loss: 0.4066 - val_accuracy: 0.8154\n",
      "Epoch 7/10\n",
      "229/229 [==============================] - 2s 9ms/step - loss: 0.3267 - accuracy: 0.8541 - val_loss: 0.4112 - val_accuracy: 0.8134\n",
      "Epoch 8/10\n",
      "229/229 [==============================] - 2s 9ms/step - loss: 0.3163 - accuracy: 0.8606 - val_loss: 0.4186 - val_accuracy: 0.8149\n",
      "Epoch 9/10\n",
      "229/229 [==============================] - 2s 9ms/step - loss: 0.3081 - accuracy: 0.8643 - val_loss: 0.4308 - val_accuracy: 0.8110\n",
      "Epoch 10/10\n",
      "229/229 [==============================] - 2s 9ms/step - loss: 0.2988 - accuracy: 0.8689 - val_loss: 0.4323 - val_accuracy: 0.8093\n"
     ]
    },
    {
     "data": {
      "text/plain": [
       "<keras.callbacks.History at 0x7fc7ebcad4c0>"
      ]
     },
     "execution_count": 82,
     "metadata": {},
     "output_type": "execute_result"
    }
   ],
   "source": [
    "epochs = 10\n",
    "\n",
    "model_birnn_w.fit(partial_X_train,\n",
    "                  partial_y_train,\n",
    "                  epochs=epochs,\n",
    "                  batch_size=512,\n",
    "                  validation_data=(X_val,y_val),\n",
    "                  verbose=1)\n"
   ]
  },
  {
   "cell_type": "code",
   "execution_count": 83,
   "id": "e87bbd2a",
   "metadata": {},
   "outputs": [
    {
     "name": "stdout",
     "output_type": "stream",
     "text": [
      "1537/1537 - 4s - loss: 0.4348 - accuracy: 0.8048\n",
      "[0.434822142124176, 0.8048090934753418]\n"
     ]
    }
   ],
   "source": [
    "results_birnn_w = model_birnn_w.evaluate(X_test, y_test, verbose=2)\n",
    "print(results_birnn_w)"
   ]
  },
  {
   "cell_type": "markdown",
   "id": "4f869bc7",
   "metadata": {},
   "source": [
    "한국어 word2vec을 활용했을 때 순방향, 역방향 신경망보다 더 큰 성능 향상이 이루어졌다."
   ]
  },
  {
   "cell_type": "markdown",
   "id": "89f1199f",
   "metadata": {},
   "source": [
    "# 1-D Convolution Neural Network(1-D CNN)\n",
    "- 문장 전체를 한꺼번에 한 방향으로 길이 7짜리 필터로 스캐닝 하면서 7단어 이내에서 발견되는 특징을 추출하여 그것으로 문장을 분류하는 방식\n",
    "- CNN 계열은 RNN 계열보다 병렬처리가 효율적이기 때문에 학습 속도도 훨씬 빠르게 진행"
   ]
  },
  {
   "cell_type": "markdown",
   "id": "4ea339b6",
   "metadata": {},
   "source": [
    "# 모델 설계 및 학습"
   ]
  },
  {
   "cell_type": "code",
   "execution_count": 84,
   "id": "c9928851",
   "metadata": {},
   "outputs": [
    {
     "name": "stdout",
     "output_type": "stream",
     "text": [
      "Model: \"sequential_7\"\n",
      "_________________________________________________________________\n",
      "Layer (type)                 Output Shape              Param #   \n",
      "=================================================================\n",
      "embedding_7 (Embedding)      (None, None, 200)         2000000   \n",
      "_________________________________________________________________\n",
      "conv1d (Conv1D)              (None, None, 16)          22416     \n",
      "_________________________________________________________________\n",
      "max_pooling1d (MaxPooling1D) (None, None, 16)          0         \n",
      "_________________________________________________________________\n",
      "conv1d_1 (Conv1D)            (None, None, 16)          1808      \n",
      "_________________________________________________________________\n",
      "global_max_pooling1d (Global (None, 16)                0         \n",
      "_________________________________________________________________\n",
      "dense_7 (Dense)              (None, 8)                 136       \n",
      "_________________________________________________________________\n",
      "dense_8 (Dense)              (None, 1)                 9         \n",
      "=================================================================\n",
      "Total params: 2,024,369\n",
      "Trainable params: 2,024,369\n",
      "Non-trainable params: 0\n",
      "_________________________________________________________________\n"
     ]
    }
   ],
   "source": [
    "model_cnn = tf.keras.Sequential()\n",
    "model_cnn.add(tf.keras.layers.Embedding(vocab_size, word_vector_dim, input_shape=(None,)))\n",
    "model_cnn.add(tf.keras.layers.Conv1D(16, 7, activation='relu'))\n",
    "model_cnn.add(tf.keras.layers.MaxPooling1D(5))\n",
    "model_cnn.add(tf.keras.layers.Conv1D(16, 7, activation='relu'))\n",
    "model_cnn.add(tf.keras.layers.GlobalMaxPooling1D())\n",
    "model_cnn.add(tf.keras.layers.Dense(8, activation='relu'))\n",
    "model_cnn.add(tf.keras.layers.Dense(1, activation='sigmoid'))  # 최종 출력은 긍정/부정을 나타내는 1dim\n",
    "\n",
    "model_cnn.summary()"
   ]
  },
  {
   "cell_type": "code",
   "execution_count": 85,
   "id": "ab74231d",
   "metadata": {},
   "outputs": [],
   "source": [
    "model_cnn.compile(loss='binary_crossentropy', optimizer='adam', metrics=['accuracy'])"
   ]
  },
  {
   "cell_type": "code",
   "execution_count": 86,
   "id": "6068e85c",
   "metadata": {},
   "outputs": [
    {
     "name": "stdout",
     "output_type": "stream",
     "text": [
      "Epoch 1/10\n",
      "229/229 [==============================] - 14s 8ms/step - loss: 0.4926 - accuracy: 0.7502 - val_loss: 0.3996 - val_accuracy: 0.8124\n",
      "Epoch 2/10\n",
      "229/229 [==============================] - 1s 6ms/step - loss: 0.3728 - accuracy: 0.8296 - val_loss: 0.3940 - val_accuracy: 0.8161\n",
      "Epoch 3/10\n",
      "229/229 [==============================] - 1s 6ms/step - loss: 0.3371 - accuracy: 0.8492 - val_loss: 0.3991 - val_accuracy: 0.8139\n",
      "Epoch 4/10\n",
      "229/229 [==============================] - 1s 6ms/step - loss: 0.2948 - accuracy: 0.8716 - val_loss: 0.4179 - val_accuracy: 0.8131\n",
      "Epoch 5/10\n",
      "229/229 [==============================] - 1s 7ms/step - loss: 0.2421 - accuracy: 0.8992 - val_loss: 0.4549 - val_accuracy: 0.8047\n",
      "Epoch 6/10\n",
      "229/229 [==============================] - 1s 6ms/step - loss: 0.1894 - accuracy: 0.9224 - val_loss: 0.5101 - val_accuracy: 0.7980\n",
      "Epoch 7/10\n",
      "229/229 [==============================] - 1s 6ms/step - loss: 0.1513 - accuracy: 0.9372 - val_loss: 0.5712 - val_accuracy: 0.7913\n",
      "Epoch 8/10\n",
      "229/229 [==============================] - 1s 6ms/step - loss: 0.1223 - accuracy: 0.9495 - val_loss: 0.6399 - val_accuracy: 0.7876\n",
      "Epoch 9/10\n",
      "229/229 [==============================] - 1s 6ms/step - loss: 0.1019 - accuracy: 0.9573 - val_loss: 0.7123 - val_accuracy: 0.7863\n",
      "Epoch 10/10\n",
      "229/229 [==============================] - 1s 6ms/step - loss: 0.0878 - accuracy: 0.9627 - val_loss: 0.7812 - val_accuracy: 0.7830\n"
     ]
    }
   ],
   "source": [
    "epochs = 10\n",
    "\n",
    "history_cnn = model_cnn.fit(partial_X_train,\n",
    "                   partial_y_train,\n",
    "                   epochs=epochs,\n",
    "                   batch_size=512,\n",
    "                   validation_data=(X_val,y_val),\n",
    "                   verbose=1)"
   ]
  },
  {
   "cell_type": "code",
   "execution_count": 87,
   "id": "444966db",
   "metadata": {},
   "outputs": [
    {
     "name": "stdout",
     "output_type": "stream",
     "text": [
      "0.8160828948020935\n"
     ]
    }
   ],
   "source": [
    "print(max(history_cnn.history['val_accuracy']))"
   ]
  },
  {
   "cell_type": "markdown",
   "id": "7a06668a",
   "metadata": {},
   "source": [
    "## Test set 평가"
   ]
  },
  {
   "cell_type": "code",
   "execution_count": 88,
   "id": "4e09f5b0",
   "metadata": {},
   "outputs": [
    {
     "name": "stdout",
     "output_type": "stream",
     "text": [
      "1537/1537 - 3s - loss: 0.7775 - accuracy: 0.7826\n",
      "[0.7775394916534424, 0.7825741767883301]\n"
     ]
    }
   ],
   "source": [
    "results_cnn = model_cnn.evaluate(X_test, y_test, verbose=2)\n",
    "print(results_cnn)"
   ]
  },
  {
   "cell_type": "markdown",
   "id": "1a29ac25",
   "metadata": {},
   "source": [
    "사실 순방향 신경망보다 더 성능이 좋을 것이라고 예상했는데 의외로 제일 낮은 성능을 보였다."
   ]
  },
  {
   "cell_type": "markdown",
   "id": "7cba4c94",
   "metadata": {},
   "source": [
    "## Loss, Accuracy 시각화"
   ]
  },
  {
   "cell_type": "markdown",
   "id": "bb402b9f",
   "metadata": {},
   "source": [
    "## Loss 시각화"
   ]
  },
  {
   "cell_type": "code",
   "execution_count": 89,
   "id": "feb9e2c8",
   "metadata": {},
   "outputs": [
    {
     "data": {
      "image/png": "[encoded data removed]",
      "text/plain": [
       "<Figure size 432x288 with 1 Axes>"
      ]
     },
     "metadata": {
      "needs_background": "light"
     },
     "output_type": "display_data"
    }
   ],
   "source": [
    "history_dict_cnn = history_cnn.history\n",
    "\n",
    "import matplotlib.pyplot as plt\n",
    "\n",
    "acc = history_dict_cnn['accuracy']\n",
    "val_acc = history_dict_cnn['val_accuracy']\n",
    "loss = history_dict_cnn['loss']\n",
    "val_loss = history_dict_cnn['val_loss']\n",
    "\n",
    "epochs = range(1, len(acc) + 1)\n",
    "\n",
    "plt.plot(epochs, loss, 'bo', label = \"Training loss\")\n",
    "                      # 파란색 점\n",
    "plt.plot(epochs, val_loss, 'b', label = \"Validation loss\")\n",
    "                      # 파란 실선\n",
    "plt.title('Training and validation loss')\n",
    "plt.xlabel('Epochs')\n",
    "plt.ylabel('Loss')\n",
    "plt.legend()\n",
    "\n",
    "plt.show()\n",
    "\n",
    "# 3번째 epoch 부터 validation loss 증가 "
   ]
  },
  {
   "cell_type": "markdown",
   "id": "ebfcf0e6",
   "metadata": {},
   "source": [
    "## Accuracy 시각화"
   ]
  },
  {
   "cell_type": "code",
   "execution_count": 90,
   "id": "78d8f888",
   "metadata": {},
   "outputs": [
    {
     "data": {
      "image/png": "[encoded data removed]",
      "text/plain": [
       "<Figure size 432x288 with 1 Axes>"
      ]
     },
     "metadata": {
      "needs_background": "light"
     },
     "output_type": "display_data"
    }
   ],
   "source": [
    "plt.clf()  #그림 초기화\n",
    "\n",
    "plt.plot(epochs, acc, 'bo', label='Training acc')\n",
    "plt.plot(epochs, val_acc, 'b', label='Validation acc')\n",
    "plt.title('Training and validation accuracy')\n",
    "plt.xlabel('Epochs')\n",
    "plt.ylabel('Accuracy')\n",
    "plt.legend()\n",
    "\n",
    "plt.show()"
   ]
  },
  {
   "cell_type": "markdown",
   "id": "c9a754bf",
   "metadata": {},
   "source": [
    "# 학습된 Embedding layer 분석"
   ]
  },
  {
   "cell_type": "code",
   "execution_count": 91,
   "id": "e1d8fd10",
   "metadata": {},
   "outputs": [
    {
     "name": "stdout",
     "output_type": "stream",
     "text": [
      "(10000, 200)\n"
     ]
    }
   ],
   "source": [
    "embedding_layer_cnn = model_cnn.layers[0]\n",
    "weights_cnn = embedding_layer_cnn.get_weights()[0]\n",
    "print(weights_cnn.shape)\n",
    "\n",
    "# shape : (vocab_size, embedding_dim)"
   ]
  },
  {
   "cell_type": "markdown",
   "id": "da37104c",
   "metadata": {},
   "source": [
    "## 학습한 Embedding 파라미터를 파일에 써서 저장"
   ]
  },
  {
   "cell_type": "code",
   "execution_count": 92,
   "id": "013e8ac2",
   "metadata": {},
   "outputs": [],
   "source": [
    "word2vec_file_path_cnn = 'sentiment_classification/nsmc_CNN_parameters.txt'\n",
    "f = open(word2vec_file_path_cnn, 'w')\n",
    "f.write('{} {}\\n'.format(vocab_size-4, word_vector_dim))  #몇 개의 벡터를 얼마 사이즈로 기재할 지 타이틀로 씀\n",
    "\n",
    "#단어 개수(특수문자 4개는 제외)만큼의 워드 벡터를 파일에 기록\n",
    "vectors_cnn = model_cnn.get_weights()[0]\n",
    "for i in range(4, vocab_size):\n",
    "    f.write('{} {}\\n'.format(index_to_word[i], ' '.join(map(str, list(vectors_cnn[i, :])))))\n",
    "f.close()"
   ]
  },
  {
   "cell_type": "code",
   "execution_count": 102,
   "id": "1cb00d24",
   "metadata": {},
   "outputs": [],
   "source": [
    "from gensim.models.keyedvectors import Word2VecKeyedVectors\n",
    "\n",
    "word_vectors_cnn = Word2VecKeyedVectors.load_word2vec_format(word2vec_file_path_cnn, binary=False)\n",
    "#word_vectors에 원하는 단어를 넣으면 vector값 반환"
   ]
  },
  {
   "cell_type": "markdown",
   "id": "4d052761",
   "metadata": {},
   "source": [
    "### 유사도 계산"
   ]
  },
  {
   "cell_type": "code",
   "execution_count": 94,
   "id": "8df55f82",
   "metadata": {},
   "outputs": [
    {
     "data": {
      "text/plain": [
       "[('담백', 0.6889824867248535),\n",
       " ('풍성', 0.6686931848526001),\n",
       " ('울림', 0.6608976125717163),\n",
       " ('냉혹', 0.6582479476928711),\n",
       " ('반함', 0.6569149494171143),\n",
       " ('보냅니다', 0.6552538871765137),\n",
       " ('진진', 0.654952883720398),\n",
       " ('흥미진진', 0.6530666947364807),\n",
       " ('비범', 0.6507084965705872),\n",
       " ('나위', 0.6478226184844971)]"
      ]
     },
     "execution_count": 94,
     "metadata": {},
     "output_type": "execute_result"
    }
   ],
   "source": [
    "word_vectors_cnn.similar_by_word('재밌')"
   ]
  },
  {
   "cell_type": "markdown",
   "id": "6a022565",
   "metadata": {},
   "source": [
    "# 한국어 Word2Vec 임베딩 활용하여 성능 개선"
   ]
  },
  {
   "cell_type": "code",
   "execution_count": 95,
   "id": "7b5314d7",
   "metadata": {},
   "outputs": [
    {
     "name": "stdout",
     "output_type": "stream",
     "text": [
      "Model: \"sequential_8\"\n",
      "_________________________________________________________________\n",
      "Layer (type)                 Output Shape              Param #   \n",
      "=================================================================\n",
      "embedding_8 (Embedding)      (None, 41, 200)           2000000   \n",
      "_________________________________________________________________\n",
      "conv1d_2 (Conv1D)            (None, 35, 16)            22416     \n",
      "_________________________________________________________________\n",
      "max_pooling1d_1 (MaxPooling1 (None, 7, 16)             0         \n",
      "_________________________________________________________________\n",
      "conv1d_3 (Conv1D)            (None, 1, 16)             1808      \n",
      "_________________________________________________________________\n",
      "global_max_pooling1d_1 (Glob (None, 16)                0         \n",
      "_________________________________________________________________\n",
      "dense_9 (Dense)              (None, 8)                 136       \n",
      "_________________________________________________________________\n",
      "dense_10 (Dense)             (None, 1)                 9         \n",
      "=================================================================\n",
      "Total params: 2,024,369\n",
      "Trainable params: 2,024,369\n",
      "Non-trainable params: 0\n",
      "_________________________________________________________________\n"
     ]
    }
   ],
   "source": [
    "model_cnn_w = tf.keras.Sequential()\n",
    "model_cnn_w.add(tf.keras.layers.Embedding(vocab_size, word_vector_dim, \n",
    "                                    embeddings_initializer=Constant(embedding_matrix),  # 카피한 임베딩을 여기서 활용\n",
    "                                    input_length=maxlen, trainable=True))\n",
    "model_cnn_w.add(tf.keras.layers.Conv1D(16, 7, activation='relu'))\n",
    "model_cnn_w.add(tf.keras.layers.MaxPooling1D(5))\n",
    "model_cnn_w.add(tf.keras.layers.Conv1D(16, 7, activation='relu'))\n",
    "model_cnn_w.add(tf.keras.layers.GlobalMaxPooling1D())\n",
    "model_cnn_w.add(tf.keras.layers.Dense(8, activation='relu'))\n",
    "model_cnn_w.add(tf.keras.layers.Dense(1, activation='sigmoid'))  # 최종 출력은 긍정/부정을 나타내는 1dim\n",
    "\n",
    "model_cnn_w.summary()"
   ]
  },
  {
   "cell_type": "code",
   "execution_count": 96,
   "id": "1723b25c",
   "metadata": {},
   "outputs": [],
   "source": [
    "model_cnn_w.compile(loss='binary_crossentropy', optimizer='adam', metrics=['accuracy'])"
   ]
  },
  {
   "cell_type": "code",
   "execution_count": 97,
   "id": "39ee4fa4",
   "metadata": {},
   "outputs": [
    {
     "name": "stdout",
     "output_type": "stream",
     "text": [
      "Epoch 1/10\n",
      "229/229 [==============================] - 2s 7ms/step - loss: 0.0787 - accuracy: 0.9651 - val_loss: 0.8359 - val_accuracy: 0.7807\n",
      "Epoch 2/10\n",
      "229/229 [==============================] - 1s 6ms/step - loss: 0.0715 - accuracy: 0.9681 - val_loss: 0.9092 - val_accuracy: 0.7815\n",
      "Epoch 3/10\n",
      "229/229 [==============================] - 1s 6ms/step - loss: 0.0661 - accuracy: 0.9697 - val_loss: 0.9694 - val_accuracy: 0.7780\n",
      "Epoch 4/10\n",
      "229/229 [==============================] - 1s 7ms/step - loss: 0.0626 - accuracy: 0.9714 - val_loss: 0.9871 - val_accuracy: 0.7754\n",
      "Epoch 5/10\n",
      "229/229 [==============================] - 1s 6ms/step - loss: 0.0593 - accuracy: 0.9718 - val_loss: 1.0294 - val_accuracy: 0.7754\n",
      "Epoch 6/10\n",
      "229/229 [==============================] - 1s 6ms/step - loss: 0.0569 - accuracy: 0.9732 - val_loss: 1.0616 - val_accuracy: 0.7784\n",
      "Epoch 7/10\n",
      "229/229 [==============================] - 1s 6ms/step - loss: 0.0549 - accuracy: 0.9738 - val_loss: 1.1186 - val_accuracy: 0.7754\n",
      "Epoch 8/10\n",
      "229/229 [==============================] - 2s 7ms/step - loss: 0.0518 - accuracy: 0.9747 - val_loss: 1.1672 - val_accuracy: 0.7734\n",
      "Epoch 9/10\n",
      "229/229 [==============================] - 1s 7ms/step - loss: 0.0503 - accuracy: 0.9755 - val_loss: 1.1997 - val_accuracy: 0.7748\n",
      "Epoch 10/10\n",
      "229/229 [==============================] - 2s 7ms/step - loss: 0.0497 - accuracy: 0.9753 - val_loss: 1.2456 - val_accuracy: 0.7759\n"
     ]
    },
    {
     "data": {
      "text/plain": [
       "<keras.callbacks.History at 0x7fc7ea9213a0>"
      ]
     },
     "execution_count": 97,
     "metadata": {},
     "output_type": "execute_result"
    }
   ],
   "source": [
    "epochs = 10\n",
    "\n",
    "model_cnn.fit(partial_X_train,\n",
    "              partial_y_train,\n",
    "              epochs=epochs,\n",
    "              batch_size=512,\n",
    "              validation_data=(X_val,y_val),\n",
    "              verbose=1)"
   ]
  },
  {
   "cell_type": "code",
   "execution_count": 98,
   "id": "10ba8586",
   "metadata": {},
   "outputs": [
    {
     "name": "stdout",
     "output_type": "stream",
     "text": [
      "1537/1537 [==============================] - 3s 2ms/step - loss: 0.8173 - accuracy: 0.4971\n",
      "[0.8172841668128967, 0.4970604479312897]\n"
     ]
    }
   ],
   "source": [
    "results_cnn_w = model_cnn_w.evaluate(X_test, y_test, verbose=1)\n",
    "print(results_cnn_w)"
   ]
  },
  {
   "cell_type": "markdown",
   "id": "256eb086",
   "metadata": {},
   "source": [
    "accuracy와 loss의 순서가 바뀐 줄 알았다.\n",
    "\n",
    "위의 세 모델(순방향, 역방향, 양방향 신경망)은 word2vec을 사용했을 때 성능의 변화가 아주 소소했는데\n",
    "\n",
    "너무 큰 폭으로 저하되었다."
   ]
  },
  {
   "cell_type": "markdown",
   "id": "c4fae49f",
   "metadata": {},
   "source": [
    "# 회고"
   ]
  },
  {
   "cell_type": "markdown",
   "id": "cba325ba",
   "metadata": {},
   "source": [
    "## 시도"
   ]
  },
  {
   "cell_type": "markdown",
   "id": "5b9853cb",
   "metadata": {},
   "source": [
    "1)\n",
    "\n",
    "예시코드에 나와있던 load_data 함수를 실행했을 때, \n",
    "\n",
    "word_to_index에 특수문자와 의미를 파악하기 힘든 길이 1의 글자들이 많이 존재하는 것을 확인했다. \n",
    "\n",
    "이를 보정하기 위해, **정규표현식을 사용하여 특수문자와 단순 자음, 모음을 삭제하는 함수**를 만들어 words에 적용했고, \n",
    "\n",
    "for문을 사용해 **2글자 이상의 토큰만 취급**하는 words_list를 생성하였다."
   ]
  },
  {
   "cell_type": "markdown",
   "id": "4c059c43",
   "metadata": {},
   "source": [
    "2)\n",
    "\n",
    "LMS에서 진행한 신경망 외에 양방향 신경망과 역방향 신경망을 추가해서 학습을 진행했다.\n",
    "\n",
    "특별히 성능이 탁월한 모델은 없었다. \n",
    "\n",
    "다양한 모델을 사용해보았다는 것에 의미를 두려 한다."
   ]
  },
  {
   "cell_type": "markdown",
   "id": "b0d85cbc",
   "metadata": {},
   "source": [
    "## 궁금한 점 "
   ]
  },
  {
   "cell_type": "markdown",
   "id": "290fdb3f",
   "metadata": {},
   "source": [
    "1)\n",
    "\n",
    "보정하기 전의 word_to_index 의 첫 번째 값은 공백도 아닌 '' 값이다.\n",
    "\n",
    "왜 생성되었는지, 왜 정규표현식(\\s)에 의해서 삭제되지 않았는 지 궁금하다. "
   ]
  },
  {
   "cell_type": "markdown",
   "id": "9adfbb0b",
   "metadata": {},
   "source": [
    "2)\n",
    "\n",
    "한국어 워드임베딩을 CNN에 적용했을 때 급격한 성능 저하가 일어났다.\n",
    "\n",
    "처음엔 코드가 잘못된 줄 알고 계속 뜯어 보았는데 그렇지 않았다.\n",
    "\n",
    "왜 이런 성능이 도출되었는 지 궁금하다."
   ]
  },
  {
   "cell_type": "markdown",
   "id": "acb96ffe",
   "metadata": {},
   "source": [
    "3) \n",
    "\n",
    "konlpy외에도 형태소 분석을 함에 있어 kiwi나 stanza라는 모듈이 있다고 알고 있다.\n",
    "\n",
    "추후에 감성분석나 자연어 분석 프로젝트를 하게 되면 다른 모듈들 또한 활용해보고 싶다."
   ]
  },
  {
   "cell_type": "code",
   "execution_count": null,
   "id": "aa537392",
   "metadata": {},
   "outputs": [],
   "source": []
  }
 ],
 "metadata": {
  "kernelspec": {
   "display_name": "Python 3 (ipykernel)",
   "language": "python",
   "name": "python3"
  },
  "language_info": {
   "codemirror_mode": {
    "name": "ipython",
    "version": 3
   },
   "file_extension": ".py",
   "mimetype": "text/x-python",
   "name": "python",
   "nbconvert_exporter": "python",
   "pygments_lexer": "ipython3",
   "version": "3.9.7"
  }
 },
 "nbformat": 4,
 "nbformat_minor": 5
}
