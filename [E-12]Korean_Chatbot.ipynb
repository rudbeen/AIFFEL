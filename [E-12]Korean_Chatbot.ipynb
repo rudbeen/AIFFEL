{
 "cells": [
  {
   "cell_type": "markdown",
   "id": "ff42d748",
   "metadata": {},
   "source": [
    "# 필요한 모듈 불러오기"
   ]
  },
  {
   "cell_type": "code",
   "execution_count": 1,
   "id": "11f70c41",
   "metadata": {},
   "outputs": [],
   "source": [
    "import numpy as np\n",
    "import pandas as pd\n",
    "import tensorflow as tf\n",
    "import os\n",
    "import re\n",
    "import matplotlib.pyplot as plt"
   ]
  },
  {
   "cell_type": "markdown",
   "id": "d0bbd742",
   "metadata": {},
   "source": [
    "# 데이터 불러오기"
   ]
  },
  {
   "cell_type": "code",
   "execution_count": 2,
   "id": "02eeffd8",
   "metadata": {},
   "outputs": [],
   "source": [
    "file_path = os.getenv('HOME') + '/aiffel/songys_chatbot/ChatbotData.csv'\n",
    "cd = pd.read_csv(file_path)"
   ]
  },
  {
   "cell_type": "code",
   "execution_count": 3,
   "id": "9a9a12e9",
   "metadata": {},
   "outputs": [
    {
     "data": {
      "text/html": [
       "<div>\n",
       "<style scoped>\n",
       "    .dataframe tbody tr th:only-of-type {\n",
       "        vertical-align: middle;\n",
       "    }\n",
       "\n",
       "    .dataframe tbody tr th {\n",
       "        vertical-align: top;\n",
       "    }\n",
       "\n",
       "    .dataframe thead th {\n",
       "        text-align: right;\n",
       "    }\n",
       "</style>\n",
       "<table border=\"1\" class=\"dataframe\">\n",
       "  <thead>\n",
       "    <tr style=\"text-align: right;\">\n",
       "      <th></th>\n",
       "      <th>Q</th>\n",
       "      <th>A</th>\n",
       "      <th>label</th>\n",
       "    </tr>\n",
       "  </thead>\n",
       "  <tbody>\n",
       "    <tr>\n",
       "      <th>0</th>\n",
       "      <td>12시 땡!</td>\n",
       "      <td>하루가 또 가네요.</td>\n",
       "      <td>0</td>\n",
       "    </tr>\n",
       "    <tr>\n",
       "      <th>1</th>\n",
       "      <td>1지망 학교 떨어졌어</td>\n",
       "      <td>위로해 드립니다.</td>\n",
       "      <td>0</td>\n",
       "    </tr>\n",
       "    <tr>\n",
       "      <th>2</th>\n",
       "      <td>3박4일 놀러가고 싶다</td>\n",
       "      <td>여행은 언제나 좋죠.</td>\n",
       "      <td>0</td>\n",
       "    </tr>\n",
       "    <tr>\n",
       "      <th>3</th>\n",
       "      <td>3박4일 정도 놀러가고 싶다</td>\n",
       "      <td>여행은 언제나 좋죠.</td>\n",
       "      <td>0</td>\n",
       "    </tr>\n",
       "    <tr>\n",
       "      <th>4</th>\n",
       "      <td>PPL 심하네</td>\n",
       "      <td>눈살이 찌푸려지죠.</td>\n",
       "      <td>0</td>\n",
       "    </tr>\n",
       "    <tr>\n",
       "      <th>...</th>\n",
       "      <td>...</td>\n",
       "      <td>...</td>\n",
       "      <td>...</td>\n",
       "    </tr>\n",
       "    <tr>\n",
       "      <th>11818</th>\n",
       "      <td>훔쳐보는 것도 눈치 보임.</td>\n",
       "      <td>티가 나니까 눈치가 보이는 거죠!</td>\n",
       "      <td>2</td>\n",
       "    </tr>\n",
       "    <tr>\n",
       "      <th>11819</th>\n",
       "      <td>훔쳐보는 것도 눈치 보임.</td>\n",
       "      <td>훔쳐보는 거 티나나봐요.</td>\n",
       "      <td>2</td>\n",
       "    </tr>\n",
       "    <tr>\n",
       "      <th>11820</th>\n",
       "      <td>흑기사 해주는 짝남.</td>\n",
       "      <td>설렜겠어요.</td>\n",
       "      <td>2</td>\n",
       "    </tr>\n",
       "    <tr>\n",
       "      <th>11821</th>\n",
       "      <td>힘든 연애 좋은 연애라는게 무슨 차이일까?</td>\n",
       "      <td>잘 헤어질 수 있는 사이 여부인 거 같아요.</td>\n",
       "      <td>2</td>\n",
       "    </tr>\n",
       "    <tr>\n",
       "      <th>11822</th>\n",
       "      <td>힘들어서 결혼할까봐</td>\n",
       "      <td>도피성 결혼은 하지 않길 바라요.</td>\n",
       "      <td>2</td>\n",
       "    </tr>\n",
       "  </tbody>\n",
       "</table>\n",
       "<p>11823 rows × 3 columns</p>\n",
       "</div>"
      ],
      "text/plain": [
       "                             Q                         A  label\n",
       "0                       12시 땡!                하루가 또 가네요.      0\n",
       "1                  1지망 학교 떨어졌어                 위로해 드립니다.      0\n",
       "2                 3박4일 놀러가고 싶다               여행은 언제나 좋죠.      0\n",
       "3              3박4일 정도 놀러가고 싶다               여행은 언제나 좋죠.      0\n",
       "4                      PPL 심하네                눈살이 찌푸려지죠.      0\n",
       "...                        ...                       ...    ...\n",
       "11818           훔쳐보는 것도 눈치 보임.        티가 나니까 눈치가 보이는 거죠!      2\n",
       "11819           훔쳐보는 것도 눈치 보임.             훔쳐보는 거 티나나봐요.      2\n",
       "11820              흑기사 해주는 짝남.                    설렜겠어요.      2\n",
       "11821  힘든 연애 좋은 연애라는게 무슨 차이일까?  잘 헤어질 수 있는 사이 여부인 거 같아요.      2\n",
       "11822               힘들어서 결혼할까봐        도피성 결혼은 하지 않길 바라요.      2\n",
       "\n",
       "[11823 rows x 3 columns]"
      ]
     },
     "execution_count": 3,
     "metadata": {},
     "output_type": "execute_result"
    }
   ],
   "source": [
    "cd"
   ]
  },
  {
   "cell_type": "markdown",
   "id": "1ee2fca8",
   "metadata": {},
   "source": [
    "# 트랜스포머에 필요한 함수 정의"
   ]
  },
  {
   "cell_type": "markdown",
   "id": "ce09cd27",
   "metadata": {},
   "source": [
    "## 포지셔널 인코딩"
   ]
  },
  {
   "attachments": {
    "image.png": {
     "image/png": "[encoded data removed]"
    }
   },
   "cell_type": "markdown",
   "id": "875e1f0d",
   "metadata": {},
   "source": [
    "![image.png](attachment:image.png)"
   ]
  },
  {
   "cell_type": "markdown",
   "id": "d25e8fc6",
   "metadata": {},
   "source": [
    "트랜스포머는 입력을 받을 때, 문장에 있는 단어들을 1개씩 순차적으로 받는 것이 아니라, 문장에 있는 모든 단어를 한꺼번에 입력으로 받기 때문에\n",
    "\n",
    "문장에 있는 모든 단어를 한꺼번에 문장 단위로 입력받는 트랜스포머는 자칫 'I ate lunch'와 'lunch ate I'를 구분할 수 없을지도 모름\n",
    "\n",
    "그래서 같은 단어라도 그 단어가 문장의 몇 번째 어순으로 입력되었는지를 모델에 추가로 알려 주기 위해, \n",
    "\n",
    "단어의 임베딩 벡터에다가 위치 정보를 가진 벡터(Positional Encoding) 값을 더해서 모델에 입력"
   ]
  },
  {
   "attachments": {
    "image.png": {
     "image/png": "[encoded data removed]"
    }
   },
   "cell_type": "markdown",
   "id": "9e637cdf",
   "metadata": {},
   "source": [
    "![image.png](attachment:image.png)"
   ]
  },
  {
   "cell_type": "markdown",
   "id": "fda4fd71",
   "metadata": {},
   "source": [
    "$d_{model}$은 임베딩 벡터의 차원을 의미하고 있고, $pos$는 입력 문장에서의 임베딩 벡터의 위치를 나타내며, \n",
    "\n",
    "$i$는 임베딩 벡터 내의 차원의 인덱스를 의미\n",
    "\n",
    "이렇게 임베딩 행렬과 포지셔널 행렬이라는 두 행렬을 더함으로써 각 단어 벡터에 위치 정보를 더해주게 되는 것"
   ]
  },
  {
   "cell_type": "code",
   "execution_count": 4,
   "id": "55c842d0",
   "metadata": {},
   "outputs": [],
   "source": [
    "class PositionalEncoding(tf.keras.layers.Layer):\n",
    "    \n",
    "    def __init__(self, position, d_model):\n",
    "        super(PositionalEncoding, self).__init__()\n",
    "        self.pos_encoding = self.positional_encoding(position, d_model)\n",
    "        \n",
    "    def get_angles(self, position, i, d_model):\n",
    "        angles = 1 / tf.pow(10000, (2 * (i // 2)) / tf.cast(d_model, tf.float32))\n",
    "        return position * angles\n",
    "        \n",
    "    def positional_encoding(self, position, d_model):\n",
    "        #각도 배열 생성\n",
    "        angle_rads = self.get_angles(\n",
    "            position=tf.range(position, dtype=tf.float32)[:, tf.newaxis],\n",
    "            i=tf.range(d_model, dtype=tf.float32)[tf.newaxis, :],\n",
    "            d_model=d_model)\n",
    "        \n",
    "        #배열의 짝수 인덱스에는 sin 함수 적용\n",
    "        sines = tf.math.sin(angle_rads[:, 0::2])\n",
    "        #배열의 홀수 인덱스에는 cos 함수 적용\n",
    "        cosines = tf.math.cos(angle_rads[:, 1::2])\n",
    "        \n",
    "        #sin과 cosine이 교차되도록 재배열\n",
    "        pos_encoding = tf.stack([sines, cosines], axis=0)\n",
    "        pos_encoding = tf.transpose(pos_encoding, [1, 2, 0])\n",
    "        pos_encoding = tf.reshape(pos_encoding, [position, d_model])\n",
    "\n",
    "        pos_encoding = pos_encoding[tf.newaxis, ...]\n",
    "        return tf.cast(pos_encoding, tf.float32)\n",
    "\n",
    "    def call(self, inputs):\n",
    "        return inputs + self.pos_encoding[:, :tf.shape(inputs)[1], :]"
   ]
  },
  {
   "cell_type": "markdown",
   "id": "f6373285",
   "metadata": {},
   "source": [
    "## 스케일드 닷 프로덕트 어텐션 함수\n",
    "-  **내적(dot product)**을 통해 단어 벡터 간 **유사도**를 구한 후에, **특정 값을 분모로 나눠주는 방식**으로 Q와 K의 유사도를 구함\n",
    "\n",
    "$Attention(Q,K,V)=softmax(QK^T / √d_k)V$\n",
    "\n",
    "\n",
    "1. Q, K, V는 단어 벡터를 행으로 하는 문장 행렬이다.\n",
    "\n",
    "\n",
    "2. 벡터의 내적(dot product)은 벡터의 유사도를 의미한다.\n",
    "\n",
    "\n",
    "3. 특정 값을 분모로 사용하는 것은 값의 크기를 조절하는 스케일링(Scaling)을 위함이다."
   ]
  },
  {
   "attachments": {
    "image.png": {
     "image/png": "[encoded data removed]"
    }
   },
   "cell_type": "markdown",
   "id": "427a01bd",
   "metadata": {},
   "source": [
    "![image.png](attachment:image.png)"
   ]
  },
  {
   "cell_type": "markdown",
   "id": "8303de53",
   "metadata": {},
   "source": [
    "예를 들어 'am' 행과 'student' 열의 값은 \n",
    "\n",
    "Q 행렬에 있던 'am' 벡터와 \n",
    "\n",
    "K 행렬에 있던 'student 벡터'의 내적값을 의미"
   ]
  },
  {
   "attachments": {
    "image.png": {
     "image/png": "[encoded data removed]"
    }
   },
   "cell_type": "markdown",
   "id": "11f99e95",
   "metadata": {},
   "source": [
    "![image.png](attachment:image.png)"
   ]
  },
  {
   "cell_type": "markdown",
   "id": "6c0b7ab9",
   "metadata": {},
   "source": [
    "이 유사도 값을 스케일링 해주기 위해서 행렬 전체를 특정 값($(root(d_k)$)으로 나눠주고, \n",
    "\n",
    "유사도를 0과 1사이의 값으로 Normalize해주기 위해서 소프트맥스 함수를 사용\n",
    "\n",
    "여기까지가 Q와 K의 유사도를 구하는 과정\n",
    "\n",
    "여기에 문장 행렬 V와 곱하면 어텐션 값(Attention Value) 를 얻음"
   ]
  },
  {
   "cell_type": "code",
   "execution_count": 5,
   "id": "bce66385",
   "metadata": {},
   "outputs": [],
   "source": [
    "def scaled_dot_product_attention(query, key, value, mask):\n",
    "    # 어텐션 가중치는 Q와 K의 닷 프로덕트\n",
    "    matmul_qk = tf.matmul(query, key, transpose_b=True)\n",
    "\n",
    "    # 가중치를 정규화\n",
    "    depth = tf.cast(tf.shape(key)[-1], tf.float32)\n",
    "    logits = matmul_qk / tf.math.sqrt(depth)\n",
    "\n",
    "    # 패딩에 마스크 추가\n",
    "    if mask is not None:\n",
    "        logits += (mask * -1e9)\n",
    "\n",
    "    # softmax적용\n",
    "    attention_weights = tf.nn.softmax(logits, axis=-1)\n",
    "\n",
    "    # 최종 어텐션은 가중치와 V의 닷 프로덕트\n",
    "    output = tf.matmul(attention_weights, value)\n",
    "    return output\n"
   ]
  },
  {
   "cell_type": "markdown",
   "id": "ecb41212",
   "metadata": {},
   "source": [
    "## 병렬로 어텐션 수행하기"
   ]
  },
  {
   "cell_type": "markdown",
   "id": "11d891c6",
   "metadata": {},
   "source": [
    "### 멀티-헤드 어텐션"
   ]
  },
  {
   "cell_type": "code",
   "execution_count": 6,
   "id": "0e7ac60d",
   "metadata": {},
   "outputs": [],
   "source": [
    "class MultiHeadAttention(tf.keras.layers.Layer):\n",
    "\n",
    "    def __init__(self, d_model, num_heads, name=\"multi_head_attention\"):\n",
    "        super(MultiHeadAttention, self).__init__(name=name)\n",
    "        self.num_heads = num_heads\n",
    "        self.d_model = d_model\n",
    "\n",
    "        assert d_model % self.num_heads == 0\n",
    "\n",
    "        self.depth = d_model // self.num_heads\n",
    "\n",
    "        self.query_dense = tf.keras.layers.Dense(units=d_model)\n",
    "        self.key_dense = tf.keras.layers.Dense(units=d_model)\n",
    "        self.value_dense = tf.keras.layers.Dense(units=d_model)\n",
    "\n",
    "        self.dense = tf.keras.layers.Dense(units=d_model)\n",
    "\n",
    "    def split_heads(self, inputs, batch_size):\n",
    "        inputs = tf.reshape(\n",
    "            inputs, shape=(batch_size, -1, self.num_heads, self.depth))\n",
    "        return tf.transpose(inputs, perm=[0, 2, 1, 3])\n",
    "\n",
    "    def call(self, inputs):\n",
    "        query, key, value, mask = inputs['query'], inputs['key'], inputs[\n",
    "            'value'], inputs['mask']\n",
    "        batch_size = tf.shape(query)[0]\n",
    "\n",
    "        # Q, K, V에 각각 Dense를 적용\n",
    "        query = self.query_dense(query)\n",
    "        key = self.key_dense(key)\n",
    "        value = self.value_dense(value)\n",
    "\n",
    "        # 병렬 연산을 위한 머리를 여러 개 생성\n",
    "        query = self.split_heads(query, batch_size)\n",
    "        key = self.split_heads(key, batch_size)\n",
    "        value = self.split_heads(value, batch_size)\n",
    "\n",
    "        # 스케일드 닷 프로덕트 어텐션 함수\n",
    "        scaled_attention = scaled_dot_product_attention(query, key, value, mask)\n",
    "\n",
    "        scaled_attention = tf.transpose(scaled_attention, perm=[0, 2, 1, 3])\n",
    "\n",
    "        # 어텐션 연산 후에 각 결과를 다시 연결(concatenate)\n",
    "        concat_attention = tf.reshape(scaled_attention,\n",
    "                                  (batch_size, -1, self.d_model))\n",
    "\n",
    "        # 최종 결과에도 Dense를 한 번 더 적용\n",
    "        outputs = self.dense(concat_attention)\n",
    "\n",
    "        return outputs"
   ]
  },
  {
   "cell_type": "markdown",
   "id": "0e6aa550",
   "metadata": {},
   "source": [
    "## 마스킹"
   ]
  },
  {
   "cell_type": "markdown",
   "id": "5ef0bf42",
   "metadata": {},
   "source": [
    "### 패딩 마스킹\n",
    "- 패딩 토큰(Padding token)을 이용한 방법\n",
    "\n",
    "- 사실 이렇게 주어진 숫자 0은 실제 의미가 있는 단어가 아니므로 실제 어텐션 등과 같은 연산에서는 제외\n",
    "\n",
    "- 패딩 마스킹은 이를 위해 숫자 0인 위치를 체크"
   ]
  },
  {
   "cell_type": "markdown",
   "id": "2c708870",
   "metadata": {},
   "source": [
    "- 패딩(Padding)\n",
    "\n",
    "패딩은 문장의 길이가 서로 다를 때, 모든 문장의 길이를 동일하게 해주는 과정에서 \n",
    "\n",
    "정해준 길이보다 짧은 문장의 경우에는 숫자 0을 채워서 문장의 길이를 맞춰주는 자연어 처리 전처리 방법"
   ]
  },
  {
   "cell_type": "code",
   "execution_count": 7,
   "id": "0dde6bee",
   "metadata": {},
   "outputs": [],
   "source": [
    "def create_padding_mask(x):\n",
    "    mask = tf.cast(tf.math.equal(x, 0), tf.float32)\n",
    "    # (batch_size, 1, 1, sequence length)\n",
    "    return mask[:, tf.newaxis, tf.newaxis, :]\n",
    "\n",
    "#이 함수에 정수 시퀀스를 입력으로 하면, 이 함수는 숫자가 0인 부분을 체크한 벡터를 리턴"
   ]
  },
  {
   "cell_type": "code",
   "execution_count": 8,
   "id": "7c8096bb",
   "metadata": {},
   "outputs": [
    {
     "name": "stdout",
     "output_type": "stream",
     "text": [
      "tf.Tensor(\n",
      "[[[[0. 0. 1. 0. 1.]]]\n",
      "\n",
      "\n",
      " [[[1. 1. 1. 0. 0.]]]], shape=(2, 1, 1, 5), dtype=float32)\n"
     ]
    }
   ],
   "source": [
    "#예시\n",
    "print(create_padding_mask(tf.constant([[1, 2, 0, 3, 0], [0, 0, 0, 4, 5]])))\n",
    "\n",
    "#숫자가 0인 위치에서만 숫자 1이 나오고 숫자 0이 아닌 위치에서는 숫자 0인 벡터를 출력"
   ]
  },
  {
   "cell_type": "markdown",
   "id": "c90e9998",
   "metadata": {},
   "source": [
    "### 룩 어헤드 마스킹(다음 단어 가리기)\n",
    "- 어텐션을 수행할 때, Query 단어 뒤에 나오는 Key 단어들에 대해서는 마스킹\n",
    "\n",
    "RNN은 step이라는 개념이 존재해서 각 **step마다 단어가 순서대로** 입력으로 들어가는 구조인 반면 \n",
    "\n",
    "트랜스포머의 경우에는 문장 행렬을 만들어 **한 번에 행렬 형태**로 입력으로 들어감\n",
    "\n",
    "그리고 이 특징 때문에 추가적인 마스킹(Masking) 을 필요"
   ]
  },
  {
   "attachments": {
    "image.png": {
     "image/png": "[encoded data removed]"
    }
   },
   "cell_type": "markdown",
   "id": "73d8d1c3",
   "metadata": {},
   "source": [
    "![image.png](attachment:image.png)"
   ]
  },
  {
   "cell_type": "markdown",
   "id": "5c5fc7e6",
   "metadata": {},
   "source": [
    "행을 Query, 열을 Key로 표현된 행렬\n",
    "\n",
    "빨간색으로 색칠된 부분은 마스킹을 표현\n",
    "\n",
    "실제 어텐션 연산에서 가리는 역할을 하여 어텐션 연산 시에 현재 단어를 기준으로 이전 단어들하고만 유사도를 구할 수 있음\n",
    "\n",
    "예를 들어 Query 단어가 '찾고'라고 한다면, \n",
    "\n",
    "이 '찾고'라는 행에는 <s, 나는, 행복을, 찾고> 까지의 열만 보이고 \n",
    "    \n",
    "그 뒤 열은 아예 빨간색으로 칠해져 있음. \n",
    "    \n",
    "즉, 유사도를 구할 수 없도록 해놓음"
   ]
  },
  {
   "cell_type": "code",
   "execution_count": 9,
   "id": "aba2a4c8",
   "metadata": {},
   "outputs": [],
   "source": [
    "def create_look_ahead_mask(x):\n",
    "    seq_len = tf.shape(x)[1]  #행의 길이\n",
    "    look_ahead_mask = 1 - tf.linalg.band_part(tf.ones((seq_len, seq_len)), -1, 0)\n",
    "    padding_mask = create_padding_mask(x)\n",
    "    return tf.maximum(look_ahead_mask, padding_mask)"
   ]
  },
  {
   "cell_type": "code",
   "execution_count": 10,
   "id": "6b831b1d",
   "metadata": {},
   "outputs": [
    {
     "name": "stdout",
     "output_type": "stream",
     "text": [
      "tf.Tensor(\n",
      "[[[[0. 1. 1. 1. 1.]\n",
      "   [0. 0. 1. 1. 1.]\n",
      "   [0. 0. 0. 1. 1.]\n",
      "   [0. 0. 0. 0. 1.]\n",
      "   [0. 0. 0. 0. 0.]]]], shape=(1, 1, 5, 5), dtype=float32)\n"
     ]
    }
   ],
   "source": [
    "print(create_look_ahead_mask(tf.constant([[1, 2, 3, 4, 5]])))\n",
    "# 대각선의 형태로 숫자 1이 채워지는 것을 볼 수 있습니다. \n",
    "# 이 마스킹과 패딩 마스킹은 별개이므로, 이 마스킹을 수행할 때 만약에 숫자 0인 단어가 있다면 이 또한 패딩 해야 함"
   ]
  },
  {
   "cell_type": "code",
   "execution_count": 11,
   "id": "ba21d211",
   "metadata": {},
   "outputs": [
    {
     "name": "stdout",
     "output_type": "stream",
     "text": [
      "tf.Tensor(\n",
      "[[[[1. 1. 1. 1. 1.]\n",
      "   [1. 0. 1. 1. 1.]\n",
      "   [1. 0. 0. 1. 1.]\n",
      "   [1. 0. 0. 0. 1.]\n",
      "   [1. 0. 0. 0. 0.]]]], shape=(1, 1, 5, 5), dtype=float32)\n"
     ]
    }
   ],
   "source": [
    "#숫자 0인 단어가 있을 경우\n",
    "print(create_look_ahead_mask(tf.constant([[0, 5, 1, 5, 5]])))"
   ]
  },
  {
   "cell_type": "markdown",
   "id": "9628585e",
   "metadata": {},
   "source": [
    "## 인코더\n",
    "- 셀프 어텐션 + 피드 포워드 신경망\n",
    "- 셀프 어텐션은 멀티 헤드 어텐션으로 이루어져 있음"
   ]
  },
  {
   "cell_type": "code",
   "execution_count": 12,
   "id": "aee1dfd2",
   "metadata": {},
   "outputs": [],
   "source": [
    "# 인코더 하나의 레이어를 함수로 구현.\n",
    "# 이 하나의 레이어 안에는 두 개의 서브 레이어가 존재\n",
    "def encoder_layer(units, d_model, num_heads, dropout, name=\"encoder_layer\"):\n",
    "    inputs = tf.keras.Input(shape=(None, d_model), name=\"inputs\")\n",
    "\n",
    "    # 패딩 마스크 사용\n",
    "    padding_mask = tf.keras.Input(shape=(1, 1, None), name=\"padding_mask\")\n",
    "\n",
    "    # 첫 번째 서브 레이어 : 멀티 헤드 어텐션 수행 (셀프 어텐션)\n",
    "    attention = MultiHeadAttention(\n",
    "          d_model, num_heads, name=\"attention\")({\n",
    "          'query': inputs,\n",
    "          'key': inputs,\n",
    "          'value': inputs,\n",
    "          'mask': padding_mask\n",
    "      })\n",
    "\n",
    "    # 어텐션의 결과는 Dropout과 Layer Normalization이라는 훈련을 돕는 테크닉을 수행\n",
    "    attention = tf.keras.layers.Dropout(rate=dropout)(attention)\n",
    "    attention = tf.keras.layers.LayerNormalization(epsilon=1e-6)(inputs + attention)\n",
    "\n",
    "    # 두 번째 서브 레이어 : 2개의 완전연결층\n",
    "    outputs = tf.keras.layers.Dense(units=units, activation='relu')(attention)\n",
    "    outputs = tf.keras.layers.Dense(units=d_model)(outputs)\n",
    "\n",
    "    # 완전연결층의 결과는 Dropout과 LayerNormalization이라는 훈련을 돕는 테크닉을 수행\n",
    "    outputs = tf.keras.layers.Dropout(rate=dropout)(outputs)\n",
    "    outputs = tf.keras.layers.LayerNormalization(epsilon=1e-6)(attention + outputs)\n",
    "\n",
    "    return tf.keras.Model(inputs=[inputs, padding_mask], outputs=outputs, name=name)"
   ]
  },
  {
   "cell_type": "markdown",
   "id": "fa5b0035",
   "metadata": {},
   "source": [
    "### 인코더 층을 쌓아 인코더 만들기\n",
    "- 구현한 인코더 층을 임베딩 층(Embedding layer) 과 포지셔널 인코딩(Positional Encoding) 을 연결하고, \n",
    "\n",
    "- 사용자가 원하는 만큼 인코더 층을 쌓음으로써 트랜스포머의 인코더가 완성\n",
    "\n",
    "- 인코더와 디코더 내부에서는 각 서브 층 이후에 훈련을 돕는 Layer Normalization이라는 테크닉이 사용"
   ]
  },
  {
   "cell_type": "code",
   "execution_count": 13,
   "id": "fb98b8bb",
   "metadata": {},
   "outputs": [],
   "source": [
    "def encoder(vocab_size,\n",
    "           num_layers,\n",
    "           units,\n",
    "           d_model,\n",
    "           num_heads,\n",
    "           dropout,\n",
    "           name='encoder'):\n",
    "    inputs = tf.keras.Input(shape=(None,), name='inputs')\n",
    "    \n",
    "    #패딩 마스크 사용\n",
    "    padding_mask = tf.keras.Input(shape=(1, 1, None), name='padding_mask')\n",
    "    \n",
    "    #임베딩 레이어\n",
    "    embeddings = tf.keras.layers.Embedding(vocab_size, d_model)(inputs)\n",
    "    embeddings *= tf.math.sqrt(tf.cast(d_model, tf.float32))\n",
    "    \n",
    "    #포지셔널 인코딩\n",
    "    embeddings = PositionalEncoding(vocab_size, d_model)(embeddings)\n",
    "    \n",
    "    outputs = tf.keras.layers.Dropout(rate=dropout)(embeddings)\n",
    "    \n",
    "    # num_layers만큼 쌓아올린 인코더의 층\n",
    "    for i in range(num_layers):\n",
    "        outputs = encoder_layer(\n",
    "            units=units,\n",
    "            d_model=d_model,\n",
    "            num_heads=num_heads,\n",
    "            dropout=dropout,\n",
    "            name='encoder_layer_{}'.format(i),\n",
    "        )([outputs, padding_mask])\n",
    "        \n",
    "    return tf.keras.Model(\n",
    "        inputs=[inputs, padding_mask], outputs=outputs, name=name)"
   ]
  },
  {
   "cell_type": "markdown",
   "id": "a3bb2c68",
   "metadata": {},
   "source": [
    "- Layer Normalization\n",
    "\n",
    "각 input의 feature들에 대한 평균과 분산을 구해서 batch에 있는 각 input을 정규화\n",
    "\n",
    "\n",
    "cf) Batch Nomalization\n",
    "\n",
    ": 각 feature의 평균과 분산을 구해서 batch에 있는 각 feature를 정규화\n",
    "\n",
    "참고 링크 : https://yonghyuc.wordpress.com/2020/03/04/batch-norm-vs-layer-norm/"
   ]
  },
  {
   "attachments": {
    "image.png": {
     "image/png": "[encoded data removed]"
    }
   },
   "cell_type": "markdown",
   "id": "d60d2582",
   "metadata": {},
   "source": [
    "![image.png](attachment:image.png)"
   ]
  },
  {
   "cell_type": "markdown",
   "id": "ba72505d",
   "metadata": {},
   "source": [
    "## 디코더\n",
    "- 셀프 어텐션 + 인코더-디코더 어텐션 + 피드 포워드 신경망\n",
    "- 디코더의 셀프 어텐션, 인코더-디코더 어텐션 두 개의 어텐션 모두 스케일드 닷 프로덕트 어텐션을 멀티 헤드 어텐션으로 병렬적으로 수행"
   ]
  },
  {
   "cell_type": "markdown",
   "id": "add1548d",
   "metadata": {},
   "source": [
    "- 인코더-디코더 어텐션\n",
    "\n",
    "셀프 어텐션과는 달리, Query가 디코더의 벡터인 반면에 Key와 Value가 인코더의 벡터라는 특징\n",
    "\n",
    "이 부분이 인코더가 입력 문장으로부터 정보를 디코더에 전달하는 과정"
   ]
  },
  {
   "cell_type": "code",
   "execution_count": 14,
   "id": "c81c2350",
   "metadata": {},
   "outputs": [],
   "source": [
    "# 디코더 하나의 레이어를 함수로 구현.\n",
    "# 이 하나의 레이어 안에는 세 개의 서브 레이어가 존재\n",
    "def decoder_layer(units, d_model, num_heads, dropout, name=\"decoder_layer\"):\n",
    "    inputs = tf.keras.Input(shape=(None, d_model), name=\"inputs\")\n",
    "    enc_outputs = tf.keras.Input(shape=(None, d_model), name=\"encoder_outputs\")\n",
    "    look_ahead_mask = tf.keras.Input(shape=(1, None, None), name=\"look_ahead_mask\")\n",
    "    padding_mask = tf.keras.Input(shape=(1, 1, None), name='padding_mask')\n",
    "\n",
    "    # 첫 번째 서브 레이어 : 멀티 헤드 어텐션 수행 (셀프 어텐션)\n",
    "    attention1 = MultiHeadAttention(\n",
    "          d_model, num_heads, name=\"attention_1\")(inputs={\n",
    "          'query': inputs,\n",
    "          'key': inputs,\n",
    "          'value': inputs,\n",
    "          'mask': look_ahead_mask\n",
    "      })\n",
    "    \n",
    "    # 멀티 헤드 어텐션의 결과는 LayerNormalization이라는 훈련을 돕는 테크닉을 수행\n",
    "    attention1 = tf.keras.layers.LayerNormalization(epsilon=1e-6)(attention1 + inputs)\n",
    "\n",
    "    # 두 번째 서브 레이어 : 마스크드 멀티 헤드 어텐션 수행 (인코더-디코더 어텐션)\n",
    "    attention2 = MultiHeadAttention(\n",
    "          d_model, num_heads, name=\"attention_2\")(inputs={\n",
    "          'query': attention1,\n",
    "          'key': enc_outputs,\n",
    "          'value': enc_outputs,\n",
    "          'mask': padding_mask\n",
    "      })\n",
    "    \n",
    "    # 마스크드 멀티 헤드 어텐션의 결과는\n",
    "    # Dropout과 LayerNormalization이라는 훈련을 돕는 테크닉을 수행\n",
    "    attention2 = tf.keras.layers.Dropout(rate=dropout)(attention2)\n",
    "    attention2 = tf.keras.layers.LayerNormalization(epsilon=1e-6)(attention2 + attention1)\n",
    "\n",
    "    # 세 번째 서브 레이어 : 2개의 완전연결층\n",
    "    outputs = tf.keras.layers.Dense(units=units, activation='relu')(attention2)\n",
    "    outputs = tf.keras.layers.Dense(units=d_model)(outputs)\n",
    "\n",
    "    # 완전연결층의 결과는 Dropout과 LayerNormalization 수행\n",
    "    outputs = tf.keras.layers.Dropout(rate=dropout)(outputs)\n",
    "    outputs = tf.keras.layers.LayerNormalization(epsilon=1e-6)(outputs + attention2)\n",
    "\n",
    "    return tf.keras.Model(\n",
    "          inputs=[inputs, enc_outputs, look_ahead_mask, padding_mask],\n",
    "          outputs=outputs,\n",
    "          name=name)"
   ]
  },
  {
   "cell_type": "markdown",
   "id": "b104fb8c",
   "metadata": {},
   "source": [
    "### 디코더 층을 쌓아 디코더 만들기\n",
    "- 구현한 디코더의 층은 임베딩 층(Embedding layer) 과 포지셔널 인코딩(Positional Encoding) 을 연결하고, \n",
    "- 사용자가 원하는 만큼 디코더 층을 쌓아 트랜스포머의 디코더가 완성"
   ]
  },
  {
   "cell_type": "code",
   "execution_count": 15,
   "id": "595fe58f",
   "metadata": {},
   "outputs": [],
   "source": [
    "def decoder(vocab_size,\n",
    "            num_layers,\n",
    "            units,\n",
    "            d_model,\n",
    "            num_heads,\n",
    "            dropout,\n",
    "            name='decoder'):\n",
    "    inputs = tf.keras.Input(shape=(None,), name='inputs')\n",
    "    enc_outputs = tf.keras.Input(shape=(None, d_model), name='encoder_outputs')\n",
    "    look_ahead_mask = tf.keras.Input(shape=(1, None, None), name='look_ahead_mask')\n",
    "\n",
    "    # 패딩 마스크\n",
    "    padding_mask = tf.keras.Input(shape=(1, 1, None), name='padding_mask')\n",
    "  \n",
    "    # 임베딩 레이어\n",
    "    embeddings = tf.keras.layers.Embedding(vocab_size, d_model)(inputs)\n",
    "    embeddings *= tf.math.sqrt(tf.cast(d_model, tf.float32))\n",
    "\n",
    "    # 포지셔널 인코딩\n",
    "    embeddings = PositionalEncoding(vocab_size, d_model)(embeddings)\n",
    "\n",
    "    # Dropout이라는 훈련을 돕는 테크닉을 수행\n",
    "    outputs = tf.keras.layers.Dropout(rate=dropout)(embeddings)\n",
    "\n",
    "    for i in range(num_layers):\n",
    "        outputs = decoder_layer(\n",
    "            units=units,\n",
    "            d_model=d_model,\n",
    "            num_heads=num_heads,\n",
    "            dropout=dropout,\n",
    "            name='decoder_layer_{}'.format(i),\n",
    "            )(inputs=[outputs, enc_outputs, look_ahead_mask, padding_mask])\n",
    "\n",
    "    return tf.keras.Model(\n",
    "          inputs=[inputs, enc_outputs, look_ahead_mask, padding_mask],\n",
    "          outputs=outputs,\n",
    "          name=name)"
   ]
  },
  {
   "cell_type": "markdown",
   "id": "6f001104",
   "metadata": {},
   "source": [
    "# 데이터 전처리\n",
    "\n",
    "정규 표현식(Regular Expression) 을 사용하여 구두점(punctuation) 을 제거하여\n",
    "\n",
    "단어를 토크나이징(tokenizing) 하는 일에 방해가 되지 않도록 정제\n",
    "\n"
   ]
  },
  {
   "cell_type": "markdown",
   "id": "a92b30a6",
   "metadata": {},
   "source": [
    "## 데이터 전처리 함수"
   ]
  },
  {
   "cell_type": "code",
   "execution_count": 16,
   "id": "bc6a04a0",
   "metadata": {},
   "outputs": [],
   "source": [
    "def preprocess_sentence(sentence):\n",
    "    sentence = sentence.lower().strip()\n",
    "    \n",
    "    #단어와 구두점(punctuation) 사이의 거리를 만듦\n",
    "    #예를 들어서 'I am a student' => 'I am a student .' 와 같이 sentence와 온점 사이에 거리를 만듦\n",
    "    sentence = re.sub(r\"([?.!,])\", r\" \\1 \", sentence)\n",
    "    sentence = re.sub(r'[\" \"]+', \" \", sentence)\n",
    "    \n",
    "    # (한글, \".\", \"?\", \"!\", \",\")를 제외한 모든 문자를 공백인 ' '로 대체\n",
    "    sentence = re.sub(r\"[^가-힣?.!,]+\", \" \", sentence)\n",
    "    sentence = sentence.strip()\n",
    "    return sentence"
   ]
  },
  {
   "cell_type": "code",
   "execution_count": 17,
   "id": "4a5f025f",
   "metadata": {},
   "outputs": [
    {
     "data": {
      "text/html": [
       "<div>\n",
       "<style scoped>\n",
       "    .dataframe tbody tr th:only-of-type {\n",
       "        vertical-align: middle;\n",
       "    }\n",
       "\n",
       "    .dataframe tbody tr th {\n",
       "        vertical-align: top;\n",
       "    }\n",
       "\n",
       "    .dataframe thead th {\n",
       "        text-align: right;\n",
       "    }\n",
       "</style>\n",
       "<table border=\"1\" class=\"dataframe\">\n",
       "  <thead>\n",
       "    <tr style=\"text-align: right;\">\n",
       "      <th></th>\n",
       "      <th>Q</th>\n",
       "      <th>A</th>\n",
       "      <th>label</th>\n",
       "    </tr>\n",
       "  </thead>\n",
       "  <tbody>\n",
       "    <tr>\n",
       "      <th>0</th>\n",
       "      <td>12시 땡!</td>\n",
       "      <td>하루가 또 가네요.</td>\n",
       "      <td>0</td>\n",
       "    </tr>\n",
       "    <tr>\n",
       "      <th>1</th>\n",
       "      <td>1지망 학교 떨어졌어</td>\n",
       "      <td>위로해 드립니다.</td>\n",
       "      <td>0</td>\n",
       "    </tr>\n",
       "    <tr>\n",
       "      <th>2</th>\n",
       "      <td>3박4일 놀러가고 싶다</td>\n",
       "      <td>여행은 언제나 좋죠.</td>\n",
       "      <td>0</td>\n",
       "    </tr>\n",
       "    <tr>\n",
       "      <th>3</th>\n",
       "      <td>3박4일 정도 놀러가고 싶다</td>\n",
       "      <td>여행은 언제나 좋죠.</td>\n",
       "      <td>0</td>\n",
       "    </tr>\n",
       "    <tr>\n",
       "      <th>4</th>\n",
       "      <td>PPL 심하네</td>\n",
       "      <td>눈살이 찌푸려지죠.</td>\n",
       "      <td>0</td>\n",
       "    </tr>\n",
       "    <tr>\n",
       "      <th>...</th>\n",
       "      <td>...</td>\n",
       "      <td>...</td>\n",
       "      <td>...</td>\n",
       "    </tr>\n",
       "    <tr>\n",
       "      <th>11818</th>\n",
       "      <td>훔쳐보는 것도 눈치 보임.</td>\n",
       "      <td>티가 나니까 눈치가 보이는 거죠!</td>\n",
       "      <td>2</td>\n",
       "    </tr>\n",
       "    <tr>\n",
       "      <th>11819</th>\n",
       "      <td>훔쳐보는 것도 눈치 보임.</td>\n",
       "      <td>훔쳐보는 거 티나나봐요.</td>\n",
       "      <td>2</td>\n",
       "    </tr>\n",
       "    <tr>\n",
       "      <th>11820</th>\n",
       "      <td>흑기사 해주는 짝남.</td>\n",
       "      <td>설렜겠어요.</td>\n",
       "      <td>2</td>\n",
       "    </tr>\n",
       "    <tr>\n",
       "      <th>11821</th>\n",
       "      <td>힘든 연애 좋은 연애라는게 무슨 차이일까?</td>\n",
       "      <td>잘 헤어질 수 있는 사이 여부인 거 같아요.</td>\n",
       "      <td>2</td>\n",
       "    </tr>\n",
       "    <tr>\n",
       "      <th>11822</th>\n",
       "      <td>힘들어서 결혼할까봐</td>\n",
       "      <td>도피성 결혼은 하지 않길 바라요.</td>\n",
       "      <td>2</td>\n",
       "    </tr>\n",
       "  </tbody>\n",
       "</table>\n",
       "<p>11823 rows × 3 columns</p>\n",
       "</div>"
      ],
      "text/plain": [
       "                             Q                         A  label\n",
       "0                       12시 땡!                하루가 또 가네요.      0\n",
       "1                  1지망 학교 떨어졌어                 위로해 드립니다.      0\n",
       "2                 3박4일 놀러가고 싶다               여행은 언제나 좋죠.      0\n",
       "3              3박4일 정도 놀러가고 싶다               여행은 언제나 좋죠.      0\n",
       "4                      PPL 심하네                눈살이 찌푸려지죠.      0\n",
       "...                        ...                       ...    ...\n",
       "11818           훔쳐보는 것도 눈치 보임.        티가 나니까 눈치가 보이는 거죠!      2\n",
       "11819           훔쳐보는 것도 눈치 보임.             훔쳐보는 거 티나나봐요.      2\n",
       "11820              흑기사 해주는 짝남.                    설렜겠어요.      2\n",
       "11821  힘든 연애 좋은 연애라는게 무슨 차이일까?  잘 헤어질 수 있는 사이 여부인 거 같아요.      2\n",
       "11822               힘들어서 결혼할까봐        도피성 결혼은 하지 않길 바라요.      2\n",
       "\n",
       "[11823 rows x 3 columns]"
      ]
     },
     "execution_count": 17,
     "metadata": {},
     "output_type": "execute_result"
    }
   ],
   "source": [
    "cd"
   ]
  },
  {
   "cell_type": "markdown",
   "id": "dff0a9c6",
   "metadata": {},
   "source": [
    "데이터의 총 개수가 10,000여개이므로 크지 않은 데이터이기 때문에 전체 데이터를 사용한다."
   ]
  },
  {
   "cell_type": "markdown",
   "id": "4470ebad",
   "metadata": {},
   "source": [
    "### 전처리 함수를 적용한 후 리스트 형식으로 저장"
   ]
  },
  {
   "cell_type": "code",
   "execution_count": 18,
   "id": "c3783531",
   "metadata": {},
   "outputs": [],
   "source": [
    "cd_questions = []\n",
    "for i in cd['Q']:\n",
    "    a = preprocess_sentence(i)\n",
    "    cd_questions.append(a)"
   ]
  },
  {
   "cell_type": "code",
   "execution_count": 19,
   "id": "f216ebed",
   "metadata": {},
   "outputs": [],
   "source": [
    "cd_answers = []\n",
    "for i in cd['A']:\n",
    "    a = preprocess_sentence(i)\n",
    "    cd_answers.append(a)"
   ]
  },
  {
   "cell_type": "code",
   "execution_count": 20,
   "id": "b3a13a71",
   "metadata": {},
   "outputs": [
    {
     "name": "stdout",
     "output_type": "stream",
     "text": [
      "전체 샘플 수 : 11823\n",
      "전체 샘플 수 : 11823\n"
     ]
    }
   ],
   "source": [
    "# 데이터를 로드하고 전처리하여 질문을 questions, 답변을 answers에 저장\n",
    "questions, answers = cd_questions, cd_answers\n",
    "print('전체 샘플 수 :', len(questions))\n",
    "print('전체 샘플 수 :', len(answers))"
   ]
  },
  {
   "cell_type": "markdown",
   "id": "f69c61dd",
   "metadata": {},
   "source": [
    "- 전처리가 잘 적용되었는 지 확인"
   ]
  },
  {
   "cell_type": "code",
   "execution_count": 21,
   "id": "9fa42fd3",
   "metadata": {},
   "outputs": [
    {
     "name": "stdout",
     "output_type": "stream",
     "text": [
      "전처리 후의 22번째 질문 샘플: 가스비 장난 아님\n",
      "전처리 후의 22번째 답변 샘플: 다음 달에는 더 절약해봐요 .\n"
     ]
    }
   ],
   "source": [
    "print('전처리 후의 22번째 질문 샘플: {}'.format(questions[21]))\n",
    "print('전처리 후의 22번째 답변 샘플: {}'.format(answers[21]))"
   ]
  },
  {
   "cell_type": "markdown",
   "id": "c1120885",
   "metadata": {},
   "source": [
    "## 병렬 데이터 전처리\n",
    "\n",
    "1. TensorFlow Datasets **SubwordTextEncoder**를 토크나이저로 사용.\n",
    " \n",
    "    단어보다 더 작은 단위인 Subword를 기준으로 토크나이징하고, 각 토큰을 고유한 **정수로 인코딩**\n",
    "\n",
    "\n",
    "2. 각 문장을 토큰화하고 각 문장의 시작과 끝을 나타내는 **START_TOKEN** 및 **END_TOKEN**을 추가\n",
    "\n",
    "\n",
    "3. 최대 길이 **MAX_LENGTH**인 40을 넘는 문장들은 필터링\n",
    "\n",
    "\n",
    "4. MAX_LENGTH보다 길이가 짧은 문장들은 40에 맞도록 **패딩**"
   ]
  },
  {
   "cell_type": "markdown",
   "id": "1a3055a9",
   "metadata": {},
   "source": [
    "### 단어장 만들기\n",
    "- 단어장을 만들 때는 질문과 답변 데이터셋을 모두 사용"
   ]
  },
  {
   "cell_type": "code",
   "execution_count": 22,
   "id": "f5367e3d",
   "metadata": {},
   "outputs": [],
   "source": [
    "#Tokenizer 생성\n",
    "\n",
    "import tensorflow_datasets as tfds\n",
    "tokenizer = tfds.deprecated.text.SubwordTextEncoder.build_from_corpus(questions + answers, target_vocab_size=2**13)"
   ]
  },
  {
   "cell_type": "code",
   "execution_count": 23,
   "id": "ab1b947c",
   "metadata": {},
   "outputs": [],
   "source": [
    "# 시작 토큰과 종료 토큰에 고유한 정수를 부여\n",
    "START_TOKEN, END_TOKEN = [tokenizer.vocab_size], [tokenizer.vocab_size+1]"
   ]
  },
  {
   "cell_type": "code",
   "execution_count": 24,
   "id": "d4c556df",
   "metadata": {},
   "outputs": [
    {
     "name": "stdout",
     "output_type": "stream",
     "text": [
      "START_TOKEN의 번호 : [8127]\n",
      "END_TOKEN의 번호 : [8128]\n"
     ]
    }
   ],
   "source": [
    "print('START_TOKEN의 번호 :' ,[tokenizer.vocab_size])\n",
    "print('END_TOKEN의 번호 :' ,[tokenizer.vocab_size + 1])\n",
    "\n",
    "#각각 8,127과 8,128이라는 점에서 현재 단어장의 크기가 8,127(0번부터 8,126번)이라는 의미"
   ]
  },
  {
   "cell_type": "code",
   "execution_count": 25,
   "id": "bcbc018b",
   "metadata": {},
   "outputs": [
    {
     "name": "stdout",
     "output_type": "stream",
     "text": [
      "8129\n"
     ]
    }
   ],
   "source": [
    "# 시작 토큰과 종료 토큰을 고려하여 +2를 하여 단어장의 크기를 산정\n",
    "VOCAB_SIZE = tokenizer.vocab_size + 2\n",
    "print(VOCAB_SIZE)"
   ]
  },
  {
   "cell_type": "markdown",
   "id": "a6838e92",
   "metadata": {},
   "source": [
    "### 각 단어를 고유한 정수로 인코딩, 패딩"
   ]
  },
  {
   "cell_type": "code",
   "execution_count": 26,
   "id": "b275d3e6",
   "metadata": {},
   "outputs": [
    {
     "name": "stdout",
     "output_type": "stream",
     "text": [
      "정수 인코딩 후의 25번째 질문 샘플: [5742, 612, 2481, 4148]\n",
      "정수 인코딩 후의 25번째 답변 샘플: [2352, 7481, 7, 6245, 97, 1]\n"
     ]
    }
   ],
   "source": [
    "# 임의의 22번째 샘플에 대해서 정수 인코딩 작업을 수행.\n",
    "# 각 토큰을 고유한 정수로 변환\n",
    "print('정수 인코딩 후의 25번째 질문 샘플: {}'.format(tokenizer.encode(questions[21])))\n",
    "print('정수 인코딩 후의 25번째 답변 샘플: {}'.format(tokenizer.encode(answers[21])))"
   ]
  },
  {
   "cell_type": "markdown",
   "id": "1346a9c0",
   "metadata": {},
   "source": [
    "### 질문과 답변 셋에 대해서 전부 정수 인코딩을 수행\n",
    "- 문장의 최대 길이를 정하고, 해당 길이로 패딩"
   ]
  },
  {
   "cell_type": "markdown",
   "id": "156b11a0",
   "metadata": {},
   "source": [
    "- 질문, 답변 문장 최대길이 구하기"
   ]
  },
  {
   "cell_type": "code",
   "execution_count": 27,
   "id": "15370cf9",
   "metadata": {},
   "outputs": [],
   "source": [
    "token_q = []\n",
    "for i in questions:\n",
    "    a = tokenizer.encode(i)\n",
    "    token_q.append(a)"
   ]
  },
  {
   "cell_type": "code",
   "execution_count": 28,
   "id": "91961d34",
   "metadata": {},
   "outputs": [],
   "source": [
    "token_a = []\n",
    "for i in answers:\n",
    "    a = tokenizer.encode(i)\n",
    "    token_a.append(a)"
   ]
  },
  {
   "cell_type": "code",
   "execution_count": 29,
   "id": "bed895ac",
   "metadata": {},
   "outputs": [],
   "source": [
    "def max_len(token_list):\n",
    "    m = []\n",
    "    for i in range(1, len(token_list)):\n",
    "        if len(token_list[i]) > len(token_list[i-1]):\n",
    "            m.append(len(token_list[i]))\n",
    "        else:\n",
    "            continue\n",
    "    return max(m)"
   ]
  },
  {
   "cell_type": "code",
   "execution_count": 30,
   "id": "645cd28c",
   "metadata": {},
   "outputs": [
    {
     "name": "stdout",
     "output_type": "stream",
     "text": [
      "질문 최대 길이 :  21\n",
      "답변 최대 길이 :  29\n"
     ]
    }
   ],
   "source": [
    "print('질문 최대 길이 : ', max_len(token_q))\n",
    "print('답변 최대 길이 : ', max_len(token_a))"
   ]
  },
  {
   "cell_type": "markdown",
   "id": "1a5baa0a",
   "metadata": {},
   "source": [
    "- 질문, 답변 길이 분포 구하기"
   ]
  },
  {
   "cell_type": "code",
   "execution_count": 31,
   "id": "a2f1f6a3",
   "metadata": {},
   "outputs": [],
   "source": [
    "token_q_len = []\n",
    "for i in range(len(token_q)-1):\n",
    "    token_q_len.append(len(token_q[i]))"
   ]
  },
  {
   "cell_type": "code",
   "execution_count": 32,
   "id": "19b89ff4",
   "metadata": {},
   "outputs": [],
   "source": [
    "token_a_len = []\n",
    "for i in range(len(token_a) -1):\n",
    "    token_a_len.append(len(token_a[i]))"
   ]
  },
  {
   "cell_type": "code",
   "execution_count": 33,
   "id": "360d6388",
   "metadata": {},
   "outputs": [
    {
     "data": {
      "image/png": "[encoded data removed]",
      "text/plain": [
       "<Figure size 576x432 with 2 Axes>"
      ]
     },
     "metadata": {
      "needs_background": "light"
     },
     "output_type": "display_data"
    }
   ],
   "source": [
    "plt.figure(figsize=(8, 6))\n",
    "\n",
    "plt.subplot(2, 1, 1)\n",
    "plt.hist(token_q_len)\n",
    "plt.xlabel('question_length')\n",
    "plt.ylabel('count')\n",
    "\n",
    "plt.subplot(2, 1, 2)\n",
    "plt.hist(token_a_len)\n",
    "plt.xlabel('answer_length')\n",
    "plt.ylabel('count');"
   ]
  },
  {
   "cell_type": "code",
   "execution_count": 34,
   "id": "5756d430",
   "metadata": {},
   "outputs": [
    {
     "data": {
      "image/png": "[encoded data removed]",
      "text/plain": [
       "<Figure size 432x288 with 1 Axes>"
      ]
     },
     "metadata": {
      "needs_background": "light"
     },
     "output_type": "display_data"
    }
   ],
   "source": [
    "fig, ax = plt.subplots()\n",
    "box = ax.boxplot([token_q_len, token_a_len])\n",
    "\n",
    "ax.set_xlabel('Q and A')\n",
    "ax.set_ylabel('count')\n",
    "\n",
    "plt.show()"
   ]
  },
  {
   "cell_type": "code",
   "execution_count": 35,
   "id": "9b5d60a4",
   "metadata": {},
   "outputs": [
    {
     "data": {
      "text/plain": [
       "array([11.5])"
      ]
     },
     "execution_count": 35,
     "metadata": {},
     "output_type": "execute_result"
    }
   ],
   "source": [
    "q_q3 = np.percentile(token_q_len, [75], interpolation='midpoint')\n",
    "q_q1 = np.percentile(token_q_len, [25], interpolation='midpoint')\n",
    "q_iqr = q_q3 - q_q1\n",
    "whisker_q = q_q3 + (q_iqr*1.5)\n",
    "whisker_q"
   ]
  },
  {
   "cell_type": "code",
   "execution_count": 36,
   "id": "3d7d5b2c",
   "metadata": {},
   "outputs": [
    {
     "data": {
      "text/plain": [
       "array([11.5])"
      ]
     },
     "execution_count": 36,
     "metadata": {},
     "output_type": "execute_result"
    }
   ],
   "source": [
    "a_q3 = np.percentile(token_a_len, [75], interpolation='midpoint')\n",
    "a_q1 = np.percentile(token_a_len, [25], interpolation='midpoint')\n",
    "a_iqr = a_q3 - a_q1\n",
    "whisker_a = a_q3 + (a_iqr*1.5)\n",
    "whisker_a"
   ]
  },
  {
   "cell_type": "markdown",
   "id": "efbd013f",
   "metadata": {},
   "source": [
    "질문과 답변 각각의 문장 길이의 이상치 기준(Q3 + 1.5* IQR)을 반영하여\n",
    "\n",
    "질문, 답변의 최대 길이는 각각 12(11.5 반올림)로 설정하였다."
   ]
  },
  {
   "cell_type": "code",
   "execution_count": 37,
   "id": "3c51b8ea",
   "metadata": {},
   "outputs": [],
   "source": [
    "MAX_LENGTH = 12"
   ]
  },
  {
   "cell_type": "markdown",
   "id": "116450ad",
   "metadata": {},
   "source": [
    "### 정수 인코딩, 최대 길이를 초과하는 샘플 제거, 패딩"
   ]
  },
  {
   "cell_type": "code",
   "execution_count": 38,
   "id": "138fe005",
   "metadata": {},
   "outputs": [],
   "source": [
    "def tokenize_and_filter(inputs, outputs):\n",
    "    tokenized_inputs, tokenized_outputs = [], []\n",
    "    \n",
    "    for (sentence1, sentence2) in zip(inputs, outputs):\n",
    "        # 정수 인코딩 과정에서 시작 토큰과 종료 토큰을 추가\n",
    "        sentence1 = START_TOKEN + tokenizer.encode(sentence1) + END_TOKEN\n",
    "        sentence2 = START_TOKEN + tokenizer.encode(sentence2) + END_TOKEN\n",
    "        \n",
    "        # 최대 길이 12이하인 경우에만 데이터셋으로 허용\n",
    "        if len(sentence1) <= MAX_LENGTH and len(sentence2) <= MAX_LENGTH:\n",
    "            tokenized_inputs.append(sentence1)\n",
    "            tokenized_outputs.append(sentence2)\n",
    "            \n",
    "    # 최대 길이 12로 모든 데이터셋을 패딩\n",
    "    tokenized_inputs = tf.keras.preprocessing.sequence.pad_sequences(\n",
    "        tokenized_inputs, maxlen=MAX_LENGTH, padding='post')\n",
    "    tokenized_outputs = tf.keras.preprocessing.sequence.pad_sequences(\n",
    "        tokenized_outputs, maxlen=MAX_LENGTH, padding='post')\n",
    "    \n",
    "    return tokenized_inputs, tokenized_outputs"
   ]
  },
  {
   "cell_type": "code",
   "execution_count": 39,
   "id": "7b9107ea",
   "metadata": {},
   "outputs": [
    {
     "name": "stdout",
     "output_type": "stream",
     "text": [
      "단어장의 크기 : 8129\n",
      "필터링 후의 질문 샘플 개수: 10752\n",
      "필터링 후의 답변 샘플 개수: 10752\n"
     ]
    }
   ],
   "source": [
    "questions, answers = tokenize_and_filter(questions, answers)\n",
    "print('단어장의 크기 :',(VOCAB_SIZE))\n",
    "print('필터링 후의 질문 샘플 개수: {}'.format(len(questions)))\n",
    "print('필터링 후의 답변 샘플 개수: {}'.format(len(answers)))"
   ]
  },
  {
   "cell_type": "markdown",
   "id": "ab8dd549",
   "metadata": {},
   "source": [
    "샘플의 개수는 11,823에서 10,752로 줄어들었다."
   ]
  },
  {
   "cell_type": "markdown",
   "id": "1c58d2e1",
   "metadata": {},
   "source": [
    "# 교사 강요(Teacher Forcing) 사용하기\n",
    "- **테스트 과정**에서 t 시점의 출력이 t+1 시점의 입력으로 사용되는 RNN 모델을 훈련시킬 때 사용하는 훈련 기법\n",
    "- **훈련할 때** 교사 강요를 사용할 경우, 모델이 t 시점에서 예측한 값을 t+1 시점에 입력으로 사용하지 않고, \n",
    "- t 시점의 레이블. 즉, **실제 알고있는 정답을 t+1 시점의 입력**으로 사용"
   ]
  },
  {
   "cell_type": "markdown",
   "id": "63cc6829",
   "metadata": {},
   "source": [
    "질문과 답변의 쌍을 tf.data.Dataset API의 입력으로 사용하여 **파이프라인**을 구성\n",
    "\n",
    "이때, 교사 강요를 위해서 answers[:, :-1]를 디코더의 입력값, answers[:, 1:]를 디코더의 레이블로 사용"
   ]
  },
  {
   "cell_type": "code",
   "execution_count": 40,
   "id": "67f29871",
   "metadata": {},
   "outputs": [],
   "source": [
    "BATCH_SIZE = 64\n",
    "BUFFER_SIZE = 20000\n",
    "\n",
    "# 디코더는 이전의 target을 다음의 input으로 사용\n",
    "# 이에 따라 outputs에서는 START_TOKEN을 제거\n",
    "dataset = tf.data.Dataset.from_tensor_slices((\n",
    "    {\n",
    "        'inputs': questions,\n",
    "        'dec_inputs': answers[:, :-1]\n",
    "    },\n",
    "    {\n",
    "        'outputs': answers[:, 1:]\n",
    "    },\n",
    "))\n",
    "\n",
    "dataset = dataset.cache()\n",
    "dataset = dataset.shuffle(BUFFER_SIZE)\n",
    "dataset = dataset.batch(BATCH_SIZE)\n",
    "dataset = dataset.prefetch(tf.data.experimental.AUTOTUNE)"
   ]
  },
  {
   "cell_type": "markdown",
   "id": "6fd22bb5",
   "metadata": {},
   "source": [
    "# 모델 정의 및 학습"
   ]
  },
  {
   "cell_type": "markdown",
   "id": "4cfd64d1",
   "metadata": {},
   "source": [
    "## 트랜스포머 함수 정의"
   ]
  },
  {
   "cell_type": "code",
   "execution_count": 41,
   "id": "0a8dcee4",
   "metadata": {},
   "outputs": [],
   "source": [
    "def transformer(vocab_size,\n",
    "               num_layers,\n",
    "               units,\n",
    "               d_model,\n",
    "               num_heads,\n",
    "               dropout,\n",
    "               name='transformer'):\n",
    "    inputs = tf.keras.Input(shape=(None,), name='inputs')\n",
    "    dec_inputs = tf.keras.Input(shape=(None,), name='dec_inputs')\n",
    "    \n",
    "    #인코더에서 패딩을 위한 마스크\n",
    "    enc_padding_mask = tf.keras.layers.Lambda(\n",
    "        create_padding_mask, output_shape=(1, 1, None),\n",
    "        name='enc_padding_mask')(inputs)\n",
    "    \n",
    "    #디코더에서 미래의 토큰을 마스크하기 위해 사용\n",
    "    #내부적으로 패딩 마스크도 포함\n",
    "    look_ahead_mask = tf.keras.layers.Lambda(\n",
    "        create_look_ahead_mask,\n",
    "        output_shape = (1, None, None),\n",
    "        name = 'look_ahead_mask')(dec_inputs)\n",
    "    \n",
    "    #두 번째 어텐션 블록에서 인코더의 벡터들을 마스킹\n",
    "    #디코더에서 패딩을 위한 마스크\n",
    "    dec_padding_mask = tf.keras.layers.Lambda(\n",
    "        create_padding_mask, output_shape=(1, 1, None),\n",
    "        name = 'dec_padding_mask')(inputs)\n",
    "    \n",
    "    #인코더\n",
    "    enc_outputs = encoder(\n",
    "        vocab_size = vocab_size,\n",
    "        num_layers = num_layers,\n",
    "        units = units,\n",
    "        d_model = d_model,\n",
    "        num_heads = num_heads,\n",
    "        dropout = dropout,\n",
    "    )(inputs=[inputs, enc_padding_mask])\n",
    "    \n",
    "    #디코더\n",
    "    dec_outputs = decoder(\n",
    "        vocab_size = vocab_size,\n",
    "        num_layers = num_layers,\n",
    "        units = units,\n",
    "        d_model = d_model,\n",
    "        num_heads = num_heads,\n",
    "        dropout = dropout,\n",
    "    )(inputs=[dec_inputs, enc_outputs, look_ahead_mask, dec_padding_mask])\n",
    "    \n",
    "    #완전연결층\n",
    "    outputs = tf.keras.layers.Dense(units=vocab_size, name='outputs')(dec_outputs)\n",
    "    \n",
    "    return tf.keras.Model(inputs=[inputs, dec_inputs], outputs=outputs, name=name)"
   ]
  },
  {
   "cell_type": "markdown",
   "id": "355a5372",
   "metadata": {},
   "source": [
    "## 모델 생성"
   ]
  },
  {
   "cell_type": "code",
   "execution_count": 45,
   "id": "12936d16",
   "metadata": {},
   "outputs": [
    {
     "name": "stdout",
     "output_type": "stream",
     "text": [
      "Model: \"transformer\"\n",
      "__________________________________________________________________________________________________\n",
      "Layer (type)                    Output Shape         Param #     Connected to                     \n",
      "==================================================================================================\n",
      "inputs (InputLayer)             [(None, None)]       0                                            \n",
      "__________________________________________________________________________________________________\n",
      "dec_inputs (InputLayer)         [(None, None)]       0                                            \n",
      "__________________________________________________________________________________________________\n",
      "enc_padding_mask (Lambda)       (None, 1, 1, None)   0           inputs[0][0]                     \n",
      "__________________________________________________________________________________________________\n",
      "encoder (Functional)            (None, None, 512)    7318016     inputs[0][0]                     \n",
      "                                                                 enc_padding_mask[0][0]           \n",
      "__________________________________________________________________________________________________\n",
      "look_ahead_mask (Lambda)        (None, 1, None, None 0           dec_inputs[0][0]                 \n",
      "__________________________________________________________________________________________________\n",
      "dec_padding_mask (Lambda)       (None, 1, 1, None)   0           inputs[0][0]                     \n",
      "__________________________________________________________________________________________________\n",
      "decoder (Functional)            (None, None, 512)    9421312     dec_inputs[0][0]                 \n",
      "                                                                 encoder[0][0]                    \n",
      "                                                                 look_ahead_mask[0][0]            \n",
      "                                                                 dec_padding_mask[0][0]           \n",
      "__________________________________________________________________________________________________\n",
      "outputs (Dense)                 (None, None, 8129)   4170177     decoder[0][0]                    \n",
      "==================================================================================================\n",
      "Total params: 20,909,505\n",
      "Trainable params: 20,909,505\n",
      "Non-trainable params: 0\n",
      "__________________________________________________________________________________________________\n"
     ]
    }
   ],
   "source": [
    "tf.keras.backend.clear_session()\n",
    "\n",
    "#하이퍼파라미터\n",
    "NUM_LAYERS = 2  #인코더와 디코더의 층의 개수\n",
    "D_MODEL = 512   #인코더와 디코더 내부의 입/출력의 고정 차원\n",
    "NUM_HEADS = 8   #멀티 헤드 어텐션에서의 헤드 수\n",
    "UNITS = 512   #피드 포워드 신경망의 은닉층의 크기\n",
    "DROPOUT = 0.1   #드롭아웃의 비율\n",
    "\n",
    "model = transformer(\n",
    "    vocab_size = VOCAB_SIZE,\n",
    "    num_layers = NUM_LAYERS,\n",
    "    units = UNITS,\n",
    "    d_model = D_MODEL,\n",
    "    num_heads = NUM_HEADS,\n",
    "    dropout = DROPOUT)\n",
    "\n",
    "model.summary()"
   ]
  },
  {
   "cell_type": "markdown",
   "id": "87c00bd5",
   "metadata": {},
   "source": [
    "## 손실 함수"
   ]
  },
  {
   "cell_type": "code",
   "execution_count": 46,
   "id": "6509c60d",
   "metadata": {},
   "outputs": [],
   "source": [
    "def loss_function(y_true, y_pred):\n",
    "    y_true = tf.reshape(y_true, shape=(-1, MAX_LENGTH - 1))\n",
    "    \n",
    "    loss = tf.keras.losses.SparseCategoricalCrossentropy(\n",
    "        from_logits=True, reduction='none')(y_true, y_pred)\n",
    "    \n",
    "    mask = tf.cast(tf.not_equal(y_true, 0), tf.float32)\n",
    "    loss = tf.multiply(loss, mask)\n",
    "    \n",
    "    return tf.reduce_mean(loss)"
   ]
  },
  {
   "cell_type": "markdown",
   "id": "23bb5198",
   "metadata": {},
   "source": [
    "### SaprseCategoricalCrossentropy - from_logits\n",
    "설명 링크 : https://hwiyong.tistory.com/335\n"
   ]
  },
  {
   "cell_type": "markdown",
   "id": "324bc8be",
   "metadata": {},
   "source": [
    "## 커스텀된 학습률 스케쥴링\n",
    "- 모델학습 초기에 learning rate를 급격히 높였다가, 이후 train step이 진행됨에 따라 서서히 낮추어 가면서 안정적으로 수렴하게 하는 고급 기법\n"
   ]
  },
  {
   "cell_type": "markdown",
   "id": "8d04b33f",
   "metadata": {},
   "source": [
    "### 커스텀 학습률 스케줄러를 통한 아담 옵티마이저"
   ]
  },
  {
   "cell_type": "code",
   "execution_count": 47,
   "id": "c22ce118",
   "metadata": {},
   "outputs": [],
   "source": [
    "class CustomSchedule(tf.keras.optimizers.schedules.LearningRateSchedule):\n",
    "    \n",
    "    def __init__(self, d_model, warmup_steps=4000):\n",
    "        super(CustomSchedule, self).__init__()\n",
    "        \n",
    "        self.d_model = d_model\n",
    "        self.d_model = tf.cast(self.d_model, tf.float32)\n",
    "        \n",
    "        self.warmup_steps = warmup_steps\n",
    "        \n",
    "    def __call__(self, step):\n",
    "        arg1 = tf.math.rsqrt(step)\n",
    "        arg2 = step * (self.warmup_steps**-1.5)\n",
    "        \n",
    "        return tf.math.rsqrt(self.d_model) * tf.math.minimum(arg1, arg2)"
   ]
  },
  {
   "cell_type": "markdown",
   "id": "d139d13e",
   "metadata": {},
   "source": [
    "### 커스텀 학습률 스케쥴링 시각화"
   ]
  },
  {
   "cell_type": "code",
   "execution_count": 48,
   "id": "9bb517ec",
   "metadata": {},
   "outputs": [
    {
     "data": {
      "text/plain": [
       "Text(0.5, 0, 'Train Step')"
      ]
     },
     "execution_count": 48,
     "metadata": {},
     "output_type": "execute_result"
    },
    {
     "data": {
      "image/png": "[encoded data removed]",
      "text/plain": [
       "<Figure size 432x288 with 1 Axes>"
      ]
     },
     "metadata": {
      "needs_background": "light"
     },
     "output_type": "display_data"
    }
   ],
   "source": [
    "sample_learning_rate = CustomSchedule(d_model=128)\n",
    "\n",
    "plt.plot(sample_learning_rate(tf.range(200000, dtype=tf.float32)))\n",
    "plt.ylabel(\"Learning Rate\")\n",
    "plt.xlabel(\"Train Step\")\n",
    "\n",
    "#step_num^−0.5에 비례하는 부분과 step_num에 비례하는 부분 중 작은 쪽을 택하도록 되어 있음\n",
    "#학습 초기에는 learning_rate가 step_num에 비례해서 증가하다가 이후로는 감소하는 것을 확인"
   ]
  },
  {
   "cell_type": "markdown",
   "id": "9904fede",
   "metadata": {},
   "source": [
    "## 모델 컴파일"
   ]
  },
  {
   "cell_type": "code",
   "execution_count": 49,
   "id": "778228dc",
   "metadata": {},
   "outputs": [],
   "source": [
    "learning_rate = CustomSchedule(D_MODEL)\n",
    "\n",
    "optimizer = tf.keras.optimizers.Adam(\n",
    "    learning_rate, beta_1=0.9, beta_2=0.98, epsilon=1e-9)\n",
    "\n",
    "def accuracy(y_true, y_pred):\n",
    "    y_true = tf.reshape(y_true, shape=(-1, MAX_LENGTH - 1))\n",
    "    return tf.keras.metrics.sparse_categorical_accuracy(y_true, y_pred)\n",
    "\n",
    "model.compile(optimizer=optimizer, loss=loss_function, metrics=[accuracy])"
   ]
  },
  {
   "cell_type": "markdown",
   "id": "8ef835ec",
   "metadata": {},
   "source": [
    "## 훈련"
   ]
  },
  {
   "cell_type": "code",
   "execution_count": 50,
   "id": "4af6d91b",
   "metadata": {},
   "outputs": [
    {
     "name": "stdout",
     "output_type": "stream",
     "text": [
      "Epoch 1/100\n",
      "168/168 [==============================] - 13s 41ms/step - loss: 4.5226 - accuracy: 0.1126\n",
      "Epoch 2/100\n",
      "168/168 [==============================] - 7s 41ms/step - loss: 3.4892 - accuracy: 0.1758\n",
      "Epoch 3/100\n",
      "168/168 [==============================] - 7s 41ms/step - loss: 3.1359 - accuracy: 0.1830\n",
      "Epoch 4/100\n",
      "168/168 [==============================] - 7s 41ms/step - loss: 2.9243 - accuracy: 0.1953\n",
      "Epoch 5/100\n",
      "168/168 [==============================] - 7s 41ms/step - loss: 2.7152 - accuracy: 0.2082\n",
      "Epoch 6/100\n",
      "168/168 [==============================] - 7s 41ms/step - loss: 2.4836 - accuracy: 0.2273\n",
      "Epoch 7/100\n",
      "168/168 [==============================] - 7s 41ms/step - loss: 2.2251 - accuracy: 0.2559\n",
      "Epoch 8/100\n",
      "168/168 [==============================] - 7s 41ms/step - loss: 1.9352 - accuracy: 0.2904\n",
      "Epoch 9/100\n",
      "168/168 [==============================] - 7s 41ms/step - loss: 1.6281 - accuracy: 0.3292\n",
      "Epoch 10/100\n",
      "168/168 [==============================] - 7s 41ms/step - loss: 1.3186 - accuracy: 0.3697\n",
      "Epoch 11/100\n",
      "168/168 [==============================] - 7s 41ms/step - loss: 1.0218 - accuracy: 0.4141\n",
      "Epoch 12/100\n",
      "168/168 [==============================] - 7s 41ms/step - loss: 0.7544 - accuracy: 0.4542\n",
      "Epoch 13/100\n",
      "168/168 [==============================] - 7s 41ms/step - loss: 0.5279 - accuracy: 0.4919\n",
      "Epoch 14/100\n",
      "168/168 [==============================] - 7s 41ms/step - loss: 0.3546 - accuracy: 0.5221\n",
      "Epoch 15/100\n",
      "168/168 [==============================] - 7s 41ms/step - loss: 0.2285 - accuracy: 0.5446\n",
      "Epoch 16/100\n",
      "168/168 [==============================] - 7s 41ms/step - loss: 0.1555 - accuracy: 0.5555\n",
      "Epoch 17/100\n",
      "168/168 [==============================] - 7s 41ms/step - loss: 0.1202 - accuracy: 0.5589\n",
      "Epoch 18/100\n",
      "168/168 [==============================] - 7s 41ms/step - loss: 0.1058 - accuracy: 0.5602\n",
      "Epoch 19/100\n",
      "168/168 [==============================] - 7s 41ms/step - loss: 0.0963 - accuracy: 0.5605\n",
      "Epoch 20/100\n",
      "168/168 [==============================] - 7s 41ms/step - loss: 0.0943 - accuracy: 0.5604\n",
      "Epoch 21/100\n",
      "168/168 [==============================] - 7s 41ms/step - loss: 0.0936 - accuracy: 0.5599\n",
      "Epoch 22/100\n",
      "168/168 [==============================] - 7s 41ms/step - loss: 0.0916 - accuracy: 0.5598\n",
      "Epoch 23/100\n",
      "168/168 [==============================] - 7s 41ms/step - loss: 0.0949 - accuracy: 0.5588\n",
      "Epoch 24/100\n",
      "168/168 [==============================] - 7s 41ms/step - loss: 0.0918 - accuracy: 0.5592\n",
      "Epoch 25/100\n",
      "168/168 [==============================] - 7s 41ms/step - loss: 0.0911 - accuracy: 0.5592\n",
      "Epoch 26/100\n",
      "168/168 [==============================] - 7s 41ms/step - loss: 0.0795 - accuracy: 0.5623\n",
      "Epoch 27/100\n",
      "168/168 [==============================] - 7s 41ms/step - loss: 0.0783 - accuracy: 0.5618\n",
      "Epoch 28/100\n",
      "168/168 [==============================] - 7s 41ms/step - loss: 0.0666 - accuracy: 0.5648\n",
      "Epoch 29/100\n",
      "168/168 [==============================] - 7s 41ms/step - loss: 0.0606 - accuracy: 0.5664\n",
      "Epoch 30/100\n",
      "168/168 [==============================] - 7s 41ms/step - loss: 0.0580 - accuracy: 0.5672\n",
      "Epoch 31/100\n",
      "168/168 [==============================] - 7s 41ms/step - loss: 0.0519 - accuracy: 0.5690\n",
      "Epoch 32/100\n",
      "168/168 [==============================] - 7s 41ms/step - loss: 0.0491 - accuracy: 0.5692\n",
      "Epoch 33/100\n",
      "168/168 [==============================] - 7s 41ms/step - loss: 0.0458 - accuracy: 0.5700\n",
      "Epoch 34/100\n",
      "168/168 [==============================] - 7s 41ms/step - loss: 0.0422 - accuracy: 0.5710\n",
      "Epoch 35/100\n",
      "168/168 [==============================] - 7s 41ms/step - loss: 0.0409 - accuracy: 0.5710\n",
      "Epoch 36/100\n",
      "168/168 [==============================] - 7s 41ms/step - loss: 0.0375 - accuracy: 0.5720\n",
      "Epoch 37/100\n",
      "168/168 [==============================] - 7s 41ms/step - loss: 0.0380 - accuracy: 0.5719\n",
      "Epoch 38/100\n",
      "168/168 [==============================] - 7s 40ms/step - loss: 0.0339 - accuracy: 0.5730\n",
      "Epoch 39/100\n",
      "168/168 [==============================] - 7s 41ms/step - loss: 0.0339 - accuracy: 0.5726\n",
      "Epoch 40/100\n",
      "168/168 [==============================] - 7s 41ms/step - loss: 0.0316 - accuracy: 0.5737\n",
      "Epoch 41/100\n",
      "168/168 [==============================] - 7s 41ms/step - loss: 0.0290 - accuracy: 0.5740\n",
      "Epoch 42/100\n",
      "168/168 [==============================] - 7s 41ms/step - loss: 0.0283 - accuracy: 0.5744\n",
      "Epoch 43/100\n",
      "168/168 [==============================] - 7s 41ms/step - loss: 0.0277 - accuracy: 0.5743\n",
      "Epoch 44/100\n",
      "168/168 [==============================] - 7s 41ms/step - loss: 0.0272 - accuracy: 0.5744\n",
      "Epoch 45/100\n",
      "168/168 [==============================] - 7s 41ms/step - loss: 0.0267 - accuracy: 0.5744\n",
      "Epoch 46/100\n",
      "168/168 [==============================] - 7s 41ms/step - loss: 0.0252 - accuracy: 0.5752\n",
      "Epoch 47/100\n",
      "168/168 [==============================] - 7s 41ms/step - loss: 0.0224 - accuracy: 0.5754\n",
      "Epoch 48/100\n",
      "168/168 [==============================] - 7s 41ms/step - loss: 0.0228 - accuracy: 0.5756\n",
      "Epoch 49/100\n",
      "168/168 [==============================] - 7s 41ms/step - loss: 0.0217 - accuracy: 0.5756\n",
      "Epoch 50/100\n",
      "168/168 [==============================] - 7s 41ms/step - loss: 0.0212 - accuracy: 0.5758\n",
      "Epoch 51/100\n",
      "168/168 [==============================] - 7s 41ms/step - loss: 0.0209 - accuracy: 0.5756\n",
      "Epoch 52/100\n",
      "168/168 [==============================] - 7s 41ms/step - loss: 0.0198 - accuracy: 0.5762\n",
      "Epoch 53/100\n",
      "168/168 [==============================] - 7s 41ms/step - loss: 0.0191 - accuracy: 0.5763\n",
      "Epoch 54/100\n",
      "168/168 [==============================] - 7s 41ms/step - loss: 0.0202 - accuracy: 0.5760\n",
      "Epoch 55/100\n",
      "168/168 [==============================] - 7s 41ms/step - loss: 0.0182 - accuracy: 0.5765\n",
      "Epoch 56/100\n",
      "168/168 [==============================] - 7s 41ms/step - loss: 0.0177 - accuracy: 0.5766\n",
      "Epoch 57/100\n",
      "168/168 [==============================] - 7s 41ms/step - loss: 0.0162 - accuracy: 0.5767\n",
      "Epoch 58/100\n",
      "168/168 [==============================] - 7s 41ms/step - loss: 0.0169 - accuracy: 0.5767\n",
      "Epoch 59/100\n",
      "168/168 [==============================] - 7s 41ms/step - loss: 0.0165 - accuracy: 0.5768\n",
      "Epoch 60/100\n",
      "168/168 [==============================] - 7s 41ms/step - loss: 0.0162 - accuracy: 0.5768\n",
      "Epoch 61/100\n",
      "168/168 [==============================] - 7s 41ms/step - loss: 0.0146 - accuracy: 0.5770\n",
      "Epoch 62/100\n",
      "168/168 [==============================] - 7s 41ms/step - loss: 0.0147 - accuracy: 0.5771\n",
      "Epoch 63/100\n",
      "168/168 [==============================] - 7s 41ms/step - loss: 0.0142 - accuracy: 0.5772\n",
      "Epoch 64/100\n",
      "168/168 [==============================] - 7s 40ms/step - loss: 0.0144 - accuracy: 0.5772\n",
      "Epoch 65/100\n",
      "168/168 [==============================] - 7s 41ms/step - loss: 0.0130 - accuracy: 0.5774\n",
      "Epoch 66/100\n",
      "168/168 [==============================] - 7s 41ms/step - loss: 0.0124 - accuracy: 0.5776\n",
      "Epoch 67/100\n",
      "168/168 [==============================] - 7s 41ms/step - loss: 0.0125 - accuracy: 0.5775\n",
      "Epoch 68/100\n",
      "168/168 [==============================] - 7s 41ms/step - loss: 0.0120 - accuracy: 0.5776\n",
      "Epoch 69/100\n",
      "168/168 [==============================] - 7s 41ms/step - loss: 0.0123 - accuracy: 0.5776\n",
      "Epoch 70/100\n",
      "168/168 [==============================] - 7s 41ms/step - loss: 0.0118 - accuracy: 0.5776\n",
      "Epoch 71/100\n",
      "168/168 [==============================] - 7s 40ms/step - loss: 0.0120 - accuracy: 0.5774\n",
      "Epoch 72/100\n",
      "168/168 [==============================] - 7s 41ms/step - loss: 0.0110 - accuracy: 0.5776\n",
      "Epoch 73/100\n",
      "168/168 [==============================] - 7s 40ms/step - loss: 0.0099 - accuracy: 0.5777\n",
      "Epoch 74/100\n",
      "168/168 [==============================] - 7s 41ms/step - loss: 0.0105 - accuracy: 0.5778\n",
      "Epoch 75/100\n",
      "168/168 [==============================] - 7s 41ms/step - loss: 0.0105 - accuracy: 0.5778\n",
      "Epoch 76/100\n",
      "168/168 [==============================] - 7s 41ms/step - loss: 0.0098 - accuracy: 0.5778\n",
      "Epoch 77/100\n",
      "168/168 [==============================] - 7s 41ms/step - loss: 0.0096 - accuracy: 0.5778\n",
      "Epoch 78/100\n",
      "168/168 [==============================] - 7s 41ms/step - loss: 0.0105 - accuracy: 0.5777\n",
      "Epoch 79/100\n",
      "168/168 [==============================] - 7s 41ms/step - loss: 0.0104 - accuracy: 0.5776\n",
      "Epoch 80/100\n",
      "168/168 [==============================] - 7s 41ms/step - loss: 0.0096 - accuracy: 0.5778\n",
      "Epoch 81/100\n",
      "168/168 [==============================] - 7s 41ms/step - loss: 0.0085 - accuracy: 0.5780\n",
      "Epoch 82/100\n",
      "168/168 [==============================] - 7s 41ms/step - loss: 0.0090 - accuracy: 0.5778\n",
      "Epoch 83/100\n",
      "168/168 [==============================] - 7s 41ms/step - loss: 0.0081 - accuracy: 0.5781\n",
      "Epoch 84/100\n",
      "168/168 [==============================] - 7s 41ms/step - loss: 0.0083 - accuracy: 0.5780\n",
      "Epoch 85/100\n",
      "168/168 [==============================] - 7s 41ms/step - loss: 0.0081 - accuracy: 0.5780\n",
      "Epoch 86/100\n",
      "168/168 [==============================] - 7s 41ms/step - loss: 0.0081 - accuracy: 0.5781\n",
      "Epoch 87/100\n",
      "168/168 [==============================] - 7s 41ms/step - loss: 0.0072 - accuracy: 0.5783\n",
      "Epoch 88/100\n",
      "168/168 [==============================] - 7s 41ms/step - loss: 0.0077 - accuracy: 0.5781\n",
      "Epoch 89/100\n",
      "168/168 [==============================] - 7s 41ms/step - loss: 0.0078 - accuracy: 0.5781\n",
      "Epoch 90/100\n",
      "168/168 [==============================] - 7s 41ms/step - loss: 0.0081 - accuracy: 0.5780\n",
      "Epoch 91/100\n",
      "168/168 [==============================] - 7s 41ms/step - loss: 0.0074 - accuracy: 0.5782\n",
      "Epoch 92/100\n",
      "168/168 [==============================] - 7s 41ms/step - loss: 0.0068 - accuracy: 0.5782\n",
      "Epoch 93/100\n",
      "168/168 [==============================] - 7s 41ms/step - loss: 0.0087 - accuracy: 0.5781\n",
      "Epoch 94/100\n",
      "168/168 [==============================] - 7s 41ms/step - loss: 0.0069 - accuracy: 0.5782\n",
      "Epoch 95/100\n",
      "168/168 [==============================] - 7s 41ms/step - loss: 0.0064 - accuracy: 0.5785\n",
      "Epoch 96/100\n",
      "168/168 [==============================] - 7s 41ms/step - loss: 0.0068 - accuracy: 0.5784\n",
      "Epoch 97/100\n",
      "168/168 [==============================] - 7s 40ms/step - loss: 0.0063 - accuracy: 0.5784\n",
      "Epoch 98/100\n",
      "168/168 [==============================] - 7s 41ms/step - loss: 0.0076 - accuracy: 0.5781\n",
      "Epoch 99/100\n",
      "168/168 [==============================] - 7s 41ms/step - loss: 0.0060 - accuracy: 0.5782\n",
      "Epoch 100/100\n",
      "168/168 [==============================] - 7s 40ms/step - loss: 0.0066 - accuracy: 0.5784\n"
     ]
    },
    {
     "data": {
      "text/plain": [
       "<keras.callbacks.History at 0x7f1868a05a60>"
      ]
     },
     "execution_count": 50,
     "metadata": {},
     "output_type": "execute_result"
    }
   ],
   "source": [
    "EPOCHS = 100\n",
    "model.fit(dataset, epochs=EPOCHS, verbose=1)"
   ]
  },
  {
   "cell_type": "markdown",
   "id": "6d9f3b94",
   "metadata": {},
   "source": [
    "# 챗봇 테스트 - 예측 단계(inference)\n",
    "1. 새로운 입력 문장에 대해서는 훈련 때와 동일한 전처리 진행\n",
    "2. 입력 문장을 토크나이징하고, START_TOKEN과 END_TOKEN을 추가\n",
    "3. 패딩 마스킹과 룩 어헤드 마스킹을 계산\n",
    "4. 디코더는 입력 시퀀스로부터 다음 단어를 예측\n",
    "5. 디코더는 예측된 다음 단어를 기존의 입력 시퀀스에 추가하여 새로운 입력으로 사용\n",
    "6. END_TOKEN이 예측되거나 문장의 최대 길이에 도달하면 디코더는 동작을 멈춤"
   ]
  },
  {
   "cell_type": "markdown",
   "id": "e6d3b1ef",
   "metadata": {},
   "source": [
    "### 위의 과정을 담은 decoder_inference() 함수"
   ]
  },
  {
   "cell_type": "code",
   "execution_count": 51,
   "id": "e97eee83",
   "metadata": {},
   "outputs": [],
   "source": [
    "def decoder_inference(sentence):\n",
    "    sentence = preprocess_sentence(sentence)\n",
    "    \n",
    "    #입력된 문장을 정수 인코딩 후, 시작 토큰과 종료 토큰을 앞뒤로 추가\n",
    "    #ex) Where have you been? → [[8331   86   30    5 1059    7 8332]]\n",
    "    sentence = tf.expand_dims(\n",
    "        START_TOKEN + tokenizer.encode(sentence) + END_TOKEN, axis=0)\n",
    "    \n",
    "    #디코더의 현재까지의 예측한 출력 시퀀스가 지속적으로 저장되는 변수\n",
    "    #처음에는 예측한 내용이 없으므로 시작 토큰만 별도 저장 ex) 8331\n",
    "    output_sequence = tf.expand_dims(START_TOKEN, 0)\n",
    "    \n",
    "    #디코더의 인퍼런스 단계\n",
    "    for i in range(MAX_LENGTH):\n",
    "        #디코더는 최대 MAX_LENGTH의 길이만큼 다음 단어 예측을 반복\n",
    "        predictions = model(inputs=[sentence, output_sequence], training=False)\n",
    "        predictions = predictions[:, -1:, :]\n",
    "        \n",
    "        #현재 예측한 단어의 정수\n",
    "        predicted_id = tf.cast(tf.argmax(predictions, axis=-1), tf.int32)\n",
    "        \n",
    "        #만약 현재 예측한 단어가 종료 토큰이라면 for문을 종료\n",
    "        if tf.equal(predicted_id, END_TOKEN[0]):\n",
    "            break\n",
    "            \n",
    "        #예측한 단어들은 지속적으로 output_sequence에 추가\n",
    "        #이 output_sequence는 다시 디코더의 입력\n",
    "        output_sequence = tf.concat([output_sequence, predicted_id], axis=-1)\n",
    "        \n",
    "    return tf.squeeze(output_sequence, axis=0)"
   ]
  },
  {
   "cell_type": "markdown",
   "id": "08224f49",
   "metadata": {},
   "source": [
    "### 임의의 입력 문장에 대해서 decoder_inference() 함수를 호출하여 챗봇의 대답을 얻는 sentence_generation() 함수"
   ]
  },
  {
   "cell_type": "code",
   "execution_count": 52,
   "id": "4a2a549d",
   "metadata": {},
   "outputs": [],
   "source": [
    "def sentence_generation(sentence):\n",
    "    #입력 문장에 대해서 디코더를 동작시켜 예측된 정수 시퀀스를 리턴\n",
    "    prediction = decoder_inference(sentence)\n",
    "    \n",
    "    #정수 시퀀스를 다시 텍스트 시퀀스로 변환\n",
    "    predicted_sentence = tokenizer.decode([\n",
    "        i for i in prediction if i < tokenizer.vocab_size])\n",
    "    \n",
    "    print('입력 : {}'.format(sentence))\n",
    "    print('출력 : {}'.format(predicted_sentence))\n",
    "\n",
    "    return predicted_sentence"
   ]
  },
  {
   "cell_type": "markdown",
   "id": "7762d24a",
   "metadata": {},
   "source": [
    "## 테스트"
   ]
  },
  {
   "cell_type": "code",
   "execution_count": 53,
   "id": "4c847718",
   "metadata": {},
   "outputs": [
    {
     "name": "stdout",
     "output_type": "stream",
     "text": [
      "입력 : 밥 먹었어?\n",
      "출력 : 저는 배터리가 밥이예요 .\n"
     ]
    },
    {
     "data": {
      "text/plain": [
       "'저는 배터리가 밥이예요 .'"
      ]
     },
     "execution_count": 53,
     "metadata": {},
     "output_type": "execute_result"
    }
   ],
   "source": [
    "sentence_generation('밥 먹었어?')"
   ]
  },
  {
   "cell_type": "code",
   "execution_count": 54,
   "id": "5e6fac8e",
   "metadata": {},
   "outputs": [
    {
     "name": "stdout",
     "output_type": "stream",
     "text": [
      "입력 : 나는 커피를 좋아해\n",
      "출력 : 고백하세요 .\n"
     ]
    },
    {
     "data": {
      "text/plain": [
       "'고백하세요 .'"
      ]
     },
     "execution_count": 54,
     "metadata": {},
     "output_type": "execute_result"
    }
   ],
   "source": [
    "sentence_generation('나는 커피를 좋아해')"
   ]
  },
  {
   "cell_type": "code",
   "execution_count": 55,
   "id": "8c8a33f7",
   "metadata": {},
   "outputs": [
    {
     "name": "stdout",
     "output_type": "stream",
     "text": [
      "입력 : 배고파\n",
      "출력 : 뭐 좀 챙겨드세요 .\n"
     ]
    },
    {
     "data": {
      "text/plain": [
       "'뭐 좀 챙겨드세요 .'"
      ]
     },
     "execution_count": 55,
     "metadata": {},
     "output_type": "execute_result"
    }
   ],
   "source": [
    "sentence_generation('배고파')"
   ]
  },
  {
   "cell_type": "code",
   "execution_count": 56,
   "id": "d7909769",
   "metadata": {},
   "outputs": [
    {
     "name": "stdout",
     "output_type": "stream",
     "text": [
      "입력 : 다음 주 시험인데 공부 하나도 안했어\n",
      "출력 : 컨디션 조절 하세요 .\n"
     ]
    },
    {
     "data": {
      "text/plain": [
       "'컨디션 조절 하세요 .'"
      ]
     },
     "execution_count": 56,
     "metadata": {},
     "output_type": "execute_result"
    }
   ],
   "source": [
    "sentence_generation('다음 주 시험인데 공부 하나도 안했어')"
   ]
  },
  {
   "cell_type": "markdown",
   "id": "09e34796",
   "metadata": {},
   "source": [
    "# 회고"
   ]
  },
  {
   "cell_type": "markdown",
   "id": "8e179354",
   "metadata": {},
   "source": [
    "### Baseline 모델 하이퍼 파라미터"
   ]
  },
  {
   "cell_type": "raw",
   "id": "99940d9a",
   "metadata": {},
   "source": [
    "NUM_LAYERS = 2  #인코더와 디코더의 층의 개수\n",
    "D_MODEL = 256   #인코더와 디코더 내부의 입/출력의 고정 차원\n",
    "NUM_HEADS = 8   #멀티 헤드 어텐션에서의 헤드 수\n",
    "UNITS = 512   #피드 포워드 신경망의 은닉층의 크기\n",
    "DROPOUT = 0.1   #드롭아웃의 비율"
   ]
  },
  {
   "cell_type": "markdown",
   "id": "7841d2f7",
   "metadata": {},
   "source": [
    "기본 baseline 모델에 epoch를 20으로 설정했을 때 **(loss: 0.1363 - accuracy: 0.5509)**으로,\n",
    "\n",
    "'밥 먹었어?'라는 문장을 입력했을 때 '저는 배터리가 밥이에요' 라는 자연스러운 문장이 출력되었다.\n",
    "\n",
    "하지만 그 외의 문장들에는 부자연스러운 문장이 출력되었기 때문에 베이스라인 모델을 수정했다."
   ]
  },
  {
   "cell_type": "markdown",
   "id": "299f5238",
   "metadata": {},
   "source": [
    "1) **loss: 0.0059 - accuracy: 0.5787**\n",
    "\n",
    "가장 먼저 **baseline 모델에 epoch를 20에서 100으로 늘려 진행**해보았다.\n",
    "\n",
    "85 epoch 정도에서 accuracy가 일정해졌다.\n",
    "\n",
    "'밥 먹었어?'라는 문장을 입력했을 때 '저는 배터리가 밥이에요' 라는 자연스러운 문장이 출력되었고,\n",
    "\n",
    "그 외 \n",
    "\n",
    "('나는 커피를 좋아해' - '저도 커피 좋아해요')\n",
    "\n",
    "('배고파' - '얼른 맛난 음식 드세요')\n",
    "\n",
    "와 같이 간단한 문장엔 자연스러운 문장을 출력했지만,\n",
    "\n",
    "('다음 주 시험인데 공부 하나도 안했어' - '이별이 얼마남지 않음이 느껴지나요')\n",
    "\n",
    "와 같이 조금 문장이 길어지면 부자연스러운 문장을 출력했다.\n"
   ]
  },
  {
   "cell_type": "markdown",
   "id": "317811f1",
   "metadata": {},
   "source": [
    "2) **loss: 0.0392 - accuracy: 0.5699**\n",
    "\n",
    "NUM_LAYERS = 4, DROPOUT = 0.2로 수정했다.\n",
    "\n",
    "layer의 개수를 늘리는 대신 dropout을 상향조정해 모델의 성능을 높여보고자 했지만 오히려 낮은 성능이 도출되었다.\n",
    "\n",
    "하지만 시도 1)에서 어색했던 '다음 주 시험인데 공부 하나도 안했어' 문장에 대한 출력 문장이\n",
    "\n",
    "'컨디션 조절 하세요'로 명확한 답변은 아니지만 그래도 시험과 관련한 문장이 출력되었다.\n",
    "\n",
    "그러나 \n",
    "\n",
    "('나는 커피를 좋아해' - '밥 사줄 친구를 찾아보세요')\n",
    "\n",
    "와 같이 어색한 문장이 출력되었다."
   ]
  },
  {
   "cell_type": "markdown",
   "id": "4e59f7ed",
   "metadata": {},
   "source": [
    "3) **loss: 0.0066 - accuracy: 0.5784**\n",
    "\n",
    "D_MODEL = 512로 수정했다.\n",
    "\n",
    "크게 다를 것 없는 결과가 도출되었다.\n",
    "\n",
    "커피를 좋아한다고 했는데 고백을 하라는 답변은 조금 어이없지만\n",
    "\n",
    "다른 문장들은 스무스한 결과가 도출되었다."
   ]
  },
  {
   "cell_type": "markdown",
   "id": "242e8057",
   "metadata": {},
   "source": [
    "---------------\n",
    "\n",
    "다양한 하이퍼 파라미터 튜닝을 진행해보고 싶지만 시간 관계상 우선 파일을 제출해야 하는 것이 아쉽다.\n",
    "\n",
    "에포크를 지금보다(100) 늘릴수록 조금 더 자연스러운 문장이 도출되지 않을까 싶다.\n",
    "\n",
    "우선 프로젝트는 어찌저찌 진행했는데 트랜스포머 모델에 대한 이해가 잘 되지 않아서 따로 자료를 찾아보며 공부할 예정이다.\n",
    "\n",
    "또한, 과연 NLP는 어느정도의 accuracy값이 나와야 좋은 성능이라고 말할 수 있을지 궁금해서 찾아보았으나\n",
    "\n",
    "명확한 답변은 얻지 못했다. 그저 고고익선이라고 생각해야 하는 것일까 싶다."
   ]
  },
  {
   "cell_type": "code",
   "execution_count": null,
   "id": "ae5ed489",
   "metadata": {},
   "outputs": [],
   "source": []
  }
 ],
 "metadata": {
  "kernelspec": {
   "display_name": "Python 3 (ipykernel)",
   "language": "python",
   "name": "python3"
  },
  "language_info": {
   "codemirror_mode": {
    "name": "ipython",
    "version": 3
   },
   "file_extension": ".py",
   "mimetype": "text/x-python",
   "name": "python",
   "nbconvert_exporter": "python",
   "pygments_lexer": "ipython3",
   "version": "3.9.7"
  }
 },
 "nbformat": 4,
 "nbformat_minor": 5
}
