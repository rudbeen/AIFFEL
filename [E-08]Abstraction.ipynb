{
 "cells": [
  {
   "cell_type": "code",
   "execution_count": 1,
   "id": "c9a6cbf6",
   "metadata": {},
   "outputs": [
    {
     "name": "stderr",
     "output_type": "stream",
     "text": [
      "[nltk_data] Downloading package stopwords to /aiffel/nltk_data...\n",
      "[nltk_data]   Unzipping corpora/stopwords.zip.\n"
     ]
    }
   ],
   "source": [
    "import nltk\n",
    "nltk.download('stopwords')\n",
    "\n",
    "import numpy as np\n",
    "import pandas as pd\n",
    "import os\n",
    "import re\n",
    "import matplotlib.pyplot as plt\n",
    "from nltk.corpus import stopwords\n",
    "from bs4 import BeautifulSoup\n",
    "from tensorflow.keras.preprocessing.text import Tokenizer\n",
    "from tensorflow.keras.preprocessing.sequence import pad_sequences\n",
    "import urllib.request\n",
    "import warnings\n",
    "warnings.filterwarnings(\"ignore\", category=UserWarning, module='bs4')"
   ]
  },
  {
   "cell_type": "code",
   "execution_count": 2,
   "id": "ab5c6df4",
   "metadata": {},
   "outputs": [],
   "source": [
    "import urllib.request\n",
    "urllib.request.urlretrieve(\"https://raw.githubusercontent.com/sunnysai12345/News_Summary/master/news_summary_more.csv\", filename=\"news_summary_more.csv\")\n",
    "data = pd.read_csv('news_summary_more.csv', encoding='iso-8859-1')"
   ]
  },
  {
   "cell_type": "code",
   "execution_count": 3,
   "id": "a4981426",
   "metadata": {},
   "outputs": [
    {
     "data": {
      "text/html": [
       "<div>\n",
       "<style scoped>\n",
       "    .dataframe tbody tr th:only-of-type {\n",
       "        vertical-align: middle;\n",
       "    }\n",
       "\n",
       "    .dataframe tbody tr th {\n",
       "        vertical-align: top;\n",
       "    }\n",
       "\n",
       "    .dataframe thead th {\n",
       "        text-align: right;\n",
       "    }\n",
       "</style>\n",
       "<table border=\"1\" class=\"dataframe\">\n",
       "  <thead>\n",
       "    <tr style=\"text-align: right;\">\n",
       "      <th></th>\n",
       "      <th>headlines</th>\n",
       "      <th>text</th>\n",
       "    </tr>\n",
       "  </thead>\n",
       "  <tbody>\n",
       "    <tr>\n",
       "      <th>40988</th>\n",
       "      <td>Over 10,000 people watch CSK's intra-squad pra...</td>\n",
       "      <td>Over 10,000 fans of IPL franchise Chennai Supe...</td>\n",
       "    </tr>\n",
       "    <tr>\n",
       "      <th>93075</th>\n",
       "      <td>Google tool hides search result for airline th...</td>\n",
       "      <td>A Google Chrome extension called 'DropUnited' ...</td>\n",
       "    </tr>\n",
       "    <tr>\n",
       "      <th>92098</th>\n",
       "      <td>China launches campaign to teach students how ...</td>\n",
       "      <td>The Communist Party of China has launched a ca...</td>\n",
       "    </tr>\n",
       "    <tr>\n",
       "      <th>36873</th>\n",
       "      <td>CM Manohar Parrikar skips morning session of G...</td>\n",
       "      <td>Goa CM Manohar Parrikar on Thursday skipped th...</td>\n",
       "    </tr>\n",
       "    <tr>\n",
       "      <th>67472</th>\n",
       "      <td>Disabled man abused for not standing up for Na...</td>\n",
       "      <td>A 36-year-old wheelchair-bound man from Guwaha...</td>\n",
       "    </tr>\n",
       "    <tr>\n",
       "      <th>64855</th>\n",
       "      <td>Tipu Sultan was anti-Hindu, anti-Kannada: Unio...</td>\n",
       "      <td>Terming Tipu Sultan as \"anti-Hindu and anti Ka...</td>\n",
       "    </tr>\n",
       "    <tr>\n",
       "      <th>24952</th>\n",
       "      <td>Yo-Yo test shouldnÃ¢ÂÂt be sole selection cr...</td>\n",
       "      <td>Former Indian cricketer Sachin Tendulkar said ...</td>\n",
       "    </tr>\n",
       "    <tr>\n",
       "      <th>47644</th>\n",
       "      <td>Billionaire Singh brothers quit Religare board...</td>\n",
       "      <td>Billionaire brothers Malvinder and Shivinder S...</td>\n",
       "    </tr>\n",
       "    <tr>\n",
       "      <th>29093</th>\n",
       "      <td>ABD, Kohli, Dhoni my career's 3 best dismissal...</td>\n",
       "      <td>Afghanistan's 19-year-old spinner Rashid Khan ...</td>\n",
       "    </tr>\n",
       "    <tr>\n",
       "      <th>40809</th>\n",
       "      <td>'Computer Baba' cancels protest after being ma...</td>\n",
       "      <td>Religious leaders Computer Baba and Yogendra M...</td>\n",
       "    </tr>\n",
       "  </tbody>\n",
       "</table>\n",
       "</div>"
      ],
      "text/plain": [
       "                                               headlines  \\\n",
       "40988  Over 10,000 people watch CSK's intra-squad pra...   \n",
       "93075  Google tool hides search result for airline th...   \n",
       "92098  China launches campaign to teach students how ...   \n",
       "36873  CM Manohar Parrikar skips morning session of G...   \n",
       "67472  Disabled man abused for not standing up for Na...   \n",
       "64855  Tipu Sultan was anti-Hindu, anti-Kannada: Unio...   \n",
       "24952  Yo-Yo test shouldnÃ¢ÂÂt be sole selection cr...   \n",
       "47644  Billionaire Singh brothers quit Religare board...   \n",
       "29093  ABD, Kohli, Dhoni my career's 3 best dismissal...   \n",
       "40809  'Computer Baba' cancels protest after being ma...   \n",
       "\n",
       "                                                    text  \n",
       "40988  Over 10,000 fans of IPL franchise Chennai Supe...  \n",
       "93075  A Google Chrome extension called 'DropUnited' ...  \n",
       "92098  The Communist Party of China has launched a ca...  \n",
       "36873  Goa CM Manohar Parrikar on Thursday skipped th...  \n",
       "67472  A 36-year-old wheelchair-bound man from Guwaha...  \n",
       "64855  Terming Tipu Sultan as \"anti-Hindu and anti Ka...  \n",
       "24952  Former Indian cricketer Sachin Tendulkar said ...  \n",
       "47644  Billionaire brothers Malvinder and Shivinder S...  \n",
       "29093  Afghanistan's 19-year-old spinner Rashid Khan ...  \n",
       "40809  Religious leaders Computer Baba and Yogendra M...  "
      ]
     },
     "execution_count": 3,
     "metadata": {},
     "output_type": "execute_result"
    }
   ],
   "source": [
    "data.sample(10)"
   ]
  },
  {
   "cell_type": "markdown",
   "id": "b62e6003",
   "metadata": {},
   "source": [
    "뉴스 기사의 헤드라인과 뉴스 기사 전문으로 이루어진 걸 보니, 이전 LMS에서 다뤘던 Summary에 headlines가 해당하는 것으로 보인다."
   ]
  },
  {
   "cell_type": "markdown",
   "id": "766463ee",
   "metadata": {},
   "source": [
    "# 데이터 전처리하기 (추상적 요약)"
   ]
  },
  {
   "cell_type": "code",
   "execution_count": 4,
   "id": "2e74de68",
   "metadata": {},
   "outputs": [
    {
     "name": "stdout",
     "output_type": "stream",
     "text": [
      "Text 열에서 중복을 배제한 유일한 샘플의 수 :  98360\n",
      "Summary 열에서 중복을 배제한 유일한 샘플의 수 :  98280\n"
     ]
    }
   ],
   "source": [
    "print('Text 열에서 중복을 배제한 유일한 샘플의 수 : ', data['text'].nunique())\n",
    "print('Summary 열에서 중복을 배제한 유일한 샘플의 수 : ', data['headlines'].nunique())"
   ]
  },
  {
   "cell_type": "code",
   "execution_count": 5,
   "id": "85544c2b",
   "metadata": {},
   "outputs": [
    {
     "name": "stdout",
     "output_type": "stream",
     "text": [
      "전체 샘플 수 : 98360\n"
     ]
    }
   ],
   "source": [
    "# inplace=True 를 설정하면 DataFrame 타입 값을 return 하지 않고 data 내부를 직접적으로 바꿈\n",
    "data.drop_duplicates(subset = [\"text\"], inplace=True)\n",
    "print('전체 샘플 수 :', (len(data)))"
   ]
  },
  {
   "cell_type": "markdown",
   "id": "d0dff724",
   "metadata": {},
   "source": [
    "### 결측치 확인하기"
   ]
  },
  {
   "cell_type": "code",
   "execution_count": 6,
   "id": "6a6f249e",
   "metadata": {},
   "outputs": [
    {
     "name": "stdout",
     "output_type": "stream",
     "text": [
      "headlines    0\n",
      "text         0\n",
      "dtype: int64\n"
     ]
    }
   ],
   "source": [
    "print(data.isnull().sum())\n",
    "#결측치 없음"
   ]
  },
  {
   "cell_type": "markdown",
   "id": "a7734bc9",
   "metadata": {},
   "source": [
    "## 텍스트 정규화와 불용어 제거"
   ]
  },
  {
   "cell_type": "markdown",
   "id": "dc5e4b80",
   "metadata": {},
   "source": [
    "### 텍스트 정규화를 위한 사전(dictionary)"
   ]
  },
  {
   "cell_type": "code",
   "execution_count": 7,
   "id": "6559a423",
   "metadata": {},
   "outputs": [],
   "source": [
    "contractions = {\"ain't\": \"is not\", \"aren't\": \"are not\",\"can't\": \"cannot\", \"'cause\": \"because\", \"could've\": \"could have\", \"couldn't\": \"could not\",\n",
    "                           \"didn't\": \"did not\",  \"doesn't\": \"does not\", \"don't\": \"do not\", \"hadn't\": \"had not\", \"hasn't\": \"has not\", \"haven't\": \"have not\",\n",
    "                           \"he'd\": \"he would\",\"he'll\": \"he will\", \"he's\": \"he is\", \"how'd\": \"how did\", \"how'd'y\": \"how do you\", \"how'll\": \"how will\", \"how's\": \"how is\",\n",
    "                           \"I'd\": \"I would\", \"I'd've\": \"I would have\", \"I'll\": \"I will\", \"I'll've\": \"I will have\",\"I'm\": \"I am\", \"I've\": \"I have\", \"i'd\": \"i would\",\n",
    "                           \"i'd've\": \"i would have\", \"i'll\": \"i will\",  \"i'll've\": \"i will have\",\"i'm\": \"i am\", \"i've\": \"i have\", \"isn't\": \"is not\", \"it'd\": \"it would\",\n",
    "                           \"it'd've\": \"it would have\", \"it'll\": \"it will\", \"it'll've\": \"it will have\",\"it's\": \"it is\", \"let's\": \"let us\", \"ma'am\": \"madam\",\n",
    "                           \"mayn't\": \"may not\", \"might've\": \"might have\",\"mightn't\": \"might not\",\"mightn't've\": \"might not have\", \"must've\": \"must have\",\n",
    "                           \"mustn't\": \"must not\", \"mustn't've\": \"must not have\", \"needn't\": \"need not\", \"needn't've\": \"need not have\",\"o'clock\": \"of the clock\",\n",
    "                           \"oughtn't\": \"ought not\", \"oughtn't've\": \"ought not have\", \"shan't\": \"shall not\", \"sha'n't\": \"shall not\", \"shan't've\": \"shall not have\",\n",
    "                           \"she'd\": \"she would\", \"she'd've\": \"she would have\", \"she'll\": \"she will\", \"she'll've\": \"she will have\", \"she's\": \"she is\",\n",
    "                           \"should've\": \"should have\", \"shouldn't\": \"should not\", \"shouldn't've\": \"should not have\", \"so've\": \"so have\",\"so's\": \"so as\",\n",
    "                           \"this's\": \"this is\",\"that'd\": \"that would\", \"that'd've\": \"that would have\", \"that's\": \"that is\", \"there'd\": \"there would\",\n",
    "                           \"there'd've\": \"there would have\", \"there's\": \"there is\", \"here's\": \"here is\",\"they'd\": \"they would\", \"they'd've\": \"they would have\",\n",
    "                           \"they'll\": \"they will\", \"they'll've\": \"they will have\", \"they're\": \"they are\", \"they've\": \"they have\", \"to've\": \"to have\",\n",
    "                           \"wasn't\": \"was not\", \"we'd\": \"we would\", \"we'd've\": \"we would have\", \"we'll\": \"we will\", \"we'll've\": \"we will have\", \"we're\": \"we are\",\n",
    "                           \"we've\": \"we have\", \"weren't\": \"were not\", \"what'll\": \"what will\", \"what'll've\": \"what will have\", \"what're\": \"what are\",\n",
    "                           \"what's\": \"what is\", \"what've\": \"what have\", \"when's\": \"when is\", \"when've\": \"when have\", \"where'd\": \"where did\", \"where's\": \"where is\",\n",
    "                           \"where've\": \"where have\", \"who'll\": \"who will\", \"who'll've\": \"who will have\", \"who's\": \"who is\", \"who've\": \"who have\",\n",
    "                           \"why's\": \"why is\", \"why've\": \"why have\", \"will've\": \"will have\", \"won't\": \"will not\", \"won't've\": \"will not have\",\n",
    "                           \"would've\": \"would have\", \"wouldn't\": \"would not\", \"wouldn't've\": \"would not have\", \"y'all\": \"you all\",\n",
    "                           \"y'all'd\": \"you all would\",\"y'all'd've\": \"you all would have\",\"y'all're\": \"you all are\",\"y'all've\": \"you all have\",\n",
    "                           \"you'd\": \"you would\", \"you'd've\": \"you would have\", \"you'll\": \"you will\", \"you'll've\": \"you will have\",\n",
    "                           \"you're\": \"you are\", \"you've\": \"you have\"}"
   ]
  },
  {
   "cell_type": "code",
   "execution_count": 8,
   "id": "4c5444b3",
   "metadata": {},
   "outputs": [
    {
     "name": "stdout",
     "output_type": "stream",
     "text": [
      "정규화 사전의 수 :  120\n"
     ]
    }
   ],
   "source": [
    "print('정규화 사전의 수 : ', len(contractions))"
   ]
  },
  {
   "cell_type": "markdown",
   "id": "8d3f2949",
   "metadata": {},
   "source": [
    "### 불용어"
   ]
  },
  {
   "cell_type": "code",
   "execution_count": 9,
   "id": "a89877cf",
   "metadata": {},
   "outputs": [
    {
     "name": "stdout",
     "output_type": "stream",
     "text": [
      "불용어 개수 :  179\n",
      "['i', 'me', 'my', 'myself', 'we', 'our', 'ours', 'ourselves', 'you', \"you're\", \"you've\", \"you'll\", \"you'd\", 'your', 'yours', 'yourself', 'yourselves', 'he', 'him', 'his', 'himself', 'she', \"she's\", 'her', 'hers', 'herself', 'it', \"it's\", 'its', 'itself', 'they', 'them', 'their', 'theirs', 'themselves', 'what', 'which', 'who', 'whom', 'this', 'that', \"that'll\", 'these', 'those', 'am', 'is', 'are', 'was', 'were', 'be', 'been', 'being', 'have', 'has', 'had', 'having', 'do', 'does', 'did', 'doing', 'a', 'an', 'the', 'and', 'but', 'if', 'or', 'because', 'as', 'until', 'while', 'of', 'at', 'by', 'for', 'with', 'about', 'against', 'between', 'into', 'through', 'during', 'before', 'after', 'above', 'below', 'to', 'from', 'up', 'down', 'in', 'out', 'on', 'off', 'over', 'under', 'again', 'further', 'then', 'once', 'here', 'there', 'when', 'where', 'why', 'how', 'all', 'any', 'both', 'each', 'few', 'more', 'most', 'other', 'some', 'such', 'no', 'nor', 'not', 'only', 'own', 'same', 'so', 'than', 'too', 'very', 's', 't', 'can', 'will', 'just', 'don', \"don't\", 'should', \"should've\", 'now', 'd', 'll', 'm', 'o', 're', 've', 'y', 'ain', 'aren', \"aren't\", 'couldn', \"couldn't\", 'didn', \"didn't\", 'doesn', \"doesn't\", 'hadn', \"hadn't\", 'hasn', \"hasn't\", 'haven', \"haven't\", 'isn', \"isn't\", 'ma', 'mightn', \"mightn't\", 'mustn', \"mustn't\", 'needn', \"needn't\", 'shan', \"shan't\", 'shouldn', \"shouldn't\", 'wasn', \"wasn't\", 'weren', \"weren't\", 'won', \"won't\", 'wouldn', \"wouldn't\"]\n"
     ]
    }
   ],
   "source": [
    "# NLTK에서 제공하는 불용어 리스트\n",
    "print('불용어 개수 : ', len(stopwords.words('english')))\n",
    "print(stopwords.words('english'))"
   ]
  },
  {
   "cell_type": "markdown",
   "id": "0bd0c733",
   "metadata": {},
   "source": [
    "## 데이터 전처리 함수"
   ]
  },
  {
   "cell_type": "markdown",
   "id": "7a1ce95a",
   "metadata": {},
   "source": [
    "- **NLTK를 통해 불용어(stopwords) 제거**\n",
    "\n",
    ": text에서만 적용. \n",
    "\n",
    "이미 상대적으로 문장 길이가 짧은 headlines에서 불용어를 삭제하면,\n",
    "\n",
    "Abstractive한 문장 요약 결과문이 자연스럽지 않을 것."
   ]
  },
  {
   "cell_type": "code",
   "execution_count": 10,
   "id": "e83b8cd4",
   "metadata": {},
   "outputs": [],
   "source": [
    "def preprocess_sentence(sentence, remove_stopwords=True):\n",
    "    sentence = sentence.lower()  #텍스트 소문자화\n",
    "    sentence = BeautifulSoup(sentence, \"lxml\").text  # <br />, <a href = ...> 등의 html 태그 제거\n",
    "    sentence = re.sub(r'\\([^)]*\\)', '', sentence) # 괄호로 닫힌 문자열 (...) 제거 Ex) my husband (and myself!) for => my husband for\n",
    "    sentence = re.sub('\"','', sentence) # 쌍따옴표 \" 제거\n",
    "    sentence = ' '.join([contractions[t] if t in contractions else t for t in sentence.split(\" \")]) # 약어 정규화\n",
    "    sentence = re.sub(r\"'s\\b\",\"\", sentence) # 소유격 제거. Ex) roland's -> roland\n",
    "    sentence = re.sub(\"[^a-zA-Z]\", \" \", sentence) # 영어 외 문자(숫자, 특수문자 등) 공백으로 변환\n",
    "    sentence = re.sub('[m]{2,}', 'mm', sentence) # m이 3개 이상이면 2개로 변경. Ex) ummmmmmm yeah -> umm yeah\n",
    "    \n",
    "    #불용어 제거 (Text)\n",
    "    if remove_stopwords:\n",
    "        tokens = ' '.join(word for word in sentence.split() if not word in stopwords.words('english') if len(word) > 1)\n",
    "    #불용어 미제거 (Summary)\n",
    "    else:\n",
    "        tokens = ' '.join(word for word in sentence.split() if len(word)>1)\n",
    "    return tokens"
   ]
  },
  {
   "cell_type": "markdown",
   "id": "cbbcd872",
   "metadata": {},
   "source": [
    "## 훈련 데이터 전체에 대해 적용\n",
    "- Text : 불용어 제거\n",
    "- Summary : 불용어 제거 X\n",
    "- Text, Summary 따로 호출해서 처리"
   ]
  },
  {
   "cell_type": "markdown",
   "id": "f67eba5a",
   "metadata": {},
   "source": [
    "### Text 전처리"
   ]
  },
  {
   "cell_type": "code",
   "execution_count": 11,
   "id": "e771db17",
   "metadata": {},
   "outputs": [],
   "source": [
    "clean_text = []\n",
    "for s in data['text']:\n",
    "    clean_text.append(preprocess_sentence(s))"
   ]
  },
  {
   "cell_type": "markdown",
   "id": "8315db56",
   "metadata": {},
   "source": [
    "### headlines 전처리"
   ]
  },
  {
   "cell_type": "code",
   "execution_count": 12,
   "id": "1527654f",
   "metadata": {},
   "outputs": [],
   "source": [
    "clean_headlines = []\n",
    "for s in data['headlines']:\n",
    "    clean_headlines.append(preprocess_sentence(s))"
   ]
  },
  {
   "cell_type": "markdown",
   "id": "5bd3b941",
   "metadata": {},
   "source": [
    "정제 과정에서 문장의 모든 단어가 사라지는 경우가 있을 수도 있기 때문에\n",
    "\n",
    "텍스트 정제의 과정을 거친 후에 다시 한 번 **빈(empty) 샘플**이 생겼는지 확인"
   ]
  },
  {
   "cell_type": "markdown",
   "id": "03b1aa5c",
   "metadata": {},
   "source": [
    "**쉽게 확인하기 위해 데이터들을 데이터 프레임에 저장**\n",
    "- 빈(empty) 값을 가진 샘플들이 있다면 모두 Null값을 가진 샘플로 대체"
   ]
  },
  {
   "cell_type": "code",
   "execution_count": 13,
   "id": "162c503e",
   "metadata": {},
   "outputs": [],
   "source": [
    "data['text'] = clean_text\n",
    "data['headlines'] = clean_headlines\n",
    "\n",
    "#빈 값을 Null값으로 반환\n",
    "data.replace('', np.nan, inplace=True)"
   ]
  },
  {
   "cell_type": "code",
   "execution_count": 14,
   "id": "732dbf26",
   "metadata": {},
   "outputs": [
    {
     "data": {
      "text/plain": [
       "headlines    0\n",
       "text         0\n",
       "dtype: int64"
      ]
     },
     "execution_count": 14,
     "metadata": {},
     "output_type": "execute_result"
    }
   ],
   "source": [
    "#결측치 확인\n",
    "data.isnull().sum()\n",
    "\n",
    "#결측치 없음!"
   ]
  },
  {
   "cell_type": "markdown",
   "id": "293895ca",
   "metadata": {},
   "source": [
    "### 데이터의 길이 시각화"
   ]
  },
  {
   "cell_type": "code",
   "execution_count": 15,
   "id": "b5324ccd",
   "metadata": {},
   "outputs": [
    {
     "name": "stdout",
     "output_type": "stream",
     "text": [
      "텍스트의 최소 길이 : 1\n",
      "텍스트의 최대 길이 : 60\n",
      "텍스트의 평균 길이 : 35.09968483123221\n",
      "기사제목의 최소 길이 : 1\n",
      "기사제목의 최대 길이 : 13\n",
      "기사제목의 평균 길이 : 7.136183407889386\n"
     ]
    },
    {
     "data": {
      "image/png": "[encoded data removed]",
      "text/plain": [
       "<Figure size 432x288 with 2 Axes>"
      ]
     },
     "metadata": {
      "needs_background": "light"
     },
     "output_type": "display_data"
    },
    {
     "data": {
      "image/png": "[encoded data removed]",
      "text/plain": [
       "<Figure size 432x288 with 1 Axes>"
      ]
     },
     "metadata": {
      "needs_background": "light"
     },
     "output_type": "display_data"
    },
    {
     "data": {
      "image/png": "[encoded data removed]",
      "text/plain": [
       "<Figure size 432x288 with 1 Axes>"
      ]
     },
     "metadata": {
      "needs_background": "light"
     },
     "output_type": "display_data"
    }
   ],
   "source": [
    "import matplotlib.pyplot as plt\n",
    "\n",
    "text_len = [len(s.split()) for s in data['text']]\n",
    "headlines_len = [len(s.split()) for s in data['headlines']]\n",
    "\n",
    "print('텍스트의 최소 길이 : {}'.format(np.min(text_len)))\n",
    "print('텍스트의 최대 길이 : {}'.format(np.max(text_len)))\n",
    "print('텍스트의 평균 길이 : {}'.format(np.mean(text_len)))\n",
    "print('기사제목의 최소 길이 : {}'.format(np.min(headlines_len)))\n",
    "print('기사제목의 최대 길이 : {}'.format(np.max(headlines_len)))\n",
    "print('기사제목의 평균 길이 : {}'.format(np.mean(headlines_len)))\n",
    "\n",
    "plt.subplot(1,2,1)\n",
    "plt.boxplot(text_len)\n",
    "plt.title('Text')\n",
    "plt.subplot(1,2,2)\n",
    "plt.boxplot(headlines_len)\n",
    "plt.title('Headlines')\n",
    "plt.tight_layout()\n",
    "plt.show()\n",
    "\n",
    "plt.title('Text')\n",
    "plt.hist(text_len, bins=40)\n",
    "plt.xlabel('length of samples')\n",
    "plt.ylabel('number of samples')\n",
    "plt.show()\n",
    "\n",
    "plt.title('Headlines')\n",
    "plt.hist(headlines_len , bins = 40)\n",
    "plt.xlabel('length of samples')\n",
    "plt.ylabel('number of samples')\n",
    "plt.show()"
   ]
  },
  {
   "cell_type": "markdown",
   "id": "ec35c428",
   "metadata": {},
   "source": [
    "### Text, Headlines의 적절한 최대길이를 임의로 지정"
   ]
  },
  {
   "cell_type": "code",
   "execution_count": 16,
   "id": "b1d4b57a",
   "metadata": {},
   "outputs": [],
   "source": [
    "text_max_len = 45\n",
    "headlines_max_len = 10"
   ]
  },
  {
   "cell_type": "markdown",
   "id": "00fd9513",
   "metadata": {},
   "source": [
    "box plot 을 기준으로 (Q3 + 1.5 * IQR)에 해당하는 Maximum line을 기준으로 max_len을 설정했다."
   ]
  },
  {
   "cell_type": "markdown",
   "id": "36e729ea",
   "metadata": {},
   "source": [
    "### 훈련 데이터와 샘플의 길이를 입력하면 데이터의 몇%가 해당되는지 계산하는 함수"
   ]
  },
  {
   "cell_type": "code",
   "execution_count": 17,
   "id": "ebec1715",
   "metadata": {},
   "outputs": [],
   "source": [
    "def below_threshold_len(max_len, nested_list):\n",
    "    cnt = 0\n",
    "    for s in nested_list:\n",
    "        if(len(s.split())) <= max_len:\n",
    "            cnt += 1\n",
    "    print('전체 샘플 중 길이가 %s 이하인 샘플의 비율 : %s'%(max_len, (cnt/len(nested_list)) ))"
   ]
  },
  {
   "cell_type": "code",
   "execution_count": 18,
   "id": "f98f4e9c",
   "metadata": {},
   "outputs": [
    {
     "name": "stdout",
     "output_type": "stream",
     "text": [
      "전체 샘플 중 길이가 45 이하인 샘플의 비율 : 0.9967771451809678\n",
      "전체 샘플 중 길이가 10 이하인 샘플의 비율 : 0.9978344855632371\n"
     ]
    }
   ],
   "source": [
    "below_threshold_len(text_max_len, data['text'])\n",
    "below_threshold_len(headlines_max_len, data['headlines'])"
   ]
  },
  {
   "cell_type": "markdown",
   "id": "a02e2202",
   "metadata": {},
   "source": [
    "max len값을 설정한 의미가 없을 정도로 너무 많이 포함되는 것 같아서 max_len의 값을 줄여보았다."
   ]
  },
  {
   "cell_type": "code",
   "execution_count": 23,
   "id": "da2576bf",
   "metadata": {},
   "outputs": [],
   "source": [
    "text_max_len = 40\n",
    "headlines_max_len = 9"
   ]
  },
  {
   "cell_type": "code",
   "execution_count": 24,
   "id": "b414e5a0",
   "metadata": {},
   "outputs": [
    {
     "name": "stdout",
     "output_type": "stream",
     "text": [
      "전체 샘플 중 길이가 40 이하인 샘플의 비율 : 0.9238714924766165\n",
      "전체 샘플 중 길이가 9 이하인 샘플의 비율 : 0.9826250508336722\n"
     ]
    }
   ],
   "source": [
    "below_threshold_len(text_max_len, data['text'])\n",
    "below_threshold_len(headlines_max_len, data['headlines'])"
   ]
  },
  {
   "cell_type": "markdown",
   "id": "bbcc40d9",
   "metadata": {},
   "source": [
    "### 정해진 길이에 맞춰 자르는 것이 아니라, 정해진 길이보다 길면 제외하는 방식으로 정제"
   ]
  },
  {
   "cell_type": "code",
   "execution_count": 25,
   "id": "aaedb31c",
   "metadata": {},
   "outputs": [],
   "source": [
    "data = data[data['text'].apply(lambda x : len(x.split()) <= text_max_len)]\n",
    "data = data[data['headlines'].apply(lambda x : len(x.split()) <= headlines_max_len)]"
   ]
  },
  {
   "cell_type": "code",
   "execution_count": 26,
   "id": "e650c5fa",
   "metadata": {},
   "outputs": [
    {
     "name": "stdout",
     "output_type": "stream",
     "text": [
      "전체 샘플 수 :  89517\n"
     ]
    }
   ],
   "source": [
    "print('전체 샘플 수 : ', len(data))"
   ]
  },
  {
   "cell_type": "markdown",
   "id": "914eb2c2",
   "metadata": {},
   "source": [
    "## 시작 토큰과 종료 토큰 추가하기\n",
    "- 디코더는 시작 토큰을 입력받아 문장을 생성하기 시작하고, 종료토큰을 예측한 순간에 문장 생성을 멈춤"
   ]
  },
  {
   "cell_type": "code",
   "execution_count": 27,
   "id": "92c869d4",
   "metadata": {},
   "outputs": [
    {
     "data": {
      "text/html": [
       "<div>\n",
       "<style scoped>\n",
       "    .dataframe tbody tr th:only-of-type {\n",
       "        vertical-align: middle;\n",
       "    }\n",
       "\n",
       "    .dataframe tbody tr th {\n",
       "        vertical-align: top;\n",
       "    }\n",
       "\n",
       "    .dataframe thead th {\n",
       "        text-align: right;\n",
       "    }\n",
       "</style>\n",
       "<table border=\"1\" class=\"dataframe\">\n",
       "  <thead>\n",
       "    <tr style=\"text-align: right;\">\n",
       "      <th></th>\n",
       "      <th>headlines</th>\n",
       "      <th>text</th>\n",
       "      <th>decoder_input</th>\n",
       "      <th>decoder_target</th>\n",
       "    </tr>\n",
       "  </thead>\n",
       "  <tbody>\n",
       "    <tr>\n",
       "      <th>0</th>\n",
       "      <td>upgrad learner switches career ml al salary hike</td>\n",
       "      <td>saurav kant alumnus upgrad iiit pg program mac...</td>\n",
       "      <td>sostoken upgrad learner switches career ml al ...</td>\n",
       "      <td>upgrad learner switches career ml al salary hi...</td>\n",
       "    </tr>\n",
       "    <tr>\n",
       "      <th>3</th>\n",
       "      <td>aegon life iterm insurance plan helps customer...</td>\n",
       "      <td>aegon life iterm insurance plan customers enjo...</td>\n",
       "      <td>sostoken aegon life iterm insurance plan helps...</td>\n",
       "      <td>aegon life iterm insurance plan helps customer...</td>\n",
       "    </tr>\n",
       "    <tr>\n",
       "      <th>4</th>\n",
       "      <td>known hirani yrs metoo claims true sonam</td>\n",
       "      <td>speaking sexual harassment allegations rajkuma...</td>\n",
       "      <td>sostoken known hirani yrs metoo claims true sonam</td>\n",
       "      <td>known hirani yrs metoo claims true sonam eostoken</td>\n",
       "    </tr>\n",
       "    <tr>\n",
       "      <th>5</th>\n",
       "      <td>rahat fateh ali khan denies getting notice smu...</td>\n",
       "      <td>pakistani singer rahat fateh ali khan denied r...</td>\n",
       "      <td>sostoken rahat fateh ali khan denies getting n...</td>\n",
       "      <td>rahat fateh ali khan denies getting notice smu...</td>\n",
       "    </tr>\n",
       "    <tr>\n",
       "      <th>6</th>\n",
       "      <td>india get lowest odi total new zealand</td>\n",
       "      <td>india recorded lowest odi total new zealand ge...</td>\n",
       "      <td>sostoken india get lowest odi total new zealand</td>\n",
       "      <td>india get lowest odi total new zealand eostoken</td>\n",
       "    </tr>\n",
       "  </tbody>\n",
       "</table>\n",
       "</div>"
      ],
      "text/plain": [
       "                                           headlines  \\\n",
       "0   upgrad learner switches career ml al salary hike   \n",
       "3  aegon life iterm insurance plan helps customer...   \n",
       "4           known hirani yrs metoo claims true sonam   \n",
       "5  rahat fateh ali khan denies getting notice smu...   \n",
       "6             india get lowest odi total new zealand   \n",
       "\n",
       "                                                text  \\\n",
       "0  saurav kant alumnus upgrad iiit pg program mac...   \n",
       "3  aegon life iterm insurance plan customers enjo...   \n",
       "4  speaking sexual harassment allegations rajkuma...   \n",
       "5  pakistani singer rahat fateh ali khan denied r...   \n",
       "6  india recorded lowest odi total new zealand ge...   \n",
       "\n",
       "                                       decoder_input  \\\n",
       "0  sostoken upgrad learner switches career ml al ...   \n",
       "3  sostoken aegon life iterm insurance plan helps...   \n",
       "4  sostoken known hirani yrs metoo claims true sonam   \n",
       "5  sostoken rahat fateh ali khan denies getting n...   \n",
       "6    sostoken india get lowest odi total new zealand   \n",
       "\n",
       "                                      decoder_target  \n",
       "0  upgrad learner switches career ml al salary hi...  \n",
       "3  aegon life iterm insurance plan helps customer...  \n",
       "4  known hirani yrs metoo claims true sonam eostoken  \n",
       "5  rahat fateh ali khan denies getting notice smu...  \n",
       "6    india get lowest odi total new zealand eostoken  "
      ]
     },
     "execution_count": 27,
     "metadata": {},
     "output_type": "execute_result"
    }
   ],
   "source": [
    "#시작 토큰 : sostoken\n",
    "#종료 토큰 : eostoken\n",
    "#디코더의 입력에 해당하면서 시작 토큰이 맨 앞에 있는 문장의 이름 : decoder_input\n",
    "#디코더의 출력 또는 레이블에 해당하면서 종료 토큰이 맨 뒤에 붙는 문장의 이름 : decoder_target\n",
    "\n",
    "#요약 데이터에 시작 토큰과 종료 토큰을 추가\n",
    "data['decoder_input'] = data['headlines'].apply(lambda x : 'sostoken ' + x)\n",
    "data['decoder_target'] = data['headlines'].apply(lambda x : x + ' eostoken')\n",
    "\n",
    "data.head()"
   ]
  },
  {
   "cell_type": "markdown",
   "id": "23ea537e",
   "metadata": {},
   "source": [
    "시작 토큰과 종료 토큰이 잘 적용되었다."
   ]
  },
  {
   "cell_type": "markdown",
   "id": "d9fe5625",
   "metadata": {},
   "source": [
    "### 인코더의 입력, 디코더의 입력과 레이블을 각각 numpy 타입으로 저장"
   ]
  },
  {
   "cell_type": "code",
   "execution_count": 28,
   "id": "65f48b6e",
   "metadata": {},
   "outputs": [],
   "source": [
    "encoder_input = np.array(data['text'])  #인코더의 입력\n",
    "decoder_input = np.array(data['decoder_input'])   #디코더의 입력\n",
    "decoder_target = np.array(data['decoder_target'])  #디코더의 레이블"
   ]
  },
  {
   "cell_type": "markdown",
   "id": "48f603d0",
   "metadata": {},
   "source": [
    "## 훈련 데이터, 테스트 데이터 분리"
   ]
  },
  {
   "cell_type": "markdown",
   "id": "450f405b",
   "metadata": {},
   "source": [
    "### encoder_input 크기와 형태가 같은 순서가 섞인 정수 시퀀스 생성"
   ]
  },
  {
   "cell_type": "code",
   "execution_count": 29,
   "id": "1b95e14f",
   "metadata": {},
   "outputs": [
    {
     "name": "stdout",
     "output_type": "stream",
     "text": [
      "[64572 17351 17511 ... 26284 68179  4926]\n"
     ]
    }
   ],
   "source": [
    "indices = np.arange(encoder_input.shape[0])\n",
    "np.random.shuffle(indices) #랜덤으로 섞기\n",
    "print(indices)"
   ]
  },
  {
   "cell_type": "code",
   "execution_count": 30,
   "id": "cf8b8b40",
   "metadata": {},
   "outputs": [
    {
     "data": {
      "text/plain": [
       "(89517,)"
      ]
     },
     "execution_count": 30,
     "metadata": {},
     "output_type": "execute_result"
    }
   ],
   "source": [
    "encoder_input.shape"
   ]
  },
  {
   "cell_type": "code",
   "execution_count": 31,
   "id": "ad128ddc",
   "metadata": {},
   "outputs": [
    {
     "data": {
      "text/plain": [
       "array([    0,     1,     2, ..., 89514, 89515, 89516])"
      ]
     },
     "execution_count": 31,
     "metadata": {},
     "output_type": "execute_result"
    }
   ],
   "source": [
    "np.arange(encoder_input.shape[0])\n",
    "\n",
    "#encoder_input.shape[0] : encoder_input의 개수\n",
    "#그만큼 정수 생성 (0부터 81913까지)"
   ]
  },
  {
   "cell_type": "code",
   "execution_count": 32,
   "id": "1f363e34",
   "metadata": {},
   "outputs": [
    {
     "data": {
      "text/plain": [
       "array([64572, 17351, 17511, ..., 26284, 68179,  4926])"
      ]
     },
     "execution_count": 32,
     "metadata": {},
     "output_type": "execute_result"
    }
   ],
   "source": [
    "indices\n",
    "#잘 섞임"
   ]
  },
  {
   "cell_type": "markdown",
   "id": "fa7d2d6b",
   "metadata": {},
   "source": [
    "### indices를 이용해 다시 데이터의 샘플 순서를 정의"
   ]
  },
  {
   "cell_type": "code",
   "execution_count": 33,
   "id": "7c43666d",
   "metadata": {},
   "outputs": [],
   "source": [
    "encoder_input = encoder_input[indices]\n",
    "decoder_input = decoder_input[indices]\n",
    "decoder_target = decoder_target[indices]"
   ]
  },
  {
   "cell_type": "markdown",
   "id": "34f4265d",
   "metadata": {},
   "source": [
    "### 8:2 비율로 분리"
   ]
  },
  {
   "cell_type": "code",
   "execution_count": 34,
   "id": "9665d2bc",
   "metadata": {},
   "outputs": [
    {
     "name": "stdout",
     "output_type": "stream",
     "text": [
      "테스트 데이터의 수 :  17903\n"
     ]
    }
   ],
   "source": [
    "n_of_val = int(len(encoder_input) * 0.2)\n",
    "print('테스트 데이터의 수 : ', n_of_val)"
   ]
  },
  {
   "cell_type": "code",
   "execution_count": 35,
   "id": "1551f1c8",
   "metadata": {},
   "outputs": [
    {
     "name": "stdout",
     "output_type": "stream",
     "text": [
      "훈련 데이터의 개수 : 71614\n",
      "훈련 레이블의 개수 : 71614\n",
      "테스트 데이터의 개수 : 17903\n",
      "테스트 레이블의 개수 : 17903\n"
     ]
    }
   ],
   "source": [
    "encoder_input_train = encoder_input[:-n_of_val]\n",
    "decoder_input_train = decoder_input[:-n_of_val]\n",
    "decoder_target_train = decoder_target[:-n_of_val]\n",
    "\n",
    "encoder_input_test = encoder_input[-n_of_val:]\n",
    "decoder_input_test = decoder_input[-n_of_val:]\n",
    "decoder_target_test = decoder_target[-n_of_val:]\n",
    "\n",
    "print('훈련 데이터의 개수 :', len(encoder_input_train))\n",
    "print('훈련 레이블의 개수 :', len(decoder_input_train))\n",
    "print('테스트 데이터의 개수 :', len(encoder_input_test))\n",
    "print('테스트 레이블의 개수 :', len(decoder_input_test))"
   ]
  },
  {
   "cell_type": "markdown",
   "id": "0522525a",
   "metadata": {},
   "source": [
    "## 단어 집합 만들기 및 정수 인코딩\n",
    "- 각 단어에 고유한 정수를 맵핑하는 작업"
   ]
  },
  {
   "cell_type": "code",
   "execution_count": 36,
   "id": "8845d8e5",
   "metadata": {},
   "outputs": [],
   "source": [
    "#원문에 해당하는 encoder_input_train에 대해서 단어집합 생성\n",
    "\n",
    "src_tokenizer = Tokenizer()    # 토크나이저 정의\n",
    "src_tokenizer.fit_on_texts(encoder_input_train)   #입력된 데이터로부터 단어 집합 생성\n",
    "\n",
    "#생성된 단어 집합은 src_tokenizer.word_index에 저장되어 있음"
   ]
  },
  {
   "cell_type": "markdown",
   "id": "b1d7eefe",
   "metadata": {},
   "source": [
    "- **src_tokenizer.word_counts.items()**에는 각 단어의 등장 빈도수가 저장되어 있는데,\n",
    "\n",
    "  이를 통해서 통계적인 정보를 얻을 수 있음.\n",
    "  \n",
    "  \n",
    "### 등장 빈도수가 7회 미만인 단어들이 이 데이터에서 얼만큼의 비중을 차지하는 지 확인"
   ]
  },
  {
   "cell_type": "code",
   "execution_count": 37,
   "id": "c99c9a71",
   "metadata": {},
   "outputs": [
    {
     "name": "stdout",
     "output_type": "stream",
     "text": [
      "단어 집합(vocabulary)의 크기 : 65358\n",
      "등장 빈도가 6번 이하인 희귀 단어의 수: 44490\n",
      "단어 집합에서 희귀 단어를 제외시킬 경우의 단어 집합의 크기 20868\n",
      "단어 집합에서 희귀 단어의 비율: 68.07123840998807\n",
      "전체 등장 빈도에서 희귀 단어 등장 빈도 비율: 3.664432595625583\n"
     ]
    }
   ],
   "source": [
    "threshold = 7\n",
    "total_cnt = len(src_tokenizer.word_index)  #단어의 수\n",
    "rare_cnt = 0   #등장 빈도수가 threshold 보다 작은 단어의 개수를 카운트\n",
    "total_freq = 0  #훈련 데이터의 전체 단어 빈도수 총 합\n",
    "rare_freq = 0   #등장 빈도수가 threshold보다 작은 단어의 등장 빈도수 총 합\n",
    "\n",
    "#단어와 빈도수의 쌍(pair)을 key와 value로 받음\n",
    "for key, value in src_tokenizer.word_counts.items():   # 딕셔너리 형태\n",
    "    total_freq = total_freq + value\n",
    "    \n",
    "    #단어의 등장 빈도수가 threshold보다 작으면\n",
    "    if(value < threshold):\n",
    "        rare_cnt = rare_cnt + 1\n",
    "        rare_freq = rare_freq + value\n",
    "        \n",
    "print('단어 집합(vocabulary)의 크기 :', total_cnt)\n",
    "print('등장 빈도가 %s번 이하인 희귀 단어의 수: %s'%(threshold - 1, rare_cnt))\n",
    "print('단어 집합에서 희귀 단어를 제외시킬 경우의 단어 집합의 크기 %s'%(total_cnt - rare_cnt))\n",
    "print(\"단어 집합에서 희귀 단어의 비율:\", (rare_cnt / total_cnt)*100)\n",
    "print(\"전체 등장 빈도에서 희귀 단어 등장 빈도 비율:\", (rare_freq / total_freq)*100)"
   ]
  },
  {
   "cell_type": "markdown",
   "id": "4cbb197f",
   "metadata": {},
   "source": [
    "등장 빈도가 6회 이하인 단어들은 단어 집합에서 약 68%를 차지하지만, 실제로 훈련 데이터에서 적은 수치인 3.66%\n",
    "\n",
    "따라서 등장 빈도가 6회 이하인 단어들은 정수 인코딩 과정에서 빼고, 훈련데이터에서 제거.\n",
    "\n",
    "이를 제거한 단어 집합의 크기를 약 20,000개로 제한"
   ]
  },
  {
   "cell_type": "markdown",
   "id": "07a3ae34",
   "metadata": {},
   "source": [
    "- Tokenizer 정의할 때 num_words를 지정해주면 단어집합의 크기 제한 가능\n",
    "- **Tokenizer는 단어의 빈도수가 많은 순서대로 처리됨**"
   ]
  },
  {
   "cell_type": "code",
   "execution_count": 38,
   "id": "02b8c20e",
   "metadata": {},
   "outputs": [],
   "source": [
    "src_vocab = 20000\n",
    "src_tokenizer = Tokenizer(num_words=src_vocab) # 단어 집합의 크기를 20,000으로 제한\n",
    "src_tokenizer.fit_on_texts(encoder_input_train) # 단어 집합 재생성"
   ]
  },
  {
   "cell_type": "markdown",
   "id": "ed7a61e7",
   "metadata": {},
   "source": [
    "- **text_to_sequence()**\n",
    "\n",
    ": 생성된 단어 집합에 기반하여 입력으로 주어진 텍스트 데이터의 단어들을 모두 정수로 변환하는 정수 인코딩\n",
    "\n",
    "- 단어 집합의 크기를 20,000으로 제한했으니 20,000이 넘는 숫자들은 숫자 인코딩 후에는 데이터에 존재 X"
   ]
  },
  {
   "cell_type": "code",
   "execution_count": 39,
   "id": "29323c77",
   "metadata": {},
   "outputs": [],
   "source": [
    "# 텍스트 시퀀스를 정수 시퀀스로 변환\n",
    "encoder_input_train = src_tokenizer.texts_to_sequences(encoder_input_train)\n",
    "encoder_input_test = src_tokenizer.texts_to_sequences(encoder_input_test)"
   ]
  },
  {
   "cell_type": "markdown",
   "id": "00f1dcaa",
   "metadata": {},
   "source": [
    "### headlines에 대해서도 동일한 작업 수행"
   ]
  },
  {
   "cell_type": "code",
   "execution_count": 40,
   "id": "64de1dd0",
   "metadata": {},
   "outputs": [],
   "source": [
    "tar_tokenizer = Tokenizer()\n",
    "tar_tokenizer.fit_on_texts(decoder_input_train)"
   ]
  },
  {
   "cell_type": "markdown",
   "id": "10d9e194",
   "metadata": {},
   "source": [
    "### 등장 빈도 수가 5회 미만인 단어들이 이 데이터에서 얼만큼의 비중을 차지하는 지 확인"
   ]
  },
  {
   "cell_type": "code",
   "execution_count": 42,
   "id": "3daa4947",
   "metadata": {},
   "outputs": [
    {
     "name": "stdout",
     "output_type": "stream",
     "text": [
      "단어 집합(vocabulary)의 크기 : 28500\n",
      "등장 빈도가 4번 이하인 희귀 단어의 수: 17622\n",
      "단어 집합에서 희귀 단어를 제외시킬 경우의 단어 집합의 크기 10878\n",
      "단어 집합에서 희귀 단어의 비율: 61.83157894736843\n",
      "전체 등장 빈도에서 희귀 단어 등장 빈도 비율: 5.270902708246208\n"
     ]
    }
   ],
   "source": [
    "threshold = 5\n",
    "total_cnt = len(tar_tokenizer.word_index)\n",
    "rare_cnt = 0\n",
    "total_freq = 0\n",
    "rare_freq = 0\n",
    "\n",
    "# 단어와 빈도수의 쌍(pair)을 key와 value로 받는다.\n",
    "for key, value in tar_tokenizer.word_counts.items():\n",
    "    total_freq = total_freq + value\n",
    "\n",
    "    # 단어의 등장 빈도수가 threshold보다 작으면\n",
    "    if(value < threshold):\n",
    "        rare_cnt = rare_cnt + 1\n",
    "        rare_freq = rare_freq + value\n",
    "\n",
    "print('단어 집합(vocabulary)의 크기 :', total_cnt)\n",
    "print('등장 빈도가 %s번 이하인 희귀 단어의 수: %s'%(threshold - 1, rare_cnt))\n",
    "print('단어 집합에서 희귀 단어를 제외시킬 경우의 단어 집합의 크기 %s'%(total_cnt - rare_cnt))\n",
    "print(\"단어 집합에서 희귀 단어의 비율:\", (rare_cnt / total_cnt)*100)\n",
    "print(\"전체 등장 빈도에서 희귀 단어 등장 빈도 비율:\", (rare_freq / total_freq)*100)"
   ]
  },
  {
   "cell_type": "markdown",
   "id": "efe4b25e",
   "metadata": {},
   "source": [
    "등장 빈도가 4회 이하인 단어들은 단어 집합에서 약 61%를 차지하지만, \n",
    "\n",
    "실제로 훈련 데이터에서 등장 빈도로 차지하는 비중은 상대적으로 매우 적은 수치인 5.27%밖에 되지 않음.\n",
    "\n",
    "어림잡아 10,000 단어 집합의 크기로 제한"
   ]
  },
  {
   "cell_type": "code",
   "execution_count": 43,
   "id": "d1853b4b",
   "metadata": {},
   "outputs": [],
   "source": [
    "tar_vocab = 10000\n",
    "tar_tokenizer = Tokenizer(num_words=tar_vocab) \n",
    "tar_tokenizer.fit_on_texts(decoder_input_train)\n",
    "tar_tokenizer.fit_on_texts(decoder_target_train)\n",
    "\n",
    "# 텍스트 시퀀스를 정수 시퀀스로 변환\n",
    "decoder_input_train = tar_tokenizer.texts_to_sequences(decoder_input_train) \n",
    "decoder_target_train = tar_tokenizer.texts_to_sequences(decoder_target_train)\n",
    "decoder_input_test = tar_tokenizer.texts_to_sequences(decoder_input_test)\n",
    "decoder_target_test = tar_tokenizer.texts_to_sequences(decoder_target_test)"
   ]
  },
  {
   "cell_type": "markdown",
   "id": "408d6e2c",
   "metadata": {},
   "source": [
    "### Headlines 빈 샘플 지우기"
   ]
  },
  {
   "cell_type": "markdown",
   "id": "e2050a1e",
   "metadata": {},
   "source": [
    "전체 데이터에서 빈도수가 낮은 단어가 삭제되었다는 것은\n",
    "\n",
    "빈도수가 낮은 단어만으로 구성되었던 샘플들은 빈 샘플이 되었을 가능성 존재\n",
    "\n",
    "**주의할 점 !**\n",
    "\n",
    "decoder_input에는 sostoken 또는 decoder_target에는 eostoken이 추가된 상태\n",
    "\n",
    "이 두 토큰은 모든 샘플에서 등장하므로 빈도수가 샘플 수와 동일하게 매우 높음\n",
    "\n",
    "단어 집합 제한에도 삭제되지 않음\n",
    "\n",
    "따라서 **길이가 0이 된 요약문의 실제 길이는 1**\n",
    "\n",
    "길이가 0이 된 decoder_input에는 sostoken\n",
    "\n",
    "decoder_target에는 eostoken만 남아 있기 때문"
   ]
  },
  {
   "cell_type": "code",
   "execution_count": 44,
   "id": "e67e23a0",
   "metadata": {},
   "outputs": [
    {
     "name": "stdout",
     "output_type": "stream",
     "text": [
      "삭제할 훈련 데이터의 개수 : 1\n",
      "삭제할 테스트 데이터의 개수 : 0\n",
      "훈련 데이터의 개수 : 71613\n",
      "훈련 레이블의 개수 : 71613\n",
      "테스트 데이터의 개수 : 17903\n",
      "테스트 레이블의 개수 : 17903\n"
     ]
    }
   ],
   "source": [
    "#기사 제목에서 길이가 0이 된 샘플의 인덱스를 받아 삭제를 진행\n",
    "#요약문에는 sostoken, eostoken이 추가된 상태이므로 단어 집합 제한에 걸리지 않음\n",
    "#즉, 길이가 0이 된 요약문의 길이는 1\n",
    "\n",
    "drop_train = [index for index, sentence in enumerate(decoder_input_train) if len(sentence) == 1]\n",
    "drop_test = [index for index, sentence in enumerate(decoder_input_test) if len(sentence) == 1]\n",
    "\n",
    "print('삭제할 훈련 데이터의 개수 :', len(drop_train))\n",
    "print('삭제할 테스트 데이터의 개수 :', len(drop_test))\n",
    "\n",
    "encoder_input_train = [sentence for index, sentence in enumerate(encoder_input_train) if index not in drop_train]\n",
    "decoder_input_train = [sentence for index, sentence in enumerate(decoder_input_train) if index not in drop_train]\n",
    "decoder_target_train = [sentence for index, sentence in enumerate(decoder_target_train) if index not in drop_train]\n",
    "\n",
    "encoder_input_test = [sentence for index, sentence in enumerate(encoder_input_test) if index not in drop_test]\n",
    "decoder_input_test = [sentence for index, sentence in enumerate(decoder_input_test) if index not in drop_test]\n",
    "decoder_target_test = [sentence for index, sentence in enumerate(decoder_target_test) if index not in drop_test]\n",
    "\n",
    "print('훈련 데이터의 개수 :', len(encoder_input_train))\n",
    "print('훈련 레이블의 개수 :', len(decoder_input_train))\n",
    "print('테스트 데이터의 개수 :', len(encoder_input_test))\n",
    "print('테스트 레이블의 개수 :', len(decoder_input_test))\n",
    "\n",
    "#삭제할 데이터가 아주 소량"
   ]
  },
  {
   "cell_type": "markdown",
   "id": "63103944",
   "metadata": {},
   "source": [
    "### 패딩하기\n",
    "- 정해두었던 최대길이로 패딩\n",
    "- 최대 길이보다 짧은 데이터들은 0을 뒤에 넣어 최대길이로 맞춰줌"
   ]
  },
  {
   "cell_type": "code",
   "execution_count": 45,
   "id": "75234f36",
   "metadata": {},
   "outputs": [],
   "source": [
    "encoder_input_train = pad_sequences(encoder_input_train, maxlen=text_max_len, padding='post')\n",
    "encoder_input_test = pad_sequences(encoder_input_test, maxlen=text_max_len, padding='post')\n",
    "decoder_input_train = pad_sequences(decoder_input_train, maxlen=headlines_max_len, padding='post')\n",
    "decoder_target_train = pad_sequences(decoder_target_train, maxlen=headlines_max_len, padding='post')\n",
    "decoder_input_test = pad_sequences(decoder_input_test, maxlen=headlines_max_len, padding='post')\n",
    "decoder_target_test = pad_sequences(decoder_target_test, maxlen=headlines_max_len, padding='post')"
   ]
  },
  {
   "cell_type": "markdown",
   "id": "9c293c97",
   "metadata": {},
   "source": [
    "# 모델 설계하기"
   ]
  },
  {
   "cell_type": "markdown",
   "id": "6d93026f",
   "metadata": {},
   "source": [
    "## 인코더 설계"
   ]
  },
  {
   "cell_type": "code",
   "execution_count": 46,
   "id": "7c7d8ab9",
   "metadata": {},
   "outputs": [
    {
     "name": "stdout",
     "output_type": "stream",
     "text": [
      "WARNING:tensorflow:Layer lstm will not use cuDNN kernels since it doesn't meet the criteria. It will use a generic GPU kernel as fallback when running on GPU.\n",
      "WARNING:tensorflow:Layer lstm_1 will not use cuDNN kernels since it doesn't meet the criteria. It will use a generic GPU kernel as fallback when running on GPU.\n",
      "WARNING:tensorflow:Layer lstm_2 will not use cuDNN kernels since it doesn't meet the criteria. It will use a generic GPU kernel as fallback when running on GPU.\n"
     ]
    }
   ],
   "source": [
    "from tensorflow.keras.layers import Input, LSTM, Embedding, Dense, Concatenate, TimeDistributed\n",
    "from tensorflow.keras.models import Model\n",
    "from tensorflow.keras.callbacks import EarlyStopping, ModelCheckpoint\n",
    "\n",
    "#인코더 설계 시작\n",
    "embedding_dim = 128\n",
    "hidden_size = 256\n",
    "\n",
    "#인코더\n",
    "encoder_inputs = Input(shape=(text_max_len,))\n",
    "\n",
    "#인코더의 임베딩 층\n",
    "enc_emb = Embedding(src_vocab, embedding_dim)(encoder_inputs)\n",
    "\n",
    "#인코더의 LSTM 1\n",
    "encoder_lstm1 = LSTM(hidden_size, return_sequences = True, return_state=True, dropout = 0.4, recurrent_dropout = 0.4)\n",
    "encoder_output1, state_h1, state_c1 = encoder_lstm1(enc_emb)\n",
    "\n",
    "#인코더의 LSTM 2\n",
    "encoder_lstm2 = LSTM(hidden_size, return_sequences = True, return_state = True, dropout = 0.4, recurrent_dropout = 0.4)\n",
    "encoder_output2, state_h2, state_c2 = encoder_lstm2(encoder_output1)\n",
    "\n",
    "#인코더의 LSTM 3\n",
    "encoder_lstm3 = LSTM(hidden_size, return_state=True, return_sequences=True, dropout=0.4, recurrent_dropout=0.4)\n",
    "encoder_outputs, state_h, state_c= encoder_lstm3(encoder_output2)\n",
    "\n",
    "#출력된 건 recurrent dropout을 사용해서 발생한 경고\n",
    "#recurrent dropout을 사용할 시 cuDNN을 사용할 수 없어서 recurrent dropout을 사용하지 않을 때보다 학습 시간이 오래 걸림"
   ]
  },
  {
   "cell_type": "markdown",
   "id": "eb445561",
   "metadata": {},
   "source": [
    "- **hidden_state** : LSTM에서 얼만큼의 수용력(capacity)를 가질지 정하는 파라미터. LSTM의 크기, LSTM에서의 뉴런의 개수\n",
    "\n",
    "인코더의 LSTM은 **총 3개의 층으로 구성해서 모델의 복잡도를 높임**\n",
    "\n",
    "hidden_state가 LSTM 층 1개의 용량을 늘린다면,\n",
    "\n",
    "3개의 층을 사용하는 것은 모델의 용량을 늘리는 것.\n",
    "\n",
    "- **dropout** : 레이어의 weight를 랜덤으로 생략하여 모델의 과적합을 해결해주는 방법\n",
    "- **recurrent dropout** : dropout을 레이어가 아닌 time step마다 해주는 방식. time step의 입력을 랜덤으로 생략. regularization, 과적합 방지\n",
    "- **Variational Dropout** : dropout과 recurrent dropout을 같이 사용한 방식"
   ]
  },
  {
   "cell_type": "markdown",
   "id": "41aa57c1",
   "metadata": {},
   "source": [
    "## 디코더 설계"
   ]
  },
  {
   "cell_type": "code",
   "execution_count": 47,
   "id": "3d31e988",
   "metadata": {},
   "outputs": [
    {
     "name": "stdout",
     "output_type": "stream",
     "text": [
      "WARNING:tensorflow:Layer lstm_3 will not use cuDNN kernels since it doesn't meet the criteria. It will use a generic GPU kernel as fallback when running on GPU.\n"
     ]
    }
   ],
   "source": [
    "decoder_inputs = Input(shape=(None,))\n",
    "\n",
    "#디코더의 임베딩 층\n",
    "dec_emb_layer = Embedding(tar_vocab, embedding_dim)\n",
    "dec_emb = dec_emb_layer(decoder_inputs)\n",
    "\n",
    "#디코더의 LSTM\n",
    "decoder_lstm = LSTM(hidden_size, return_sequences=True, return_state=True, dropout=0.4, recurrent_dropout=0.2)\n",
    "decoder_outputs, _, _ = decoder_lstm(dec_emb, initial_state=[state_h, state_c])"
   ]
  },
  {
   "cell_type": "markdown",
   "id": "a9123c55",
   "metadata": {},
   "source": [
    "디코더의 임베딩층과 LSTM을 설계하는 것은 인코더와 거의 동일하지만\n",
    "\n",
    "LSTM의 입력을 정의할 때 **initial_state의 인자값으로 인코더의 hidden state와 cell state의 값**을 넣어줘야 함"
   ]
  },
  {
   "cell_type": "markdown",
   "id": "41f2b597",
   "metadata": {},
   "source": [
    "### 어텐션 매커니즘을 활용한 디코더 출력층 설계"
   ]
  },
  {
   "cell_type": "code",
   "execution_count": 48,
   "id": "ce7da77b",
   "metadata": {},
   "outputs": [
    {
     "name": "stdout",
     "output_type": "stream",
     "text": [
      "Model: \"model\"\n",
      "__________________________________________________________________________________________________\n",
      "Layer (type)                    Output Shape         Param #     Connected to                     \n",
      "==================================================================================================\n",
      "input_1 (InputLayer)            [(None, 40)]         0                                            \n",
      "__________________________________________________________________________________________________\n",
      "embedding (Embedding)           (None, 40, 128)      2560000     input_1[0][0]                    \n",
      "__________________________________________________________________________________________________\n",
      "lstm (LSTM)                     [(None, 40, 256), (N 394240      embedding[0][0]                  \n",
      "__________________________________________________________________________________________________\n",
      "input_2 (InputLayer)            [(None, None)]       0                                            \n",
      "__________________________________________________________________________________________________\n",
      "lstm_1 (LSTM)                   [(None, 40, 256), (N 525312      lstm[0][0]                       \n",
      "__________________________________________________________________________________________________\n",
      "embedding_1 (Embedding)         (None, None, 128)    1280000     input_2[0][0]                    \n",
      "__________________________________________________________________________________________________\n",
      "lstm_2 (LSTM)                   [(None, 40, 256), (N 525312      lstm_1[0][0]                     \n",
      "__________________________________________________________________________________________________\n",
      "lstm_3 (LSTM)                   [(None, None, 256),  394240      embedding_1[0][0]                \n",
      "                                                                 lstm_2[0][1]                     \n",
      "                                                                 lstm_2[0][2]                     \n",
      "__________________________________________________________________________________________________\n",
      "attention_layer (AdditiveAttent (None, None, 256)    256         lstm_3[0][0]                     \n",
      "                                                                 lstm_2[0][0]                     \n",
      "__________________________________________________________________________________________________\n",
      "concat_layer (Concatenate)      (None, None, 512)    0           lstm_3[0][0]                     \n",
      "                                                                 attention_layer[0][0]            \n",
      "__________________________________________________________________________________________________\n",
      "dense (Dense)                   (None, None, 10000)  5130000     concat_layer[0][0]               \n",
      "==================================================================================================\n",
      "Total params: 10,809,360\n",
      "Trainable params: 10,809,360\n",
      "Non-trainable params: 0\n",
      "__________________________________________________________________________________________________\n"
     ]
    }
   ],
   "source": [
    "from tensorflow.keras.layers import AdditiveAttention\n",
    "\n",
    "#어텐션 층(어텐션 함수)\n",
    "attn_layer = AdditiveAttention(name='attention_layer')\n",
    "\n",
    "#인코더와 디코더의 모든 time step의 hidden state를 어텐션 층에 전달하고 결과를 리턴\n",
    "attn_out = attn_layer([decoder_outputs, encoder_outputs])\n",
    "\n",
    "#어텐션의 결과와 디코더의 hidden state들을 연결\n",
    "decoder_concat_input = Concatenate(axis=-1, name='concat_layer')([decoder_outputs, attn_out])\n",
    "\n",
    "#디코더의 출력층\n",
    "decoder_softmax_layer = Dense(tar_vocab, activation='softmax')\n",
    "decoder_softmax_outputs = decoder_softmax_layer(decoder_concat_input)\n",
    "\n",
    "#모델 정의\n",
    "model = Model([encoder_inputs, decoder_inputs], decoder_softmax_outputs)\n",
    "model.summary()"
   ]
  },
  {
   "cell_type": "markdown",
   "id": "0c292cea",
   "metadata": {},
   "source": [
    "디코더의 출력층에서는 Summary의 단어장인 tar_vocab의 수많은 선택지 중 하나의 단어를 선택하는 **다중 클래스 분류 문제**를 풀어야 함\n",
    "\n",
    "그렇기 때문에 **Dense의 인자로 tar_vocab**을 주고 활성화 함수로 **softmax 함수를 사용**"
   ]
  },
  {
   "cell_type": "code",
   "execution_count": 49,
   "id": "6b82bf0e",
   "metadata": {},
   "outputs": [
    {
     "name": "stdout",
     "output_type": "stream",
     "text": [
      "Epoch 1/50\n",
      "280/280 [==============================] - 157s 530ms/step - loss: 6.1530 - val_loss: 5.7977\n",
      "Epoch 2/50\n",
      "280/280 [==============================] - 147s 526ms/step - loss: 5.6178 - val_loss: 5.4286\n",
      "Epoch 3/50\n",
      "280/280 [==============================] - 148s 529ms/step - loss: 5.2909 - val_loss: 5.1470\n",
      "Epoch 4/50\n",
      "280/280 [==============================] - 148s 528ms/step - loss: 5.0134 - val_loss: 4.9082\n",
      "Epoch 5/50\n",
      "280/280 [==============================] - 150s 535ms/step - loss: 4.7686 - val_loss: 4.7523\n",
      "Epoch 6/50\n",
      "280/280 [==============================] - 149s 531ms/step - loss: 4.5677 - val_loss: 4.6212\n",
      "Epoch 7/50\n",
      "280/280 [==============================] - 148s 528ms/step - loss: 4.4021 - val_loss: 4.5320\n",
      "Epoch 8/50\n",
      "280/280 [==============================] - 147s 526ms/step - loss: 4.2592 - val_loss: 4.4549\n",
      "Epoch 9/50\n",
      "280/280 [==============================] - 146s 523ms/step - loss: 4.1303 - val_loss: 4.4002\n",
      "Epoch 10/50\n",
      "280/280 [==============================] - 147s 524ms/step - loss: 4.0152 - val_loss: 4.3404\n",
      "Epoch 11/50\n",
      "280/280 [==============================] - 148s 527ms/step - loss: 3.9146 - val_loss: 4.3080\n",
      "Epoch 12/50\n",
      "280/280 [==============================] - 147s 524ms/step - loss: 3.8219 - val_loss: 4.2707\n",
      "Epoch 13/50\n",
      "280/280 [==============================] - 147s 526ms/step - loss: 3.7302 - val_loss: 4.2400\n",
      "Epoch 14/50\n",
      "280/280 [==============================] - 147s 524ms/step - loss: 3.6524 - val_loss: 4.2212\n",
      "Epoch 15/50\n",
      "280/280 [==============================] - 147s 525ms/step - loss: 3.5809 - val_loss: 4.1993\n",
      "Epoch 16/50\n",
      "280/280 [==============================] - 147s 527ms/step - loss: 3.5116 - val_loss: 4.1831\n",
      "Epoch 17/50\n",
      "280/280 [==============================] - 148s 527ms/step - loss: 3.4475 - val_loss: 4.1752\n",
      "Epoch 18/50\n",
      "280/280 [==============================] - 148s 528ms/step - loss: 3.3884 - val_loss: 4.1653\n",
      "Epoch 19/50\n",
      "280/280 [==============================] - 148s 528ms/step - loss: 3.3246 - val_loss: 4.1623\n",
      "Epoch 20/50\n",
      "280/280 [==============================] - 147s 527ms/step - loss: 3.2639 - val_loss: 4.1512\n",
      "Epoch 21/50\n",
      "280/280 [==============================] - 147s 525ms/step - loss: 3.2109 - val_loss: 4.1488\n",
      "Epoch 22/50\n",
      "280/280 [==============================] - 148s 527ms/step - loss: 3.1648 - val_loss: 4.1356\n",
      "Epoch 23/50\n",
      "280/280 [==============================] - 147s 526ms/step - loss: 3.1235 - val_loss: 4.1404\n",
      "Epoch 24/50\n",
      "280/280 [==============================] - 147s 527ms/step - loss: 3.0805 - val_loss: 4.1499\n",
      "Epoch 00024: early stopping\n"
     ]
    }
   ],
   "source": [
    "model.compile(optimizer='rmsprop', loss='sparse_categorical_crossentropy')\n",
    "es = EarlyStopping(monitor='val_loss', patience=2, verbose=1)\n",
    "                 # val_loss(검증 데이터의 손실)를 관찰하다가 검증 데이터의 손실이 증가하는 현상이 2회(patience=2) 관측되면 학습을 멈춤\n",
    "                 # EarlyStopping이 작동한다면 epochs가 아무리 많아도 모델 훈련을 최적점에서 멈출 수 있음\n",
    "history = model.fit(x=[encoder_input_train, decoder_input_train], y=decoder_target_train, \\\n",
    "          validation_data=([encoder_input_test, decoder_input_test], decoder_target_test), \\\n",
    "          batch_size=256, callbacks=[es], epochs=50)"
   ]
  },
  {
   "cell_type": "markdown",
   "id": "a91db9b8",
   "metadata": {},
   "source": [
    "# 인퍼런스 모델 구현"
   ]
  },
  {
   "cell_type": "markdown",
   "id": "d0415d31",
   "metadata": {},
   "source": [
    "테스트 단계에서는 **정수 인덱스 행렬로 존재하던 텍스트 데이터를 실제 데이터로 복원**해야 하므로, \n",
    "\n",
    "필요한 3개의 사전을 아래와 같이 미리 준비"
   ]
  },
  {
   "cell_type": "code",
   "execution_count": 50,
   "id": "b18a882e",
   "metadata": {},
   "outputs": [],
   "source": [
    "src_index_to_word = src_tokenizer.index_word #원문 단어 집합에서 정수 -> 단어를 얻음\n",
    "tar_word_to_index = tar_tokenizer.word_index #요약 단어 집합에서 단어 -> 정수를 얻음\n",
    "tar_index_to_word = tar_tokenizer.index_word #요약 단어 집합에서 정수 -> 단어를 얻음"
   ]
  },
  {
   "cell_type": "markdown",
   "id": "c0e73cc0",
   "metadata": {},
   "source": [
    "- **seq2seq는 훈련할 때와 실제 동작할 때(인퍼런스 단계)의 방식이 다르므로 그에 맞게 모델 설계를 별개로 진행해야 함**\n",
    "\n",
    ": **훈련 단계**에서는 디코더의 입력부에 정답이 되는 문장 전체를 한꺼번에 넣고 디코더의 출력과 한 번에 비교할 수 있으므로, \n",
    "\n",
    " 인코더와 디코더를 엮은 통짜 모델 하나만 준비\n",
    " \n",
    ": 정답 문장이 없는 **인퍼런스 단계**에서는 만들어야 할 문장의 길이만큼 디코더가 반복 구조로 동작해야 하기 때문에 \n",
    "\n",
    " 부득이하게 인퍼런스를 위한 모델 설계를 별도로 해주어야 함 \n",
    " \n",
    " 이때는 인코더 모델과 디코더 모델을 분리해서 설계"
   ]
  },
  {
   "cell_type": "code",
   "execution_count": 51,
   "id": "c5bcf0f6",
   "metadata": {},
   "outputs": [],
   "source": [
    "# 인코더 설계\n",
    "encoder_model = Model(inputs=encoder_inputs, outputs=[encoder_outputs, state_h, state_c])\n",
    "\n",
    "# 이전 시점의 상태들을 저장하는 텐서\n",
    "decoder_state_input_h = Input(shape=(hidden_size,))\n",
    "decoder_state_input_c = Input(shape=(hidden_size,))\n",
    "\n",
    "dec_emb2 = dec_emb_layer(decoder_inputs)\n",
    "\n",
    "# 문장의 다음 단어를 예측하기 위해 초기상태(initial_state)를 이전 시점의 상태로 사용\n",
    "# 이는 뒤의 함수 decode_sequence()에 구현\n",
    "# 훈련 과정에서와 달리 LSTM의 리턴하는 은닉 상태와 셀 상태인 state_h와 state_c를 버리지 않음.\n",
    "\n",
    "decoder_outputs2, state_h2, state_c2 = decoder_lstm(dec_emb2, initial_state=[decoder_state_input_h, decoder_state_input_c])"
   ]
  },
  {
   "cell_type": "code",
   "execution_count": 55,
   "id": "11b339c4",
   "metadata": {},
   "outputs": [],
   "source": [
    "# 어텐션 함수\n",
    "decoder_hidden_state_input = Input(shape=(text_max_len, hidden_size))\n",
    "attn_out_inf = attn_layer([decoder_outputs2, decoder_hidden_state_input])\n",
    "decoder_inf_concat = Concatenate(axis=-1, name='concat')([decoder_outputs2, attn_out_inf])\n",
    "\n",
    "# 디코더의 출력층\n",
    "decoder_outputs2 = decoder_softmax_layer(decoder_inf_concat) \n",
    "\n",
    "# 최종 디코더 모델\n",
    "decoder_model = Model(\n",
    "    [decoder_inputs] + [decoder_hidden_state_input,decoder_state_input_h, decoder_state_input_c],\n",
    "    [decoder_outputs2] + [state_h2, state_c2])"
   ]
  },
  {
   "cell_type": "code",
   "execution_count": 59,
   "id": "0a61ef6b",
   "metadata": {},
   "outputs": [],
   "source": [
    "def decode_sequence(input_seq):\n",
    "    # 입력으로부터 인코더의 상태를 얻음\n",
    "    e_out, e_h, e_c = encoder_model.predict(input_seq)\n",
    "\n",
    "     # <SOS>에 해당하는 토큰 생성\n",
    "    target_seq = np.zeros((1,1))\n",
    "    target_seq[0, 0] = tar_word_to_index['sostoken']\n",
    "\n",
    "    stop_condition = False\n",
    "    decoded_sentence = ''\n",
    "    while not stop_condition: # stop_condition이 True가 될 때까지 루프 반복\n",
    "\n",
    "        output_tokens, h, c = decoder_model.predict([target_seq] + [e_out, e_h, e_c])\n",
    "        sampled_token_index = np.argmax(output_tokens[0, -1, :])\n",
    "        sampled_token = tar_index_to_word[sampled_token_index]\n",
    "\n",
    "        if (sampled_token!='eostoken'):\n",
    "            decoded_sentence += ' '+sampled_token\n",
    "\n",
    "        #  <eos>에 도달하거나 최대 길이를 넘으면 중단.\n",
    "        if (sampled_token == 'eostoken'  or len(decoded_sentence.split()) >= (headlines_max_len-1)):\n",
    "            stop_condition = True\n",
    "\n",
    "        # 길이가 1인 타겟 시퀀스를 업데이트\n",
    "        target_seq = np.zeros((1,1))\n",
    "        target_seq[0, 0] = sampled_token_index\n",
    "\n",
    "        # 상태를 업데이트 합니다.\n",
    "        e_h, e_c = h, c\n",
    "        \n",
    "    return decoded_sentence"
   ]
  },
  {
   "cell_type": "markdown",
   "id": "3b7ce85b",
   "metadata": {},
   "source": [
    "# 모델 테스트하기\n",
    "- 정수 시퀀스를 텍스트 시퀀스로 변환하여 결과를 확인"
   ]
  },
  {
   "cell_type": "markdown",
   "id": "5cb8f20e",
   "metadata": {},
   "source": [
    "### 주어진 시퀀스를 텍스트 시퀀스로 변환하는 함수\n",
    "\n",
    "- Text의 정수 시퀀스에서는 패딩을 위해 사용되는 숫자 0을 제외하고\n",
    "\n",
    "- Summary의 정수 시퀀스에서는 숫자 0, 시작 토큰의 인덱스, 종료 토큰의 인덱스를 출력해서 제외"
   ]
  },
  {
   "cell_type": "code",
   "execution_count": 60,
   "id": "96d2b177",
   "metadata": {},
   "outputs": [],
   "source": [
    "#원문의 정수 시퀀스를 텍스트 시퀀스로 변환\n",
    "def seq2text(input_seq):\n",
    "    temp=''\n",
    "    for i in input_seq:\n",
    "        if (i!=0):\n",
    "            temp = temp + src_index_to_word[i] + ' '\n",
    "    return temp\n",
    "\n",
    "#요약문의 정수 시퀀스를 텍스트 시퀀스로 변환\n",
    "def seq2headlines(input_seq):\n",
    "    temp=''\n",
    "    for i in input_seq:\n",
    "        if ((i!=0 and i!=tar_word_to_index['sostoken']) and i!=tar_word_to_index['eostoken']):\n",
    "            temp = temp + tar_index_to_word[i] + ' '\n",
    "    return temp"
   ]
  },
  {
   "cell_type": "code",
   "execution_count": 63,
   "id": "1e1ae798",
   "metadata": {
    "scrolled": false
   },
   "outputs": [
    {
     "name": "stdout",
     "output_type": "stream",
     "text": [
      "예측 요약 :  women introduce women women work govt\n",
      "\n",
      "\n",
      "원문 : year old accused killing people rifle school florida us blamed voice head massacre cruz said constant battle voice told burn kill destroy said attempted suicide two months attack \n",
      "실제 요약 : florida shooter blames demon head killing \n",
      "예측 요약 :  us teacher killed shooting teacher\n",
      "\n",
      "\n",
      "원문 : world consumer rights day inspired former us president john kennedy formally addressed issue consumer rights message us congress march day first observed march since celebrated yearly raise global awareness rights needs consumers \n",
      "실제 요약 : world consumer day inspired former us prez kennedy \n",
      "예측 요약 :  obama named president macron\n",
      "\n",
      "\n",
      "원문 : cbi officer charge dhar mishra lodged fir alleged irregularities loan icici bank transferred delhi jharkhand development comes cbi charged icici bank former md ceo chanda kochhar husband deepak kochhar videocon dhoot cheating conspiracy dhar signed fir january \n",
      "실제 요약 : cbi officer probed icici bank chanda kochhar case transferred \n",
      "예측 요약 :  cbi files fir case filed filed cheating case\n",
      "\n",
      "\n",
      "원문 : kajol husband ajay devgn appear together sixth season talk show koffee karan episode shot diwali per reports ajay earlier made solo appearance koffee karan season kajol made appearances various seasons shah rukh khan ayan mukerji rani mukerji \n",
      "실제 요약 : kajol ajay appear together koffee karan reports \n",
      "예측 요약 :  ajay devgn star ajay devgn report ajay devgn\n",
      "\n",
      "\n",
      "원문 : reacting sexual harassment allegations female journalists union minister former editor mj akbar said accusation without evidence become viral fever among sections false baseless wild allegations caused irreparable damage reputation goodwill added said taking appropriate legal action \n",
      "실제 요약 : without evidence become viral fever mj akbar \n",
      "예측 요약 :  mj akbar mj akbar resigns metoo allegations\n",
      "\n",
      "\n",
      "원문 : david one two ex google engineers suing company alleged discrimination said discussions company dominated hate group also said group promoting racism wants use google social change rather delivering service said hate google people working \n",
      "실제 요약 : google hate group ex employee \n",
      "예측 요약 :  google sued ex employee employee fired\n",
      "\n",
      "\n",
      "원문 : manchester united registered third victory five premier league matches far season defeated everton sunday extending unbeaten home run across competitions romelu lukaku became third player score five goals first five pl matches united elsewhere man chelsea played goalless draw arsenal \n",
      "실제 요약 : man utd post rd win pl chelsea draw arsenal \n",
      "예측 요약 :  man utd united register win\n",
      "\n",
      "\n",
      "원문 : flight forced return airport australia crew reported strange smell coming back aircraft adelaide bound virgin australia flight carrying around passengers two thirds reportedly stranded flight turned back meanwhile airline spokesperson said aircraft turned back precautionary measure \n",
      "실제 요약 : smell forces flight australia turn back \n",
      "예측 요약 :  flight makes landing landing jet airways flight\n",
      "\n",
      "\n",
      "원문 : class student delivered baby tribal residential school hostel bathroom odisha district sunday eight months raped police said authorities dismissed six hostel employees failure report matter police said girl allegedly raped year old village gone home vacations \n",
      "실제 요약 : class girl raped months ago gives birth hostel bathroom \n",
      "예측 요약 :  baby girl raped girl raped delhi school\n",
      "\n",
      "\n",
      "원문 : year old man mauled death pack street dogs thiruvananthapuram district kerala man missing since friday partially eaten body recovered saturday paddy field near house notably one lakh people kerala bitten dogs supreme court appointed panel earlier said \n",
      "실제 요약 : elderly man death street dogs kerala \n",
      "예측 요약 :  man dies kerala suspicion eating dogs\n",
      "\n",
      "\n",
      "원문 : college chennai issued apology controversy paintings exhibition campus bjp outfits termed hindu symbols outfits said paintings portrayed symbol hinduism bharat mata inappropriate manner two day exhibition concluded sunday \n",
      "실제 요약 : college apologises offensive paintings hindu \n",
      "예측 요약 :  muslim university apologises remark\n",
      "\n",
      "\n",
      "원문 : actor naseeruddin shah speaking nepotism film industry asked parent would want help child get better position natural would want repeat mistakes added naseeruddin said nepotism prevalent places film industry \n",
      "실제 요약 : parent would want help kid shah nepotism \n",
      "예측 요약 :  people need politics shah\n",
      "\n",
      "\n",
      "원문 : indigo president aditya ghosh denied reports planes grounded issues pratt whitney engines ghosh said news inaccurate adding coincidence news spread indigo topped time performance long margin reports earlier claimed flights grounded leading flight cancellations \n",
      "실제 요약 : indigo denies reports planes grounded \n",
      "예측 요약 :  indigo denies indigo indigo aircraft grounded\n",
      "\n",
      "\n",
      "원문 : actors salman khan priyanka chopra featured american magazine variety list influential business leaders entertainment industry actors india made list indian personalities featured year list include karan johar aditya chopra ekta kapoor siddharth roy kapur \n",
      "실제 요약 : salman priyanka variety influential people list \n",
      "예측 요약 :  priyanka chopra named best actor london vogue\n",
      "\n",
      "\n",
      "원문 : two women including police constable alleged sexually assaulted exploited two senior officers madhya pradesh police department receiving complaint cm shivraj singh chouhan ordered authorities take strict action accused officers adding government serious curbing crime women state \n",
      "실제 요약 : two women allege sexual assault senior mp cops \n",
      "예측 요약 :  police officer suspended shelter home police\n",
      "\n",
      "\n",
      "원문 : paytm parent firm one communications moved national company law tribunal reliance telecom subsidiary anil ambani owned reliance communications dues reportedly worth crore case reportedly filed following failed attempts reach court settlement companies nclt mumbai bench scheduled hearing case october \n",
      "실제 요약 : paytm parent moves nclt reliance telecom dues \n",
      "예측 요약 :  rcom shares rcom plea rcom aircel dues\n",
      "\n",
      "\n",
      "원문 : lawsuit claimed american audio equipment company bose spying users wireless headphones app tracks music listen bose violates users privacy rights selling audio information without permission added audio choices offer incredible amount insight customer personality behaviour religion lawsuit said \n",
      "실제 요약 : bose wireless headphones spying customers claims lawsuit \n",
      "예측 요약 :  facebook launches app store users stolen app\n",
      "\n",
      "\n",
      "원문 : japanese steelmaker kobe steel ceo tuesday announced resignation firm submitted false strength quality data products shipped hundreds clients ceo since resignation effective april companies including toyota central japan railway received falsely certified products \n",
      "실제 요약 : steel ceo steps data tampering scandal \n",
      "예측 요약 :  investors data breach investors founders\n",
      "\n",
      "\n"
     ]
    }
   ],
   "source": [
    "for i in range(50, 70):\n",
    "    print(\"원문 :\", seq2text(encoder_input_test[i]))\n",
    "    print(\"실제 요약 :\", seq2headlines(decoder_input_test[i]))\n",
    "    print(\"예측 요약 :\", decode_sequence(encoder_input_test[i].reshape(1, text_max_len)))\n",
    "    print(\"\\n\")"
   ]
  },
  {
   "cell_type": "markdown",
   "id": "be9e3074",
   "metadata": {},
   "source": [
    "# Summa를 이용한 추출적 요약"
   ]
  },
  {
   "cell_type": "markdown",
   "id": "6ca63887",
   "metadata": {},
   "source": [
    "앞서 seq2seq를 통해서 추상적 요약 진행. 텍스트 요약에는 추상적 요약 외에도 \n",
    "\n",
    "이미 본문에 존재하는 단어구, 문장을 뽑아서 요약으로 삼는 추출적 요약 방법이 있음"
   ]
  },
  {
   "cell_type": "code",
   "execution_count": 4,
   "id": "c24c7ef5",
   "metadata": {},
   "outputs": [],
   "source": [
    "import requests\n",
    "from summa.summarizer import summarize"
   ]
  },
  {
   "cell_type": "markdown",
   "id": "62dbd680",
   "metadata": {},
   "source": [
    "## Summarize 사용하기\n",
    "**Summa의 summarize()의 인자로 사용되는 값들**\n",
    "- **text(str)** : 요약할 텍스트\n",
    "\n",
    "\n",
    "- **ratio(float, optional)** : 요약문에서 원본에서 선택되는 문장 비율. 0~1 사이값\n",
    "\n",
    "\n",
    "- **words (int or None, optional)** : 출력에 포함할 단어 수.\n",
    "   (만약, ratio와 함께 두 파라미터가 모두 제공되는 경우 ratio는 무시)\n",
    "\n",
    "\n",
    "- **split (bool, optional)** : True면 문장 list / False는 조인(join)된 문자열을 반환"
   ]
  },
  {
   "cell_type": "markdown",
   "id": "657b1d7a",
   "metadata": {},
   "source": [
    "Summa의 summarize()는 문장 토큰화를 별도로 하지 않더라도 내부적으로 문장 토큰화 수행\n",
    "\n",
    "따라서 문장 구분이 되어있지 않은 원문 바로 입력 가능"
   ]
  },
  {
   "cell_type": "markdown",
   "id": "07c83ac5",
   "metadata": {},
   "source": [
    "- 단어의 수로 요약문의 크기 조절 가능"
   ]
  },
  {
   "cell_type": "code",
   "execution_count": 12,
   "id": "a0125aa8",
   "metadata": {},
   "outputs": [],
   "source": [
    "Summ_headlines = []\n",
    "for s in data['text']:\n",
    "    Summ_headlines.append(summarize(s, words=15))"
   ]
  },
  {
   "cell_type": "code",
   "execution_count": 14,
   "id": "79920aab",
   "metadata": {},
   "outputs": [],
   "source": [
    "data['Summ_headlines'] = Summ_headlines"
   ]
  },
  {
   "cell_type": "code",
   "execution_count": 26,
   "id": "6c904171",
   "metadata": {},
   "outputs": [],
   "source": [
    "data['Summ_headlines'] = data['Summ_headlines'].replace('', 'No Summary')"
   ]
  },
  {
   "cell_type": "code",
   "execution_count": 27,
   "id": "d38cfef2",
   "metadata": {},
   "outputs": [
    {
     "data": {
      "text/html": [
       "<div>\n",
       "<style scoped>\n",
       "    .dataframe tbody tr th:only-of-type {\n",
       "        vertical-align: middle;\n",
       "    }\n",
       "\n",
       "    .dataframe tbody tr th {\n",
       "        vertical-align: top;\n",
       "    }\n",
       "\n",
       "    .dataframe thead th {\n",
       "        text-align: right;\n",
       "    }\n",
       "</style>\n",
       "<table border=\"1\" class=\"dataframe\">\n",
       "  <thead>\n",
       "    <tr style=\"text-align: right;\">\n",
       "      <th></th>\n",
       "      <th>headlines</th>\n",
       "      <th>Summ_headlines</th>\n",
       "    </tr>\n",
       "  </thead>\n",
       "  <tbody>\n",
       "    <tr>\n",
       "      <th>0</th>\n",
       "      <td>upGrad learner switches to career in ML &amp; Al w...</td>\n",
       "      <td>upGrad's Online Power Learning has powered 3 l...</td>\n",
       "    </tr>\n",
       "    <tr>\n",
       "      <th>1</th>\n",
       "      <td>Delhi techie wins free food from Swiggy for on...</td>\n",
       "      <td>Users get one CRED coin per rupee of bill paid...</td>\n",
       "    </tr>\n",
       "    <tr>\n",
       "      <th>2</th>\n",
       "      <td>New Zealand end Rohit Sharma-led India's 12-ma...</td>\n",
       "      <td>The match witnessed India getting all out for ...</td>\n",
       "    </tr>\n",
       "    <tr>\n",
       "      <th>3</th>\n",
       "      <td>Aegon life iTerm insurance plan helps customer...</td>\n",
       "      <td>Also, customers have options to insure against...</td>\n",
       "    </tr>\n",
       "    <tr>\n",
       "      <th>4</th>\n",
       "      <td>Have known Hirani for yrs, what if MeToo claim...</td>\n",
       "      <td>No Summary</td>\n",
       "    </tr>\n",
       "    <tr>\n",
       "      <th>...</th>\n",
       "      <td>...</td>\n",
       "      <td>...</td>\n",
       "    </tr>\n",
       "    <tr>\n",
       "      <th>98396</th>\n",
       "      <td>CRPF jawan axed to death by Maoists in Chhatti...</td>\n",
       "      <td>A CRPF jawan was on Tuesday axed to death with...</td>\n",
       "    </tr>\n",
       "    <tr>\n",
       "      <th>98397</th>\n",
       "      <td>First song from Sonakshi Sinha's 'Noor' titled...</td>\n",
       "      <td>'Uff Yeh', the first song from the Sonakshi Si...</td>\n",
       "    </tr>\n",
       "    <tr>\n",
       "      <th>98398</th>\n",
       "      <td>'The Matrix' film to get a reboot: Reports</td>\n",
       "      <td>Michael B Jordan will reportedly play the lead...</td>\n",
       "    </tr>\n",
       "    <tr>\n",
       "      <th>98399</th>\n",
       "      <td>Snoop Dogg aims gun at clown dressed as Trump ...</td>\n",
       "      <td>The video also shows a TV airing a news confer...</td>\n",
       "    </tr>\n",
       "    <tr>\n",
       "      <th>98400</th>\n",
       "      <td>Madhesi Morcha withdraws support to Nepalese g...</td>\n",
       "      <td>No Summary</td>\n",
       "    </tr>\n",
       "  </tbody>\n",
       "</table>\n",
       "<p>98401 rows × 2 columns</p>\n",
       "</div>"
      ],
      "text/plain": [
       "                                               headlines  \\\n",
       "0      upGrad learner switches to career in ML & Al w...   \n",
       "1      Delhi techie wins free food from Swiggy for on...   \n",
       "2      New Zealand end Rohit Sharma-led India's 12-ma...   \n",
       "3      Aegon life iTerm insurance plan helps customer...   \n",
       "4      Have known Hirani for yrs, what if MeToo claim...   \n",
       "...                                                  ...   \n",
       "98396  CRPF jawan axed to death by Maoists in Chhatti...   \n",
       "98397  First song from Sonakshi Sinha's 'Noor' titled...   \n",
       "98398         'The Matrix' film to get a reboot: Reports   \n",
       "98399  Snoop Dogg aims gun at clown dressed as Trump ...   \n",
       "98400  Madhesi Morcha withdraws support to Nepalese g...   \n",
       "\n",
       "                                          Summ_headlines  \n",
       "0      upGrad's Online Power Learning has powered 3 l...  \n",
       "1      Users get one CRED coin per rupee of bill paid...  \n",
       "2      The match witnessed India getting all out for ...  \n",
       "3      Also, customers have options to insure against...  \n",
       "4                                             No Summary  \n",
       "...                                                  ...  \n",
       "98396  A CRPF jawan was on Tuesday axed to death with...  \n",
       "98397  'Uff Yeh', the first song from the Sonakshi Si...  \n",
       "98398  Michael B Jordan will reportedly play the lead...  \n",
       "98399  The video also shows a TV airing a news confer...  \n",
       "98400                                         No Summary  \n",
       "\n",
       "[98401 rows x 2 columns]"
      ]
     },
     "execution_count": 27,
     "metadata": {},
     "output_type": "execute_result"
    }
   ],
   "source": [
    "data[['headlines', 'Summ_headlines']]"
   ]
  },
  {
   "cell_type": "code",
   "execution_count": 28,
   "id": "b1f9158a",
   "metadata": {},
   "outputs": [
    {
     "name": "stdout",
     "output_type": "stream",
     "text": [
      "실제 Headline :  Yashwant Sinha demands probe into alleged fund diversion by DHFL\n",
      "Summa 사용 Headline :  Former Finance Minister Yashwant Sinha on Tuesday demanded a probe into the alleged diversion of loans worth Ã¢ÂÂ¹31,000 crore by Dewan Housing Finance (DHFL).\n",
      "\n",
      "\n",
      "실제 Headline :  Boeing sales cross $100bn for 1st time in its 102-yr history\n",
      "Summa 사용 Headline :  Boeing retained its position as the world's largest planemaker for the seventh straight year, delivering 806 aircraft in 2018.\n",
      "\n",
      "\n",
      "실제 Headline :  headlines\n",
      "Summa 사용 Headline :  No Summary\n",
      "\n",
      "\n",
      "실제 Headline :  OnePlus named bestselling premium smartphone brand of 2018: Report\n",
      "Summa 사용 Headline :  Further, its OnePlus 6 emerged as the highest selling premium smartphone of 2018 followed by OnePlus 6T.\n",
      "\n",
      "\n",
      "실제 Headline :  Can never look at female body, even if naked, in vulgar way: Pooja\n",
      "Summa 사용 Headline :  No Summary\n",
      "\n",
      "\n",
      "실제 Headline :  Kangana made fake promises to cast: 'Manikarnika' actress Mishti\n",
      "Summa 사용 Headline :  Actress Mishti, who has featured in 'Manikarnika: The Queen of Jhansi', has said the film's co-director Kangana Ranaut made false promises to the cast.\n",
      "\n",
      "\n",
      "실제 Headline :  PM-led panel to meet on Friday to pick new CBI chief: Kharge\n",
      "Summa 사용 Headline :  The high-powered committee led by PM Narendra Modi to select the next CBI Director will meet again on February 1, Congress leader Mallikarjun Kharge has said.\n",
      "\n",
      "\n",
      "실제 Headline :  McGregor fined Ã¢ÂÂ¹35 lakh, Khabib Ã¢ÂÂ¹3.5 crore for brawl; both banned\n",
      "Summa 사용 Headline :  No Summary\n",
      "\n",
      "\n",
      "실제 Headline :  Banned for 4 matches, Sarfaraz shares 'log hai na' poem for critics\n",
      "Summa 사용 Headline :  No Summary\n",
      "\n",
      "\n",
      "실제 Headline :  Confessed to spot-fixing to escape police torture: Sreesanth to SC\n",
      "Summa 사용 Headline :  Sreesanth further said the bookie tried dragging him into spot-fixing but he didn't fall for it.\n",
      "\n",
      "\n",
      "실제 Headline :  Govt to present Interim Budget, not full Budget on February 1\n",
      "Summa 사용 Headline :  The Finance Ministry on Wednesday said the government will present an Interim Budget on February 1.\n",
      "\n",
      "\n",
      "실제 Headline :  US intelligence naive and wrong, should go back to school: Trump\n",
      "Summa 사용 Headline :  US President Donald Trump on Wednesday called his country's top intelligence chiefs \"naive\" and \"wrong\" on Iran and added that they should perhaps \"go back to school\".\n",
      "\n",
      "\n",
      "실제 Headline :  Vatican priest handling sex abuse cases quits over alleged sex abuse\n",
      "Summa 사용 Headline :  A senior priest at the Vatican who handled cases of sexual abuse has quit after being accused of sexual abuse by a former nun.\n",
      "\n",
      "\n",
      "실제 Headline :  Woman rejects job after CEO bullies her in interview; he apologises\n",
      "Summa 사용 Headline :  A 22-year-old writer turned down a job offer, claiming she was bullied to the point of tears during her two-hour interview by a UK company's CEO.\n",
      "\n",
      "\n",
      "실제 Headline :  Police officer probing Paytm extortion case arrested for extortion\n",
      "Summa 사용 Headline :  Noida Police has arrested Sector 20 station in-charge Manoj Pant and three journalists for allegedly extorting money from a call centre owner for removing his name from an FIR.\n",
      "\n",
      "\n",
      "실제 Headline :  Qatar to invest $200 million in Airtel Africa\n",
      "Summa 사용 Headline :  Airtel Africa, the holding company for Airtel's operations in 14 African countries, is preparing for an initial public offering.\n",
      "\n",
      "\n",
      "실제 Headline :  Rohit Shetty still working on script for Golmaal 5: Shreyas\n",
      "Summa 사용 Headline :  Actor Shreyas Talpade said that 'Golmaal' filmmaker Rohit Shetty is still working on the script for the fifth instalment of the 'Golmaal' film franchise.\n",
      "\n",
      "\n",
      "실제 Headline :  Man sues Avengers actress Gwyneth for Ã¢ÂÂ¹22 crore over ski crash\n",
      "Summa 사용 Headline :  A 72-year-old man named Terry Sanderson has sued 'Avengers' actress Gwyneth Paltrow for allegedly crashing into him while skiing, and is seeking $3.1 million (over Ã¢ÂÂ¹22 crore) in damages.\n",
      "\n",
      "\n",
      "실제 Headline :  Yami Gautam felicitated by BSF for performance in 'Uri...'\n",
      "Summa 사용 Headline :  Yami Gautam was felicitated by Border Security Force (BSF) in Amritsar for her performance in 'Uri: The Surgical Strike'.\n",
      "\n",
      "\n",
      "실제 Headline :  Facebook hires its privacy critic as privacy policy manager\n",
      "Summa 사용 Headline :  No Summary\n",
      "\n",
      "\n"
     ]
    }
   ],
   "source": [
    "for i in range(50, 70):\n",
    "    print('실제 Headline : ', data['headlines'][i] )\n",
    "    print('Summa 사용 Headline : ', data['Summ_headlines'][i])\n",
    "    print(\"\\n\")"
   ]
  },
  {
   "cell_type": "markdown",
   "id": "8b877c09",
   "metadata": {},
   "source": [
    "# 회고"
   ]
  },
  {
   "cell_type": "markdown",
   "id": "413fd8a0",
   "metadata": {},
   "source": [
    "**어텐션 매커니즘을 활용한 추상적 요약**을 진행했을 때, validation loss 값이 4점 대여서 그런지 요약이 잘 되었다는 느낌을 받진 못했다.\n",
    "\n",
    "몇몇 문장은 다음과 같이 핵심 키워드를 포함하여 예측 요약과 실제 요약의 내용이 비슷했지만,\n",
    "\n",
    "실제 요약 : google hate group ex employee \n",
    "\n",
    "예측 요약 : google sued ex employee employee fired\n",
    "\n",
    "다음과 같이 애초에 번역조차 되지 않는 문장을 생성하기도 했다.\n",
    "\n",
    "예측 요약 : mj akbar mj akbar resigns metoo allegations\n",
    "\n",
    "----------------\n",
    "\n",
    "기존 LMS에서 진행했던 데이터 요약은 데이터의 개수가 지금 프로젝트에 비해 현저히 적어서 높은 성능이 나온 것 같다는 생각이 들어,\n",
    "\n",
    "인코더의 embedding_dim과 hidden_size를 더 높은 숫자로 지정했지만 오히려 성능이 저하되었다.\n",
    "\n",
    "단어집합의 크기 또한 줄여보았지만 이 경우에도 성능이 저하된 것을 확인했다."
   ]
  },
  {
   "cell_type": "markdown",
   "id": "85132176",
   "metadata": {},
   "source": [
    "-----------------\n",
    "**Summa를 활용한 추출적 요약**을 진행해보았다.\n",
    "\n",
    "Headline의 평균 길이가 약 7이기 때문에 Summa를 사용한 요약을 진행할 때 words의 값을 7혹은 10으로 맞추려했다. \n",
    "\n",
    "하지만 그럴 경우 text 대부분의 요약문이 빈칸으로 반환되었다.\n",
    "\n",
    "따라서 값을 상향조정했고, 20이상으로 될 경우 Headline과 비교할 만한 요약의 느낌이 아니라서 words의 값을 15로 지정했다.\n",
    "\n",
    "words=15일 때에도 빈칸이 반환되는 경우가 있었고, replace함수를 사용하여 빈칸을 No Summary로 채웠다.\n",
    "\n",
    "비록 요약이 아예 되지 않은 No Summary 컬럼이 존재하지만,\n",
    "\n",
    "요약이 진행된 예측 컬럼은 실제 요약 내용에 해당하는 문장을 반환했다.\n",
    "\n",
    "문법적인 측면에서도 월등했지만 추상적 요약에 비해 예측 요약 문장에 핵심 키워드를 포함하는 빈도는 더 적어보인다."
   ]
  },
  {
   "cell_type": "markdown",
   "id": "b4e4c080",
   "metadata": {},
   "source": [
    "-----------\n",
    "Summa Summarize를 진행할 때, 왜 words의 값이 작을 경우 빈칸이 반환되는 건지 궁금하다.\n",
    "\n",
    "이리저리 구글링을 해보았는데, 이 부분에 있어서 명확한 답변이 되는 글을 찾지 못했다.\n",
    "\n",
    "인퍼런스 모델의 개념이 아직 와닿지 않는다. 아마 더 접해봐야 이해를 할 수 있을 것 같다.\n",
    "\n",
    "NLP가 딥러닝 중에 가장 이해하기 쉽고 구현하는 데에도 편할 것이라고 생각했던 \n",
    "\n",
    "과거의 내가 정말 안일했던 것이었구나 라는 걸 깨달았다."
   ]
  },
  {
   "cell_type": "code",
   "execution_count": null,
   "id": "c8b36432",
   "metadata": {},
   "outputs": [],
   "source": []
  }
 ],
 "metadata": {
  "kernelspec": {
   "display_name": "Python 3 (ipykernel)",
   "language": "python",
   "name": "python3"
  },
  "language_info": {
   "codemirror_mode": {
    "name": "ipython",
    "version": 3
   },
   "file_extension": ".py",
   "mimetype": "text/x-python",
   "name": "python",
   "nbconvert_exporter": "python",
   "pygments_lexer": "ipython3",
   "version": "3.9.7"
  }
 },
 "nbformat": 4,
 "nbformat_minor": 5
}
