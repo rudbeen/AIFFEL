{
 "cells": [
  {
   "cell_type": "markdown",
   "id": "ff621713",
   "metadata": {},
   "source": [
    "# Movielens Data\n",
    "\n",
    "- 유저가 영화에 대해 평점을 매긴 데이터가 데이터 크기 별로 있음. (MovieLens 1M Dataset 사용을 권장)\n",
    "\n",
    "\n",
    "- 별점 데이터는 대표적인 explicit 데이터지만, implicit 데이터로 간주하고 테스트\n",
    "\n",
    "\n",
    "- 별점을 시청횟수로 해석해서 생각\n",
    "\n",
    "\n",
    "- 유저가 3점 미만으로 준 데이터는 선호하지 않는다고 가정하고 제외"
   ]
  },
  {
   "cell_type": "markdown",
   "id": "d96a8a11",
   "metadata": {},
   "source": [
    "# 데이터 준비와 전처리"
   ]
  },
  {
   "cell_type": "code",
   "execution_count": 1,
   "id": "dfc6c7f0",
   "metadata": {},
   "outputs": [
    {
     "data": {
      "text/html": [
       "<div>\n",
       "<style scoped>\n",
       "    .dataframe tbody tr th:only-of-type {\n",
       "        vertical-align: middle;\n",
       "    }\n",
       "\n",
       "    .dataframe tbody tr th {\n",
       "        vertical-align: top;\n",
       "    }\n",
       "\n",
       "    .dataframe thead th {\n",
       "        text-align: right;\n",
       "    }\n",
       "</style>\n",
       "<table border=\"1\" class=\"dataframe\">\n",
       "  <thead>\n",
       "    <tr style=\"text-align: right;\">\n",
       "      <th></th>\n",
       "      <th>user_id</th>\n",
       "      <th>movie_id</th>\n",
       "      <th>ratings</th>\n",
       "      <th>timestamp</th>\n",
       "    </tr>\n",
       "  </thead>\n",
       "  <tbody>\n",
       "    <tr>\n",
       "      <th>0</th>\n",
       "      <td>1</td>\n",
       "      <td>1193</td>\n",
       "      <td>5</td>\n",
       "      <td>978300760</td>\n",
       "    </tr>\n",
       "    <tr>\n",
       "      <th>1</th>\n",
       "      <td>1</td>\n",
       "      <td>661</td>\n",
       "      <td>3</td>\n",
       "      <td>978302109</td>\n",
       "    </tr>\n",
       "    <tr>\n",
       "      <th>2</th>\n",
       "      <td>1</td>\n",
       "      <td>914</td>\n",
       "      <td>3</td>\n",
       "      <td>978301968</td>\n",
       "    </tr>\n",
       "    <tr>\n",
       "      <th>3</th>\n",
       "      <td>1</td>\n",
       "      <td>3408</td>\n",
       "      <td>4</td>\n",
       "      <td>978300275</td>\n",
       "    </tr>\n",
       "    <tr>\n",
       "      <th>4</th>\n",
       "      <td>1</td>\n",
       "      <td>2355</td>\n",
       "      <td>5</td>\n",
       "      <td>978824291</td>\n",
       "    </tr>\n",
       "  </tbody>\n",
       "</table>\n",
       "</div>"
      ],
      "text/plain": [
       "   user_id  movie_id  ratings  timestamp\n",
       "0        1      1193        5  978300760\n",
       "1        1       661        3  978302109\n",
       "2        1       914        3  978301968\n",
       "3        1      3408        4  978300275\n",
       "4        1      2355        5  978824291"
      ]
     },
     "execution_count": 1,
     "metadata": {},
     "output_type": "execute_result"
    }
   ],
   "source": [
    "import pandas as pd\n",
    "import os\n",
    "rating_file_path=os.getenv('HOME') + '/aiffel/recommendata_iu/data/ml-1m/ratings.dat'\n",
    "ratings_cols = ['user_id', 'movie_id', 'ratings', 'timestamp']\n",
    "ratings = pd.read_csv(rating_file_path, sep='::', names=ratings_cols, engine='python', encoding = \"ISO-8859-1\")\n",
    "original_data_size = len(ratings)\n",
    "ratings.head()"
   ]
  },
  {
   "cell_type": "markdown",
   "id": "8acaccd9",
   "metadata": {},
   "source": [
    "### 3점 이상 데이터만 남김"
   ]
  },
  {
   "cell_type": "code",
   "execution_count": 2,
   "id": "d0942485",
   "metadata": {},
   "outputs": [
    {
     "name": "stdout",
     "output_type": "stream",
     "text": [
      "original_data_size: 1000209, filtered_data_size: 836478\n",
      "Ratio of Remaining Data is 83.63%\n"
     ]
    }
   ],
   "source": [
    "ratings = ratings[ratings['ratings']>=3]\n",
    "filtered_data_size = len(ratings)\n",
    "\n",
    "print(f'original_data_size: {original_data_size}, filtered_data_size: {filtered_data_size}')\n",
    "print(f'Ratio of Remaining Data is {filtered_data_size / original_data_size:.2%}')"
   ]
  },
  {
   "cell_type": "markdown",
   "id": "4c4f7230",
   "metadata": {},
   "source": [
    "3점 이상 데이터는 전체 데이터에서 총 83.63%"
   ]
  },
  {
   "cell_type": "markdown",
   "id": "fa52e3b7",
   "metadata": {},
   "source": [
    "### ratings 컬럼의 이름을 counts로 바꿈"
   ]
  },
  {
   "cell_type": "code",
   "execution_count": 3,
   "id": "3490f87a",
   "metadata": {},
   "outputs": [],
   "source": [
    "ratings.rename(columns={'ratings' : 'counts'}, inplace=True)"
   ]
  },
  {
   "cell_type": "code",
   "execution_count": 4,
   "id": "5a485e8c",
   "metadata": {},
   "outputs": [
    {
     "data": {
      "text/plain": [
       "0          5\n",
       "1          3\n",
       "2          3\n",
       "3          4\n",
       "4          5\n",
       "          ..\n",
       "1000203    3\n",
       "1000205    5\n",
       "1000206    5\n",
       "1000207    4\n",
       "1000208    4\n",
       "Name: counts, Length: 836478, dtype: int64"
      ]
     },
     "execution_count": 4,
     "metadata": {},
     "output_type": "execute_result"
    }
   ],
   "source": [
    "ratings['counts']"
   ]
  },
  {
   "cell_type": "markdown",
   "id": "c7a4dae1",
   "metadata": {},
   "source": [
    "### 영화 제목을 보기 위해 메타 데이터 읽어오기"
   ]
  },
  {
   "cell_type": "code",
   "execution_count": 5,
   "id": "0da6eb69",
   "metadata": {},
   "outputs": [
    {
     "data": {
      "text/html": [
       "<div>\n",
       "<style scoped>\n",
       "    .dataframe tbody tr th:only-of-type {\n",
       "        vertical-align: middle;\n",
       "    }\n",
       "\n",
       "    .dataframe tbody tr th {\n",
       "        vertical-align: top;\n",
       "    }\n",
       "\n",
       "    .dataframe thead th {\n",
       "        text-align: right;\n",
       "    }\n",
       "</style>\n",
       "<table border=\"1\" class=\"dataframe\">\n",
       "  <thead>\n",
       "    <tr style=\"text-align: right;\">\n",
       "      <th></th>\n",
       "      <th>movie_id</th>\n",
       "      <th>title</th>\n",
       "      <th>genre</th>\n",
       "    </tr>\n",
       "  </thead>\n",
       "  <tbody>\n",
       "    <tr>\n",
       "      <th>0</th>\n",
       "      <td>1</td>\n",
       "      <td>Toy Story (1995)</td>\n",
       "      <td>Animation|Children's|Comedy</td>\n",
       "    </tr>\n",
       "    <tr>\n",
       "      <th>1</th>\n",
       "      <td>2</td>\n",
       "      <td>Jumanji (1995)</td>\n",
       "      <td>Adventure|Children's|Fantasy</td>\n",
       "    </tr>\n",
       "    <tr>\n",
       "      <th>2</th>\n",
       "      <td>3</td>\n",
       "      <td>Grumpier Old Men (1995)</td>\n",
       "      <td>Comedy|Romance</td>\n",
       "    </tr>\n",
       "    <tr>\n",
       "      <th>3</th>\n",
       "      <td>4</td>\n",
       "      <td>Waiting to Exhale (1995)</td>\n",
       "      <td>Comedy|Drama</td>\n",
       "    </tr>\n",
       "    <tr>\n",
       "      <th>4</th>\n",
       "      <td>5</td>\n",
       "      <td>Father of the Bride Part II (1995)</td>\n",
       "      <td>Comedy</td>\n",
       "    </tr>\n",
       "  </tbody>\n",
       "</table>\n",
       "</div>"
      ],
      "text/plain": [
       "   movie_id                               title                         genre\n",
       "0         1                    Toy Story (1995)   Animation|Children's|Comedy\n",
       "1         2                      Jumanji (1995)  Adventure|Children's|Fantasy\n",
       "2         3             Grumpier Old Men (1995)                Comedy|Romance\n",
       "3         4            Waiting to Exhale (1995)                  Comedy|Drama\n",
       "4         5  Father of the Bride Part II (1995)                        Comedy"
      ]
     },
     "execution_count": 5,
     "metadata": {},
     "output_type": "execute_result"
    }
   ],
   "source": [
    "movie_file_path=os.getenv('HOME') + '/aiffel/recommendata_iu/data/ml-1m/movies.dat'\n",
    "cols = ['movie_id', 'title', 'genre'] \n",
    "movies = pd.read_csv(movie_file_path, sep='::', names=cols, engine='python', encoding='ISO-8859-1')\n",
    "movies.head()"
   ]
  },
  {
   "cell_type": "markdown",
   "id": "5b50b68c",
   "metadata": {},
   "source": [
    "## 하나의 데이터 프레임 생성\n",
    "- 두 개의 데이터 프레임을 하나의 데이터 프레임으로 생성하여 분석의 효율을 높이고자 한다.\n",
    "- movie_id를 기준으로 합침"
   ]
  },
  {
   "cell_type": "code",
   "execution_count": 6,
   "id": "6d95687b",
   "metadata": {},
   "outputs": [
    {
     "data": {
      "text/html": [
       "<div>\n",
       "<style scoped>\n",
       "    .dataframe tbody tr th:only-of-type {\n",
       "        vertical-align: middle;\n",
       "    }\n",
       "\n",
       "    .dataframe tbody tr th {\n",
       "        vertical-align: top;\n",
       "    }\n",
       "\n",
       "    .dataframe thead th {\n",
       "        text-align: right;\n",
       "    }\n",
       "</style>\n",
       "<table border=\"1\" class=\"dataframe\">\n",
       "  <thead>\n",
       "    <tr style=\"text-align: right;\">\n",
       "      <th></th>\n",
       "      <th>user_id</th>\n",
       "      <th>movie_id</th>\n",
       "      <th>counts</th>\n",
       "      <th>timestamp</th>\n",
       "    </tr>\n",
       "  </thead>\n",
       "  <tbody>\n",
       "    <tr>\n",
       "      <th>0</th>\n",
       "      <td>1</td>\n",
       "      <td>1193</td>\n",
       "      <td>5</td>\n",
       "      <td>978300760</td>\n",
       "    </tr>\n",
       "    <tr>\n",
       "      <th>1</th>\n",
       "      <td>1</td>\n",
       "      <td>661</td>\n",
       "      <td>3</td>\n",
       "      <td>978302109</td>\n",
       "    </tr>\n",
       "    <tr>\n",
       "      <th>2</th>\n",
       "      <td>1</td>\n",
       "      <td>914</td>\n",
       "      <td>3</td>\n",
       "      <td>978301968</td>\n",
       "    </tr>\n",
       "    <tr>\n",
       "      <th>3</th>\n",
       "      <td>1</td>\n",
       "      <td>3408</td>\n",
       "      <td>4</td>\n",
       "      <td>978300275</td>\n",
       "    </tr>\n",
       "    <tr>\n",
       "      <th>4</th>\n",
       "      <td>1</td>\n",
       "      <td>2355</td>\n",
       "      <td>5</td>\n",
       "      <td>978824291</td>\n",
       "    </tr>\n",
       "    <tr>\n",
       "      <th>...</th>\n",
       "      <td>...</td>\n",
       "      <td>...</td>\n",
       "      <td>...</td>\n",
       "      <td>...</td>\n",
       "    </tr>\n",
       "    <tr>\n",
       "      <th>1000203</th>\n",
       "      <td>6040</td>\n",
       "      <td>1090</td>\n",
       "      <td>3</td>\n",
       "      <td>956715518</td>\n",
       "    </tr>\n",
       "    <tr>\n",
       "      <th>1000205</th>\n",
       "      <td>6040</td>\n",
       "      <td>1094</td>\n",
       "      <td>5</td>\n",
       "      <td>956704887</td>\n",
       "    </tr>\n",
       "    <tr>\n",
       "      <th>1000206</th>\n",
       "      <td>6040</td>\n",
       "      <td>562</td>\n",
       "      <td>5</td>\n",
       "      <td>956704746</td>\n",
       "    </tr>\n",
       "    <tr>\n",
       "      <th>1000207</th>\n",
       "      <td>6040</td>\n",
       "      <td>1096</td>\n",
       "      <td>4</td>\n",
       "      <td>956715648</td>\n",
       "    </tr>\n",
       "    <tr>\n",
       "      <th>1000208</th>\n",
       "      <td>6040</td>\n",
       "      <td>1097</td>\n",
       "      <td>4</td>\n",
       "      <td>956715569</td>\n",
       "    </tr>\n",
       "  </tbody>\n",
       "</table>\n",
       "<p>836478 rows × 4 columns</p>\n",
       "</div>"
      ],
      "text/plain": [
       "         user_id  movie_id  counts  timestamp\n",
       "0              1      1193       5  978300760\n",
       "1              1       661       3  978302109\n",
       "2              1       914       3  978301968\n",
       "3              1      3408       4  978300275\n",
       "4              1      2355       5  978824291\n",
       "...          ...       ...     ...        ...\n",
       "1000203     6040      1090       3  956715518\n",
       "1000205     6040      1094       5  956704887\n",
       "1000206     6040       562       5  956704746\n",
       "1000207     6040      1096       4  956715648\n",
       "1000208     6040      1097       4  956715569\n",
       "\n",
       "[836478 rows x 4 columns]"
      ]
     },
     "execution_count": 6,
     "metadata": {},
     "output_type": "execute_result"
    }
   ],
   "source": [
    "ratings"
   ]
  },
  {
   "cell_type": "code",
   "execution_count": 7,
   "id": "e6053620",
   "metadata": {},
   "outputs": [
    {
     "data": {
      "text/html": [
       "<div>\n",
       "<style scoped>\n",
       "    .dataframe tbody tr th:only-of-type {\n",
       "        vertical-align: middle;\n",
       "    }\n",
       "\n",
       "    .dataframe tbody tr th {\n",
       "        vertical-align: top;\n",
       "    }\n",
       "\n",
       "    .dataframe thead th {\n",
       "        text-align: right;\n",
       "    }\n",
       "</style>\n",
       "<table border=\"1\" class=\"dataframe\">\n",
       "  <thead>\n",
       "    <tr style=\"text-align: right;\">\n",
       "      <th></th>\n",
       "      <th>movie_id</th>\n",
       "      <th>title</th>\n",
       "      <th>genre</th>\n",
       "    </tr>\n",
       "  </thead>\n",
       "  <tbody>\n",
       "    <tr>\n",
       "      <th>0</th>\n",
       "      <td>1</td>\n",
       "      <td>Toy Story (1995)</td>\n",
       "      <td>Animation|Children's|Comedy</td>\n",
       "    </tr>\n",
       "    <tr>\n",
       "      <th>1</th>\n",
       "      <td>2</td>\n",
       "      <td>Jumanji (1995)</td>\n",
       "      <td>Adventure|Children's|Fantasy</td>\n",
       "    </tr>\n",
       "    <tr>\n",
       "      <th>2</th>\n",
       "      <td>3</td>\n",
       "      <td>Grumpier Old Men (1995)</td>\n",
       "      <td>Comedy|Romance</td>\n",
       "    </tr>\n",
       "    <tr>\n",
       "      <th>3</th>\n",
       "      <td>4</td>\n",
       "      <td>Waiting to Exhale (1995)</td>\n",
       "      <td>Comedy|Drama</td>\n",
       "    </tr>\n",
       "    <tr>\n",
       "      <th>4</th>\n",
       "      <td>5</td>\n",
       "      <td>Father of the Bride Part II (1995)</td>\n",
       "      <td>Comedy</td>\n",
       "    </tr>\n",
       "    <tr>\n",
       "      <th>...</th>\n",
       "      <td>...</td>\n",
       "      <td>...</td>\n",
       "      <td>...</td>\n",
       "    </tr>\n",
       "    <tr>\n",
       "      <th>3878</th>\n",
       "      <td>3948</td>\n",
       "      <td>Meet the Parents (2000)</td>\n",
       "      <td>Comedy</td>\n",
       "    </tr>\n",
       "    <tr>\n",
       "      <th>3879</th>\n",
       "      <td>3949</td>\n",
       "      <td>Requiem for a Dream (2000)</td>\n",
       "      <td>Drama</td>\n",
       "    </tr>\n",
       "    <tr>\n",
       "      <th>3880</th>\n",
       "      <td>3950</td>\n",
       "      <td>Tigerland (2000)</td>\n",
       "      <td>Drama</td>\n",
       "    </tr>\n",
       "    <tr>\n",
       "      <th>3881</th>\n",
       "      <td>3951</td>\n",
       "      <td>Two Family House (2000)</td>\n",
       "      <td>Drama</td>\n",
       "    </tr>\n",
       "    <tr>\n",
       "      <th>3882</th>\n",
       "      <td>3952</td>\n",
       "      <td>Contender, The (2000)</td>\n",
       "      <td>Drama|Thriller</td>\n",
       "    </tr>\n",
       "  </tbody>\n",
       "</table>\n",
       "<p>3883 rows × 3 columns</p>\n",
       "</div>"
      ],
      "text/plain": [
       "      movie_id                               title  \\\n",
       "0            1                    Toy Story (1995)   \n",
       "1            2                      Jumanji (1995)   \n",
       "2            3             Grumpier Old Men (1995)   \n",
       "3            4            Waiting to Exhale (1995)   \n",
       "4            5  Father of the Bride Part II (1995)   \n",
       "...        ...                                 ...   \n",
       "3878      3948             Meet the Parents (2000)   \n",
       "3879      3949          Requiem for a Dream (2000)   \n",
       "3880      3950                    Tigerland (2000)   \n",
       "3881      3951             Two Family House (2000)   \n",
       "3882      3952               Contender, The (2000)   \n",
       "\n",
       "                             genre  \n",
       "0      Animation|Children's|Comedy  \n",
       "1     Adventure|Children's|Fantasy  \n",
       "2                   Comedy|Romance  \n",
       "3                     Comedy|Drama  \n",
       "4                           Comedy  \n",
       "...                            ...  \n",
       "3878                        Comedy  \n",
       "3879                         Drama  \n",
       "3880                         Drama  \n",
       "3881                         Drama  \n",
       "3882                Drama|Thriller  \n",
       "\n",
       "[3883 rows x 3 columns]"
      ]
     },
     "execution_count": 7,
     "metadata": {},
     "output_type": "execute_result"
    }
   ],
   "source": [
    "movies"
   ]
  },
  {
   "cell_type": "code",
   "execution_count": 8,
   "id": "f5ec386d",
   "metadata": {},
   "outputs": [
    {
     "data": {
      "text/html": [
       "<div>\n",
       "<style scoped>\n",
       "    .dataframe tbody tr th:only-of-type {\n",
       "        vertical-align: middle;\n",
       "    }\n",
       "\n",
       "    .dataframe tbody tr th {\n",
       "        vertical-align: top;\n",
       "    }\n",
       "\n",
       "    .dataframe thead th {\n",
       "        text-align: right;\n",
       "    }\n",
       "</style>\n",
       "<table border=\"1\" class=\"dataframe\">\n",
       "  <thead>\n",
       "    <tr style=\"text-align: right;\">\n",
       "      <th></th>\n",
       "      <th>user_id</th>\n",
       "      <th>movie_id</th>\n",
       "      <th>counts</th>\n",
       "      <th>timestamp</th>\n",
       "      <th>title</th>\n",
       "      <th>genre</th>\n",
       "    </tr>\n",
       "  </thead>\n",
       "  <tbody>\n",
       "    <tr>\n",
       "      <th>0</th>\n",
       "      <td>1</td>\n",
       "      <td>1193</td>\n",
       "      <td>5</td>\n",
       "      <td>978300760</td>\n",
       "      <td>One Flew Over the Cuckoo's Nest (1975)</td>\n",
       "      <td>Drama</td>\n",
       "    </tr>\n",
       "    <tr>\n",
       "      <th>1</th>\n",
       "      <td>1</td>\n",
       "      <td>661</td>\n",
       "      <td>3</td>\n",
       "      <td>978302109</td>\n",
       "      <td>James and the Giant Peach (1996)</td>\n",
       "      <td>Animation|Children's|Musical</td>\n",
       "    </tr>\n",
       "    <tr>\n",
       "      <th>2</th>\n",
       "      <td>1</td>\n",
       "      <td>914</td>\n",
       "      <td>3</td>\n",
       "      <td>978301968</td>\n",
       "      <td>My Fair Lady (1964)</td>\n",
       "      <td>Musical|Romance</td>\n",
       "    </tr>\n",
       "    <tr>\n",
       "      <th>3</th>\n",
       "      <td>1</td>\n",
       "      <td>3408</td>\n",
       "      <td>4</td>\n",
       "      <td>978300275</td>\n",
       "      <td>Erin Brockovich (2000)</td>\n",
       "      <td>Drama</td>\n",
       "    </tr>\n",
       "    <tr>\n",
       "      <th>4</th>\n",
       "      <td>1</td>\n",
       "      <td>2355</td>\n",
       "      <td>5</td>\n",
       "      <td>978824291</td>\n",
       "      <td>Bug's Life, A (1998)</td>\n",
       "      <td>Animation|Children's|Comedy</td>\n",
       "    </tr>\n",
       "    <tr>\n",
       "      <th>...</th>\n",
       "      <td>...</td>\n",
       "      <td>...</td>\n",
       "      <td>...</td>\n",
       "      <td>...</td>\n",
       "      <td>...</td>\n",
       "      <td>...</td>\n",
       "    </tr>\n",
       "    <tr>\n",
       "      <th>836473</th>\n",
       "      <td>6040</td>\n",
       "      <td>1090</td>\n",
       "      <td>3</td>\n",
       "      <td>956715518</td>\n",
       "      <td>Platoon (1986)</td>\n",
       "      <td>Drama|War</td>\n",
       "    </tr>\n",
       "    <tr>\n",
       "      <th>836474</th>\n",
       "      <td>6040</td>\n",
       "      <td>1094</td>\n",
       "      <td>5</td>\n",
       "      <td>956704887</td>\n",
       "      <td>Crying Game, The (1992)</td>\n",
       "      <td>Drama|Romance|War</td>\n",
       "    </tr>\n",
       "    <tr>\n",
       "      <th>836475</th>\n",
       "      <td>6040</td>\n",
       "      <td>562</td>\n",
       "      <td>5</td>\n",
       "      <td>956704746</td>\n",
       "      <td>Welcome to the Dollhouse (1995)</td>\n",
       "      <td>Comedy|Drama</td>\n",
       "    </tr>\n",
       "    <tr>\n",
       "      <th>836476</th>\n",
       "      <td>6040</td>\n",
       "      <td>1096</td>\n",
       "      <td>4</td>\n",
       "      <td>956715648</td>\n",
       "      <td>Sophie's Choice (1982)</td>\n",
       "      <td>Drama</td>\n",
       "    </tr>\n",
       "    <tr>\n",
       "      <th>836477</th>\n",
       "      <td>6040</td>\n",
       "      <td>1097</td>\n",
       "      <td>4</td>\n",
       "      <td>956715569</td>\n",
       "      <td>E.T. the Extra-Terrestrial (1982)</td>\n",
       "      <td>Children's|Drama|Fantasy|Sci-Fi</td>\n",
       "    </tr>\n",
       "  </tbody>\n",
       "</table>\n",
       "<p>836478 rows × 6 columns</p>\n",
       "</div>"
      ],
      "text/plain": [
       "        user_id  movie_id  counts  timestamp  \\\n",
       "0             1      1193       5  978300760   \n",
       "1             1       661       3  978302109   \n",
       "2             1       914       3  978301968   \n",
       "3             1      3408       4  978300275   \n",
       "4             1      2355       5  978824291   \n",
       "...         ...       ...     ...        ...   \n",
       "836473     6040      1090       3  956715518   \n",
       "836474     6040      1094       5  956704887   \n",
       "836475     6040       562       5  956704746   \n",
       "836476     6040      1096       4  956715648   \n",
       "836477     6040      1097       4  956715569   \n",
       "\n",
       "                                         title  \\\n",
       "0       One Flew Over the Cuckoo's Nest (1975)   \n",
       "1             James and the Giant Peach (1996)   \n",
       "2                          My Fair Lady (1964)   \n",
       "3                       Erin Brockovich (2000)   \n",
       "4                         Bug's Life, A (1998)   \n",
       "...                                        ...   \n",
       "836473                          Platoon (1986)   \n",
       "836474                 Crying Game, The (1992)   \n",
       "836475         Welcome to the Dollhouse (1995)   \n",
       "836476                  Sophie's Choice (1982)   \n",
       "836477       E.T. the Extra-Terrestrial (1982)   \n",
       "\n",
       "                                  genre  \n",
       "0                                 Drama  \n",
       "1          Animation|Children's|Musical  \n",
       "2                       Musical|Romance  \n",
       "3                                 Drama  \n",
       "4           Animation|Children's|Comedy  \n",
       "...                                 ...  \n",
       "836473                        Drama|War  \n",
       "836474                Drama|Romance|War  \n",
       "836475                     Comedy|Drama  \n",
       "836476                            Drama  \n",
       "836477  Children's|Drama|Fantasy|Sci-Fi  \n",
       "\n",
       "[836478 rows x 6 columns]"
      ]
     },
     "execution_count": 8,
     "metadata": {},
     "output_type": "execute_result"
    }
   ],
   "source": [
    "movie_ratings = pd.merge(ratings, movies, how='left',on='movie_id')\n",
    "movie_ratings"
   ]
  },
  {
   "cell_type": "code",
   "execution_count": 9,
   "id": "3f48d84b",
   "metadata": {},
   "outputs": [
    {
     "data": {
      "text/plain": [
       "user_id      0\n",
       "movie_id     0\n",
       "counts       0\n",
       "timestamp    0\n",
       "dtype: int64"
      ]
     },
     "execution_count": 9,
     "metadata": {},
     "output_type": "execute_result"
    }
   ],
   "source": [
    "ratings.isna().sum()"
   ]
  },
  {
   "cell_type": "markdown",
   "id": "9e1cbba4",
   "metadata": {},
   "source": [
    "### 필요없는 컬럼 제거"
   ]
  },
  {
   "cell_type": "code",
   "execution_count": 10,
   "id": "421a1b72",
   "metadata": {},
   "outputs": [
    {
     "data": {
      "text/html": [
       "<div>\n",
       "<style scoped>\n",
       "    .dataframe tbody tr th:only-of-type {\n",
       "        vertical-align: middle;\n",
       "    }\n",
       "\n",
       "    .dataframe tbody tr th {\n",
       "        vertical-align: top;\n",
       "    }\n",
       "\n",
       "    .dataframe thead th {\n",
       "        text-align: right;\n",
       "    }\n",
       "</style>\n",
       "<table border=\"1\" class=\"dataframe\">\n",
       "  <thead>\n",
       "    <tr style=\"text-align: right;\">\n",
       "      <th></th>\n",
       "      <th>user_id</th>\n",
       "      <th>movie_id</th>\n",
       "      <th>counts</th>\n",
       "      <th>title</th>\n",
       "    </tr>\n",
       "  </thead>\n",
       "  <tbody>\n",
       "    <tr>\n",
       "      <th>0</th>\n",
       "      <td>1</td>\n",
       "      <td>1193</td>\n",
       "      <td>5</td>\n",
       "      <td>One Flew Over the Cuckoo's Nest (1975)</td>\n",
       "    </tr>\n",
       "    <tr>\n",
       "      <th>1</th>\n",
       "      <td>1</td>\n",
       "      <td>661</td>\n",
       "      <td>3</td>\n",
       "      <td>James and the Giant Peach (1996)</td>\n",
       "    </tr>\n",
       "    <tr>\n",
       "      <th>2</th>\n",
       "      <td>1</td>\n",
       "      <td>914</td>\n",
       "      <td>3</td>\n",
       "      <td>My Fair Lady (1964)</td>\n",
       "    </tr>\n",
       "    <tr>\n",
       "      <th>3</th>\n",
       "      <td>1</td>\n",
       "      <td>3408</td>\n",
       "      <td>4</td>\n",
       "      <td>Erin Brockovich (2000)</td>\n",
       "    </tr>\n",
       "    <tr>\n",
       "      <th>4</th>\n",
       "      <td>1</td>\n",
       "      <td>2355</td>\n",
       "      <td>5</td>\n",
       "      <td>Bug's Life, A (1998)</td>\n",
       "    </tr>\n",
       "    <tr>\n",
       "      <th>...</th>\n",
       "      <td>...</td>\n",
       "      <td>...</td>\n",
       "      <td>...</td>\n",
       "      <td>...</td>\n",
       "    </tr>\n",
       "    <tr>\n",
       "      <th>836473</th>\n",
       "      <td>6040</td>\n",
       "      <td>1090</td>\n",
       "      <td>3</td>\n",
       "      <td>Platoon (1986)</td>\n",
       "    </tr>\n",
       "    <tr>\n",
       "      <th>836474</th>\n",
       "      <td>6040</td>\n",
       "      <td>1094</td>\n",
       "      <td>5</td>\n",
       "      <td>Crying Game, The (1992)</td>\n",
       "    </tr>\n",
       "    <tr>\n",
       "      <th>836475</th>\n",
       "      <td>6040</td>\n",
       "      <td>562</td>\n",
       "      <td>5</td>\n",
       "      <td>Welcome to the Dollhouse (1995)</td>\n",
       "    </tr>\n",
       "    <tr>\n",
       "      <th>836476</th>\n",
       "      <td>6040</td>\n",
       "      <td>1096</td>\n",
       "      <td>4</td>\n",
       "      <td>Sophie's Choice (1982)</td>\n",
       "    </tr>\n",
       "    <tr>\n",
       "      <th>836477</th>\n",
       "      <td>6040</td>\n",
       "      <td>1097</td>\n",
       "      <td>4</td>\n",
       "      <td>E.T. the Extra-Terrestrial (1982)</td>\n",
       "    </tr>\n",
       "  </tbody>\n",
       "</table>\n",
       "<p>836478 rows × 4 columns</p>\n",
       "</div>"
      ],
      "text/plain": [
       "        user_id  movie_id  counts                                   title\n",
       "0             1      1193       5  One Flew Over the Cuckoo's Nest (1975)\n",
       "1             1       661       3        James and the Giant Peach (1996)\n",
       "2             1       914       3                     My Fair Lady (1964)\n",
       "3             1      3408       4                  Erin Brockovich (2000)\n",
       "4             1      2355       5                    Bug's Life, A (1998)\n",
       "...         ...       ...     ...                                     ...\n",
       "836473     6040      1090       3                          Platoon (1986)\n",
       "836474     6040      1094       5                 Crying Game, The (1992)\n",
       "836475     6040       562       5         Welcome to the Dollhouse (1995)\n",
       "836476     6040      1096       4                  Sophie's Choice (1982)\n",
       "836477     6040      1097       4       E.T. the Extra-Terrestrial (1982)\n",
       "\n",
       "[836478 rows x 4 columns]"
      ]
     },
     "execution_count": 10,
     "metadata": {},
     "output_type": "execute_result"
    }
   ],
   "source": [
    "movie_ratings.drop(columns=['timestamp', 'genre'], axis=1, inplace=True)\n",
    "movie_ratings"
   ]
  },
  {
   "cell_type": "markdown",
   "id": "4fdff59d",
   "metadata": {},
   "source": [
    "## 내가 좋아하는 영화 추가하기"
   ]
  },
  {
   "cell_type": "markdown",
   "id": "7fa1d394",
   "metadata": {},
   "source": [
    "내가 좋아하는 영화는 다음과 같이 모두 2000년 이후 개봉작이다. \n",
    "\n",
    "5개의 영화가 movies 데이터에 존재하면, movie_id나 title이 다르지만 같은 영화를 나타내는 중복 아닌 중복 데이터가 생성될 수 있으므로\n",
    "\n",
    "movies 데이터에 내가 좋아하는 영화가 존재하는지 알아봐야 했다.\n",
    "\n",
    "그래서 movies 데이터를 봤을 때, 2000년 이후에 개봉한 영화가 없어보이는 듯 했다.\n",
    "\n",
    "따라서 title의 괄호 안에 있는 연도를 구해 최댓값을 확인하여 **movies데이터에 있는 가장 최근 영화 개봉 연도를 확인**하고자 했다."
   ]
  },
  {
   "cell_type": "code",
   "execution_count": 19,
   "id": "fd5c1035",
   "metadata": {},
   "outputs": [],
   "source": [
    "my_favorites = ['About Time (2013)' , 'Avengers (2012)' ,'500 Days of Summer (2009)' ,'The Devil Wears Prada (2006)' ,'The Witch (2018)']"
   ]
  },
  {
   "cell_type": "code",
   "execution_count": 12,
   "id": "0f3d9f79",
   "metadata": {},
   "outputs": [],
   "source": [
    "# title 컬럼에 있는 영화 제목을 띄어쓰기 단위로 나눈 다음 \n",
    "# 연도를 표시하는 문자열에서 특수문자(괄호)를 제거한 후\n",
    "# 미리 만들어놓은 release list에 추가\n",
    "import re\n",
    "\n",
    "release = []\n",
    "for i in movies['title']:\n",
    "    y = i.split()[-1]\n",
    "    year = re.sub(r\"[^a-zA-Z0-9]\", \"\", y)\n",
    "    release.append(year)"
   ]
  },
  {
   "cell_type": "code",
   "execution_count": 13,
   "id": "7bd0db4e",
   "metadata": {},
   "outputs": [],
   "source": [
    "# release 데이터를 movies 데이터 프레임에 추가\n",
    "movies['release'] = release"
   ]
  },
  {
   "cell_type": "markdown",
   "id": "732ae4bb",
   "metadata": {},
   "source": [
    "release 컬럼을 int 형식으로 바꾸고자 했지만, 에러가 나서 원인을 찾아보니 'LAssocie1982' 값 때문에 int로 변환할 수 없었다.\n",
    "\n",
    "따라서 해당 값을 1982로 바꿔주는 작업을 진행했다."
   ]
  },
  {
   "cell_type": "code",
   "execution_count": 14,
   "id": "5a2fbc08",
   "metadata": {},
   "outputs": [
    {
     "data": {
      "text/plain": [
       "1996            345\n",
       "1995            342\n",
       "1998            337\n",
       "1997            315\n",
       "1999            283\n",
       "               ... \n",
       "1919              3\n",
       "1922              2\n",
       "1920              2\n",
       "LAssocie1982      1\n",
       "1921              1\n",
       "Name: release, Length: 82, dtype: int64"
      ]
     },
     "execution_count": 14,
     "metadata": {},
     "output_type": "execute_result"
    }
   ],
   "source": [
    "movies['release'].value_counts()"
   ]
  },
  {
   "cell_type": "code",
   "execution_count": 15,
   "id": "06fc3015",
   "metadata": {},
   "outputs": [],
   "source": [
    "movies.loc[ movies.release.str.contains('LAssocie1982'), 'release' ] = '1982'"
   ]
  },
  {
   "cell_type": "code",
   "execution_count": 16,
   "id": "094c5daa",
   "metadata": {},
   "outputs": [
    {
     "data": {
      "text/plain": [
       "0       1995\n",
       "1       1995\n",
       "2       1995\n",
       "3       1995\n",
       "4       1995\n",
       "        ... \n",
       "3878    2000\n",
       "3879    2000\n",
       "3880    2000\n",
       "3881    2000\n",
       "3882    2000\n",
       "Name: release, Length: 3883, dtype: int64"
      ]
     },
     "execution_count": 16,
     "metadata": {},
     "output_type": "execute_result"
    }
   ],
   "source": [
    "# int로 변환\n",
    "movies['release'].astype('int')"
   ]
  },
  {
   "cell_type": "code",
   "execution_count": 17,
   "id": "bdd96e4c",
   "metadata": {},
   "outputs": [
    {
     "data": {
      "text/plain": [
       "'2000'"
      ]
     },
     "execution_count": 17,
     "metadata": {},
     "output_type": "execute_result"
    }
   ],
   "source": [
    "movies.release.max()"
   ]
  },
  {
   "cell_type": "markdown",
   "id": "dccc54aa",
   "metadata": {},
   "source": [
    "확인 결과 가장 최근 개봉 연도는 2000년이므로, **내가 좋아하는 영화는 기존의 movies 데이터에 포함되지 않는다.**"
   ]
  },
  {
   "cell_type": "code",
   "execution_count": 27,
   "id": "8d2f46ed",
   "metadata": {},
   "outputs": [
    {
     "data": {
      "text/html": [
       "<div>\n",
       "<style scoped>\n",
       "    .dataframe tbody tr th:only-of-type {\n",
       "        vertical-align: middle;\n",
       "    }\n",
       "\n",
       "    .dataframe tbody tr th {\n",
       "        vertical-align: top;\n",
       "    }\n",
       "\n",
       "    .dataframe thead th {\n",
       "        text-align: right;\n",
       "    }\n",
       "</style>\n",
       "<table border=\"1\" class=\"dataframe\">\n",
       "  <thead>\n",
       "    <tr style=\"text-align: right;\">\n",
       "      <th></th>\n",
       "      <th>user_id</th>\n",
       "      <th>movie_id</th>\n",
       "      <th>counts</th>\n",
       "      <th>title</th>\n",
       "    </tr>\n",
       "  </thead>\n",
       "  <tbody>\n",
       "    <tr>\n",
       "      <th>836473</th>\n",
       "      <td>6038</td>\n",
       "      <td>1090.0</td>\n",
       "      <td>3</td>\n",
       "      <td>Platoon (1986)</td>\n",
       "    </tr>\n",
       "    <tr>\n",
       "      <th>836474</th>\n",
       "      <td>6038</td>\n",
       "      <td>1094.0</td>\n",
       "      <td>5</td>\n",
       "      <td>Crying Game, The (1992)</td>\n",
       "    </tr>\n",
       "    <tr>\n",
       "      <th>836475</th>\n",
       "      <td>6038</td>\n",
       "      <td>562.0</td>\n",
       "      <td>5</td>\n",
       "      <td>Welcome to the Dollhouse (1995)</td>\n",
       "    </tr>\n",
       "    <tr>\n",
       "      <th>836476</th>\n",
       "      <td>6038</td>\n",
       "      <td>1096.0</td>\n",
       "      <td>4</td>\n",
       "      <td>Sophie's Choice (1982)</td>\n",
       "    </tr>\n",
       "    <tr>\n",
       "      <th>836477</th>\n",
       "      <td>6038</td>\n",
       "      <td>1097.0</td>\n",
       "      <td>4</td>\n",
       "      <td>E.T. the Extra-Terrestrial (1982)</td>\n",
       "    </tr>\n",
       "    <tr>\n",
       "      <th>0</th>\n",
       "      <td>been</td>\n",
       "      <td>NaN</td>\n",
       "      <td>5</td>\n",
       "      <td>About Time (2013)</td>\n",
       "    </tr>\n",
       "    <tr>\n",
       "      <th>1</th>\n",
       "      <td>been</td>\n",
       "      <td>NaN</td>\n",
       "      <td>5</td>\n",
       "      <td>Avengers (2012)</td>\n",
       "    </tr>\n",
       "    <tr>\n",
       "      <th>2</th>\n",
       "      <td>been</td>\n",
       "      <td>NaN</td>\n",
       "      <td>5</td>\n",
       "      <td>500 Days of Summer (2009)</td>\n",
       "    </tr>\n",
       "    <tr>\n",
       "      <th>3</th>\n",
       "      <td>been</td>\n",
       "      <td>NaN</td>\n",
       "      <td>5</td>\n",
       "      <td>The Devil Wears Prada (2006)</td>\n",
       "    </tr>\n",
       "    <tr>\n",
       "      <th>4</th>\n",
       "      <td>been</td>\n",
       "      <td>NaN</td>\n",
       "      <td>5</td>\n",
       "      <td>The Witch (2018)</td>\n",
       "    </tr>\n",
       "  </tbody>\n",
       "</table>\n",
       "</div>"
      ],
      "text/plain": [
       "       user_id  movie_id  counts                              title\n",
       "836473    6038    1090.0       3                     Platoon (1986)\n",
       "836474    6038    1094.0       5            Crying Game, The (1992)\n",
       "836475    6038     562.0       5    Welcome to the Dollhouse (1995)\n",
       "836476    6038    1096.0       4             Sophie's Choice (1982)\n",
       "836477    6038    1097.0       4  E.T. the Extra-Terrestrial (1982)\n",
       "0         been       NaN       5                  About Time (2013)\n",
       "1         been       NaN       5                    Avengers (2012)\n",
       "2         been       NaN       5          500 Days of Summer (2009)\n",
       "3         been       NaN       5       The Devil Wears Prada (2006)\n",
       "4         been       NaN       5                   The Witch (2018)"
      ]
     },
     "execution_count": 27,
     "metadata": {},
     "output_type": "execute_result"
    }
   ],
   "source": [
    "my_list = pd.DataFrame({'user_id': ['been'] * 5,\n",
    "                        'title': my_favorites,\n",
    "                        'counts': [5] * 5,\n",
    "                        })\n",
    "\n",
    "if not movie_ratings.isin({'user_id':['been']})['user_id'].any(): \n",
    "    movie_ratings = movie_ratings.append(my_list)\n",
    "\n",
    "movie_ratings.tail(10)"
   ]
  },
  {
   "cell_type": "markdown",
   "id": "f66801d1",
   "metadata": {},
   "source": [
    "- 고유한 유저/영화를 찾기위해 인덱싱 코드를 선언"
   ]
  },
  {
   "cell_type": "code",
   "execution_count": 31,
   "id": "43920ed9",
   "metadata": {},
   "outputs": [],
   "source": [
    "userid_unique = movie_ratings['user_id'].unique()\n",
    "movie_unique = movie_ratings['title'].unique()\n",
    "\n",
    "# user, movie indexing 하는 코드 idx는 index의 약자입니다.\n",
    "user_to_idx = {v:k for k,v in enumerate(userid_unique)}\n",
    "movie_to_idx = {v:k for k,v in enumerate(movie_unique)}"
   ]
  },
  {
   "cell_type": "code",
   "execution_count": 32,
   "id": "ac557ff1",
   "metadata": {},
   "outputs": [
    {
     "name": "stdout",
     "output_type": "stream",
     "text": [
      "6039\n",
      "3628\n"
     ]
    }
   ],
   "source": [
    "# 인덱싱이 잘 되었는지 확인\n",
    "print(user_to_idx['been'])    \n",
    "print(movie_to_idx['About Time (2013)'])"
   ]
  },
  {
   "cell_type": "code",
   "execution_count": 33,
   "id": "643c9ac2",
   "metadata": {},
   "outputs": [
    {
     "name": "stdout",
     "output_type": "stream",
     "text": [
      "user_id column indexing OK!\n",
      "movie_id column indexing OK!\n"
     ]
    },
    {
     "data": {
      "text/html": [
       "<div>\n",
       "<style scoped>\n",
       "    .dataframe tbody tr th:only-of-type {\n",
       "        vertical-align: middle;\n",
       "    }\n",
       "\n",
       "    .dataframe tbody tr th {\n",
       "        vertical-align: top;\n",
       "    }\n",
       "\n",
       "    .dataframe thead th {\n",
       "        text-align: right;\n",
       "    }\n",
       "</style>\n",
       "<table border=\"1\" class=\"dataframe\">\n",
       "  <thead>\n",
       "    <tr style=\"text-align: right;\">\n",
       "      <th></th>\n",
       "      <th>user_id</th>\n",
       "      <th>movie_id</th>\n",
       "      <th>counts</th>\n",
       "      <th>title</th>\n",
       "    </tr>\n",
       "  </thead>\n",
       "  <tbody>\n",
       "    <tr>\n",
       "      <th>0</th>\n",
       "      <td>0</td>\n",
       "      <td>0</td>\n",
       "      <td>5</td>\n",
       "      <td>One Flew Over the Cuckoo's Nest (1975)</td>\n",
       "    </tr>\n",
       "    <tr>\n",
       "      <th>1</th>\n",
       "      <td>0</td>\n",
       "      <td>1</td>\n",
       "      <td>3</td>\n",
       "      <td>James and the Giant Peach (1996)</td>\n",
       "    </tr>\n",
       "    <tr>\n",
       "      <th>2</th>\n",
       "      <td>0</td>\n",
       "      <td>2</td>\n",
       "      <td>3</td>\n",
       "      <td>My Fair Lady (1964)</td>\n",
       "    </tr>\n",
       "    <tr>\n",
       "      <th>3</th>\n",
       "      <td>0</td>\n",
       "      <td>3</td>\n",
       "      <td>4</td>\n",
       "      <td>Erin Brockovich (2000)</td>\n",
       "    </tr>\n",
       "    <tr>\n",
       "      <th>4</th>\n",
       "      <td>0</td>\n",
       "      <td>4</td>\n",
       "      <td>5</td>\n",
       "      <td>Bug's Life, A (1998)</td>\n",
       "    </tr>\n",
       "    <tr>\n",
       "      <th>...</th>\n",
       "      <td>...</td>\n",
       "      <td>...</td>\n",
       "      <td>...</td>\n",
       "      <td>...</td>\n",
       "    </tr>\n",
       "    <tr>\n",
       "      <th>0</th>\n",
       "      <td>6039</td>\n",
       "      <td>3628</td>\n",
       "      <td>5</td>\n",
       "      <td>About Time (2013)</td>\n",
       "    </tr>\n",
       "    <tr>\n",
       "      <th>1</th>\n",
       "      <td>6039</td>\n",
       "      <td>3629</td>\n",
       "      <td>5</td>\n",
       "      <td>Avengers (2012)</td>\n",
       "    </tr>\n",
       "    <tr>\n",
       "      <th>2</th>\n",
       "      <td>6039</td>\n",
       "      <td>3630</td>\n",
       "      <td>5</td>\n",
       "      <td>500 Days of Summer (2009)</td>\n",
       "    </tr>\n",
       "    <tr>\n",
       "      <th>3</th>\n",
       "      <td>6039</td>\n",
       "      <td>3631</td>\n",
       "      <td>5</td>\n",
       "      <td>The Devil Wears Prada (2006)</td>\n",
       "    </tr>\n",
       "    <tr>\n",
       "      <th>4</th>\n",
       "      <td>6039</td>\n",
       "      <td>3632</td>\n",
       "      <td>5</td>\n",
       "      <td>The Witch (2018)</td>\n",
       "    </tr>\n",
       "  </tbody>\n",
       "</table>\n",
       "<p>836483 rows × 4 columns</p>\n",
       "</div>"
      ],
      "text/plain": [
       "    user_id  movie_id  counts                                   title\n",
       "0         0         0       5  One Flew Over the Cuckoo's Nest (1975)\n",
       "1         0         1       3        James and the Giant Peach (1996)\n",
       "2         0         2       3                     My Fair Lady (1964)\n",
       "3         0         3       4                  Erin Brockovich (2000)\n",
       "4         0         4       5                    Bug's Life, A (1998)\n",
       "..      ...       ...     ...                                     ...\n",
       "0      6039      3628       5                       About Time (2013)\n",
       "1      6039      3629       5                         Avengers (2012)\n",
       "2      6039      3630       5               500 Days of Summer (2009)\n",
       "3      6039      3631       5            The Devil Wears Prada (2006)\n",
       "4      6039      3632       5                        The Witch (2018)\n",
       "\n",
       "[836483 rows x 4 columns]"
      ]
     },
     "execution_count": 33,
     "metadata": {},
     "output_type": "execute_result"
    }
   ],
   "source": [
    "temp_user_data = movie_ratings['user_id'].map(user_to_idx.get).dropna()\n",
    "if len(temp_user_data) == len(movie_ratings):   # 모든 row가 정상적으로 인덱싱되었다면\n",
    "    print('user_id column indexing OK!')\n",
    "    movie_ratings['user_id'] = temp_user_data   # ratings['user_id']을 인덱싱된 Series로 교체\n",
    "else:\n",
    "    print('user_id column indexing Fail!') #오류 문구 출력\n",
    "\n",
    "# movie_to_idx을 통해 movie_id 컬럼도 동일한 방식으로 인덱싱해 줍니다. \n",
    "temp_movie_data = movie_ratings['title'].map(movie_to_idx.get).dropna()\n",
    "if len(temp_movie_data) == len(movie_ratings):\n",
    "    print('movie_id column indexing OK!')\n",
    "    movie_ratings['movie_id'] = temp_movie_data\n",
    "else:\n",
    "    print('movie_id column indexing Fail!')\n",
    "\n",
    "movie_ratings"
   ]
  },
  {
   "cell_type": "markdown",
   "id": "e3cfa1f4",
   "metadata": {},
   "source": [
    "# 데이터 탐색"
   ]
  },
  {
   "cell_type": "markdown",
   "id": "95c8f48e",
   "metadata": {},
   "source": [
    "### ratings에 있는 유니크한 영화 개수 (내가 좋아하는 영화 추가 전)"
   ]
  },
  {
   "cell_type": "code",
   "execution_count": 22,
   "id": "ba4d8249",
   "metadata": {},
   "outputs": [
    {
     "data": {
      "text/plain": [
       "3628"
      ]
     },
     "execution_count": 22,
     "metadata": {},
     "output_type": "execute_result"
    }
   ],
   "source": [
    "len(ratings.movie_id.unique())"
   ]
  },
  {
   "cell_type": "markdown",
   "id": "bf7385f4",
   "metadata": {},
   "source": [
    "### ratings에 있는 유니크한 사용자 수 (내 id 추가 전)"
   ]
  },
  {
   "cell_type": "code",
   "execution_count": 23,
   "id": "31abbe37",
   "metadata": {},
   "outputs": [
    {
     "data": {
      "text/plain": [
       "6039"
      ]
     },
     "execution_count": 23,
     "metadata": {},
     "output_type": "execute_result"
    }
   ],
   "source": [
    "len(ratings.user_id.unique())"
   ]
  },
  {
   "cell_type": "markdown",
   "id": "644feb18",
   "metadata": {},
   "source": [
    "### 가장 인기 있는 영화 30개 (인기순)\n",
    "\n",
    "'가장 인기 있는 영화'를 주어진 데이터에서 해석해보면,\n",
    "\n",
    "**사람들이 가장 많이 본(별점의 개수가 많은) 영화**라고 할 수 있다. \n",
    "\n",
    "그렇기 때문에 movie_ratings 데이터의 movie_id의 개수가 많은 순서대로 확인할 수 있다."
   ]
  },
  {
   "cell_type": "code",
   "execution_count": 24,
   "id": "ad2bb50a",
   "metadata": {},
   "outputs": [
    {
     "data": {
      "text/plain": [
       "American Beauty (1999)                                   3211\n",
       "Star Wars: Episode IV - A New Hope (1977)                2910\n",
       "Star Wars: Episode V - The Empire Strikes Back (1980)    2885\n",
       "Star Wars: Episode VI - Return of the Jedi (1983)        2716\n",
       "Saving Private Ryan (1998)                               2561\n",
       "Terminator 2: Judgment Day (1991)                        2509\n",
       "Silence of the Lambs, The (1991)                         2498\n",
       "Raiders of the Lost Ark (1981)                           2473\n",
       "Back to the Future (1985)                                2460\n",
       "Matrix, The (1999)                                       2434\n",
       "Jurassic Park (1993)                                     2413\n",
       "Sixth Sense, The (1999)                                  2385\n",
       "Fargo (1996)                                             2371\n",
       "Braveheart (1995)                                        2314\n",
       "Men in Black (1997)                                      2297\n",
       "Schindler's List (1993)                                  2257\n",
       "Princess Bride, The (1987)                               2252\n",
       "Shakespeare in Love (1998)                               2213\n",
       "L.A. Confidential (1997)                                 2210\n",
       "Shawshank Redemption, The (1994)                         2194\n",
       "Godfather, The (1972)                                    2167\n",
       "Groundhog Day (1993)                                     2121\n",
       "E.T. the Extra-Terrestrial (1982)                        2102\n",
       "Being John Malkovich (1999)                              2066\n",
       "Ghostbusters (1984)                                      2051\n",
       "Pulp Fiction (1994)                                      2030\n",
       "Forrest Gump (1994)                                      2022\n",
       "Terminator, The (1984)                                   2019\n",
       "Toy Story (1995)                                         2000\n",
       "Fugitive, The (1993)                                     1941\n",
       "Name: title, dtype: int64"
      ]
     },
     "execution_count": 24,
     "metadata": {},
     "output_type": "execute_result"
    }
   ],
   "source": [
    "movie_ratings.title.value_counts().head(30)"
   ]
  },
  {
   "cell_type": "markdown",
   "id": "6d1192a1",
   "metadata": {},
   "source": [
    "# Matrix Factorization(MF)\n",
    "- 행렬 분해\n",
    "\n",
    "참고 링크 : https://towardsdatascience.com/recommendation-system-matrix-factorization-d61978660b4b"
   ]
  },
  {
   "cell_type": "markdown",
   "id": "810bc273",
   "metadata": {},
   "source": [
    "그림의 왼쪽에서 보는 것처럼, \n",
    "\n",
    "**m명의 사용자**들이 **n명의 아티스트**에 대해 평가한 데이터를 포함한 (m,n) 사이즈의 **평가 행렬(Rating Matrix)**을 만들 것\n",
    "\n",
    "**행렬 중 일부는 데이터가 채워져 있지만, 나머지 부분은 데이터가 비어 있음**\n",
    "\n",
    "추천 시스템의 **협업 필터링(Collaborative Filtering)이란 결국은 이런 평가 행렬을 전제로 하는 것**\n",
    "\n",
    "만약 이 평가 행렬의 비어 있는 부분을 포함한 완벽한 정보를 얻을 수만 있다면 \n",
    "\n",
    "(모든 사용자의 모든 아이템에 대한 선호도를 다 파악한 셈이니) \n",
    "\n",
    "완벽한 추천이 가능해질 것"
   ]
  },
  {
   "attachments": {
    "image.png": {
     "image/png": "[encoded data removed]"
    }
   },
   "cell_type": "markdown",
   "id": "ae58005f",
   "metadata": {},
   "source": [
    "![image.png](attachment:image.png)"
   ]
  },
  {
   "cell_type": "markdown",
   "id": "e0d48850",
   "metadata": {},
   "source": [
    "**(m,n) 사이즈의 행렬 R**을 **(m,k) 사이즈의 행렬 P**와 **(k,n) 사이즈의 행렬 Q**로 분해한다면 \n",
    "\n",
    "R이란 그저 **P와 Q의 행렬곱으로 표현 가능할 수 있다는 간단한 아이디어**\n",
    "\n",
    "대체로 **k는 m이나 n보다 훨씬 작은 값**이기 때문에 **계산량 측면으로도 훨씬 유리해짐**\n",
    "\n",
    "하지만 아이디어의 단순함에도 불구하고 MF 모델은 성능이 준수하고 Scalability가 좋아서 많이 사용되는 모델"
   ]
  },
  {
   "cell_type": "markdown",
   "id": "fe33a417",
   "metadata": {},
   "source": [
    "####  MF 모델을 <사용자에게 영화를 추천하는 모델>에 대입\n",
    "- m=4, n=5, k=2인 MF 모델"
   ]
  },
  {
   "attachments": {
    "image.png": {
     "image/png": "[encoded data removed]"
    }
   },
   "cell_type": "markdown",
   "id": "9e3a3f17",
   "metadata": {},
   "source": [
    "![image.png](attachment:image.png)"
   ]
  },
  {
   "cell_type": "markdown",
   "id": "db873ce5",
   "metadata": {},
   "source": [
    "- **(m, k) 사이즈의 Feature Matrix P**는 k 차원의 벡터를 **사용자 수**만큼 모아놓은 행렬\n",
    "\n",
    "아래 그림에서 첫 번째 벡터 $P_0$ =(1, 0.1)은 바로 빨간 모자를 쓴 첫 번째 사용자의 특성(Feature) 벡터\n",
    "\n",
    "같은 방식으로 $Q$ 행렬의 첫 번째 벡터 $Q_0$=(0.9, -0.2)는 해리포터 영화의 특성 벡터\n",
    "\n",
    "MF 모델은 이 **두 벡터를 내적**해서 얻어지는 0.88이 바로 $R_{0,0}$으로 정의되는 사용자의 영화 선호도로 보는 모델\n",
    "\n",
    "벡터를 곱했을 때 **1에 가까워야** 모델이 잘 학습하는 것"
   ]
  },
  {
   "cell_type": "markdown",
   "id": "dd599543",
   "metadata": {},
   "source": [
    "### 모델의 목표는 모든 유저와 아이템에 대해 k-dimension의 벡터를 잘 만드는 것"
   ]
  },
  {
   "cell_type": "markdown",
   "id": "3bfa390f",
   "metadata": {},
   "source": [
    "- 기준 :  유저 $i$의 벡터$(U_i)$와 아이템 $j$의 벡터$(I_j)$를 내적했을 때, 유저 $i$가 아이템 $j$에 대해 평가한 수치$(M_{ij})$와 비슷한지\n",
    "### $U_i$ ⋅$I_j$ = $M_{ij}$\n"
   ]
  },
  {
   "cell_type": "markdown",
   "id": "df8a3bee",
   "metadata": {},
   "source": [
    "# CSR(Compressed Sparse Row) Matrix"
   ]
  },
  {
   "cell_type": "markdown",
   "id": "c4a2bde0",
   "metadata": {},
   "source": [
    "- **Sparse한 matrix**에서 0이 아닌 유효한 데이터로 채워지는 **데이터의 값과 좌표 정보만으로 구성**하여 \n",
    "\n",
    "\n",
    "- 메모리 사용량을 최소화하면서도 Sparse한 matrix와 동일한 행렬을 표현할 수 있도록 하는 데이터 구조"
   ]
  },
  {
   "cell_type": "markdown",
   "id": "4f170a38",
   "metadata": {},
   "source": [
    "유저는 36만 명이고 아티스트는 29만 명\n",
    "\n",
    "이를 행렬로 표현하고, 행렬의 각 원소에 정수 한 개 (1byte)가 들어간다면\n",
    "\n",
    "36만 * 29만 * 1byte $\\approx$ 97GB가 필요"
   ]
  },
  {
   "cell_type": "markdown",
   "id": "ccf0c621",
   "metadata": {},
   "source": [
    "유저 수 X 아티스트 수만큼의 정보 안에는 **유저가 들어보지 않은 아티스트에 대한 정보까지 모두 행렬에 포함되어 계산되기 때문**\n",
    "\n",
    "아무리 많은 아티스트를 들어 본 유저도 수백 명을 넘어갈 만큼의 아티스트를 들어보지 못했는데, \n",
    "\n",
    "총 아티스트는 29만 명이 넘기 때문에 **평가행렬 내의 대부분의 공간은 0으로 채워짐**\n",
    "\n",
    "이런 행렬을 Sparse Matrix\n",
    "\n",
    "이런 메모리 낭비를 최소화하기 위해 \n",
    "\n",
    "**유저가 들어본 아티스트에 대해서만 정보만을 저장하면서 전체 행렬 형태를 유추할 수 있는 데이터 구조가 필요**\n",
    "\n",
    "이런 경우, 좋은 대안이 되는 것이 CSR(Compressed Sparse Row) Matrix"
   ]
  },
  {
   "cell_type": "markdown",
   "id": "4984472c",
   "metadata": {},
   "source": [
    "-----------------\n",
    "\n",
    "\"행렬 중 일부는 데이터가 채워져 있지만, 나머지 부분은 데이터가 비어 있다\"는게, \n",
    "\n",
    "a라는 유저가 Z라는 가수의 노래를 play하지 않았을 때 데이터가 비어있다는 것으로 이해되는데, \n",
    "\n",
    "그러면 그냥 0을 넣거나 0에 가까운 값으로 채우면 되지 않을까 싶다.\n",
    "\n",
    "아마 그러지 않는 것을 보면 성능에 좋은 영향을 주지 않아서일텐데 이유가 궁금했다.\n",
    "\n",
    "그저 0으로 채워서 계산을 하면 위에서 언급한 것과 같이 메모리가 기하급수적으로 폭증하기 때문에 CSR을 사용해 메모리 효율을 높이는 것이었다.\n",
    "\n",
    "------------------"
   ]
  },
  {
   "cell_type": "markdown",
   "id": "b3bd903e",
   "metadata": {},
   "source": [
    "## CSR Matrix는 data, indices, indptr 로 행렬을 압축하여 표현"
   ]
  },
  {
   "attachments": {
    "image.png": {
     "image/png": "[encoded data removed]"
    }
   },
   "cell_type": "markdown",
   "id": "3e30688c",
   "metadata": {},
   "source": [
    "![image.png](attachment:image.png)"
   ]
  },
  {
   "cell_type": "markdown",
   "id": "78f4028c",
   "metadata": {},
   "source": [
    "### data - 0이 아닌 원소를 차례로 기입한 값\n",
    "- data = [1, 2, 3, 4, 5, 6]\n",
    "    \n",
    "        (행을 기준으로 - 1행의 원소, 2행의 원소, 4행의 원소 순)"
   ]
  },
  {
   "cell_type": "markdown",
   "id": "ffaa0342",
   "metadata": {},
   "source": [
    "### indices - data의 각 요소가 어느 열(column)에 있는지를 표현한 index"
   ]
  },
  {
   "cell_type": "markdown",
   "id": "566e189b",
   "metadata": {},
   "source": [
    "- indices = [0, 4, 1, 3, 0, 3]\n",
    "\n",
    "1은 0번째 열, \n",
    "\n",
    "2는 4번째 열,\n",
    "\n",
    "3은 1번째 열 ..."
   ]
  },
  {
   "cell_type": "markdown",
   "id": "8ca24be1",
   "metadata": {},
   "source": [
    "### indptr - 각 행(row)에서 0이 아닌 첫 번째 원소가 data 리스트에서 몇 번째에 해당하는지와 마지막에 data 벡터의 길이를 추가한 값\n",
    "\n",
    "- 이를 통해 data의 요소들이 어느 행(row)에 있는지를 알 수 있지만 예시의 세 번째 행처럼 0이 아닌 원소가 없는 경우엔 그 다음 행의 값과 같은 값을 넣음\n",
    "\n",
    "\n",
    "- indptr = [0, 2, 4, 4, 6]"
   ]
  },
  {
   "cell_type": "markdown",
   "id": "d88ce411",
   "metadata": {},
   "source": [
    "참고 링크 : https://youtu.be/Qi7FcjN7nsc\n",
    "\n",
    "처음 이 개념이 너무 이해가 안가서 부가 설명을 찾아보다가 똑부러지는 영상을 하나 발견했다.\n",
    "\n",
    "indptr 리스트의 각각의 값은 **0이 아닌 첫 번째 원소의 data 리스트에서의 인덱스**를 나타낸다.\n",
    "\n",
    "즉, \n",
    "\n",
    "data= [1, 2, 3, 4, 5, 6], \n",
    "\n",
    "indptr=[0, 2, 4, 4, 6]이라는 것은\n",
    "\n",
    "\n",
    "0 : 첫 번 째 행의 시작 원소 -> data[0]의 원소 = 1\n",
    "\n",
    "2 : 두 번 째 행의 시작 원소 -> data[2]의 원소 = 3\n",
    "\n",
    "그렇다면 첫 번 째 행의 원소 = 1, 2가 된다.\n",
    "\n",
    "4(indptr[3]) : 네 번 째 행의 시작 원소 -> data[4] 원소 = 5\n",
    "\n",
    "그렇다면 두 번 째 행의 원소 = 3, 4가 된다.\n",
    "\n",
    "4가 두 번 나온건 3번 째 행이 0으로 이루어진 행이기 때문에 네 번 째 행의 원소 = 5, 6이다.\n",
    "\n",
    "indptr 리스트의 마지막 값 6은 데이터 리스트에 들어있는 원소의 총 개수를 뜻한다."
   ]
  },
  {
   "cell_type": "code",
   "execution_count": 35,
   "id": "150ab225",
   "metadata": {},
   "outputs": [
    {
     "data": {
      "text/plain": [
       "<6040x3633 sparse matrix of type '<class 'numpy.int64'>'\n",
       "\twith 836483 stored elements in Compressed Sparse Row format>"
      ]
     },
     "execution_count": 35,
     "metadata": {},
     "output_type": "execute_result"
    }
   ],
   "source": [
    "from scipy.sparse import csr_matrix\n",
    "\n",
    "num_user = movie_ratings['user_id'].nunique()\n",
    "num_movie = movie_ratings['movie_id'].nunique()\n",
    "\n",
    "csr_data = csr_matrix((movie_ratings['counts'], (movie_ratings.user_id, movie_ratings.movie_id)), shape=(num_user, num_movie))\n",
    "csr_data"
   ]
  },
  {
   "cell_type": "markdown",
   "id": "dfbbc850",
   "metadata": {},
   "source": [
    "# MF 모델 학습\n",
    "-  Matrix Factorization 모델을 implicit 패키지를 사용하여 학습\n",
    "\n",
    "\n",
    "- **implicit 패키지** : 암묵적(implicit) dataset을 사용하는 다양한 모델을 굉장히 빠르게 학습할 수 있는 패키지\n",
    "\n",
    "- **als(AlternatingLeastSquares) 모델** \n",
    "\n",
    ": Matrix Factorization에서 쪼개진 두 Feature Matrix를 한꺼번에 훈련하는 것은 잘 수렴하지 않기 때문에, \n",
    "\n",
    "**한쪽을 고정시키고 다른 쪽을 학습하는 방식을 번갈아 수행**하는 AlternatingLeastSquares 방식이 효과적"
   ]
  },
  {
   "cell_type": "code",
   "execution_count": 36,
   "id": "11aeb943",
   "metadata": {},
   "outputs": [],
   "source": [
    "from implicit.als import AlternatingLeastSquares\n",
    "import os\n",
    "import numpy as np\n",
    "\n",
    "#implicit 라이브러리에서 권장하고 있는 부분. 학습내용과는 무관\n",
    "os.environ['OPENBLAS_NUM_THREADS']='1'\n",
    "os.environ['KMP_DUPLICATE_LIB_OK']='True'\n",
    "os.environ['MKL_NUM_THREADS']='1'"
   ]
  },
  {
   "cell_type": "markdown",
   "id": "04f1c173",
   "metadata": {},
   "source": [
    "## AlternatingLeastSquares 클래스의 __init__ 파라미터\n",
    "\n",
    "- **factors** : 유저와 아이템의 벡터를 몇 차원으로 할 것인지\n",
    "\n",
    "\n",
    "- **regularization** : 과적합을 방지하기 위해 정규화 값을 얼마나 사용할 것인지\n",
    "\n",
    "\n",
    "- **use_gpu** : GPU를 사용할 것인지\n",
    "\n",
    "\n",
    "- **iterations** : epochs와 같은 의미. 데이터를 몇 번 반복해서 학습할 것인지\n",
    "\n",
    "\n",
    "factors와 iterations를 늘릴수록 학습 데이터를 잘 학습하게 되지만 과적합의 우려가 있으니 좋은 값을 찾아야 함"
   ]
  },
  {
   "cell_type": "markdown",
   "id": "5c558924",
   "metadata": {},
   "source": [
    "### Implicit AlternatingLeastSquares 모델 선언"
   ]
  },
  {
   "cell_type": "code",
   "execution_count": 37,
   "id": "d1f6e52a",
   "metadata": {},
   "outputs": [],
   "source": [
    "als_model = AlternatingLeastSquares(factors=100,\n",
    "                                    regularization=0.01,\n",
    "                                    use_gpu=False,\n",
    "                                    iterations=15,\n",
    "                                    dtype=np.float32)"
   ]
  },
  {
   "cell_type": "markdown",
   "id": "c67f11aa",
   "metadata": {},
   "source": [
    "### als 모델은 input으로 (item X user) 꼴의 matrix를 받기 때문에 Transpose"
   ]
  },
  {
   "cell_type": "code",
   "execution_count": 38,
   "id": "2a26d986",
   "metadata": {},
   "outputs": [
    {
     "data": {
      "text/plain": [
       "<3633x6040 sparse matrix of type '<class 'numpy.int64'>'\n",
       "\twith 836483 stored elements in Compressed Sparse Column format>"
      ]
     },
     "execution_count": 38,
     "metadata": {},
     "output_type": "execute_result"
    }
   ],
   "source": [
    "csr_data_transpose = csr_data.T\n",
    "csr_data_transpose"
   ]
  },
  {
   "cell_type": "markdown",
   "id": "20d950d4",
   "metadata": {},
   "source": [
    "## 모델 훈련"
   ]
  },
  {
   "cell_type": "code",
   "execution_count": 39,
   "id": "62be2d14",
   "metadata": {},
   "outputs": [
    {
     "data": {
      "application/vnd.jupyter.widget-view+json": {
       "model_id": "b37d591dc3644dfe99436d8a49bcfeae",
       "version_major": 2,
       "version_minor": 0
      },
      "text/plain": [
       "  0%|          | 0/15 [00:00<?, ?it/s]"
      ]
     },
     "metadata": {},
     "output_type": "display_data"
    }
   ],
   "source": [
    "als_model.fit(csr_data_transpose)"
   ]
  },
  {
   "cell_type": "markdown",
   "id": "6b5e962e",
   "metadata": {},
   "source": [
    "### 확인 사항\n",
    "\n",
    "- 내 아이디(user_id = 6041) 벡터와 About Time의 벡터를 어떻게 만들고 있는지\n",
    "\n",
    "\n",
    "- 두 벡터를 곱하면 어떤 값이 나오는지\n"
   ]
  },
  {
   "cell_type": "code",
   "execution_count": 41,
   "id": "a72494f4",
   "metadata": {},
   "outputs": [],
   "source": [
    "been, abouttime = user_to_idx['been'], movie_to_idx['About Time (2013)']\n",
    "been_vector, abouttime_vector = als_model.user_factors[been], als_model.item_factors[abouttime]"
   ]
  },
  {
   "cell_type": "code",
   "execution_count": 42,
   "id": "0bc493e1",
   "metadata": {},
   "outputs": [
    {
     "data": {
      "text/plain": [
       "array([-0.0107165 , -0.01010375, -0.05135853,  0.03009407, -0.02006278,\n",
       "       -0.0051859 ,  0.00545314, -0.02681729,  0.02524319,  0.02577847,\n",
       "        0.0067979 , -0.0070874 ,  0.00786801,  0.01420789, -0.01564324,\n",
       "        0.0205472 ,  0.00274955,  0.0182872 ,  0.02582647, -0.00946932,\n",
       "        0.00720202,  0.04109431, -0.00823079, -0.00029226,  0.0075877 ,\n",
       "       -0.01260002, -0.00377909, -0.00528789,  0.00249024, -0.01635013,\n",
       "        0.00483281,  0.02313066, -0.01099132,  0.01658548,  0.0092047 ,\n",
       "        0.00632732,  0.00039349, -0.02344963,  0.00647502,  0.01082734,\n",
       "       -0.01919439,  0.00364718, -0.01023049, -0.00645028, -0.01264178,\n",
       "        0.00180391, -0.02230442, -0.01273549,  0.0152547 , -0.01196399,\n",
       "        0.00958215,  0.00568558, -0.02487079,  0.02265708,  0.01158857,\n",
       "        0.02233696,  0.00594404,  0.00338495, -0.01595082,  0.00561173,\n",
       "        0.00116292, -0.00253205, -0.01957307,  0.00963716, -0.01089847,\n",
       "       -0.0229541 , -0.02238078,  0.02591085, -0.02595798,  0.01263395,\n",
       "        0.01987464,  0.04049711, -0.02755451,  0.03146119, -0.00038102,\n",
       "        0.02376306,  0.00092148,  0.00070035,  0.03169169, -0.00174748,\n",
       "        0.00175414, -0.01605663, -0.04324051,  0.01580435, -0.008132  ,\n",
       "       -0.01825637,  0.02814229,  0.00184655, -0.01363582, -0.02565127,\n",
       "       -0.01442086,  0.01195542, -0.02106356,  0.0369345 , -0.02634759,\n",
       "        0.00449086,  0.01985582, -0.00093137, -0.00168857, -0.00289234],\n",
       "      dtype=float32)"
      ]
     },
     "execution_count": 42,
     "metadata": {},
     "output_type": "execute_result"
    }
   ],
   "source": [
    "been_vector"
   ]
  },
  {
   "cell_type": "code",
   "execution_count": 43,
   "id": "15822b93",
   "metadata": {},
   "outputs": [
    {
     "data": {
      "text/plain": [
       "0.0005561192"
      ]
     },
     "execution_count": 43,
     "metadata": {},
     "output_type": "execute_result"
    }
   ],
   "source": [
    "# been과 abouttime을 내적하는 코드 -> 선호도\n",
    "np.dot(been_vector, abouttime_vector)"
   ]
  },
  {
   "cell_type": "markdown",
   "id": "56d82683",
   "metadata": {},
   "source": [
    "가장 좋아하는 영화인데 선호도가 0.0005로 아주 낮게 예측되었다.\n",
    "\n",
    "모델의 성능이 좋지 않다는 것을 확인했다."
   ]
  },
  {
   "cell_type": "markdown",
   "id": "cf5e3ea9",
   "metadata": {},
   "source": [
    "- 훈련된 모델이 예측하는 Toy Story (1995)에 대한 선호도"
   ]
  },
  {
   "cell_type": "code",
   "execution_count": 44,
   "id": "06635f54",
   "metadata": {},
   "outputs": [],
   "source": [
    "been, toystory = user_to_idx['been'], movie_to_idx['Toy Story (1995)']\n",
    "been_vector, toystory_vector = als_model.user_factors[been], als_model.item_factors[toystory]"
   ]
  },
  {
   "cell_type": "code",
   "execution_count": 45,
   "id": "787b09a4",
   "metadata": {},
   "outputs": [
    {
     "data": {
      "text/plain": [
       "-0.00018036213"
      ]
     },
     "execution_count": 45,
     "metadata": {},
     "output_type": "execute_result"
    }
   ],
   "source": [
    "np.dot(been_vector, toystory_vector)"
   ]
  },
  {
   "cell_type": "markdown",
   "id": "8772d136",
   "metadata": {},
   "source": [
    "토이스토리 또한 좋아하는 영화인데 마이너스의 선호도가 예측되었다."
   ]
  },
  {
   "cell_type": "markdown",
   "id": "16e66f01",
   "metadata": {},
   "source": [
    "# 비슷한 영화 찾기\n",
    "- similar_items 메서드"
   ]
  },
  {
   "cell_type": "code",
   "execution_count": 46,
   "id": "4a90e993",
   "metadata": {},
   "outputs": [
    {
     "data": {
      "text/plain": [
       "[(3628, 1.0000001),\n",
       " (3632, 0.9992982),\n",
       " (3631, 0.99666107),\n",
       " (3629, 0.99458146),\n",
       " (3630, 0.99384195),\n",
       " (3575, 0.9755706),\n",
       " (3578, 0.97555304),\n",
       " (3576, 0.9743756),\n",
       " (3579, 0.9727211),\n",
       " (3583, 0.97223717),\n",
       " (3573, 0.97206545),\n",
       " (3574, 0.97161084),\n",
       " (3580, 0.9712574),\n",
       " (3587, 0.9702321),\n",
       " (3572, 0.9701108)]"
      ]
     },
     "execution_count": 46,
     "metadata": {},
     "output_type": "execute_result"
    }
   ],
   "source": [
    "favorite_movie = 'About Time (2013)'\n",
    "movie_id = movie_to_idx[favorite_movie]\n",
    "similar_movie = als_model.similar_items(movie_id, N=15)\n",
    "similar_movie\n",
    "\n",
    "#(아티스트의 id, 유사도) Tuple 로 반환"
   ]
  },
  {
   "cell_type": "markdown",
   "id": "63395af1",
   "metadata": {},
   "source": [
    "- 영화의 id를 다시 영화의 이름으로 출력"
   ]
  },
  {
   "cell_type": "code",
   "execution_count": 47,
   "id": "79d4aafa",
   "metadata": {},
   "outputs": [],
   "source": [
    "#movie_to_idx 를 뒤집어, index로부터 movie의 이름을 얻는 dict를 생성\n",
    "idx_to_movie = {v:k for k,v in movie_to_idx.items()}"
   ]
  },
  {
   "cell_type": "code",
   "execution_count": 48,
   "id": "fa6cf0c5",
   "metadata": {},
   "outputs": [
    {
     "data": {
      "text/plain": [
       "['About Time (2013)',\n",
       " 'The Witch (2018)',\n",
       " 'The Devil Wears Prada (2006)',\n",
       " 'Avengers (2012)',\n",
       " '500 Days of Summer (2009)',\n",
       " \"Brother's Kiss, A (1997)\",\n",
       " 'Number Seventeen (1932)',\n",
       " 'War at Home, The (1996)',\n",
       " 'Last of the High Kings, The (a.k.a. Summer Fling) (1996)',\n",
       " 'Neon Bible, The (1995)',\n",
       " 'Male and Female (1919)',\n",
       " 'Century (1993)',\n",
       " \"Another Man's Poison (1952)\",\n",
       " 'Shopping (1994)',\n",
       " \"I Don't Want to Talk About It (De eso no se habla) (1993)\"]"
      ]
     },
     "execution_count": 48,
     "metadata": {},
     "output_type": "execute_result"
    }
   ],
   "source": [
    "[idx_to_movie[i[0]] for i in similar_movie]"
   ]
  },
  {
   "cell_type": "markdown",
   "id": "64d30766",
   "metadata": {},
   "source": [
    "- 위의 과정을 함수화"
   ]
  },
  {
   "cell_type": "code",
   "execution_count": 55,
   "id": "3a00a093",
   "metadata": {},
   "outputs": [],
   "source": [
    "def get_similar_movie(movie_name: str):\n",
    "    movie_id = movie_to_idx[movie_name]\n",
    "    similar_movie = als_model.similar_items(movie_id)\n",
    "    similar_movie = [idx_to_movie[i[0]] for i in similar_movie]\n",
    "    return similar_movie"
   ]
  },
  {
   "cell_type": "code",
   "execution_count": 56,
   "id": "baf216ee",
   "metadata": {},
   "outputs": [
    {
     "data": {
      "text/plain": [
       "['Toy Story (1995)',\n",
       " 'Toy Story 2 (1999)',\n",
       " 'Babe (1995)',\n",
       " 'Aladdin (1992)',\n",
       " \"Bug's Life, A (1998)\",\n",
       " 'Groundhog Day (1993)',\n",
       " 'Lion King, The (1994)',\n",
       " 'Beauty and the Beast (1991)',\n",
       " \"There's Something About Mary (1998)\",\n",
       " 'Pleasantville (1998)']"
      ]
     },
     "execution_count": 56,
     "metadata": {},
     "output_type": "execute_result"
    }
   ],
   "source": [
    "get_similar_movie('Toy Story (1995)')"
   ]
  },
  {
   "cell_type": "markdown",
   "id": "35e88365",
   "metadata": {},
   "source": [
    "Toy Story와 비슷한 영화로 Toy Story2를 가장 먼저 출력하는 것을 보면\n",
    "\n",
    "너무 나쁜 성능이라고 볼 수는 없을 것 같다.\n",
    "\n",
    "또한 애니메이션 위주로 결과가 나온 것을 보아 나름 비슷한 영화를 추천해주었다고 볼 수 있다."
   ]
  },
  {
   "cell_type": "markdown",
   "id": "f04cbbf2",
   "metadata": {},
   "source": [
    "# 영화 추천받기"
   ]
  },
  {
   "cell_type": "markdown",
   "id": "753376d7",
   "metadata": {},
   "source": [
    "- recommend 메서드\n",
    "- **filter_already_liked_items** : 유저가 이미 평가한 아이템은 제외하는 Argument"
   ]
  },
  {
   "cell_type": "code",
   "execution_count": 58,
   "id": "f0859435",
   "metadata": {},
   "outputs": [
    {
     "data": {
      "text/plain": [
       "[(60, 0.006892972),\n",
       " (811, 0.0067176567),\n",
       " (707, 0.005680249),\n",
       " (669, 0.0056272843),\n",
       " (2229, 0.0050466727),\n",
       " (126, 0.0049933535),\n",
       " (2539, 0.0049647186),\n",
       " (29, 0.0049210684),\n",
       " (2044, 0.004863701),\n",
       " (2562, 0.0047720643),\n",
       " (2106, 0.004752803),\n",
       " (241, 0.0047398517),\n",
       " (3309, 0.0047316565),\n",
       " (1570, 0.0046865875),\n",
       " (224, 0.004652417),\n",
       " (2381, 0.0046456824),\n",
       " (648, 0.004626046),\n",
       " (1508, 0.004622547),\n",
       " (3000, 0.004581298),\n",
       " (689, 0.004522972)]"
      ]
     },
     "execution_count": 58,
     "metadata": {},
     "output_type": "execute_result"
    }
   ],
   "source": [
    "user = user_to_idx['been']\n",
    "# recommend에서는 user*item CSR Matrix를 받음\n",
    "movie_recommended = als_model.recommend(user, csr_data, N=20, filter_already_liked_items=True)\n",
    "movie_recommended"
   ]
  },
  {
   "cell_type": "code",
   "execution_count": 60,
   "id": "1e7cff6c",
   "metadata": {},
   "outputs": [
    {
     "data": {
      "text/plain": [
       "['Star Wars: Episode I - The Phantom Menace (1999)',\n",
       " 'Thomas Crown Affair, The (1999)',\n",
       " 'Sting, The (1973)',\n",
       " 'Man on the Moon (1999)',\n",
       " 'Thieves (Voleurs, Les) (1996)',\n",
       " 'Shakespeare in Love (1998)',\n",
       " 'Stalker (1979)',\n",
       " 'Close Shave, A (1995)',\n",
       " 'Drunken Master (Zui quan) (1979)',\n",
       " 'Last Night (1998)',\n",
       " 'Phantom of the Opera, The (1943)',\n",
       " 'Pillow Book, The (1995)',\n",
       " 'Hollow Reed (1996)',\n",
       " 'Dance with Me (1998)',\n",
       " 'L.A. Confidential (1997)',\n",
       " 'Open Your Eyes (Abre los ojos) (1997)',\n",
       " 'Lethal Weapon (1987)',\n",
       " 'Fantasia 2000 (1999)',\n",
       " 'Female Perversions (1996)',\n",
       " 'Anne Frank Remembered (1995)']"
      ]
     },
     "execution_count": 60,
     "metadata": {},
     "output_type": "execute_result"
    }
   ],
   "source": [
    "[idx_to_movie[i[0]] for i in movie_recommended]"
   ]
  },
  {
   "cell_type": "markdown",
   "id": "7d23e9dc",
   "metadata": {},
   "source": [
    "원래 영화를 자주 보거나 영화보는 것을 딱히 즐기지 않는다.\n",
    "\n",
    "좋아하는 영화도 거의 손에 꼽을 정도로 적고, 이제까지 본 영화의 종류도 몇 개 되지 않는다. \n",
    "\n",
    "그래서 어떤 영화가 있는 지 잘 모른다.\n",
    "\n",
    "태어나기 전 영화, 1-3살 때 영화들을 추천받아서 이게 내 취향이 맞는 영화를 알려준 건지 아닌지 영화 제목만으로 알기 어렵다.\n",
    "\n",
    "하지만 위에서 가장 좋아하는 About Time에 대한 선호도를 0.0005로 출력하는 것을 보았을 때,\n",
    "\n",
    "모델이 추천한 영화들은 아마 내 취향과는 거리가 멀 것이라고 생각한다."
   ]
  },
  {
   "cell_type": "markdown",
   "id": "67167355",
   "metadata": {},
   "source": [
    "## 기여도"
   ]
  },
  {
   "cell_type": "code",
   "execution_count": 76,
   "id": "3a6644e3",
   "metadata": {},
   "outputs": [],
   "source": [
    "StarWars = movie_to_idx['Star Wars: Episode I - The Phantom Menace (1999)']\n",
    "explain = als_model.explain(user, csr_data, itemid=StarWars)"
   ]
  },
  {
   "cell_type": "code",
   "execution_count": 77,
   "id": "0ecbcb27",
   "metadata": {},
   "outputs": [
    {
     "data": {
      "text/plain": [
       "[('The Witch (2018)', 0.002116741117154086),\n",
       " ('About Time (2013)', 0.002102233394064869),\n",
       " ('Avengers (2012)', 0.001946599586810447),\n",
       " ('The Devil Wears Prada (2006)', 0.0018785429492688874),\n",
       " ('500 Days of Summer (2009)', 0.0015428231424502402)]"
      ]
     },
     "execution_count": 77,
     "metadata": {},
     "output_type": "execute_result"
    }
   ],
   "source": [
    "[(idx_to_movie[i[0]], i[1]) for i in explain[1]]"
   ]
  },
  {
   "cell_type": "markdown",
   "id": "aee730d3",
   "metadata": {},
   "source": [
    "Star Wars를 추천함에 있어 The Witch 의 기여도가 가장 크고 500 Days of Summer의 기여도가 가장 낮다.\n",
    "\n",
    "위 5개의 영화 중 SF 영화는 없는데 스타워즈가 나온 게 신기하다."
   ]
  },
  {
   "cell_type": "markdown",
   "id": "a2ce218e",
   "metadata": {},
   "source": [
    "# 하이퍼 파라미터 튜닝\n",
    "- 모델의 하이퍼파라미터를 조정하여 다시 학습시킨 후 선호도를 예측하고자 한다."
   ]
  },
  {
   "cell_type": "code",
   "execution_count": 73,
   "id": "444732da",
   "metadata": {},
   "outputs": [],
   "source": [
    "als_model_2 = AlternatingLeastSquares(factors=500,\n",
    "                                    regularization=0.05,\n",
    "                                    use_gpu=False,\n",
    "                                    iterations=30,\n",
    "                                    dtype=np.float32)"
   ]
  },
  {
   "cell_type": "code",
   "execution_count": 74,
   "id": "d31186f3",
   "metadata": {},
   "outputs": [
    {
     "data": {
      "application/vnd.jupyter.widget-view+json": {
       "model_id": "92df2dddb6bf466a98a2cef4207c2b5e",
       "version_major": 2,
       "version_minor": 0
      },
      "text/plain": [
       "  0%|          | 0/30 [00:00<?, ?it/s]"
      ]
     },
     "metadata": {},
     "output_type": "display_data"
    }
   ],
   "source": [
    "als_model_2.fit(csr_data_transpose)"
   ]
  },
  {
   "cell_type": "markdown",
   "id": "007fe9f3",
   "metadata": {},
   "source": [
    "- About Time (2013)에 대한 선호도"
   ]
  },
  {
   "cell_type": "code",
   "execution_count": 65,
   "id": "8148af46",
   "metadata": {},
   "outputs": [],
   "source": [
    "been, abouttime = user_to_idx['been'], movie_to_idx['About Time (2013)']\n",
    "been_vector_2, abouttime_vector_2 = als_model_2.user_factors[been], als_model_2.item_factors[abouttime]"
   ]
  },
  {
   "cell_type": "code",
   "execution_count": 66,
   "id": "18c30eac",
   "metadata": {},
   "outputs": [
    {
     "data": {
      "text/plain": [
       "2.9909303e-05"
      ]
     },
     "execution_count": 66,
     "metadata": {},
     "output_type": "execute_result"
    }
   ],
   "source": [
    "np.dot(been_vector_2, abouttime_vector_2)"
   ]
  },
  {
   "cell_type": "markdown",
   "id": "d048fe46",
   "metadata": {},
   "source": [
    "### Toy Story (1995)에 대한 선호도"
   ]
  },
  {
   "cell_type": "code",
   "execution_count": 67,
   "id": "c463cd07",
   "metadata": {},
   "outputs": [],
   "source": [
    "been, toystory = user_to_idx['been'], movie_to_idx['Toy Story (1995)']\n",
    "been_vector_2, toystory_vector_2 = als_model_2.user_factors[been], als_model_2.item_factors[toystory]"
   ]
  },
  {
   "cell_type": "code",
   "execution_count": 68,
   "id": "9ce41ec7",
   "metadata": {},
   "outputs": [
    {
     "data": {
      "text/plain": [
       "4.208531e-05"
      ]
     },
     "execution_count": 68,
     "metadata": {},
     "output_type": "execute_result"
    }
   ],
   "source": [
    "np.dot(been_vector_2, toystory_vector_2)"
   ]
  },
  {
   "cell_type": "markdown",
   "id": "bf4cfa53",
   "metadata": {},
   "source": [
    "### 비슷한 영화 찾기"
   ]
  },
  {
   "cell_type": "code",
   "execution_count": 70,
   "id": "7a6ebb53",
   "metadata": {},
   "outputs": [],
   "source": [
    "def get_similar_movie_2(movie_name: str):\n",
    "    movie_id = movie_to_idx[movie_name]\n",
    "    similar_movie = als_model_2.similar_items(movie_id)\n",
    "    similar_movie = [idx_to_movie[i[0]] for i in similar_movie]\n",
    "    return similar_movie"
   ]
  },
  {
   "cell_type": "code",
   "execution_count": 71,
   "id": "077d52b8",
   "metadata": {},
   "outputs": [
    {
     "data": {
      "text/plain": [
       "['Toy Story (1995)',\n",
       " 'Toy Story 2 (1999)',\n",
       " 'Aladdin (1992)',\n",
       " 'Babe (1995)',\n",
       " \"Bug's Life, A (1998)\",\n",
       " 'Groundhog Day (1993)',\n",
       " 'Lion King, The (1994)',\n",
       " 'Beauty and the Beast (1991)',\n",
       " \"There's Something About Mary (1998)\",\n",
       " \"Wayne's World (1992)\"]"
      ]
     },
     "execution_count": 71,
     "metadata": {},
     "output_type": "execute_result"
    }
   ],
   "source": [
    "get_similar_movie_2('Toy Story (1995)')"
   ]
  },
  {
   "cell_type": "markdown",
   "id": "b756daa5",
   "metadata": {},
   "source": [
    "### 영화 추천받기"
   ]
  },
  {
   "cell_type": "code",
   "execution_count": 80,
   "id": "ac364551",
   "metadata": {},
   "outputs": [
    {
     "data": {
      "text/plain": [
       "['Rocketeer, The (1991)',\n",
       " 'Kalifornia (1993)',\n",
       " 'Blair Witch Project, The (1999)',\n",
       " 'Agnes Browne (1999)',\n",
       " 'Not One Less (Yi ge dou bu neng shao) (1999)',\n",
       " 'Maya Lin: A Strong Clear Vision (1994)',\n",
       " '20 Dates (1998)',\n",
       " 'Day of the Beast, The (El Día de la bestia) (1995)',\n",
       " 'Universal Soldier: The Return (1999)',\n",
       " 'Giant Gila Monster, The (1959)',\n",
       " 'For All Mankind (1989)',\n",
       " 'Whipped (2000)',\n",
       " 'Gods Must Be Crazy II, The (1989)',\n",
       " 'Last Days, The (1998)',\n",
       " 'Dinner Game, The (Le Dîner de cons) (1998)',\n",
       " 'Land Girls, The (1998)',\n",
       " 'Mating Habits of the Earthbound Human, The (1998)',\n",
       " 'Street Fighter (1994)',\n",
       " 'Window to Paris (1994)',\n",
       " \"Ed's Next Move (1996)\"]"
      ]
     },
     "execution_count": 80,
     "metadata": {},
     "output_type": "execute_result"
    }
   ],
   "source": [
    "user = user_to_idx['been']\n",
    "# recommend에서는 user*item CSR Matrix를 받음\n",
    "movie_recommended_2 = als_model_2.recommend(user, csr_data, N=20, filter_already_liked_items=True)\n",
    "[idx_to_movie[i[0]] for i in movie_recommended_2]"
   ]
  },
  {
   "cell_type": "markdown",
   "id": "957aad2c",
   "metadata": {},
   "source": [
    "### 기여도"
   ]
  },
  {
   "cell_type": "code",
   "execution_count": 81,
   "id": "d54e8286",
   "metadata": {},
   "outputs": [],
   "source": [
    "Rocketeer = movie_to_idx['Rocketeer, The (1991)']\n",
    "explain_2 = als_model_2.explain(user, csr_data, itemid=Rocketeer)"
   ]
  },
  {
   "cell_type": "code",
   "execution_count": 82,
   "id": "b3deaea1",
   "metadata": {},
   "outputs": [
    {
     "data": {
      "text/plain": [
       "[('500 Days of Summer (2009)', 0.007336804408848859),\n",
       " ('The Witch (2018)', 0.007168756034242086),\n",
       " ('Avengers (2012)', 0.007153308506401871),\n",
       " ('About Time (2013)', 0.006975925175074057),\n",
       " ('The Devil Wears Prada (2006)', 0.006967181447798534)]"
      ]
     },
     "execution_count": 82,
     "metadata": {},
     "output_type": "execute_result"
    }
   ],
   "source": [
    "[(idx_to_movie[i[0]], i[1]) for i in explain_2[1]]"
   ]
  },
  {
   "cell_type": "markdown",
   "id": "463a8d4e",
   "metadata": {},
   "source": [
    "# 회고"
   ]
  },
  {
   "cell_type": "markdown",
   "id": "bdadbca7",
   "metadata": {},
   "source": [
    "내가 좋아하는 영화에 대한 정보가 적기 때문에 이러한 결과가 도출된 것 같다.\n",
    "\n",
    "겨우 5개밖에 되지 않는 나의 선호로 어떻게 추천받을 수 있을까 싶다.\n",
    "\n",
    "이용자의 입장에선 5개의 정보만 주고도 정확하고 마음에 드는 추천을 받고 싶지만,\n",
    "\n",
    "만드는 사람의 입장에선 한 사용자에 대해 적어도 수십, 수백개의 데이터가 있었으면 한다.\n",
    "\n",
    "그동안 넷플릭스를 사용하면서 추천받은 프로그램들이 별로 마음에 안들어서 불평했는데,\n",
    "\n",
    "내가 찜한 컨텐츠 리스트에 좋아하는 프로그램을 조금 더 추가해 놓아야겠다는 생각이 들었다."
   ]
  },
  {
   "cell_type": "code",
   "execution_count": null,
   "id": "ca61663e",
   "metadata": {},
   "outputs": [],
   "source": []
  }
 ],
 "metadata": {
  "kernelspec": {
   "display_name": "Python 3 (ipykernel)",
   "language": "python",
   "name": "python3"
  },
  "language_info": {
   "codemirror_mode": {
    "name": "ipython",
    "version": 3
   },
   "file_extension": ".py",
   "mimetype": "text/x-python",
   "name": "python",
   "nbconvert_exporter": "python",
   "pygments_lexer": "ipython3",
   "version": "3.9.7"
  }
 },
 "nbformat": 4,
 "nbformat_minor": 5
}
