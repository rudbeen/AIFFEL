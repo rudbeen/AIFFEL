{
 "cells": [
  {
   "cell_type": "markdown",
   "id": "7858f6f8",
   "metadata": {},
   "source": [
    "# 모듈 불러오기"
   ]
  },
  {
   "cell_type": "code",
   "execution_count": 1,
   "id": "4b9a2bea",
   "metadata": {},
   "outputs": [],
   "source": [
    "import glob\n",
    "import os\n",
    "import re\n",
    "import numpy as np\n",
    "import tensorflow as tf\n",
    "from sklearn.model_selection import train_test_split"
   ]
  },
  {
   "cell_type": "markdown",
   "id": "3d2598d5",
   "metadata": {},
   "source": [
    "# 데이터 불러오기"
   ]
  },
  {
   "cell_type": "code",
   "execution_count": 2,
   "id": "d077d4a7",
   "metadata": {},
   "outputs": [
    {
     "name": "stdout",
     "output_type": "stream",
     "text": [
      "데이터 크기: 187088\n",
      "Examples:\n",
      " That David played, and it pleased the Lord\n"
     ]
    }
   ],
   "source": [
    "txt_file_path = os.getenv('HOME') +'/aiffel/lyricist/data/lyrics/*'\n",
    "\n",
    "txt_list = glob.glob(txt_file_path)\n",
    "\n",
    "Raw_corpus = []\n",
    "\n",
    "#여러 개의 텍스트 파일을 Raw_corpus 리스트에 추가\n",
    "for txt_file in txt_list:\n",
    "    with open(txt_file, \"r\") as f:\n",
    "        Raw = f.read().splitlines()\n",
    "        Raw_corpus.extend(Raw)\n",
    "        \n",
    "print(\"데이터 크기:\", len(Raw_corpus))\n",
    "print(\"Examples:\\n\", Raw_corpus[1])"
   ]
  },
  {
   "cell_type": "markdown",
   "id": "157cf0de",
   "metadata": {},
   "source": [
    "**Raw_corpus에 담긴 문장들 살펴보기**"
   ]
  },
  {
   "cell_type": "code",
   "execution_count": 3,
   "id": "c3d09283",
   "metadata": {},
   "outputs": [
    {
     "name": "stdout",
     "output_type": "stream",
     "text": [
      "0 Now I've heard there was a secret chord\n",
      "1 That David played, and it pleased the Lord\n",
      "2 But you don't really care for music, do you?\n",
      "3 It goes like this\n",
      "4 The fourth, the fifth\n",
      "5 The minor fall, the major lift\n",
      "6 The baffled king composing Hallelujah Hallelujah\n",
      "7 Hallelujah\n",
      "8 Hallelujah\n",
      "9 Hallelujah Your faith was strong but you needed proof\n",
      "10 You saw her bathing on the roof\n",
      "11 Her beauty and the moonlight overthrew her\n",
      "12 She tied you\n",
      "13 To a kitchen chair\n",
      "14 She broke your throne, and she cut your hair\n",
      "15 And from your lips she drew the Hallelujah Hallelujah\n",
      "16 Hallelujah\n",
      "17 Hallelujah\n",
      "18 Hallelujah You say I took the name in vain\n",
      "19 I don't even know the name\n"
     ]
    }
   ],
   "source": [
    "for idx, r in enumerate(Raw_corpus[:20]):\n",
    "    print(idx, r)"
   ]
  },
  {
   "cell_type": "markdown",
   "id": "d6c89d32",
   "metadata": {},
   "source": [
    "# 데이터 전처리"
   ]
  },
  {
   "cell_type": "markdown",
   "id": "2f5f4b35",
   "metadata": {},
   "source": [
    "## 토큰화"
   ]
  },
  {
   "cell_type": "markdown",
   "id": "b8275c12",
   "metadata": {},
   "source": [
    "### 정규표현식"
   ]
  },
  {
   "cell_type": "markdown",
   "id": "55d37597",
   "metadata": {},
   "source": [
    "입력된 문장을\n",
    "\n",
    "    1. 소문자로 바꾸고, 양쪽 공백을 지움\n",
    "    2. 특수문자 양쪽에 공백을 넣고\n",
    "    3. 여러 개의 공백은 하나의 공백으로 바꿈\n",
    "    4. a-zA-Z?.!,¿ 가 아닌 모든 문자를 하나의 공백으로 바꿈\n",
    "    5. 다시 양쪽의 공백을 지움\n",
    "    6. 문장의 시작에는 <start>, 끝에는 <end>를 추가"
   ]
  },
  {
   "cell_type": "code",
   "execution_count": 4,
   "id": "d7f24cfc",
   "metadata": {},
   "outputs": [
    {
     "name": "stdout",
     "output_type": "stream",
     "text": [
      "<start> i m the iron man <end>\n"
     ]
    }
   ],
   "source": [
    "#정제 함수\n",
    "def preprocess_st(st):\n",
    "    #1\n",
    "    st = st.lower().strip()\n",
    "    #2\n",
    "    st = re.sub(r\"([?.!,¿])\", r\" \\1 \", st)\n",
    "    #3\n",
    "    st = re.sub(r'[\" \"]+', \" \", st)\n",
    "    #4\n",
    "    st = re.sub(r\"[^a-zA-Z?.!,¿]+\", \" \", st)\n",
    "    #5\n",
    "    st = st.strip()\n",
    "    #6\n",
    "    st = '<start> ' + st + ' <end>'\n",
    "    return st\n",
    "\n",
    "print(preprocess_st(\"I @m      the Iron  MAN^^\"))"
   ]
  },
  {
   "cell_type": "markdown",
   "id": "52b798fe",
   "metadata": {},
   "source": [
    "- strip() : 맨 앞과 맨 뒤의 공백을 제거하는 함수"
   ]
  },
  {
   "cell_type": "markdown",
   "id": "bb04b4ab",
   "metadata": {},
   "source": [
    "## 정제데이터 구축"
   ]
  },
  {
   "cell_type": "markdown",
   "id": "bf6c852d",
   "metadata": {},
   "source": [
    "정제 함수를 통해 만든 데이터셋에서 토큰화를 진행\n",
    "\n",
    "끝 단어 < end >를 없애면 소스 문장\n",
    "\n",
    "첫 단어 < start >를 없애면 타겟 문장"
   ]
  },
  {
   "cell_type": "code",
   "execution_count": 5,
   "id": "164e2f53",
   "metadata": {},
   "outputs": [
    {
     "data": {
      "text/plain": [
       "['<start> now i ve heard there was a secret chord <end>',\n",
       " '<start> that david played , and it pleased the lord <end>',\n",
       " '<start> but you don t really care for music , do you ? <end>',\n",
       " '<start> it goes like this <end>',\n",
       " '<start> the fourth , the fifth <end>']"
      ]
     },
     "execution_count": 5,
     "metadata": {},
     "output_type": "execute_result"
    }
   ],
   "source": [
    "corpus = []\n",
    "\n",
    "for st in Raw_corpus:\n",
    "    #문장의 길이가 0인 문장은 무시\n",
    "    if len(st) == 0: continue\n",
    "    if st[-1] == \":\" : continue\n",
    "       \n",
    "    preprocessed_st = preprocess_st(st)\n",
    "    corpus.append(preprocessed_st)\n",
    "    \n",
    "corpus[:5]\n",
    "# 첫 단어가 <start>, 끝 단어가 <end> 형식으로 맞춰짐"
   ]
  },
  {
   "cell_type": "code",
   "execution_count": 6,
   "id": "fd3ba241",
   "metadata": {},
   "outputs": [],
   "source": [
    "def tokenize(corpus):\n",
    "    tokenizer = tf.keras.preprocessing.text.Tokenizer(\n",
    "        # 12,000개의 단어를 기억할 수 있는 tokenizer\n",
    "        # 위에서 이미 정제를 했기 때문에 filter는 불필요\n",
    "        # 12,000개의 단어에 포함되지 못한 단어는 '<Unknown>'으로 설정\n",
    "        num_words = 12000,\n",
    "        filters = ' ',\n",
    "        oov_token = '<Unknown>')\n",
    "    \n",
    "    # corpus를 이용해 tokenizer 내부의 단어장 형성\n",
    "    tokenizer.fit_on_texts(corpus)\n",
    "    \n",
    "    # tokenizer를 이용해 corpus를 tensor로 변환\n",
    "    tensor = tokenizer.texts_to_sequences(corpus)\n",
    "    \n",
    "    # 토큰화 했을 때 토큰의 개수가 15개를 넘어가는 문장을 학습 데이터에서 제외\n",
    "    tensor_short = []\n",
    "    for i in range(len(tensor)-1):\n",
    "        if len(tensor[i]) <= 15: \n",
    "            tensor_short.append(tensor[i])\n",
    "            \n",
    "    # 입력 데이터의 시퀀스 길이를 일정하게 맞춰줌\n",
    "    # 시퀀스가 짧을 경우, 문장 뒤에 패딩을 붙여 길이를 맞춰줌\n",
    "    tensor_short = tf.keras.preprocessing.sequence.pad_sequences(tensor_short, padding='post')\n",
    "\n",
    "    print(tensor_short, tokenizer)\n",
    "    return tensor_short, tokenizer\n",
    "    "
   ]
  },
  {
   "cell_type": "code",
   "execution_count": 7,
   "id": "b45be36c",
   "metadata": {
    "scrolled": true
   },
   "outputs": [
    {
     "name": "stdout",
     "output_type": "stream",
     "text": [
      "[[   2   50    5 ...    0    0    0]\n",
      " [   2   17 2639 ...    0    0    0]\n",
      " [   2   36    7 ...   43    3    0]\n",
      " ...\n",
      " [   2  703   29 ...    0    0    0]\n",
      " [   2    5  107 ...    0    0    0]\n",
      " [   2  261  200 ...   12    3    0]] <keras_preprocessing.text.Tokenizer object at 0x7f1acd2c5610>\n"
     ]
    }
   ],
   "source": [
    "tensor_short, tokenizer = tokenize(corpus)"
   ]
  },
  {
   "cell_type": "code",
   "execution_count": 8,
   "id": "15e0c711",
   "metadata": {
    "scrolled": true
   },
   "outputs": [
    {
     "name": "stdout",
     "output_type": "stream",
     "text": [
      "[[   2   50    5   91  297   65   57    9  969 6042    3    0    0    0\n",
      "     0]\n",
      " [   2   17 2639  873    4    8   11 6043    6  329    3    0    0    0\n",
      "     0]\n",
      " [   2   36    7   37   15  164  282   28  299    4   47    7   43    3\n",
      "     0]]\n"
     ]
    }
   ],
   "source": [
    "print(tensor_short[:3, :])\n",
    "#tensor[문장, 토큰]\n",
    "#모두 정수로 이루어짐\n",
    "#tokenizer에 구축된 단어 사전의 인덱스"
   ]
  },
  {
   "cell_type": "code",
   "execution_count": 9,
   "id": "1365bc99",
   "metadata": {},
   "outputs": [
    {
     "name": "stdout",
     "output_type": "stream",
     "text": [
      "1 : <Unknown>\n",
      "2 : <start>\n",
      "3 : <end>\n",
      "4 : ,\n",
      "5 : i\n",
      "6 : the\n",
      "7 : you\n",
      "8 : and\n",
      "9 : a\n",
      "10 : to\n"
     ]
    }
   ],
   "source": [
    "for idx in tokenizer.index_word:\n",
    "    print(idx, \":\", tokenizer.index_word[idx])\n",
    "\n",
    "    if idx >= 10: break"
   ]
  },
  {
   "cell_type": "markdown",
   "id": "500d5e11",
   "metadata": {},
   "source": [
    "## 평가 데이터셋 분리"
   ]
  },
  {
   "cell_type": "code",
   "execution_count": 10,
   "id": "b7aa5177",
   "metadata": {},
   "outputs": [
    {
     "name": "stdout",
     "output_type": "stream",
     "text": [
      "[   2   50    5   91  297   65   57    9  969 6042    3    0    0    0]\n",
      "[  50    5   91  297   65   57    9  969 6042    3    0    0    0    0]\n"
     ]
    }
   ],
   "source": [
    "#tensor에서 마지막 토큰을 잘라내 소스 문장을 생성\n",
    "source = tensor_short[:, :-1]\n",
    "\n",
    "#tensor에서 <start>를 잘라내서 타겟 문장을 생성\n",
    "target = tensor_short[:, 1:]\n",
    "\n",
    "print(source[0])\n",
    "print(target[0])\n",
    "\n",
    "# 0-> pad"
   ]
  },
  {
   "cell_type": "code",
   "execution_count": 11,
   "id": "e795d193",
   "metadata": {},
   "outputs": [],
   "source": [
    "enc_train, enc_val, dec_train, dec_val = train_test_split(source, target, test_size = 0.2, \n",
    "                                                          random_state = 1004)"
   ]
  },
  {
   "cell_type": "code",
   "execution_count": 12,
   "id": "4e80d3bd",
   "metadata": {},
   "outputs": [
    {
     "name": "stdout",
     "output_type": "stream",
     "text": [
      "Source Train: (124809, 14)\n",
      "Target Train: (124809, 14)\n"
     ]
    }
   ],
   "source": [
    "print(\"Source Train:\", enc_train.shape)\n",
    "print(\"Target Train:\", dec_train.shape)"
   ]
  },
  {
   "cell_type": "markdown",
   "id": "585590b6",
   "metadata": {},
   "source": [
    "# 모델 생성"
   ]
  },
  {
   "cell_type": "code",
   "execution_count": 13,
   "id": "12594a87",
   "metadata": {},
   "outputs": [],
   "source": [
    "class TextGenerator(tf.keras.Model):\n",
    "    def __init__(self, vocab_size, embedding_size, hidden_size):\n",
    "        super().__init__()\n",
    "        \n",
    "        self.embedding = tf.keras.layers.Embedding(vocab_size, embedding_size)  #embedding layer\n",
    "        self.rnn_1 = tf.keras.layers.LSTM(hidden_size, return_sequences = True)  #LSTM layer\n",
    "        self.rnn_2 = tf.keras.layers.LSTM(hidden_size, return_sequences = True)  #LSTM layer\n",
    "        self.linear = tf.keras.layers.Dense(vocab_size)   #Denselayer\n",
    "        \n",
    "    def call(self, x):\n",
    "        out = self.embedding(x)\n",
    "        out = self.rnn_1(out)\n",
    "        out = self.rnn_2(out)\n",
    "        out = self.linear(out)\n",
    "        \n",
    "        return out\n",
    "    \n",
    "embedding_size = 1024\n",
    "hidden_size = 2048\n",
    "model = TextGenerator(tokenizer.num_words + 1, embedding_size, hidden_size)"
   ]
  },
  {
   "cell_type": "markdown",
   "id": "b1e00d0c",
   "metadata": {},
   "source": [
    "# 모델 학습"
   ]
  },
  {
   "cell_type": "code",
   "execution_count": 14,
   "id": "552ec9ab",
   "metadata": {
    "scrolled": true
   },
   "outputs": [
    {
     "name": "stdout",
     "output_type": "stream",
     "text": [
      "Epoch 1/8\n",
      "3901/3901 [==============================] - 498s 118ms/step - loss: 2.8789 - val_loss: 2.6086\n",
      "Epoch 2/8\n",
      "3901/3901 [==============================] - 475s 122ms/step - loss: 2.3155 - val_loss: 2.3629\n",
      "Epoch 3/8\n",
      "3901/3901 [==============================] - 475s 122ms/step - loss: 1.8744 - val_loss: 2.2303\n",
      "Epoch 4/8\n",
      "3901/3901 [==============================] - 475s 122ms/step - loss: 1.5431 - val_loss: 2.1962\n",
      "Epoch 5/8\n",
      "3901/3901 [==============================] - 475s 122ms/step - loss: 1.3228 - val_loss: 2.2108\n",
      "Epoch 6/8\n",
      "3901/3901 [==============================] - 475s 122ms/step - loss: 1.1920 - val_loss: 2.2546\n",
      "Epoch 7/8\n",
      "3901/3901 [==============================] - 475s 122ms/step - loss: 1.1198 - val_loss: 2.2991\n",
      "Epoch 8/8\n",
      "3901/3901 [==============================] - 476s 122ms/step - loss: 1.0807 - val_loss: 2.3421\n",
      "{'loss': [2.8788976669311523, 2.3154611587524414, 1.8744287490844727, 1.5430525541305542, 1.322795033454895, 1.1919896602630615, 1.1197575330734253, 1.0807243585586548], 'val_loss': [2.6086437702178955, 2.3628575801849365, 2.230283737182617, 2.1962475776672363, 2.2107558250427246, 2.2545652389526367, 2.2990899085998535, 2.342099189758301]}\n"
     ]
    }
   ],
   "source": [
    "#tf.random.set_seed(210)   #같은 값을 도출하기 위해 seed 고정\n",
    "\n",
    "optimizer = tf.keras.optimizers.Adam()\n",
    "loss = tf.keras.losses.SparseCategoricalCrossentropy(\n",
    "    from_logits = True,\n",
    "    reduction = 'none')\n",
    "\n",
    "model.compile(loss=loss, optimizer=optimizer)\n",
    "history = model.fit(enc_train, dec_train, epochs=8, validation_data=(enc_val, dec_val))\n",
    "print(history.history)"
   ]
  },
  {
   "cell_type": "code",
   "execution_count": 15,
   "id": "63947431",
   "metadata": {},
   "outputs": [
    {
     "data": {
      "text/plain": [
       "2.1962475776672363"
      ]
     },
     "execution_count": 15,
     "metadata": {},
     "output_type": "execute_result"
    }
   ],
   "source": [
    "min(history.history['val_loss'])"
   ]
  },
  {
   "cell_type": "code",
   "execution_count": 19,
   "id": "4d92ce0f",
   "metadata": {},
   "outputs": [
    {
     "data": {
      "image/png": "[encoded data removed]",
      "text/plain": [
       "<Figure size 432x288 with 1 Axes>"
      ]
     },
     "metadata": {
      "needs_background": "light"
     },
     "output_type": "display_data"
    }
   ],
   "source": [
    "import matplotlib.pyplot as plt\n",
    "\n",
    "plt.plot(history.history['loss'])\n",
    "plt.plot(history.history['val_loss'])\n",
    "plt.title('Model loss')\n",
    "plt.xlabel('Epoch')\n",
    "plt.ylabel('Loss')\n",
    "plt.legend(['Train', 'Val'], loc='upper left')\n",
    "plt.show()"
   ]
  },
  {
   "cell_type": "markdown",
   "id": "4d8799f4",
   "metadata": {},
   "source": [
    "Epoch 2 정도부터 val loss의 감소가 거의 일어나지 않으며 3정도부터는 val loss가 다시 증가하는 것을 알 수 있다."
   ]
  },
  {
   "cell_type": "markdown",
   "id": "5b200eea",
   "metadata": {},
   "source": [
    "# 모델 평가"
   ]
  },
  {
   "cell_type": "code",
   "execution_count": 17,
   "id": "de524e2a",
   "metadata": {},
   "outputs": [],
   "source": [
    "def generate_text(model, tokenizer, init_sentence=\"<start>\", max_len = 20):\n",
    "    #테스트를 위해서 입력받은 init_sentence도 텐서로 변환\n",
    "    test_input = tokenizer.texts_to_sequences([init_sentence])\n",
    "    test_tensor = tf.convert_to_tensor(test_input, dtype=tf.int64)\n",
    "    end_token = tokenizer.word_index[\"<end>\"]\n",
    "    \n",
    "    #단어 하나씩 예측해 문장을 만듦\n",
    "    #    1. 입력받은 문장의 텐서를 입력\n",
    "    #    2. 예측된 값 중 가장 높은 확률인 word index를 뽑아냄\n",
    "    #    3. 2에서 에측된 word index 를 문장 뒤에 붙임\n",
    "    #    4. 모델이 <end>를 예측했거나, max_len에 도달했다면 문장 생성을 마침\n",
    "    while True:\n",
    "        #1\n",
    "        predict = model(test_tensor)\n",
    "        #2\n",
    "        predict_word = tf.argmax(tf.nn.softmax(predict, axis= -1), axis=-1)[:,-1]\n",
    "        #3\n",
    "        test_tensor = tf.concat([test_tensor, tf.expand_dims(predict_word, axis=0)], axis=-1)\n",
    "        #4\n",
    "        if predict_word.numpy()[0] == end_token: break\n",
    "        if test_tensor.shape[1] >= max_len: break\n",
    "            \n",
    "    generated = \"\"\n",
    "    #tokenizer를 이용해 word index를 단어로 하나씩 변환\n",
    "    for word_index in test_tensor[0].numpy():\n",
    "        generated += tokenizer.index_word[word_index] + \" \"\n",
    "        \n",
    "    return generated"
   ]
  },
  {
   "cell_type": "code",
   "execution_count": 18,
   "id": "a0097771",
   "metadata": {},
   "outputs": [
    {
     "data": {
      "text/plain": [
       "'<start> i love the way you shake your thing <end> '"
      ]
     },
     "execution_count": 18,
     "metadata": {},
     "output_type": "execute_result"
    }
   ],
   "source": [
    "generate_text(model, tokenizer, init_sentence=\"<start> i love\", max_len=20)"
   ]
  },
  {
   "cell_type": "markdown",
   "id": "cb6bbe46",
   "metadata": {},
   "source": [
    "# 회고"
   ]
  },
  {
   "cell_type": "markdown",
   "id": "dd5efb60",
   "metadata": {},
   "source": [
    "- 너무 지저분하고 더러운 문장이 도출되었다........ 도대체 원본 데이터가 어떻게 되어있길래 이런 문장이 나온 걸까 싶다. 말이 안되진 않지만 몹시 당황스럽다.. 힙합 노래가 많았나 싶다.\n",
    "\n",
    "\n",
    "- Epoch가 돌 때마다 train loss와 val loss를 출력해주지만 확실히 그래프로 시각화한 것이 결과 추이를 볼 때 편하다.\n",
    "\n",
    "\n",
    "- 데이터 사이즈를 특정 값에 맞춰야 한다고 써있어서 한 시간 반을 소요했다. 추후에 그 특정 값 이하면 상관없다고 말씀하셔서 허탈했다.\n",
    "\n",
    "\n",
    "- 보통 embedding size와 hidden size는 2의 제곱수로 설정한다고 알고 있는데 val_loss 값을 떨어트리기 위해 2의 제곱수가 아닌 수들도 시도를 했다. 하지만 결국 2의 제곱수에서 2.2 이하의 val_loss를 도출할 수 있었다. 사람들이 주로 하는 데는 다 이유가 있다.\n",
    "\n",
    "\n",
    "- hidden layer와 embedding layer를 늘릴수록 낮은 epoch에서 오버피팅이 발견됐다. 하지만 그만큼 낮은 epoch에서 좋은 성능이 나와 높은 layer를 유지했고, epoch 수를 줄였다.\n",
    "\n",
    "\n",
    "- 텍스트 데이터를 다루는 머신러닝/딥러닝 프로젝트를 조금 더 접해보고 싶다. 물론 이번 프로젝트도 쉽지 않았지만, 더 많은 내용들이 있을 것 같다.\n",
    "\n",
    "\n",
    "- 정규표현식을 마주할 때마다 매번 새롭다. NLP를 계속 접하면 보다 익숙해지겠거니 싶다. "
   ]
  },
  {
   "cell_type": "code",
   "execution_count": null,
   "id": "0236a8a2",
   "metadata": {},
   "outputs": [],
   "source": []
  }
 ],
 "metadata": {
  "kernelspec": {
   "display_name": "Python 3 (ipykernel)",
   "language": "python",
   "name": "python3"
  },
  "language_info": {
   "codemirror_mode": {
    "name": "ipython",
    "version": 3
   },
   "file_extension": ".py",
   "mimetype": "text/x-python",
   "name": "python",
   "nbconvert_exporter": "python",
   "pygments_lexer": "ipython3",
   "version": "3.9.7"
  }
 },
 "nbformat": 4,
 "nbformat_minor": 5
}
